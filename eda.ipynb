{
  "cells": [
    {
      "cell_type": "markdown",
      "metadata": {
        "id": "lM1xMn0a5DOt",
        "colab_type": "text"
      },
      "source": [
        "# COVID-19 Brasil - Análise de Dados"
      ]
    },
    {
      "cell_type": "markdown",
      "metadata": {
        "id": "HScwGRuO5isV",
        "colab_type": "text"
      },
      "source": [
        "## Conteúdo\n",
        "\n",
        "O seguinte *notebook* é resultado de uma análise exploratória aos dados da COVID-19 no Brasil. Foram feitas várias observações e considerações sobre os dados."
      ]
    },
    {
      "cell_type": "code",
      "metadata": {
        "id": "Rfumh2lAp8LO",
        "colab_type": "code",
        "colab": {
          "base_uri": "https://localhost:8080/",
          "height": 295
        },
        "outputId": "232918cb-3b46-40bc-c936-69afae9d8966",
        "tags": []
      },
      "source": [
        "import sys\n",
        "\n",
        "!conda install --yes --prefix {sys.prefix} pandas\n",
        "!conda install --yes --prefix {sys.prefix} numpy\n",
        "!conda install --yes --prefix {sys.prefix} nbformat\n",
        "!conda install --yes --prefix {sys.prefix} plotly==4.6.0\n",
        "!conda install --yes --prefix {sys.prefix} psutil requests\n",
        "!conda install --yes --prefix {sys.prefix} scikit-learn\n",
        "!conda install --yes --prefix {sys.prefix} plotly-orca==1.2.1"
      ],
      "execution_count": 1,
      "outputs": [
        {
          "output_type": "stream",
          "name": "stdout",
          "text": "Collecting package metadata (current_repoddone\n\bdone\n\n# All requested packages already installed.\n\nCollecting package metadata (current_repodatadone\ndone\n\n# All requested packages already installed.\n\nCollecting package metadata (current_repodatadone\ndone\n\n# All requested packages already installed.\n\nCollecting package metadata (current_repodatadone\ndone\n\n# All requested packages already installed.\n\nCollecting package metadata (current_repodatdone\n\bdone\n\n# All requested packages already installed.\n\nCollecting package metadata (current_repodatadone\ndone\n\n# All requested packages already installed.\n\nCollecting package metadata (current_repodata.done\n\bdone\n\n# All requested packages already installed.\n\n"
        }
      ]
    },
    {
      "cell_type": "code",
      "metadata": {
        "id": "MVTAMW1ZDAbo",
        "colab_type": "code",
        "colab": {}
      },
      "source": [
        "import numpy as np\n",
        "import pandas as pd\n",
        "import plotly.io as pio\n",
        "import plotly.graph_objects as go\n",
        "from plotly.graph_objs import *\n",
        "from plotly.subplots import make_subplots\n",
        "from sklearn.linear_model import LinearRegression\n",
        "from sklearn.metrics import mean_squared_error, r2_score\n",
        "import datetime\n",
        "\n",
        "import warnings\n",
        "warnings.filterwarnings('ignore')\n",
        "\n",
        "pio.renderers.default = \"svg\"\n",
        "\n",
        "# Ler os dados\n",
        "data = pd.read_csv('./data/brazil_covid19.csv')"
      ],
      "execution_count": 2,
      "outputs": []
    },
    {
      "cell_type": "markdown",
      "metadata": {
        "id": "hzy4qa-x5lyR",
        "colab_type": "text"
      },
      "source": [
        "## Definição das Variáveis\n"
      ]
    },
    {
      "cell_type": "code",
      "metadata": {
        "id": "AJ0gicF5zq5H",
        "colab_type": "code",
        "outputId": "97b50656-91a6-4af9-92fc-6f99190905f8",
        "colab": {
          "base_uri": "https://localhost:8080/",
          "height": 139
        },
        "tags": []
      },
      "source": [
        "# Últimas 5 entradas do dataset\n",
        "print(\"Tail do Dataset:\\n\", data.tail())"
      ],
      "execution_count": 3,
      "outputs": [
        {
          "output_type": "stream",
          "name": "stdout",
          "text": "Tail do Dataset:\n             date   region state   cases  deaths\n2992  2020-06-14  Sudeste    RJ   79572    7672\n2993  2020-06-14  Sudeste    SP  178202   10694\n2994  2020-06-14      Sul    PR    9583     326\n2995  2020-06-14      Sul    RS   14661     350\n2996  2020-06-14      Sul    SC   13360     195\n"
        }
      ]
    },
    {
      "cell_type": "markdown",
      "metadata": {
        "id": "HxAB4CNTE-Gb",
        "colab_type": "text"
      },
      "source": [
        "É de notar que este *dataset* contém os dados numa série temporal, ou seja, o número de casos num determinado dia é cumulativo.\n",
        "\n",
        "\n",
        "Temos no total 5 variáveis:\n",
        "- **date**: Representa a data (YYYY-MM-DD) para cada entrada, sendo que existem várias entradas com a mesma data, relativas a diferentes estados.\n",
        "- **region**: Representa a região do país relativa ao estado, para cada entrada.\n",
        "- **state**: Representa o estado brasileiro a que se refere cada entrada de dados.\n",
        "- **cases**: Representa o nº de casos confirmados de infeção.\n",
        "- **deaths**: Representa o nº de óbitos confirmados.\n",
        "\n",
        "Apresenta-se a descrição das variáveis contínuas **cases** e **deaths**:"
      ]
    },
    {
      "cell_type": "code",
      "metadata": {
        "id": "8H6iJtvJ0Fz4",
        "colab_type": "code",
        "outputId": "a31a15ca-2b92-4604-918d-567f0d1df37e",
        "colab": {
          "base_uri": "https://localhost:8080/",
          "height": 300
        }
      },
      "source": [
        "data.describe()"
      ],
      "execution_count": 4,
      "outputs": [
        {
          "output_type": "execute_result",
          "data": {
            "text/plain": "               cases        deaths\ncount    2997.000000   2997.000000\nmean     6294.361361    365.082416\nstd     15893.539067   1109.462169\nmin         0.000000      0.000000\n25%        16.000000      0.000000\n50%       638.000000     21.000000\n75%      4853.000000    168.000000\nmax    178202.000000  10694.000000",
            "text/html": "<div>\n<style scoped>\n    .dataframe tbody tr th:only-of-type {\n        vertical-align: middle;\n    }\n\n    .dataframe tbody tr th {\n        vertical-align: top;\n    }\n\n    .dataframe thead th {\n        text-align: right;\n    }\n</style>\n<table border=\"1\" class=\"dataframe\">\n  <thead>\n    <tr style=\"text-align: right;\">\n      <th></th>\n      <th>cases</th>\n      <th>deaths</th>\n    </tr>\n  </thead>\n  <tbody>\n    <tr>\n      <th>count</th>\n      <td>2997.000000</td>\n      <td>2997.000000</td>\n    </tr>\n    <tr>\n      <th>mean</th>\n      <td>6294.361361</td>\n      <td>365.082416</td>\n    </tr>\n    <tr>\n      <th>std</th>\n      <td>15893.539067</td>\n      <td>1109.462169</td>\n    </tr>\n    <tr>\n      <th>min</th>\n      <td>0.000000</td>\n      <td>0.000000</td>\n    </tr>\n    <tr>\n      <th>25%</th>\n      <td>16.000000</td>\n      <td>0.000000</td>\n    </tr>\n    <tr>\n      <th>50%</th>\n      <td>638.000000</td>\n      <td>21.000000</td>\n    </tr>\n    <tr>\n      <th>75%</th>\n      <td>4853.000000</td>\n      <td>168.000000</td>\n    </tr>\n    <tr>\n      <th>max</th>\n      <td>178202.000000</td>\n      <td>10694.000000</td>\n    </tr>\n  </tbody>\n</table>\n</div>"
          },
          "metadata": {},
          "execution_count": 4
        }
      ]
    },
    {
      "cell_type": "markdown",
      "metadata": {
        "id": "rq4Vy_F2TYzP",
        "colab_type": "text"
      },
      "source": [
        "De seguida, são listados os valores possíveis para as nossas variáveis categóricas, que são respetivamente os nomes de todas as regiões e estados."
      ]
    },
    {
      "cell_type": "code",
      "metadata": {
        "id": "8bZUNMaSxtb8",
        "colab_type": "code",
        "outputId": "c7762383-4e51-49d3-e4d3-0466daaca795",
        "colab": {
          "base_uri": "https://localhost:8080/",
          "height": 173
        },
        "tags": []
      },
      "source": [
        "# Lista de regiões do dataset\n",
        "print(\"\\nRegions: \", data.region.unique())\n",
        "\n",
        "# Lista de estados do dataset\n",
        "print(\"\\nStates: \", data.state.unique())"
      ],
      "execution_count": 5,
      "outputs": [
        {
          "output_type": "stream",
          "name": "stdout",
          "text": "\nRegions:  ['Centro-Oeste' 'Nordeste' 'Norte' 'Sudeste' 'Sul']\n\nStates:  ['DF' 'GO' 'MS' 'MT' 'AL' 'BA' 'CE' 'MA' 'PB' 'PE' 'PI' 'RN' 'SE' 'AC'\n 'AM' 'AP' 'PA' 'RO' 'RR' 'TO' 'ES' 'MG' 'RJ' 'SP' 'PR' 'RS' 'SC']\n"
        }
      ]
    },
    {
      "cell_type": "markdown",
      "metadata": {
        "id": "DlhZZZn_0eMU",
        "colab_type": "text"
      },
      "source": [
        "Como podemos ver, não existem quaisquer valores nulos para todas as 5 colunas do *dataset*. Logo não é necessário qualquer tratamento de dados extra.\n"
      ]
    },
    {
      "cell_type": "code",
      "metadata": {
        "id": "a6egIxs1OqKP",
        "colab_type": "code",
        "outputId": "c9f28b61-a36c-4bc8-b59e-6d65d87d553c",
        "colab": {
          "base_uri": "https://localhost:8080/",
          "height": 139
        },
        "tags": []
      },
      "source": [
        "# Verificar valores nulos\n",
        "print(\"Null Values:\\n\", data.isnull().sum())"
      ],
      "execution_count": 6,
      "outputs": [
        {
          "output_type": "stream",
          "name": "stdout",
          "text": "Null Values:\n date      0\nregion    0\nstate     0\ncases     0\ndeaths    0\ndtype: int64\n"
        }
      ]
    },
    {
      "cell_type": "markdown",
      "metadata": {
        "id": "2GdrtrG252aw",
        "colab_type": "text"
      },
      "source": [
        "## Análise Exploratória dos Dados\n",
        "\n",
        "Neste capítulo são feitas algumas avaliações e visualizações analíticas acerca dos dados."
      ]
    },
    {
      "cell_type": "markdown",
      "metadata": {
        "id": "8MVtHgMGwtmc",
        "colab_type": "text"
      },
      "source": [
        "Começando pelo cálculo do nº de dias já passado, de modo a termos uma noção do período de tempo da análise."
      ]
    },
    {
      "cell_type": "code",
      "metadata": {
        "id": "PT2tZoMkTZBP",
        "colab_type": "code",
        "outputId": "ef60df39-fd69-41ed-93a7-967807bac32c",
        "colab": {
          "base_uri": "https://localhost:8080/",
          "height": 34
        },
        "tags": []
      },
      "source": [
        "# Nº de dias desde primeira entrada de dados\n",
        "print(\"Number of Days Passed: \", data.date.unique().size)"
      ],
      "execution_count": 7,
      "outputs": [
        {
          "output_type": "stream",
          "name": "stdout",
          "text": "Number of Days Passed:  111\n"
        }
      ]
    },
    {
      "cell_type": "code",
      "metadata": {
        "id": "7KRYIbJrRz5I",
        "colab_type": "code",
        "outputId": "a2dc8de0-4bbf-47f6-cd17-20b7665d43cf",
        "colab": {
          "base_uri": "https://localhost:8080/",
          "height": 81
        }
      },
      "source": [
        "# Primeiro caso de infeção\n",
        "data[data['cases'] > 0].head(1)"
      ],
      "execution_count": 8,
      "outputs": [
        {
          "output_type": "execute_result",
          "data": {
            "text/plain": "          date   region state  cases  deaths\n50  2020-02-26  Sudeste    SP      1       0",
            "text/html": "<div>\n<style scoped>\n    .dataframe tbody tr th:only-of-type {\n        vertical-align: middle;\n    }\n\n    .dataframe tbody tr th {\n        vertical-align: top;\n    }\n\n    .dataframe thead th {\n        text-align: right;\n    }\n</style>\n<table border=\"1\" class=\"dataframe\">\n  <thead>\n    <tr style=\"text-align: right;\">\n      <th></th>\n      <th>date</th>\n      <th>region</th>\n      <th>state</th>\n      <th>cases</th>\n      <th>deaths</th>\n    </tr>\n  </thead>\n  <tbody>\n    <tr>\n      <th>50</th>\n      <td>2020-02-26</td>\n      <td>Sudeste</td>\n      <td>SP</td>\n      <td>1</td>\n      <td>0</td>\n    </tr>\n  </tbody>\n</table>\n</div>"
          },
          "metadata": {},
          "execution_count": 8
        }
      ]
    },
    {
      "cell_type": "markdown",
      "metadata": {
        "id": "rn_B2VW-R0tH",
        "colab_type": "text"
      },
      "source": [
        "O primeiro caso de infeção confirmado no país deu-se no dia 26 de fevereiro, mais precisamente no estado de São Paulo."
      ]
    },
    {
      "cell_type": "code",
      "metadata": {
        "id": "sdu5QFkcUkkv",
        "colab_type": "code",
        "outputId": "1ba80ad9-b8d6-4802-e9f4-2a66c9c81682",
        "colab": {
          "base_uri": "https://localhost:8080/",
          "height": 81
        }
      },
      "source": [
        "# Primeira morte\n",
        "data[data['deaths'] > 0].head(1)"
      ],
      "execution_count": 9,
      "outputs": [
        {
          "output_type": "execute_result",
          "data": {
            "text/plain": "           date   region state  cases  deaths\n590  2020-03-17  Sudeste    SP    164       1",
            "text/html": "<div>\n<style scoped>\n    .dataframe tbody tr th:only-of-type {\n        vertical-align: middle;\n    }\n\n    .dataframe tbody tr th {\n        vertical-align: top;\n    }\n\n    .dataframe thead th {\n        text-align: right;\n    }\n</style>\n<table border=\"1\" class=\"dataframe\">\n  <thead>\n    <tr style=\"text-align: right;\">\n      <th></th>\n      <th>date</th>\n      <th>region</th>\n      <th>state</th>\n      <th>cases</th>\n      <th>deaths</th>\n    </tr>\n  </thead>\n  <tbody>\n    <tr>\n      <th>590</th>\n      <td>2020-03-17</td>\n      <td>Sudeste</td>\n      <td>SP</td>\n      <td>164</td>\n      <td>1</td>\n    </tr>\n  </tbody>\n</table>\n</div>"
          },
          "metadata": {},
          "execution_count": 9
        }
      ]
    },
    {
      "cell_type": "markdown",
      "metadata": {
        "id": "aNuUPwoIVCpX",
        "colab_type": "text"
      },
      "source": [
        "A primeira morte por infeção do vírus, foi confirmada no dia 17 de março, novamente no estado de São Paulo."
      ]
    },
    {
      "cell_type": "markdown",
      "metadata": {
        "id": "uTH9FADk4FLG",
        "colab_type": "text"
      },
      "source": [
        "Foi feito o gráfico da curva epidemiológica do vírus ao longo deste perído de tempo, em termos de casos confirmados."
      ]
    },
    {
      "cell_type": "code",
      "metadata": {
        "id": "7flgwwkB4FXM",
        "colab_type": "code",
        "outputId": "82f8ab7a-68b4-409e-de65-ee8699b57d3d",
        "colab": {
          "base_uri": "https://localhost:8080/",
          "height": 542
        }
      },
      "source": [
        "# Somar casos e mortes e juntar por dia\n",
        "data_by_day = data.groupby(['date'])['cases','deaths'].agg('sum')\n",
        "\n",
        "# Plot\n",
        "layout = Layout(\n",
        "    title=\"Casos Confirmados\",\n",
        "    font=dict(\n",
        "        family=\"Courier New, monospace\",\n",
        "        size=14,\n",
        "        color=\"#7f7f7f\"\n",
        "    )\n",
        ")\n",
        "\n",
        "fig = go.Figure(data=go.Line(x = data_by_day.index, y=data_by_day['cases']))\n",
        "\n",
        "fig['layout'].update(layout)\n",
        "\n",
        "fig.show()\n",
        "\n"
      ],
      "execution_count": 10,
      "outputs": [
        {
          "output_type": "display_data",
          "data": {
            "image/svg+xml": "<svg class=\"main-svg\" xmlns=\"http://www.w3.org/2000/svg\" xmlns:xlink=\"http://www.w3.org/1999/xlink\" width=\"700\" height=\"450\" viewBox=\"0 0 700 450\"><rect x=\"0\" y=\"0\" width=\"700\" height=\"450\" style=\"fill: rgb(255, 255, 255); fill-opacity: 1;\"/><defs id=\"defs-77a456\"><g class=\"clips\"><clipPath id=\"clip77a456xyplot\" class=\"plotclip\"><rect width=\"540\" height=\"270\"/></clipPath><clipPath class=\"axesclip\" id=\"clip77a456x\"><rect x=\"80\" y=\"0\" width=\"540\" height=\"450\"/></clipPath><clipPath class=\"axesclip\" id=\"clip77a456y\"><rect x=\"0\" y=\"100\" width=\"700\" height=\"270\"/></clipPath><clipPath class=\"axesclip\" id=\"clip77a456xy\"><rect x=\"80\" y=\"100\" width=\"540\" height=\"270\"/></clipPath></g><g class=\"gradients\"/></defs><g class=\"bglayer\"><rect class=\"bg\" x=\"80\" y=\"100\" width=\"540\" height=\"270\" style=\"fill: rgb(229, 236, 246); fill-opacity: 1; stroke-width: 0;\"/></g><g class=\"layer-below\"><g class=\"imagelayer\"/><g class=\"shapelayer\"/></g><g class=\"cartesianlayer\"><g class=\"subplot xy\"><g class=\"layer-subplot\"><g class=\"shapelayer\"/><g class=\"imagelayer\"/></g><g class=\"gridlayer\"><g class=\"x\"><path class=\"xgrid crisp\" transform=\"translate(104.55,0)\" d=\"M0,100v270\" style=\"stroke: rgb(255, 255, 255); stroke-opacity: 1; stroke-width: 1px;\"/><path class=\"xgrid crisp\" transform=\"translate(173.26999999999998,0)\" d=\"M0,100v270\" style=\"stroke: rgb(255, 255, 255); stroke-opacity: 1; stroke-width: 1px;\"/><path class=\"xgrid crisp\" transform=\"translate(242,0)\" d=\"M0,100v270\" style=\"stroke: rgb(255, 255, 255); stroke-opacity: 1; stroke-width: 1px;\"/><path class=\"xgrid crisp\" transform=\"translate(310.73,0)\" d=\"M0,100v270\" style=\"stroke: rgb(255, 255, 255); stroke-opacity: 1; stroke-width: 1px;\"/><path class=\"xgrid crisp\" transform=\"translate(379.45,0)\" d=\"M0,100v270\" style=\"stroke: rgb(255, 255, 255); stroke-opacity: 1; stroke-width: 1px;\"/><path class=\"xgrid crisp\" transform=\"translate(448.18,0)\" d=\"M0,100v270\" style=\"stroke: rgb(255, 255, 255); stroke-opacity: 1; stroke-width: 1px;\"/><path class=\"xgrid crisp\" transform=\"translate(516.9100000000001,0)\" d=\"M0,100v270\" style=\"stroke: rgb(255, 255, 255); stroke-opacity: 1; stroke-width: 1px;\"/><path class=\"xgrid crisp\" transform=\"translate(585.64,0)\" d=\"M0,100v270\" style=\"stroke: rgb(255, 255, 255); stroke-opacity: 1; stroke-width: 1px;\"/></g><g class=\"y\"><path class=\"ygrid crisp\" transform=\"translate(0,300.48)\" d=\"M80,0h540\" style=\"stroke: rgb(255, 255, 255); stroke-opacity: 1; stroke-width: 1px;\"/><path class=\"ygrid crisp\" transform=\"translate(0,244.47)\" d=\"M80,0h540\" style=\"stroke: rgb(255, 255, 255); stroke-opacity: 1; stroke-width: 1px;\"/><path class=\"ygrid crisp\" transform=\"translate(0,188.45)\" d=\"M80,0h540\" style=\"stroke: rgb(255, 255, 255); stroke-opacity: 1; stroke-width: 1px;\"/><path class=\"ygrid crisp\" transform=\"translate(0,132.44)\" d=\"M80,0h540\" style=\"stroke: rgb(255, 255, 255); stroke-opacity: 1; stroke-width: 1px;\"/></g></g><g class=\"zerolinelayer\"><path class=\"yzl zl crisp\" transform=\"translate(0,356.5)\" d=\"M80,0h540\" style=\"stroke: rgb(255, 255, 255); stroke-opacity: 1; stroke-width: 2px;\"/></g><path class=\"xlines-below\"/><path class=\"ylines-below\"/><g class=\"overlines-below\"/><g class=\"xaxislayer-below\"/><g class=\"yaxislayer-below\"/><g class=\"overaxes-below\"/><g class=\"plot\" transform=\"translate(80, 100)\" clip-path=\"url('#clip77a456xyplot')\"><g class=\"scatterlayer mlayer\"><g class=\"trace scatter traceb44208\" style=\"stroke-miterlimit: 2; opacity: 1;\"><g class=\"fills\"/><g class=\"errorbars\"/><g class=\"lines\"><path class=\"js-line\" d=\"M0,256.5L142.36,255.82L147.27,255.68L186.55,253.96L191.45,253.62L211.09,252.04L216,251.5L250.36,247.98L255.27,247.07L289.64,241.66L294.55,240.11L304.36,237.87L309.27,236.37L328.91,229.5L333.82,228.17L343.64,224.37L348.55,221.43L363.27,212.83L368.18,210.93L373.09,209.35L378,206.76L387.82,199.67L392.73,195.38L397.64,191.2L402.55,188.98L407.45,185.3L412.36,180.42L432,159.2L436.91,154.77L441.82,151.5L446.73,146.93L451.64,141.16L456.55,133.76L461.45,126.22L466.36,116.9L476.18,109.06L481.09,100.95L500.73,68.05L505.64,62.76L510.55,58.37L515.45,49.38L525.27,31.65L530.18,24.37L535.09,18.29L540,13.5\" style=\"vector-effect: non-scaling-stroke; fill: none; stroke: rgb(99, 110, 250); stroke-opacity: 1; stroke-width: 2px; opacity: 1;\"/></g><g class=\"points\"/><g class=\"text\"/></g></g></g><g class=\"overplot\"/><path class=\"xlines-above crisp\" d=\"M0,0\" style=\"fill: none;\"/><path class=\"ylines-above crisp\" d=\"M0,0\" style=\"fill: none;\"/><g class=\"overlines-above\"/><g class=\"xaxislayer-above\"><g class=\"xtick\"><text text-anchor=\"middle\" x=\"0\" y=\"385\" transform=\"translate(104.55,0)\" style=\"font-family: 'Courier New', monospace; font-size: 14px; fill: rgb(127, 127, 127); fill-opacity: 1; white-space: pre;\"><tspan class=\"line\" dy=\"0em\" x=\"0\" y=\"385\">Mar 1</tspan><tspan class=\"line\" dy=\"1.3em\" x=\"0\" y=\"385\">2020</tspan></text></g><g class=\"xtick\"><text text-anchor=\"middle\" x=\"0\" y=\"385\" transform=\"translate(173.26999999999998,0)\" style=\"font-family: 'Courier New', monospace; font-size: 14px; fill: rgb(127, 127, 127); fill-opacity: 1; white-space: pre;\">Mar 15</text></g><g class=\"xtick\"><text text-anchor=\"middle\" x=\"0\" y=\"385\" transform=\"translate(242,0)\" style=\"font-family: 'Courier New', monospace; font-size: 14px; fill: rgb(127, 127, 127); fill-opacity: 1; white-space: pre;\">Mar 29</text></g><g class=\"xtick\"><text text-anchor=\"middle\" x=\"0\" y=\"385\" transform=\"translate(310.73,0)\" style=\"font-family: 'Courier New', monospace; font-size: 14px; fill: rgb(127, 127, 127); fill-opacity: 1; white-space: pre;\">Apr 12</text></g><g class=\"xtick\"><text text-anchor=\"middle\" x=\"0\" y=\"385\" transform=\"translate(379.45,0)\" style=\"font-family: 'Courier New', monospace; font-size: 14px; fill: rgb(127, 127, 127); fill-opacity: 1; white-space: pre;\">Apr 26</text></g><g class=\"xtick\"><text text-anchor=\"middle\" x=\"0\" y=\"385\" transform=\"translate(448.18,0)\" style=\"font-family: 'Courier New', monospace; font-size: 14px; fill: rgb(127, 127, 127); fill-opacity: 1; white-space: pre;\">May 10</text></g><g class=\"xtick\"><text text-anchor=\"middle\" x=\"0\" y=\"385\" transform=\"translate(516.9100000000001,0)\" style=\"font-family: 'Courier New', monospace; font-size: 14px; fill: rgb(127, 127, 127); fill-opacity: 1; white-space: pre;\">May 24</text></g><g class=\"xtick\"><text text-anchor=\"middle\" x=\"0\" y=\"385\" transform=\"translate(585.64,0)\" style=\"font-family: 'Courier New', monospace; font-size: 14px; fill: rgb(127, 127, 127); fill-opacity: 1; white-space: pre;\">Jun 7</text></g></g><g class=\"yaxislayer-above\"><g class=\"ytick\"><text text-anchor=\"end\" x=\"79\" y=\"4.8999999999999995\" transform=\"translate(0,356.5)\" style=\"font-family: 'Courier New', monospace; font-size: 14px; fill: rgb(127, 127, 127); fill-opacity: 1; white-space: pre;\">0</text></g><g class=\"ytick\"><text text-anchor=\"end\" x=\"79\" y=\"4.8999999999999995\" transform=\"translate(0,300.48)\" style=\"font-family: 'Courier New', monospace; font-size: 14px; fill: rgb(127, 127, 127); fill-opacity: 1; white-space: pre;\">200k</text></g><g class=\"ytick\"><text text-anchor=\"end\" x=\"79\" y=\"4.8999999999999995\" transform=\"translate(0,244.47)\" style=\"font-family: 'Courier New', monospace; font-size: 14px; fill: rgb(127, 127, 127); fill-opacity: 1; white-space: pre;\">400k</text></g><g class=\"ytick\"><text text-anchor=\"end\" x=\"79\" y=\"4.8999999999999995\" transform=\"translate(0,188.45)\" style=\"font-family: 'Courier New', monospace; font-size: 14px; fill: rgb(127, 127, 127); fill-opacity: 1; white-space: pre;\">600k</text></g><g class=\"ytick\"><text text-anchor=\"end\" x=\"79\" y=\"4.8999999999999995\" transform=\"translate(0,132.44)\" style=\"font-family: 'Courier New', monospace; font-size: 14px; fill: rgb(127, 127, 127); fill-opacity: 1; white-space: pre;\">800k</text></g></g><g class=\"overaxes-above\"/></g></g><g class=\"polarlayer\"/><g class=\"ternarylayer\"/><g class=\"geolayer\"/><g class=\"funnelarealayer\"/><g class=\"pielayer\"/><g class=\"treemaplayer\"/><g class=\"sunburstlayer\"/><g class=\"glimages\"/><defs id=\"topdefs-77a456\"><g class=\"clips\"/></defs><g class=\"layer-above\"><g class=\"imagelayer\"/><g class=\"shapelayer\"/></g><g class=\"infolayer\"><g class=\"g-gtitle\"><text class=\"gtitle\" x=\"35\" y=\"50\" text-anchor=\"start\" dy=\"0em\" style=\"font-family: 'Courier New', monospace; font-size: 20px; fill: rgb(127, 127, 127); opacity: 1; font-weight: normal; white-space: pre;\">Casos Confirmados</text></g><g class=\"g-xtitle\"/><g class=\"g-ytitle\"/></g></svg>"
          },
          "metadata": {}
        }
      ]
    },
    {
      "cell_type": "markdown",
      "metadata": {
        "id": "qH61kgYW_Jq8",
        "colab_type": "text"
      },
      "source": [
        "Por conseguinte, realizou-se também o gráfico que demonstra o aumento do nº de óbitos durante este período."
      ]
    },
    {
      "cell_type": "code",
      "metadata": {
        "id": "Q_MbN733_aYe",
        "colab_type": "code",
        "outputId": "4ebda105-0b3a-4f29-fc04-def0887793f8",
        "colab": {
          "base_uri": "https://localhost:8080/",
          "height": 542
        }
      },
      "source": [
        "# Plot\n",
        "layout = Layout(\n",
        "    title=\"Óbitos Confirmados\",\n",
        "    font=dict(\n",
        "        family=\"Courier New, monospace\",\n",
        "        size=14,\n",
        "        color=\"#7f7f7f\"\n",
        "    )\n",
        ")\n",
        "\n",
        "fig = go.Figure(data=go.Line(x = data_by_day.index, y=data_by_day['deaths'], line_color='#cf0000'))\n",
        "\n",
        "fig['layout'].update(layout)\n",
        "\n",
        "fig.show()"
      ],
      "execution_count": 11,
      "outputs": [
        {
          "output_type": "display_data",
          "data": {
            "image/svg+xml": "<svg class=\"main-svg\" xmlns=\"http://www.w3.org/2000/svg\" xmlns:xlink=\"http://www.w3.org/1999/xlink\" width=\"700\" height=\"450\" viewBox=\"0 0 700 450\"><rect x=\"0\" y=\"0\" width=\"700\" height=\"450\" style=\"fill: rgb(255, 255, 255); fill-opacity: 1;\"/><defs id=\"defs-72c4c8\"><g class=\"clips\"><clipPath id=\"clip72c4c8xyplot\" class=\"plotclip\"><rect width=\"540\" height=\"270\"/></clipPath><clipPath class=\"axesclip\" id=\"clip72c4c8x\"><rect x=\"80\" y=\"0\" width=\"540\" height=\"450\"/></clipPath><clipPath class=\"axesclip\" id=\"clip72c4c8y\"><rect x=\"0\" y=\"100\" width=\"700\" height=\"270\"/></clipPath><clipPath class=\"axesclip\" id=\"clip72c4c8xy\"><rect x=\"80\" y=\"100\" width=\"540\" height=\"270\"/></clipPath></g><g class=\"gradients\"/></defs><g class=\"bglayer\"><rect class=\"bg\" x=\"80\" y=\"100\" width=\"540\" height=\"270\" style=\"fill: rgb(229, 236, 246); fill-opacity: 1; stroke-width: 0;\"/></g><g class=\"layer-below\"><g class=\"imagelayer\"/><g class=\"shapelayer\"/></g><g class=\"cartesianlayer\"><g class=\"subplot xy\"><g class=\"layer-subplot\"><g class=\"shapelayer\"/><g class=\"imagelayer\"/></g><g class=\"gridlayer\"><g class=\"x\"><path class=\"xgrid crisp\" transform=\"translate(104.55,0)\" d=\"M0,100v270\" style=\"stroke: rgb(255, 255, 255); stroke-opacity: 1; stroke-width: 1px;\"/><path class=\"xgrid crisp\" transform=\"translate(173.26999999999998,0)\" d=\"M0,100v270\" style=\"stroke: rgb(255, 255, 255); stroke-opacity: 1; stroke-width: 1px;\"/><path class=\"xgrid crisp\" transform=\"translate(242,0)\" d=\"M0,100v270\" style=\"stroke: rgb(255, 255, 255); stroke-opacity: 1; stroke-width: 1px;\"/><path class=\"xgrid crisp\" transform=\"translate(310.73,0)\" d=\"M0,100v270\" style=\"stroke: rgb(255, 255, 255); stroke-opacity: 1; stroke-width: 1px;\"/><path class=\"xgrid crisp\" transform=\"translate(379.45,0)\" d=\"M0,100v270\" style=\"stroke: rgb(255, 255, 255); stroke-opacity: 1; stroke-width: 1px;\"/><path class=\"xgrid crisp\" transform=\"translate(448.18,0)\" d=\"M0,100v270\" style=\"stroke: rgb(255, 255, 255); stroke-opacity: 1; stroke-width: 1px;\"/><path class=\"xgrid crisp\" transform=\"translate(516.9100000000001,0)\" d=\"M0,100v270\" style=\"stroke: rgb(255, 255, 255); stroke-opacity: 1; stroke-width: 1px;\"/><path class=\"xgrid crisp\" transform=\"translate(585.64,0)\" d=\"M0,100v270\" style=\"stroke: rgb(255, 255, 255); stroke-opacity: 1; stroke-width: 1px;\"/></g><g class=\"y\"><path class=\"ygrid crisp\" transform=\"translate(0,300.41999999999996)\" d=\"M80,0h540\" style=\"stroke: rgb(255, 255, 255); stroke-opacity: 1; stroke-width: 1px;\"/><path class=\"ygrid crisp\" transform=\"translate(0,244.34)\" d=\"M80,0h540\" style=\"stroke: rgb(255, 255, 255); stroke-opacity: 1; stroke-width: 1px;\"/><path class=\"ygrid crisp\" transform=\"translate(0,188.26)\" d=\"M80,0h540\" style=\"stroke: rgb(255, 255, 255); stroke-opacity: 1; stroke-width: 1px;\"/><path class=\"ygrid crisp\" transform=\"translate(0,132.19)\" d=\"M80,0h540\" style=\"stroke: rgb(255, 255, 255); stroke-opacity: 1; stroke-width: 1px;\"/></g></g><g class=\"zerolinelayer\"><path class=\"yzl zl crisp\" transform=\"translate(0,356.5)\" d=\"M80,0h540\" style=\"stroke: rgb(255, 255, 255); stroke-opacity: 1; stroke-width: 2px;\"/></g><path class=\"xlines-below\"/><path class=\"ylines-below\"/><g class=\"overlines-below\"/><g class=\"xaxislayer-below\"/><g class=\"yaxislayer-below\"/><g class=\"overaxes-below\"/><g class=\"plot\" transform=\"translate(80, 100)\" clip-path=\"url('#clip72c4c8xyplot')\"><g class=\"scatterlayer mlayer\"><g class=\"trace scatter trace72dc89\" style=\"stroke-miterlimit: 2; opacity: 1;\"><g class=\"fills\"/><g class=\"errorbars\"/><g class=\"lines\"><path class=\"js-line\" d=\"M0,256.5L157.09,255.86L162,255.74L186.55,254.49L191.45,254.08L206.18,252.76L211.09,252.01L225.82,250.2L230.73,249.64L240.55,247.91L245.45,246.76L265.09,242.69L270,242.06L279.82,240.2L284.73,237.92L294.55,233.98L299.45,232.92L309.27,228.37L314.18,225.85L328.91,218.79L333.82,217.1L338.73,215.44L343.64,212.08L358.36,201.01L363.27,196.91L373.09,191.9L378,186.96L392.73,173.41L397.64,168.83L402.55,166.11L407.45,162.33L412.36,155.72L417.27,150.74L427.09,138.48L432,133.05L441.82,124.87L446.73,119.04L466.36,94.8L471.27,92.11L476.18,88.62L481.09,81.54L490.91,65.71L495.82,60.08L500.73,55.01L505.64,52.07L510.55,48.26L515.45,41.12L525.27,27.03L530.18,21.93L535.09,16.93L540,13.5\" style=\"vector-effect: non-scaling-stroke; fill: none; stroke: rgb(207, 0, 0); stroke-opacity: 1; stroke-width: 2px; opacity: 1;\"/></g><g class=\"points\"/><g class=\"text\"/></g></g></g><g class=\"overplot\"/><path class=\"xlines-above crisp\" d=\"M0,0\" style=\"fill: none;\"/><path class=\"ylines-above crisp\" d=\"M0,0\" style=\"fill: none;\"/><g class=\"overlines-above\"/><g class=\"xaxislayer-above\"><g class=\"xtick\"><text text-anchor=\"middle\" x=\"0\" y=\"385\" transform=\"translate(104.55,0)\" style=\"font-family: 'Courier New', monospace; font-size: 14px; fill: rgb(127, 127, 127); fill-opacity: 1; white-space: pre;\"><tspan class=\"line\" dy=\"0em\" x=\"0\" y=\"385\">Mar 1</tspan><tspan class=\"line\" dy=\"1.3em\" x=\"0\" y=\"385\">2020</tspan></text></g><g class=\"xtick\"><text text-anchor=\"middle\" x=\"0\" y=\"385\" transform=\"translate(173.26999999999998,0)\" style=\"font-family: 'Courier New', monospace; font-size: 14px; fill: rgb(127, 127, 127); fill-opacity: 1; white-space: pre;\">Mar 15</text></g><g class=\"xtick\"><text text-anchor=\"middle\" x=\"0\" y=\"385\" transform=\"translate(242,0)\" style=\"font-family: 'Courier New', monospace; font-size: 14px; fill: rgb(127, 127, 127); fill-opacity: 1; white-space: pre;\">Mar 29</text></g><g class=\"xtick\"><text text-anchor=\"middle\" x=\"0\" y=\"385\" transform=\"translate(310.73,0)\" style=\"font-family: 'Courier New', monospace; font-size: 14px; fill: rgb(127, 127, 127); fill-opacity: 1; white-space: pre;\">Apr 12</text></g><g class=\"xtick\"><text text-anchor=\"middle\" x=\"0\" y=\"385\" transform=\"translate(379.45,0)\" style=\"font-family: 'Courier New', monospace; font-size: 14px; fill: rgb(127, 127, 127); fill-opacity: 1; white-space: pre;\">Apr 26</text></g><g class=\"xtick\"><text text-anchor=\"middle\" x=\"0\" y=\"385\" transform=\"translate(448.18,0)\" style=\"font-family: 'Courier New', monospace; font-size: 14px; fill: rgb(127, 127, 127); fill-opacity: 1; white-space: pre;\">May 10</text></g><g class=\"xtick\"><text text-anchor=\"middle\" x=\"0\" y=\"385\" transform=\"translate(516.9100000000001,0)\" style=\"font-family: 'Courier New', monospace; font-size: 14px; fill: rgb(127, 127, 127); fill-opacity: 1; white-space: pre;\">May 24</text></g><g class=\"xtick\"><text text-anchor=\"middle\" x=\"0\" y=\"385\" transform=\"translate(585.64,0)\" style=\"font-family: 'Courier New', monospace; font-size: 14px; fill: rgb(127, 127, 127); fill-opacity: 1; white-space: pre;\">Jun 7</text></g></g><g class=\"yaxislayer-above\"><g class=\"ytick\"><text text-anchor=\"end\" x=\"79\" y=\"4.8999999999999995\" transform=\"translate(0,356.5)\" style=\"font-family: 'Courier New', monospace; font-size: 14px; fill: rgb(127, 127, 127); fill-opacity: 1; white-space: pre;\">0</text></g><g class=\"ytick\"><text text-anchor=\"end\" x=\"79\" y=\"4.8999999999999995\" transform=\"translate(0,300.41999999999996)\" style=\"font-family: 'Courier New', monospace; font-size: 14px; fill: rgb(127, 127, 127); fill-opacity: 1; white-space: pre;\">10k</text></g><g class=\"ytick\"><text text-anchor=\"end\" x=\"79\" y=\"4.8999999999999995\" transform=\"translate(0,244.34)\" style=\"font-family: 'Courier New', monospace; font-size: 14px; fill: rgb(127, 127, 127); fill-opacity: 1; white-space: pre;\">20k</text></g><g class=\"ytick\"><text text-anchor=\"end\" x=\"79\" y=\"4.8999999999999995\" transform=\"translate(0,188.26)\" style=\"font-family: 'Courier New', monospace; font-size: 14px; fill: rgb(127, 127, 127); fill-opacity: 1; white-space: pre;\">30k</text></g><g class=\"ytick\"><text text-anchor=\"end\" x=\"79\" y=\"4.8999999999999995\" transform=\"translate(0,132.19)\" style=\"font-family: 'Courier New', monospace; font-size: 14px; fill: rgb(127, 127, 127); fill-opacity: 1; white-space: pre;\">40k</text></g></g><g class=\"overaxes-above\"/></g></g><g class=\"polarlayer\"/><g class=\"ternarylayer\"/><g class=\"geolayer\"/><g class=\"funnelarealayer\"/><g class=\"pielayer\"/><g class=\"treemaplayer\"/><g class=\"sunburstlayer\"/><g class=\"glimages\"/><defs id=\"topdefs-72c4c8\"><g class=\"clips\"/></defs><g class=\"layer-above\"><g class=\"imagelayer\"/><g class=\"shapelayer\"/></g><g class=\"infolayer\"><g class=\"g-gtitle\"><text class=\"gtitle\" x=\"35\" y=\"50\" text-anchor=\"start\" dy=\"0em\" style=\"font-family: 'Courier New', monospace; font-size: 20px; fill: rgb(127, 127, 127); opacity: 1; font-weight: normal; white-space: pre;\">Óbitos Confirmados</text></g><g class=\"g-xtitle\"/><g class=\"g-ytitle\"/></g></svg>"
          },
          "metadata": {}
        }
      ]
    },
    {
      "cell_type": "markdown",
      "metadata": {
        "id": "_8fzqZmz0fRb",
        "colab_type": "text"
      },
      "source": [
        "Averíguamos agora através de gráficos de barras, qual tem sido o aumento diário de casos positivos e de óbitos no país."
      ]
    },
    {
      "cell_type": "code",
      "metadata": {
        "id": "QxnOE6RqQj_B",
        "colab_type": "code",
        "outputId": "6f5ebfb4-239f-4166-9d0f-f891fc848cf4",
        "colab": {
          "base_uri": "https://localhost:8080/",
          "height": 542
        }
      },
      "source": [
        "# Cálculo da taxa diária de casos e mortes\n",
        "data_today = data_by_day\n",
        "data_before = data_by_day.shift(1)\n",
        "\n",
        "data_growth_rate = data_today - data_before\n",
        "data_growth_rate = data_growth_rate.dropna()\n",
        "\n",
        "cases_rate = data_growth_rate['cases'][data_growth_rate['cases']>0]\n",
        "deaths_rate = data_growth_rate['deaths'][data_growth_rate['deaths']>0]\n",
        "\n",
        "# Plot\n",
        "layout = Layout(\n",
        "    font=dict(\n",
        "        family=\"Courier New, monospace\",\n",
        "        size=14,\n",
        "        color=\"#7f7f7f\"\n",
        "    )\n",
        ")\n",
        "\n",
        "fig = make_subplots(rows=2, cols=1\n",
        "                    , subplot_titles=('Aumento Diário de Casos'\n",
        "                                      , 'Aumento Diário de Óbitos'))\n",
        "\n",
        "fig.append_trace(Bar(\n",
        "    x=cases_rate.index,\n",
        "    y=cases_rate,\n",
        "    name='Nº de novos casos'\n",
        "), row=1, col=1)\n",
        "\n",
        "fig.append_trace(Bar(\n",
        "    x=deaths_rate.index,\n",
        "    y=deaths_rate,\n",
        "    name='Nº de novos óbitos'\n",
        "), row=2, col=1)\n",
        "\n",
        "fig['layout'].update(layout)\n",
        "\n",
        "fig.show()"
      ],
      "execution_count": 12,
      "outputs": [
        {
          "output_type": "display_data",
          "data": {
            "image/svg+xml": "<svg class=\"main-svg\" xmlns=\"http://www.w3.org/2000/svg\" xmlns:xlink=\"http://www.w3.org/1999/xlink\" width=\"700\" height=\"450\" viewBox=\"0 0 700 450\"><rect x=\"0\" y=\"0\" width=\"700\" height=\"450\" style=\"fill: rgb(255, 255, 255); fill-opacity: 1;\"/><defs id=\"defs-79f2ab\"><g class=\"clips\"><clipPath id=\"clip79f2abxyplot\" class=\"plotclip\"><rect width=\"403\" height=\"101.25\"/></clipPath><clipPath id=\"clip79f2abx2y2plot\" class=\"plotclip\"><rect width=\"403\" height=\"101.25\"/></clipPath><clipPath class=\"axesclip\" id=\"clip79f2abx\"><rect x=\"80\" y=\"0\" width=\"403\" height=\"450\"/></clipPath><clipPath class=\"axesclip\" id=\"clip79f2aby\"><rect x=\"0\" y=\"100\" width=\"700\" height=\"101.25\"/></clipPath><clipPath class=\"axesclip\" id=\"clip79f2abxy\"><rect x=\"80\" y=\"100\" width=\"403\" height=\"101.25\"/></clipPath><clipPath class=\"axesclip\" id=\"clip79f2aby2\"><rect x=\"0\" y=\"268.75\" width=\"700\" height=\"101.25\"/></clipPath><clipPath class=\"axesclip\" id=\"clip79f2abxy2\"><rect x=\"80\" y=\"268.75\" width=\"403\" height=\"101.25\"/></clipPath><clipPath class=\"axesclip\" id=\"clip79f2abx2\"><rect x=\"80\" y=\"0\" width=\"403\" height=\"450\"/></clipPath><clipPath class=\"axesclip\" id=\"clip79f2abx2y\"><rect x=\"80\" y=\"100\" width=\"403\" height=\"101.25\"/></clipPath><clipPath class=\"axesclip\" id=\"clip79f2abx2y2\"><rect x=\"80\" y=\"268.75\" width=\"403\" height=\"101.25\"/></clipPath></g><g class=\"gradients\"/></defs><g class=\"bglayer\"><rect class=\"bg\" x=\"80\" y=\"100\" width=\"403\" height=\"101.25\" style=\"fill: rgb(229, 236, 246); fill-opacity: 1; stroke-width: 0;\"/><rect class=\"bg\" x=\"80\" y=\"268.75\" width=\"403\" height=\"101.25\" style=\"fill: rgb(229, 236, 246); fill-opacity: 1; stroke-width: 0;\"/></g><g class=\"layer-below\"><g class=\"imagelayer\"/><g class=\"shapelayer\"/></g><g class=\"cartesianlayer\"><g class=\"subplot xy\"><g class=\"layer-subplot\"><g class=\"shapelayer\"/><g class=\"imagelayer\"/></g><g class=\"gridlayer\"><g class=\"x\"/><g class=\"y\"><path class=\"ygrid crisp\" transform=\"translate(0,172.34)\" d=\"M80,0h403\" style=\"stroke: rgb(255, 255, 255); stroke-opacity: 1; stroke-width: 1px;\"/><path class=\"ygrid crisp\" transform=\"translate(0,143.43)\" d=\"M80,0h403\" style=\"stroke: rgb(255, 255, 255); stroke-opacity: 1; stroke-width: 1px;\"/><path class=\"ygrid crisp\" transform=\"translate(0,114.53)\" d=\"M80,0h403\" style=\"stroke: rgb(255, 255, 255); stroke-opacity: 1; stroke-width: 1px;\"/></g></g><g class=\"zerolinelayer\"><path class=\"yzl zl crisp\" transform=\"translate(0,201.25)\" d=\"M80,0h403\" style=\"stroke: rgb(255, 255, 255); stroke-opacity: 1; stroke-width: 2px;\"/></g><path class=\"xlines-below\"/><path class=\"ylines-below\"/><g class=\"overlines-below\"/><g class=\"xaxislayer-below\"/><g class=\"yaxislayer-below\"/><g class=\"overaxes-below\"/><g class=\"plot\" transform=\"translate(80, 100)\" clip-path=\"url('#clip79f2abxyplot')\"><g class=\"barlayer mlayer\"><g class=\"trace bars\" style=\"opacity: 1;\"><g class=\"points\"><g class=\"point\"><path d=\"M0.37,101.25V101.25H3.3V101.25Z\" style=\"vector-effect: non-scaling-stroke; opacity: 1; stroke-width: 0.5px; fill: rgb(99, 110, 250); fill-opacity: 1; stroke: rgb(229, 236, 246); stroke-opacity: 1;\"/></g><g class=\"point\"><path d=\"M11.36,101.25V101.25H14.29V101.25Z\" style=\"vector-effect: non-scaling-stroke; opacity: 1; stroke-width: 0.5px; fill: rgb(99, 110, 250); fill-opacity: 1; stroke: rgb(229, 236, 246); stroke-opacity: 1;\"/></g><g class=\"point\"><path d=\"M26.01,101.25V101.25H28.94V101.25Z\" style=\"vector-effect: non-scaling-stroke; opacity: 1; stroke-width: 0.5px; fill: rgb(99, 110, 250); fill-opacity: 1; stroke: rgb(229, 236, 246); stroke-opacity: 1;\"/></g><g class=\"point\"><path d=\"M29.68,101.25V101.24H32.61V101.25Z\" style=\"vector-effect: non-scaling-stroke; opacity: 1; stroke-width: 0.5px; fill: rgb(99, 110, 250); fill-opacity: 1; stroke: rgb(229, 236, 246); stroke-opacity: 1;\"/></g><g class=\"point\"><path d=\"M33.34,101.25V101.23H36.27V101.25Z\" style=\"vector-effect: non-scaling-stroke; opacity: 1; stroke-width: 0.5px; fill: rgb(99, 110, 250); fill-opacity: 1; stroke: rgb(229, 236, 246); stroke-opacity: 1;\"/></g><g class=\"point\"><path d=\"M37,101.25V101.23H39.93V101.25Z\" style=\"vector-effect: non-scaling-stroke; opacity: 1; stroke-width: 0.5px; fill: rgb(99, 110, 250); fill-opacity: 1; stroke: rgb(229, 236, 246); stroke-opacity: 1;\"/></g><g class=\"point\"><path d=\"M40.67,101.25V101.23H43.6V101.25Z\" style=\"vector-effect: non-scaling-stroke; opacity: 1; stroke-width: 0.5px; fill: rgb(99, 110, 250); fill-opacity: 1; stroke: rgb(229, 236, 246); stroke-opacity: 1;\"/></g><g class=\"point\"><path d=\"M47.99,101.25V101.22H50.92V101.25Z\" style=\"vector-effect: non-scaling-stroke; opacity: 1; stroke-width: 0.5px; fill: rgb(99, 110, 250); fill-opacity: 1; stroke: rgb(229, 236, 246); stroke-opacity: 1;\"/></g><g class=\"point\"><path d=\"M51.66,101.25V101.2H54.59V101.25Z\" style=\"vector-effect: non-scaling-stroke; opacity: 1; stroke-width: 0.5px; fill: rgb(99, 110, 250); fill-opacity: 1; stroke: rgb(229, 236, 246); stroke-opacity: 1;\"/></g><g class=\"point\"><path d=\"M55.32,101.25V101.18H58.25V101.25Z\" style=\"vector-effect: non-scaling-stroke; opacity: 1; stroke-width: 0.5px; fill: rgb(99, 110, 250); fill-opacity: 1; stroke: rgb(229, 236, 246); stroke-opacity: 1;\"/></g><g class=\"point\"><path d=\"M58.98,101.25V101.19H61.92V101.25Z\" style=\"vector-effect: non-scaling-stroke; opacity: 1; stroke-width: 0.5px; fill: rgb(99, 110, 250); fill-opacity: 1; stroke: rgb(229, 236, 246); stroke-opacity: 1;\"/></g><g class=\"point\"><path d=\"M62.65,101.25V101.18H65.58V101.25Z\" style=\"vector-effect: non-scaling-stroke; opacity: 1; stroke-width: 0.5px; fill: rgb(99, 110, 250); fill-opacity: 1; stroke: rgb(229, 236, 246); stroke-opacity: 1;\"/></g><g class=\"point\"><path d=\"M66.31,101.25V101.02H69.24V101.25Z\" style=\"vector-effect: non-scaling-stroke; opacity: 1; stroke-width: 0.5px; fill: rgb(99, 110, 250); fill-opacity: 1; stroke: rgb(229, 236, 246); stroke-opacity: 1;\"/></g><g class=\"point\"><path d=\"M69.98,101.25V101.15H72.91V101.25Z\" style=\"vector-effect: non-scaling-stroke; opacity: 1; stroke-width: 0.5px; fill: rgb(99, 110, 250); fill-opacity: 1; stroke: rgb(229, 236, 246); stroke-opacity: 1;\"/></g><g class=\"point\"><path d=\"M73.64,101.25V101.09H76.57V101.25Z\" style=\"vector-effect: non-scaling-stroke; opacity: 1; stroke-width: 0.5px; fill: rgb(99, 110, 250); fill-opacity: 1; stroke: rgb(229, 236, 246); stroke-opacity: 1;\"/></g><g class=\"point\"><path d=\"M77.3,101.25V100.85H80.23V101.25Z\" style=\"vector-effect: non-scaling-stroke; opacity: 1; stroke-width: 0.5px; fill: rgb(99, 110, 250); fill-opacity: 1; stroke: rgb(229, 236, 246); stroke-opacity: 1;\"/></g><g class=\"point\"><path d=\"M80.97,101.25V100.69H83.9V101.25Z\" style=\"vector-effect: non-scaling-stroke; opacity: 1; stroke-width: 0.5px; fill: rgb(99, 110, 250); fill-opacity: 1; stroke: rgb(229, 236, 246); stroke-opacity: 1;\"/></g><g class=\"point\"><path d=\"M84.63,101.25V100.43H87.56V101.25Z\" style=\"vector-effect: non-scaling-stroke; opacity: 1; stroke-width: 0.5px; fill: rgb(99, 110, 250); fill-opacity: 1; stroke: rgb(229, 236, 246); stroke-opacity: 1;\"/></g><g class=\"point\"><path d=\"M88.29,101.25V100.6H91.22V101.25Z\" style=\"vector-effect: non-scaling-stroke; opacity: 1; stroke-width: 0.5px; fill: rgb(99, 110, 250); fill-opacity: 1; stroke: rgb(229, 236, 246); stroke-opacity: 1;\"/></g><g class=\"point\"><path d=\"M91.96,101.25V100.04H94.89V101.25Z\" style=\"vector-effect: non-scaling-stroke; opacity: 1; stroke-width: 0.5px; fill: rgb(99, 110, 250); fill-opacity: 1; stroke: rgb(229, 236, 246); stroke-opacity: 1;\"/></g><g class=\"point\"><path d=\"M95.62,101.25V100.25H98.55V101.25Z\" style=\"vector-effect: non-scaling-stroke; opacity: 1; stroke-width: 0.5px; fill: rgb(99, 110, 250); fill-opacity: 1; stroke: rgb(229, 236, 246); stroke-opacity: 1;\"/></g><g class=\"point\"><path d=\"M99.28,101.25V100.35H102.22V101.25Z\" style=\"vector-effect: non-scaling-stroke; opacity: 1; stroke-width: 0.5px; fill: rgb(99, 110, 250); fill-opacity: 1; stroke: rgb(229, 236, 246); stroke-opacity: 1;\"/></g><g class=\"point\"><path d=\"M102.95,101.25V100.58H105.88V101.25Z\" style=\"vector-effect: non-scaling-stroke; opacity: 1; stroke-width: 0.5px; fill: rgb(99, 110, 250); fill-opacity: 1; stroke: rgb(229, 236, 246); stroke-opacity: 1;\"/></g><g class=\"point\"><path d=\"M106.61,101.25V99.86H109.54V101.25Z\" style=\"vector-effect: non-scaling-stroke; opacity: 1; stroke-width: 0.5px; fill: rgb(99, 110, 250); fill-opacity: 1; stroke: rgb(229, 236, 246); stroke-opacity: 1;\"/></g><g class=\"point\"><path d=\"M110.28,101.25V99.8H113.21V101.25Z\" style=\"vector-effect: non-scaling-stroke; opacity: 1; stroke-width: 0.5px; fill: rgb(99, 110, 250); fill-opacity: 1; stroke: rgb(229, 236, 246); stroke-opacity: 1;\"/></g><g class=\"point\"><path d=\"M113.94,101.25V99.85H116.87V101.25Z\" style=\"vector-effect: non-scaling-stroke; opacity: 1; stroke-width: 0.5px; fill: rgb(99, 110, 250); fill-opacity: 1; stroke: rgb(229, 236, 246); stroke-opacity: 1;\"/></g><g class=\"point\"><path d=\"M117.6,101.25V100.23H120.53V101.25Z\" style=\"vector-effect: non-scaling-stroke; opacity: 1; stroke-width: 0.5px; fill: rgb(99, 110, 250); fill-opacity: 1; stroke: rgb(229, 236, 246); stroke-opacity: 1;\"/></g><g class=\"point\"><path d=\"M121.27,101.25V100.32H124.2V101.25Z\" style=\"vector-effect: non-scaling-stroke; opacity: 1; stroke-width: 0.5px; fill: rgb(99, 110, 250); fill-opacity: 1; stroke: rgb(229, 236, 246); stroke-opacity: 1;\"/></g><g class=\"point\"><path d=\"M124.93,101.25V97.96H127.86V101.25Z\" style=\"vector-effect: non-scaling-stroke; opacity: 1; stroke-width: 0.5px; fill: rgb(99, 110, 250); fill-opacity: 1; stroke: rgb(229, 236, 246); stroke-opacity: 1;\"/></g><g class=\"point\"><path d=\"M128.59,101.25V98.02H131.52V101.25Z\" style=\"vector-effect: non-scaling-stroke; opacity: 1; stroke-width: 0.5px; fill: rgb(99, 110, 250); fill-opacity: 1; stroke: rgb(229, 236, 246); stroke-opacity: 1;\"/></g><g class=\"point\"><path d=\"M132.26,101.25V98.14H135.19V101.25Z\" style=\"vector-effect: non-scaling-stroke; opacity: 1; stroke-width: 0.5px; fill: rgb(99, 110, 250); fill-opacity: 1; stroke: rgb(229, 236, 246); stroke-opacity: 1;\"/></g><g class=\"point\"><path d=\"M135.92,101.25V97.94H138.85V101.25Z\" style=\"vector-effect: non-scaling-stroke; opacity: 1; stroke-width: 0.5px; fill: rgb(99, 110, 250); fill-opacity: 1; stroke: rgb(229, 236, 246); stroke-opacity: 1;\"/></g><g class=\"point\"><path d=\"M139.58,101.25V97.72H142.52V101.25Z\" style=\"vector-effect: non-scaling-stroke; opacity: 1; stroke-width: 0.5px; fill: rgb(99, 110, 250); fill-opacity: 1; stroke: rgb(229, 236, 246); stroke-opacity: 1;\"/></g><g class=\"point\"><path d=\"M143.25,101.25V98.79H146.18V101.25Z\" style=\"vector-effect: non-scaling-stroke; opacity: 1; stroke-width: 0.5px; fill: rgb(99, 110, 250); fill-opacity: 1; stroke: rgb(229, 236, 246); stroke-opacity: 1;\"/></g><g class=\"point\"><path d=\"M146.91,101.25V98.57H149.84V101.25Z\" style=\"vector-effect: non-scaling-stroke; opacity: 1; stroke-width: 0.5px; fill: rgb(99, 110, 250); fill-opacity: 1; stroke: rgb(229, 236, 246); stroke-opacity: 1;\"/></g><g class=\"point\"><path d=\"M150.58,101.25V96.45H153.51V101.25Z\" style=\"vector-effect: non-scaling-stroke; opacity: 1; stroke-width: 0.5px; fill: rgb(99, 110, 250); fill-opacity: 1; stroke: rgb(229, 236, 246); stroke-opacity: 1;\"/></g><g class=\"point\"><path d=\"M154.24,101.25V94.86H157.17V101.25Z\" style=\"vector-effect: non-scaling-stroke; opacity: 1; stroke-width: 0.5px; fill: rgb(99, 110, 250); fill-opacity: 1; stroke: rgb(229, 236, 246); stroke-opacity: 1;\"/></g><g class=\"point\"><path d=\"M157.9,101.25V95.67H160.83V101.25Z\" style=\"vector-effect: non-scaling-stroke; opacity: 1; stroke-width: 0.5px; fill: rgb(99, 110, 250); fill-opacity: 1; stroke: rgb(229, 236, 246); stroke-opacity: 1;\"/></g><g class=\"point\"><path d=\"M161.57,101.25V96.1H164.5V101.25Z\" style=\"vector-effect: non-scaling-stroke; opacity: 1; stroke-width: 0.5px; fill: rgb(99, 110, 250); fill-opacity: 1; stroke: rgb(229, 236, 246); stroke-opacity: 1;\"/></g><g class=\"point\"><path d=\"M165.23,101.25V98.1H168.16V101.25Z\" style=\"vector-effect: non-scaling-stroke; opacity: 1; stroke-width: 0.5px; fill: rgb(99, 110, 250); fill-opacity: 1; stroke: rgb(229, 236, 246); stroke-opacity: 1;\"/></g><g class=\"point\"><path d=\"M168.89,101.25V97.08H171.82V101.25Z\" style=\"vector-effect: non-scaling-stroke; opacity: 1; stroke-width: 0.5px; fill: rgb(99, 110, 250); fill-opacity: 1; stroke: rgb(229, 236, 246); stroke-opacity: 1;\"/></g><g class=\"point\"><path d=\"M172.56,101.25V97.6H175.49V101.25Z\" style=\"vector-effect: non-scaling-stroke; opacity: 1; stroke-width: 0.5px; fill: rgb(99, 110, 250); fill-opacity: 1; stroke: rgb(229, 236, 246); stroke-opacity: 1;\"/></g><g class=\"point\"><path d=\"M176.22,101.25V95.95H179.15V101.25Z\" style=\"vector-effect: non-scaling-stroke; opacity: 1; stroke-width: 0.5px; fill: rgb(99, 110, 250); fill-opacity: 1; stroke: rgb(229, 236, 246); stroke-opacity: 1;\"/></g><g class=\"point\"><path d=\"M179.88,101.25V92.41H182.82V101.25Z\" style=\"vector-effect: non-scaling-stroke; opacity: 1; stroke-width: 0.5px; fill: rgb(99, 110, 250); fill-opacity: 1; stroke: rgb(229, 236, 246); stroke-opacity: 1;\"/></g><g class=\"point\"><path d=\"M183.55,101.25V95.16H186.48V101.25Z\" style=\"vector-effect: non-scaling-stroke; opacity: 1; stroke-width: 0.5px; fill: rgb(99, 110, 250); fill-opacity: 1; stroke: rgb(229, 236, 246); stroke-opacity: 1;\"/></g><g class=\"point\"><path d=\"M187.21,101.25V91.83H190.14V101.25Z\" style=\"vector-effect: non-scaling-stroke; opacity: 1; stroke-width: 0.5px; fill: rgb(99, 110, 250); fill-opacity: 1; stroke: rgb(229, 236, 246); stroke-opacity: 1;\"/></g><g class=\"point\"><path d=\"M190.88,101.25V92.82H193.81V101.25Z\" style=\"vector-effect: non-scaling-stroke; opacity: 1; stroke-width: 0.5px; fill: rgb(99, 110, 250); fill-opacity: 1; stroke: rgb(229, 236, 246); stroke-opacity: 1;\"/></g><g class=\"point\"><path d=\"M194.54,101.25V95.31H197.47V101.25Z\" style=\"vector-effect: non-scaling-stroke; opacity: 1; stroke-width: 0.5px; fill: rgb(99, 110, 250); fill-opacity: 1; stroke: rgb(229, 236, 246); stroke-opacity: 1;\"/></g><g class=\"point\"><path d=\"M198.2,101.25V95.68H201.13V101.25Z\" style=\"vector-effect: non-scaling-stroke; opacity: 1; stroke-width: 0.5px; fill: rgb(99, 110, 250); fill-opacity: 1; stroke: rgb(229, 236, 246); stroke-opacity: 1;\"/></g><g class=\"point\"><path d=\"M201.87,101.25V94.03H204.8V101.25Z\" style=\"vector-effect: non-scaling-stroke; opacity: 1; stroke-width: 0.5px; fill: rgb(99, 110, 250); fill-opacity: 1; stroke: rgb(229, 236, 246); stroke-opacity: 1;\"/></g><g class=\"point\"><path d=\"M205.53,101.25V93.51H208.46V101.25Z\" style=\"vector-effect: non-scaling-stroke; opacity: 1; stroke-width: 0.5px; fill: rgb(99, 110, 250); fill-opacity: 1; stroke: rgb(229, 236, 246); stroke-opacity: 1;\"/></g><g class=\"point\"><path d=\"M209.19,101.25V90.45H212.12V101.25Z\" style=\"vector-effect: non-scaling-stroke; opacity: 1; stroke-width: 0.5px; fill: rgb(99, 110, 250); fill-opacity: 1; stroke: rgb(229, 236, 246); stroke-opacity: 1;\"/></g><g class=\"point\"><path d=\"M212.86,101.25V91.12H215.79V101.25Z\" style=\"vector-effect: non-scaling-stroke; opacity: 1; stroke-width: 0.5px; fill: rgb(99, 110, 250); fill-opacity: 1; stroke: rgb(229, 236, 246); stroke-opacity: 1;\"/></g><g class=\"point\"><path d=\"M216.52,101.25V85.31H219.45V101.25Z\" style=\"vector-effect: non-scaling-stroke; opacity: 1; stroke-width: 0.5px; fill: rgb(99, 110, 250); fill-opacity: 1; stroke: rgb(229, 236, 246); stroke-opacity: 1;\"/></g><g class=\"point\"><path d=\"M220.18,101.25V91.48H223.12V101.25Z\" style=\"vector-effect: non-scaling-stroke; opacity: 1; stroke-width: 0.5px; fill: rgb(99, 110, 250); fill-opacity: 1; stroke: rgb(229, 236, 246); stroke-opacity: 1;\"/></g><g class=\"point\"><path d=\"M223.85,101.25V87.91H226.78V101.25Z\" style=\"vector-effect: non-scaling-stroke; opacity: 1; stroke-width: 0.5px; fill: rgb(99, 110, 250); fill-opacity: 1; stroke: rgb(229, 236, 246); stroke-opacity: 1;\"/></g><g class=\"point\"><path d=\"M227.51,101.25V85.68H230.44V101.25Z\" style=\"vector-effect: non-scaling-stroke; opacity: 1; stroke-width: 0.5px; fill: rgb(99, 110, 250); fill-opacity: 1; stroke: rgb(229, 236, 246); stroke-opacity: 1;\"/></g><g class=\"point\"><path d=\"M231.18,101.25V83.11H234.11V101.25Z\" style=\"vector-effect: non-scaling-stroke; opacity: 1; stroke-width: 0.5px; fill: rgb(99, 110, 250); fill-opacity: 1; stroke: rgb(229, 236, 246); stroke-opacity: 1;\"/></g><g class=\"point\"><path d=\"M234.84,101.25V80.38H237.77V101.25Z\" style=\"vector-effect: non-scaling-stroke; opacity: 1; stroke-width: 0.5px; fill: rgb(99, 110, 250); fill-opacity: 1; stroke: rgb(229, 236, 246); stroke-opacity: 1;\"/></g><g class=\"point\"><path d=\"M238.5,101.25V84.14H241.43V101.25Z\" style=\"vector-effect: non-scaling-stroke; opacity: 1; stroke-width: 0.5px; fill: rgb(99, 110, 250); fill-opacity: 1; stroke: rgb(229, 236, 246); stroke-opacity: 1;\"/></g><g class=\"point\"><path d=\"M242.17,101.25V86.52H245.1V101.25Z\" style=\"vector-effect: non-scaling-stroke; opacity: 1; stroke-width: 0.5px; fill: rgb(99, 110, 250); fill-opacity: 1; stroke: rgb(229, 236, 246); stroke-opacity: 1;\"/></g><g class=\"point\"><path d=\"M245.83,101.25V87.52H248.76V101.25Z\" style=\"vector-effect: non-scaling-stroke; opacity: 1; stroke-width: 0.5px; fill: rgb(99, 110, 250); fill-opacity: 1; stroke: rgb(229, 236, 246); stroke-opacity: 1;\"/></g><g class=\"point\"><path d=\"M249.49,101.25V82.08H252.42V101.25Z\" style=\"vector-effect: non-scaling-stroke; opacity: 1; stroke-width: 0.5px; fill: rgb(99, 110, 250); fill-opacity: 1; stroke: rgb(229, 236, 246); stroke-opacity: 1;\"/></g><g class=\"point\"><path d=\"M253.16,101.25V81.2H256.09V101.25Z\" style=\"vector-effect: non-scaling-stroke; opacity: 1; stroke-width: 0.5px; fill: rgb(99, 110, 250); fill-opacity: 1; stroke: rgb(229, 236, 246); stroke-opacity: 1;\"/></g><g class=\"point\"><path d=\"M256.82,101.25V70.89H259.75V101.25Z\" style=\"vector-effect: non-scaling-stroke; opacity: 1; stroke-width: 0.5px; fill: rgb(99, 110, 250); fill-opacity: 1; stroke: rgb(229, 236, 246); stroke-opacity: 1;\"/></g><g class=\"point\"><path d=\"M260.48,101.25V72.67H263.42V101.25Z\" style=\"vector-effect: non-scaling-stroke; opacity: 1; stroke-width: 0.5px; fill: rgb(99, 110, 250); fill-opacity: 1; stroke: rgb(229, 236, 246); stroke-opacity: 1;\"/></g><g class=\"point\"><path d=\"M264.15,101.25V71.7H267.08V101.25Z\" style=\"vector-effect: non-scaling-stroke; opacity: 1; stroke-width: 0.5px; fill: rgb(99, 110, 250); fill-opacity: 1; stroke: rgb(229, 236, 246); stroke-opacity: 1;\"/></g><g class=\"point\"><path d=\"M267.81,101.25V70.58H270.74V101.25Z\" style=\"vector-effect: non-scaling-stroke; opacity: 1; stroke-width: 0.5px; fill: rgb(99, 110, 250); fill-opacity: 1; stroke: rgb(229, 236, 246); stroke-opacity: 1;\"/></g><g class=\"point\"><path d=\"M271.48,101.25V81.71H274.41V101.25Z\" style=\"vector-effect: non-scaling-stroke; opacity: 1; stroke-width: 0.5px; fill: rgb(99, 110, 250); fill-opacity: 1; stroke: rgb(229, 236, 246); stroke-opacity: 1;\"/></g><g class=\"point\"><path d=\"M275.14,101.25V84.97H278.07V101.25Z\" style=\"vector-effect: non-scaling-stroke; opacity: 1; stroke-width: 0.5px; fill: rgb(99, 110, 250); fill-opacity: 1; stroke: rgb(229, 236, 246); stroke-opacity: 1;\"/></g><g class=\"point\"><path d=\"M278.8,101.25V74.49H281.73V101.25Z\" style=\"vector-effect: non-scaling-stroke; opacity: 1; stroke-width: 0.5px; fill: rgb(99, 110, 250); fill-opacity: 1; stroke: rgb(229, 236, 246); stroke-opacity: 1;\"/></g><g class=\"point\"><path d=\"M282.47,101.25V68.34H285.4V101.25Z\" style=\"vector-effect: non-scaling-stroke; opacity: 1; stroke-width: 0.5px; fill: rgb(99, 110, 250); fill-opacity: 1; stroke: rgb(229, 236, 246); stroke-opacity: 1;\"/></g><g class=\"point\"><path d=\"M286.13,101.25V60.94H289.06V101.25Z\" style=\"vector-effect: non-scaling-stroke; opacity: 1; stroke-width: 0.5px; fill: rgb(99, 110, 250); fill-opacity: 1; stroke: rgb(229, 236, 246); stroke-opacity: 1;\"/></g><g class=\"point\"><path d=\"M289.79,101.25V57.01H292.72V101.25Z\" style=\"vector-effect: non-scaling-stroke; opacity: 1; stroke-width: 0.5px; fill: rgb(99, 110, 250); fill-opacity: 1; stroke: rgb(229, 236, 246); stroke-opacity: 1;\"/></g><g class=\"point\"><path d=\"M293.46,101.25V58.12H296.39V101.25Z\" style=\"vector-effect: non-scaling-stroke; opacity: 1; stroke-width: 0.5px; fill: rgb(99, 110, 250); fill-opacity: 1; stroke: rgb(229, 236, 246); stroke-opacity: 1;\"/></g><g class=\"point\"><path d=\"M297.12,101.25V78.3H300.05V101.25Z\" style=\"vector-effect: non-scaling-stroke; opacity: 1; stroke-width: 0.5px; fill: rgb(99, 110, 250); fill-opacity: 1; stroke: rgb(229, 236, 246); stroke-opacity: 1;\"/></g><g class=\"point\"><path d=\"M300.78,101.25V63.27H303.72V101.25Z\" style=\"vector-effect: non-scaling-stroke; opacity: 1; stroke-width: 0.5px; fill: rgb(99, 110, 250); fill-opacity: 1; stroke: rgb(229, 236, 246); stroke-opacity: 1;\"/></g><g class=\"point\"><path d=\"M304.45,101.25V50.93H307.38V101.25Z\" style=\"vector-effect: non-scaling-stroke; opacity: 1; stroke-width: 0.5px; fill: rgb(99, 110, 250); fill-opacity: 1; stroke: rgb(229, 236, 246); stroke-opacity: 1;\"/></g><g class=\"point\"><path d=\"M308.11,101.25V43.58H311.04V101.25Z\" style=\"vector-effect: non-scaling-stroke; opacity: 1; stroke-width: 0.5px; fill: rgb(99, 110, 250); fill-opacity: 1; stroke: rgb(229, 236, 246); stroke-opacity: 1;\"/></g><g class=\"point\"><path d=\"M311.78,101.25V47.75H314.71V101.25Z\" style=\"vector-effect: non-scaling-stroke; opacity: 1; stroke-width: 0.5px; fill: rgb(99, 110, 250); fill-opacity: 1; stroke: rgb(229, 236, 246); stroke-opacity: 1;\"/></g><g class=\"point\"><path d=\"M315.44,101.25V41.11H318.37V101.25Z\" style=\"vector-effect: non-scaling-stroke; opacity: 1; stroke-width: 0.5px; fill: rgb(99, 110, 250); fill-opacity: 1; stroke: rgb(229, 236, 246); stroke-opacity: 1;\"/></g><g class=\"point\"><path d=\"M319.1,101.25V53.53H322.03V101.25Z\" style=\"vector-effect: non-scaling-stroke; opacity: 1; stroke-width: 0.5px; fill: rgb(99, 110, 250); fill-opacity: 1; stroke: rgb(229, 236, 246); stroke-opacity: 1;\"/></g><g class=\"point\"><path d=\"M322.77,101.25V55.54H325.7V101.25Z\" style=\"vector-effect: non-scaling-stroke; opacity: 1; stroke-width: 0.5px; fill: rgb(99, 110, 250); fill-opacity: 1; stroke: rgb(229, 236, 246); stroke-opacity: 1;\"/></g><g class=\"point\"><path d=\"M326.43,101.25V67.47H329.36V101.25Z\" style=\"vector-effect: non-scaling-stroke; opacity: 1; stroke-width: 0.5px; fill: rgb(99, 110, 250); fill-opacity: 1; stroke: rgb(229, 236, 246); stroke-opacity: 1;\"/></g><g class=\"point\"><path d=\"M330.09,101.25V54.06H333.02V101.25Z\" style=\"vector-effect: non-scaling-stroke; opacity: 1; stroke-width: 0.5px; fill: rgb(99, 110, 250); fill-opacity: 1; stroke: rgb(229, 236, 246); stroke-opacity: 1;\"/></g><g class=\"point\"><path d=\"M333.76,101.25V41.7H336.69V101.25Z\" style=\"vector-effect: non-scaling-stroke; opacity: 1; stroke-width: 0.5px; fill: rgb(99, 110, 250); fill-opacity: 1; stroke: rgb(229, 236, 246); stroke-opacity: 1;\"/></g><g class=\"point\"><path d=\"M337.42,101.25V24.88H340.35V101.25Z\" style=\"vector-effect: non-scaling-stroke; opacity: 1; stroke-width: 0.5px; fill: rgb(99, 110, 250); fill-opacity: 1; stroke: rgb(229, 236, 246); stroke-opacity: 1;\"/></g><g class=\"point\"><path d=\"M341.08,101.25V23.41H344.02V101.25Z\" style=\"vector-effect: non-scaling-stroke; opacity: 1; stroke-width: 0.5px; fill: rgb(99, 110, 250); fill-opacity: 1; stroke: rgb(229, 236, 246); stroke-opacity: 1;\"/></g><g class=\"point\"><path d=\"M344.75,101.25V5.06H347.68V101.25Z\" style=\"vector-effect: non-scaling-stroke; opacity: 1; stroke-width: 0.5px; fill: rgb(99, 110, 250); fill-opacity: 1; stroke: rgb(229, 236, 246); stroke-opacity: 1;\"/></g><g class=\"point\"><path d=\"M348.41,101.25V55.69H351.34V101.25Z\" style=\"vector-effect: non-scaling-stroke; opacity: 1; stroke-width: 0.5px; fill: rgb(99, 110, 250); fill-opacity: 1; stroke: rgb(229, 236, 246); stroke-opacity: 1;\"/></g><g class=\"point\"><path d=\"M352.08,101.25V65.85H355.01V101.25Z\" style=\"vector-effect: non-scaling-stroke; opacity: 1; stroke-width: 0.5px; fill: rgb(99, 110, 250); fill-opacity: 1; stroke: rgb(229, 236, 246); stroke-opacity: 1;\"/></g><g class=\"point\"><path d=\"M355.74,101.25V17.6H358.67V101.25Z\" style=\"vector-effect: non-scaling-stroke; opacity: 1; stroke-width: 0.5px; fill: rgb(99, 110, 250); fill-opacity: 1; stroke: rgb(229, 236, 246); stroke-opacity: 1;\"/></g><g class=\"point\"><path d=\"M359.4,101.25V18.48H362.33V101.25Z\" style=\"vector-effect: non-scaling-stroke; opacity: 1; stroke-width: 0.5px; fill: rgb(99, 110, 250); fill-opacity: 1; stroke: rgb(229, 236, 246); stroke-opacity: 1;\"/></g><g class=\"point\"><path d=\"M363.07,101.25V11.85H366V101.25Z\" style=\"vector-effect: non-scaling-stroke; opacity: 1; stroke-width: 0.5px; fill: rgb(99, 110, 250); fill-opacity: 1; stroke: rgb(229, 236, 246); stroke-opacity: 1;\"/></g><g class=\"point\"><path d=\"M366.73,101.25V12.13H369.66V101.25Z\" style=\"vector-effect: non-scaling-stroke; opacity: 1; stroke-width: 0.5px; fill: rgb(99, 110, 250); fill-opacity: 1; stroke: rgb(229, 236, 246); stroke-opacity: 1;\"/></g><g class=\"point\"><path d=\"M370.39,101.25V22.98H373.32V101.25Z\" style=\"vector-effect: non-scaling-stroke; opacity: 1; stroke-width: 0.5px; fill: rgb(99, 110, 250); fill-opacity: 1; stroke: rgb(229, 236, 246); stroke-opacity: 1;\"/></g><g class=\"point\"><path d=\"M374.06,101.25V46.58H376.99V101.25Z\" style=\"vector-effect: non-scaling-stroke; opacity: 1; stroke-width: 0.5px; fill: rgb(99, 110, 250); fill-opacity: 1; stroke: rgb(229, 236, 246); stroke-opacity: 1;\"/></g><g class=\"point\"><path d=\"M377.72,101.25V56H380.65V101.25Z\" style=\"vector-effect: non-scaling-stroke; opacity: 1; stroke-width: 0.5px; fill: rgb(99, 110, 250); fill-opacity: 1; stroke: rgb(229, 236, 246); stroke-opacity: 1;\"/></g><g class=\"point\"><path d=\"M381.38,101.25V8.48H384.32V101.25Z\" style=\"vector-effect: non-scaling-stroke; opacity: 1; stroke-width: 0.5px; fill: rgb(99, 110, 250); fill-opacity: 1; stroke: rgb(229, 236, 246); stroke-opacity: 1;\"/></g><g class=\"point\"><path d=\"M385.05,101.25V6.11H387.98V101.25Z\" style=\"vector-effect: non-scaling-stroke; opacity: 1; stroke-width: 0.5px; fill: rgb(99, 110, 250); fill-opacity: 1; stroke: rgb(229, 236, 246); stroke-opacity: 1;\"/></g><g class=\"point\"><path d=\"M388.71,101.25V13.34H391.64V101.25Z\" style=\"vector-effect: non-scaling-stroke; opacity: 1; stroke-width: 0.5px; fill: rgb(99, 110, 250); fill-opacity: 1; stroke: rgb(229, 236, 246); stroke-opacity: 1;\"/></g><g class=\"point\"><path d=\"M392.38,101.25V26.14H395.31V101.25Z\" style=\"vector-effect: non-scaling-stroke; opacity: 1; stroke-width: 0.5px; fill: rgb(99, 110, 250); fill-opacity: 1; stroke: rgb(229, 236, 246); stroke-opacity: 1;\"/></g><g class=\"point\"><path d=\"M396.04,101.25V38.51H398.97V101.25Z\" style=\"vector-effect: non-scaling-stroke; opacity: 1; stroke-width: 0.5px; fill: rgb(99, 110, 250); fill-opacity: 1; stroke: rgb(229, 236, 246); stroke-opacity: 1;\"/></g><g class=\"point\"><path d=\"M399.7,101.25V51.79H402.63V101.25Z\" style=\"vector-effect: non-scaling-stroke; opacity: 1; stroke-width: 0.5px; fill: rgb(99, 110, 250); fill-opacity: 1; stroke: rgb(229, 236, 246); stroke-opacity: 1;\"/></g></g></g></g></g><g class=\"overplot\"/><path class=\"xlines-above crisp\" d=\"M0,0\" style=\"fill: none;\"/><path class=\"ylines-above crisp\" d=\"M0,0\" style=\"fill: none;\"/><g class=\"overlines-above\"/><g class=\"xaxislayer-above\"><g class=\"xtick\"><text text-anchor=\"middle\" x=\"0\" y=\"216.25\" transform=\"translate(96.49,0)\" style=\"font-family: 'Courier New', monospace; font-size: 14px; fill: rgb(127, 127, 127); fill-opacity: 1; white-space: pre;\">Mar 2020</text></g><g class=\"xtick\"><text text-anchor=\"middle\" x=\"0\" y=\"216.25\" transform=\"translate(210.06,0)\" style=\"font-family: 'Courier New', monospace; font-size: 14px; fill: rgb(127, 127, 127); fill-opacity: 1; white-space: pre;\">Apr 2020</text></g><g class=\"xtick\"><text text-anchor=\"middle\" x=\"0\" y=\"216.25\" transform=\"translate(319.97,0)\" style=\"font-family: 'Courier New', monospace; font-size: 14px; fill: rgb(127, 127, 127); fill-opacity: 1; white-space: pre;\">May 2020</text></g><g class=\"xtick\"><text text-anchor=\"middle\" x=\"0\" y=\"216.25\" transform=\"translate(433.54,0)\" style=\"font-family: 'Courier New', monospace; font-size: 14px; fill: rgb(127, 127, 127); fill-opacity: 1; white-space: pre;\">Jun 2020</text></g></g><g class=\"yaxislayer-above\"><g class=\"ytick\"><text text-anchor=\"end\" x=\"79\" y=\"4.8999999999999995\" transform=\"translate(0,201.25)\" style=\"font-family: 'Courier New', monospace; font-size: 14px; fill: rgb(127, 127, 127); fill-opacity: 1; white-space: pre;\">0</text></g><g class=\"ytick\"><text text-anchor=\"end\" x=\"79\" y=\"4.8999999999999995\" transform=\"translate(0,172.34)\" style=\"font-family: 'Courier New', monospace; font-size: 14px; fill: rgb(127, 127, 127); fill-opacity: 1; white-space: pre;\">10k</text></g><g class=\"ytick\"><text text-anchor=\"end\" x=\"79\" y=\"4.8999999999999995\" transform=\"translate(0,143.43)\" style=\"font-family: 'Courier New', monospace; font-size: 14px; fill: rgb(127, 127, 127); fill-opacity: 1; white-space: pre;\">20k</text></g><g class=\"ytick\"><text text-anchor=\"end\" x=\"79\" y=\"4.8999999999999995\" transform=\"translate(0,114.53)\" style=\"font-family: 'Courier New', monospace; font-size: 14px; fill: rgb(127, 127, 127); fill-opacity: 1; white-space: pre;\">30k</text></g></g><g class=\"overaxes-above\"/></g><g class=\"subplot x2y2\"><g class=\"layer-subplot\"><g class=\"shapelayer\"/><g class=\"imagelayer\"/></g><g class=\"gridlayer\"><g class=\"x2\"/><g class=\"y2\"><path class=\"y2grid crisp\" transform=\"translate(0,337.35)\" d=\"M80,0h403\" style=\"stroke: rgb(255, 255, 255); stroke-opacity: 1; stroke-width: 1px;\"/><path class=\"y2grid crisp\" transform=\"translate(0,304.7)\" d=\"M80,0h403\" style=\"stroke: rgb(255, 255, 255); stroke-opacity: 1; stroke-width: 1px;\"/><path class=\"y2grid crisp\" transform=\"translate(0,272.05)\" d=\"M80,0h403\" style=\"stroke: rgb(255, 255, 255); stroke-opacity: 1; stroke-width: 1px;\"/></g></g><g class=\"zerolinelayer\"><path class=\"y2zl zl crisp\" transform=\"translate(0,370)\" d=\"M80,0h403\" style=\"stroke: rgb(255, 255, 255); stroke-opacity: 1; stroke-width: 2px;\"/></g><path class=\"xlines-below\"/><path class=\"ylines-below\"/><g class=\"overlines-below\"/><g class=\"xaxislayer-below\"/><g class=\"yaxislayer-below\"/><g class=\"overaxes-below\"/><g class=\"plot\" transform=\"translate(80, 268.75)\" clip-path=\"url('#clip79f2abx2y2plot')\"><g class=\"barlayer mlayer\"><g class=\"trace bars\" style=\"opacity: 1;\"><g class=\"points\"><g class=\"point\"><path d=\"M0.45,101.25V101.18H4.03V101.25Z\" style=\"vector-effect: non-scaling-stroke; opacity: 1; stroke-width: 0.5px; fill: rgb(239, 85, 59); fill-opacity: 1; stroke: rgb(229, 236, 246); stroke-opacity: 1;\"/></g><g class=\"point\"><path d=\"M4.93,101.25V101.05H8.51V101.25Z\" style=\"vector-effect: non-scaling-stroke; opacity: 1; stroke-width: 0.5px; fill: rgb(239, 85, 59); fill-opacity: 1; stroke: rgb(229, 236, 246); stroke-opacity: 1;\"/></g><g class=\"point\"><path d=\"M9.4,101.25V101.12H12.99V101.25Z\" style=\"vector-effect: non-scaling-stroke; opacity: 1; stroke-width: 0.5px; fill: rgb(239, 85, 59); fill-opacity: 1; stroke: rgb(229, 236, 246); stroke-opacity: 1;\"/></g><g class=\"point\"><path d=\"M13.88,101.25V100.92H17.46V101.25Z\" style=\"vector-effect: non-scaling-stroke; opacity: 1; stroke-width: 0.5px; fill: rgb(239, 85, 59); fill-opacity: 1; stroke: rgb(229, 236, 246); stroke-opacity: 1;\"/></g><g class=\"point\"><path d=\"M18.36,101.25V100.79H21.94V101.25Z\" style=\"vector-effect: non-scaling-stroke; opacity: 1; stroke-width: 0.5px; fill: rgb(239, 85, 59); fill-opacity: 1; stroke: rgb(229, 236, 246); stroke-opacity: 1;\"/></g><g class=\"point\"><path d=\"M22.84,101.25V100.79H26.42V101.25Z\" style=\"vector-effect: non-scaling-stroke; opacity: 1; stroke-width: 0.5px; fill: rgb(239, 85, 59); fill-opacity: 1; stroke: rgb(229, 236, 246); stroke-opacity: 1;\"/></g><g class=\"point\"><path d=\"M27.31,101.25V100.66H30.9V101.25Z\" style=\"vector-effect: non-scaling-stroke; opacity: 1; stroke-width: 0.5px; fill: rgb(239, 85, 59); fill-opacity: 1; stroke: rgb(229, 236, 246); stroke-opacity: 1;\"/></g><g class=\"point\"><path d=\"M31.79,101.25V100.47H35.37V101.25Z\" style=\"vector-effect: non-scaling-stroke; opacity: 1; stroke-width: 0.5px; fill: rgb(239, 85, 59); fill-opacity: 1; stroke: rgb(229, 236, 246); stroke-opacity: 1;\"/></g><g class=\"point\"><path d=\"M36.27,101.25V100.53H39.85V101.25Z\" style=\"vector-effect: non-scaling-stroke; opacity: 1; stroke-width: 0.5px; fill: rgb(239, 85, 59); fill-opacity: 1; stroke: rgb(229, 236, 246); stroke-opacity: 1;\"/></g><g class=\"point\"><path d=\"M40.75,101.25V99.94H44.33V101.25Z\" style=\"vector-effect: non-scaling-stroke; opacity: 1; stroke-width: 0.5px; fill: rgb(239, 85, 59); fill-opacity: 1; stroke: rgb(229, 236, 246); stroke-opacity: 1;\"/></g><g class=\"point\"><path d=\"M45.23,101.25V100.27H48.81V101.25Z\" style=\"vector-effect: non-scaling-stroke; opacity: 1; stroke-width: 0.5px; fill: rgb(239, 85, 59); fill-opacity: 1; stroke: rgb(229, 236, 246); stroke-opacity: 1;\"/></g><g class=\"point\"><path d=\"M49.7,101.25V99.81H53.29V101.25Z\" style=\"vector-effect: non-scaling-stroke; opacity: 1; stroke-width: 0.5px; fill: rgb(239, 85, 59); fill-opacity: 1; stroke: rgb(229, 236, 246); stroke-opacity: 1;\"/></g><g class=\"point\"><path d=\"M54.18,101.25V99.81H57.76V101.25Z\" style=\"vector-effect: non-scaling-stroke; opacity: 1; stroke-width: 0.5px; fill: rgb(239, 85, 59); fill-opacity: 1; stroke: rgb(229, 236, 246); stroke-opacity: 1;\"/></g><g class=\"point\"><path d=\"M58.66,101.25V99.75H62.24V101.25Z\" style=\"vector-effect: non-scaling-stroke; opacity: 1; stroke-width: 0.5px; fill: rgb(239, 85, 59); fill-opacity: 1; stroke: rgb(229, 236, 246); stroke-opacity: 1;\"/></g><g class=\"point\"><path d=\"M63.14,101.25V98.51H66.72V101.25Z\" style=\"vector-effect: non-scaling-stroke; opacity: 1; stroke-width: 0.5px; fill: rgb(239, 85, 59); fill-opacity: 1; stroke: rgb(229, 236, 246); stroke-opacity: 1;\"/></g><g class=\"point\"><path d=\"M67.61,101.25V98.64H71.2V101.25Z\" style=\"vector-effect: non-scaling-stroke; opacity: 1; stroke-width: 0.5px; fill: rgb(239, 85, 59); fill-opacity: 1; stroke: rgb(229, 236, 246); stroke-opacity: 1;\"/></g><g class=\"point\"><path d=\"M72.09,101.25V97.46H75.67V101.25Z\" style=\"vector-effect: non-scaling-stroke; opacity: 1; stroke-width: 0.5px; fill: rgb(239, 85, 59); fill-opacity: 1; stroke: rgb(229, 236, 246); stroke-opacity: 1;\"/></g><g class=\"point\"><path d=\"M76.57,101.25V97.33H80.15V101.25Z\" style=\"vector-effect: non-scaling-stroke; opacity: 1; stroke-width: 0.5px; fill: rgb(239, 85, 59); fill-opacity: 1; stroke: rgb(229, 236, 246); stroke-opacity: 1;\"/></g><g class=\"point\"><path d=\"M81.05,101.25V96.48H84.63V101.25Z\" style=\"vector-effect: non-scaling-stroke; opacity: 1; stroke-width: 0.5px; fill: rgb(239, 85, 59); fill-opacity: 1; stroke: rgb(229, 236, 246); stroke-opacity: 1;\"/></g><g class=\"point\"><path d=\"M85.53,101.25V97.72H89.11V101.25Z\" style=\"vector-effect: non-scaling-stroke; opacity: 1; stroke-width: 0.5px; fill: rgb(239, 85, 59); fill-opacity: 1; stroke: rgb(229, 236, 246); stroke-opacity: 1;\"/></g><g class=\"point\"><path d=\"M90,101.25V96.87H93.59V101.25Z\" style=\"vector-effect: non-scaling-stroke; opacity: 1; stroke-width: 0.5px; fill: rgb(239, 85, 59); fill-opacity: 1; stroke: rgb(229, 236, 246); stroke-opacity: 1;\"/></g><g class=\"point\"><path d=\"M94.48,101.25V93.81H98.06V101.25Z\" style=\"vector-effect: non-scaling-stroke; opacity: 1; stroke-width: 0.5px; fill: rgb(239, 85, 59); fill-opacity: 1; stroke: rgb(229, 236, 246); stroke-opacity: 1;\"/></g><g class=\"point\"><path d=\"M98.96,101.25V92.57H102.54V101.25Z\" style=\"vector-effect: non-scaling-stroke; opacity: 1; stroke-width: 0.5px; fill: rgb(239, 85, 59); fill-opacity: 1; stroke: rgb(229, 236, 246); stroke-opacity: 1;\"/></g><g class=\"point\"><path d=\"M103.44,101.25V92.04H107.02V101.25Z\" style=\"vector-effect: non-scaling-stroke; opacity: 1; stroke-width: 0.5px; fill: rgb(239, 85, 59); fill-opacity: 1; stroke: rgb(229, 236, 246); stroke-opacity: 1;\"/></g><g class=\"point\"><path d=\"M107.91,101.25V93.74H111.5V101.25Z\" style=\"vector-effect: non-scaling-stroke; opacity: 1; stroke-width: 0.5px; fill: rgb(239, 85, 59); fill-opacity: 1; stroke: rgb(229, 236, 246); stroke-opacity: 1;\"/></g><g class=\"point\"><path d=\"M112.39,101.25V96.81H115.97V101.25Z\" style=\"vector-effect: non-scaling-stroke; opacity: 1; stroke-width: 0.5px; fill: rgb(239, 85, 59); fill-opacity: 1; stroke: rgb(229, 236, 246); stroke-opacity: 1;\"/></g><g class=\"point\"><path d=\"M116.87,101.25V94.79H120.45V101.25Z\" style=\"vector-effect: non-scaling-stroke; opacity: 1; stroke-width: 0.5px; fill: rgb(239, 85, 59); fill-opacity: 1; stroke: rgb(229, 236, 246); stroke-opacity: 1;\"/></g><g class=\"point\"><path d=\"M121.35,101.25V94.39H124.93V101.25Z\" style=\"vector-effect: non-scaling-stroke; opacity: 1; stroke-width: 0.5px; fill: rgb(239, 85, 59); fill-opacity: 1; stroke: rgb(229, 236, 246); stroke-opacity: 1;\"/></g><g class=\"point\"><path d=\"M125.83,101.25V87.93H129.41V101.25Z\" style=\"vector-effect: non-scaling-stroke; opacity: 1; stroke-width: 0.5px; fill: rgb(239, 85, 59); fill-opacity: 1; stroke: rgb(229, 236, 246); stroke-opacity: 1;\"/></g><g class=\"point\"><path d=\"M130.3,101.25V87.93H133.89V101.25Z\" style=\"vector-effect: non-scaling-stroke; opacity: 1; stroke-width: 0.5px; fill: rgb(239, 85, 59); fill-opacity: 1; stroke: rgb(229, 236, 246); stroke-opacity: 1;\"/></g><g class=\"point\"><path d=\"M134.78,101.25V88.97H138.36V101.25Z\" style=\"vector-effect: non-scaling-stroke; opacity: 1; stroke-width: 0.5px; fill: rgb(239, 85, 59); fill-opacity: 1; stroke: rgb(229, 236, 246); stroke-opacity: 1;\"/></g><g class=\"point\"><path d=\"M139.26,101.25V87.08H142.84V101.25Z\" style=\"vector-effect: non-scaling-stroke; opacity: 1; stroke-width: 0.5px; fill: rgb(239, 85, 59); fill-opacity: 1; stroke: rgb(229, 236, 246); stroke-opacity: 1;\"/></g><g class=\"point\"><path d=\"M143.74,101.25V87.8H147.32V101.25Z\" style=\"vector-effect: non-scaling-stroke; opacity: 1; stroke-width: 0.5px; fill: rgb(239, 85, 59); fill-opacity: 1; stroke: rgb(229, 236, 246); stroke-opacity: 1;\"/></g><g class=\"point\"><path d=\"M148.21,101.25V93.74H151.8V101.25Z\" style=\"vector-effect: non-scaling-stroke; opacity: 1; stroke-width: 0.5px; fill: rgb(239, 85, 59); fill-opacity: 1; stroke: rgb(229, 236, 246); stroke-opacity: 1;\"/></g><g class=\"point\"><path d=\"M152.69,101.25V93.87H156.27V101.25Z\" style=\"vector-effect: non-scaling-stroke; opacity: 1; stroke-width: 0.5px; fill: rgb(239, 85, 59); fill-opacity: 1; stroke: rgb(229, 236, 246); stroke-opacity: 1;\"/></g><g class=\"point\"><path d=\"M157.17,101.25V90.41H160.75V101.25Z\" style=\"vector-effect: non-scaling-stroke; opacity: 1; stroke-width: 0.5px; fill: rgb(239, 85, 59); fill-opacity: 1; stroke: rgb(229, 236, 246); stroke-opacity: 1;\"/></g><g class=\"point\"><path d=\"M161.65,101.25V90.48H165.23V101.25Z\" style=\"vector-effect: non-scaling-stroke; opacity: 1; stroke-width: 0.5px; fill: rgb(239, 85, 59); fill-opacity: 1; stroke: rgb(229, 236, 246); stroke-opacity: 1;\"/></g><g class=\"point\"><path d=\"M166.13,101.25V74.67H169.71V101.25Z\" style=\"vector-effect: non-scaling-stroke; opacity: 1; stroke-width: 0.5px; fill: rgb(239, 85, 59); fill-opacity: 1; stroke: rgb(229, 236, 246); stroke-opacity: 1;\"/></g><g class=\"point\"><path d=\"M170.6,101.25V77.94H174.19V101.25Z\" style=\"vector-effect: non-scaling-stroke; opacity: 1; stroke-width: 0.5px; fill: rgb(239, 85, 59); fill-opacity: 1; stroke: rgb(229, 236, 246); stroke-opacity: 1;\"/></g><g class=\"point\"><path d=\"M175.08,101.25V78.66H178.66V101.25Z\" style=\"vector-effect: non-scaling-stroke; opacity: 1; stroke-width: 0.5px; fill: rgb(239, 85, 59); fill-opacity: 1; stroke: rgb(229, 236, 246); stroke-opacity: 1;\"/></g><g class=\"point\"><path d=\"M179.56,101.25V88.91H183.14V101.25Z\" style=\"vector-effect: non-scaling-stroke; opacity: 1; stroke-width: 0.5px; fill: rgb(239, 85, 59); fill-opacity: 1; stroke: rgb(229, 236, 246); stroke-opacity: 1;\"/></g><g class=\"point\"><path d=\"M184.04,101.25V79.18H187.62V101.25Z\" style=\"vector-effect: non-scaling-stroke; opacity: 1; stroke-width: 0.5px; fill: rgb(239, 85, 59); fill-opacity: 1; stroke: rgb(229, 236, 246); stroke-opacity: 1;\"/></g><g class=\"point\"><path d=\"M188.51,101.25V70.3H192.1V101.25Z\" style=\"vector-effect: non-scaling-stroke; opacity: 1; stroke-width: 0.5px; fill: rgb(239, 85, 59); fill-opacity: 1; stroke: rgb(229, 236, 246); stroke-opacity: 1;\"/></g><g class=\"point\"><path d=\"M192.99,101.25V71.93H196.57V101.25Z\" style=\"vector-effect: non-scaling-stroke; opacity: 1; stroke-width: 0.5px; fill: rgb(239, 85, 59); fill-opacity: 1; stroke: rgb(229, 236, 246); stroke-opacity: 1;\"/></g><g class=\"point\"><path d=\"M197.47,101.25V72.84H201.05V101.25Z\" style=\"vector-effect: non-scaling-stroke; opacity: 1; stroke-width: 0.5px; fill: rgb(239, 85, 59); fill-opacity: 1; stroke: rgb(229, 236, 246); stroke-opacity: 1;\"/></g><g class=\"point\"><path d=\"M201.95,101.25V73.3H205.53V101.25Z\" style=\"vector-effect: non-scaling-stroke; opacity: 1; stroke-width: 0.5px; fill: rgb(239, 85, 59); fill-opacity: 1; stroke: rgb(229, 236, 246); stroke-opacity: 1;\"/></g><g class=\"point\"><path d=\"M206.43,101.25V75.46H210.01V101.25Z\" style=\"vector-effect: non-scaling-stroke; opacity: 1; stroke-width: 0.5px; fill: rgb(239, 85, 59); fill-opacity: 1; stroke: rgb(229, 236, 246); stroke-opacity: 1;\"/></g><g class=\"point\"><path d=\"M210.9,101.25V81.59H214.49V101.25Z\" style=\"vector-effect: non-scaling-stroke; opacity: 1; stroke-width: 0.5px; fill: rgb(239, 85, 59); fill-opacity: 1; stroke: rgb(229, 236, 246); stroke-opacity: 1;\"/></g><g class=\"point\"><path d=\"M215.38,101.25V81.92H218.96V101.25Z\" style=\"vector-effect: non-scaling-stroke; opacity: 1; stroke-width: 0.5px; fill: rgb(239, 85, 59); fill-opacity: 1; stroke: rgb(229, 236, 246); stroke-opacity: 1;\"/></g><g class=\"point\"><path d=\"M219.86,101.25V62.07H223.44V101.25Z\" style=\"vector-effect: non-scaling-stroke; opacity: 1; stroke-width: 0.5px; fill: rgb(239, 85, 59); fill-opacity: 1; stroke: rgb(229, 236, 246); stroke-opacity: 1;\"/></g><g class=\"point\"><path d=\"M224.34,101.25V61.16H227.92V101.25Z\" style=\"vector-effect: non-scaling-stroke; opacity: 1; stroke-width: 0.5px; fill: rgb(239, 85, 59); fill-opacity: 1; stroke: rgb(229, 236, 246); stroke-opacity: 1;\"/></g><g class=\"point\"><path d=\"M228.81,101.25V61.35H232.4V101.25Z\" style=\"vector-effect: non-scaling-stroke; opacity: 1; stroke-width: 0.5px; fill: rgb(239, 85, 59); fill-opacity: 1; stroke: rgb(229, 236, 246); stroke-opacity: 1;\"/></g><g class=\"point\"><path d=\"M233.29,101.25V52.34H236.87V101.25Z\" style=\"vector-effect: non-scaling-stroke; opacity: 1; stroke-width: 0.5px; fill: rgb(239, 85, 59); fill-opacity: 1; stroke: rgb(229, 236, 246); stroke-opacity: 1;\"/></g><g class=\"point\"><path d=\"M237.77,101.25V53.45H241.35V101.25Z\" style=\"vector-effect: non-scaling-stroke; opacity: 1; stroke-width: 0.5px; fill: rgb(239, 85, 59); fill-opacity: 1; stroke: rgb(229, 236, 246); stroke-opacity: 1;\"/></g><g class=\"point\"><path d=\"M242.25,101.25V68.86H245.83V101.25Z\" style=\"vector-effect: non-scaling-stroke; opacity: 1; stroke-width: 0.5px; fill: rgb(239, 85, 59); fill-opacity: 1; stroke: rgb(229, 236, 246); stroke-opacity: 1;\"/></g><g class=\"point\"><path d=\"M246.73,101.25V75.39H250.31V101.25Z\" style=\"vector-effect: non-scaling-stroke; opacity: 1; stroke-width: 0.5px; fill: rgb(239, 85, 59); fill-opacity: 1; stroke: rgb(229, 236, 246); stroke-opacity: 1;\"/></g><g class=\"point\"><path d=\"M251.2,101.25V43.72H254.79V101.25Z\" style=\"vector-effect: non-scaling-stroke; opacity: 1; stroke-width: 0.5px; fill: rgb(239, 85, 59); fill-opacity: 1; stroke: rgb(229, 236, 246); stroke-opacity: 1;\"/></g><g class=\"point\"><path d=\"M255.68,101.25V52.34H259.26V101.25Z\" style=\"vector-effect: non-scaling-stroke; opacity: 1; stroke-width: 0.5px; fill: rgb(239, 85, 59); fill-opacity: 1; stroke: rgb(229, 236, 246); stroke-opacity: 1;\"/></g><g class=\"point\"><path d=\"M260.16,101.25V46.14H263.74V101.25Z\" style=\"vector-effect: non-scaling-stroke; opacity: 1; stroke-width: 0.5px; fill: rgb(239, 85, 59); fill-opacity: 1; stroke: rgb(229, 236, 246); stroke-opacity: 1;\"/></g><g class=\"point\"><path d=\"M264.64,101.25V47.44H268.22V101.25Z\" style=\"vector-effect: non-scaling-stroke; opacity: 1; stroke-width: 0.5px; fill: rgb(239, 85, 59); fill-opacity: 1; stroke: rgb(229, 236, 246); stroke-opacity: 1;\"/></g><g class=\"point\"><path d=\"M269.11,101.25V47.96H272.7V101.25Z\" style=\"vector-effect: non-scaling-stroke; opacity: 1; stroke-width: 0.5px; fill: rgb(239, 85, 59); fill-opacity: 1; stroke: rgb(229, 236, 246); stroke-opacity: 1;\"/></g><g class=\"point\"><path d=\"M273.59,101.25V69.58H277.17V101.25Z\" style=\"vector-effect: non-scaling-stroke; opacity: 1; stroke-width: 0.5px; fill: rgb(239, 85, 59); fill-opacity: 1; stroke: rgb(229, 236, 246); stroke-opacity: 1;\"/></g><g class=\"point\"><path d=\"M278.07,101.25V57.24H281.65V101.25Z\" style=\"vector-effect: non-scaling-stroke; opacity: 1; stroke-width: 0.5px; fill: rgb(239, 85, 59); fill-opacity: 1; stroke: rgb(229, 236, 246); stroke-opacity: 1;\"/></g><g class=\"point\"><path d=\"M282.55,101.25V24.26H286.13V101.25Z\" style=\"vector-effect: non-scaling-stroke; opacity: 1; stroke-width: 0.5px; fill: rgb(239, 85, 59); fill-opacity: 1; stroke: rgb(229, 236, 246); stroke-opacity: 1;\"/></g><g class=\"point\"><path d=\"M287.03,101.25V43.26H290.61V101.25Z\" style=\"vector-effect: non-scaling-stroke; opacity: 1; stroke-width: 0.5px; fill: rgb(239, 85, 59); fill-opacity: 1; stroke: rgb(229, 236, 246); stroke-opacity: 1;\"/></g><g class=\"point\"><path d=\"M291.5,101.25V23.67H295.09V101.25Z\" style=\"vector-effect: non-scaling-stroke; opacity: 1; stroke-width: 0.5px; fill: rgb(239, 85, 59); fill-opacity: 1; stroke: rgb(229, 236, 246); stroke-opacity: 1;\"/></g><g class=\"point\"><path d=\"M295.98,101.25V36.01H299.56V101.25Z\" style=\"vector-effect: non-scaling-stroke; opacity: 1; stroke-width: 0.5px; fill: rgb(239, 85, 59); fill-opacity: 1; stroke: rgb(229, 236, 246); stroke-opacity: 1;\"/></g><g class=\"point\"><path d=\"M300.46,101.25V38.1H304.04V101.25Z\" style=\"vector-effect: non-scaling-stroke; opacity: 1; stroke-width: 0.5px; fill: rgb(239, 85, 59); fill-opacity: 1; stroke: rgb(229, 236, 246); stroke-opacity: 1;\"/></g><g class=\"point\"><path d=\"M304.94,101.25V58.61H308.52V101.25Z\" style=\"vector-effect: non-scaling-stroke; opacity: 1; stroke-width: 0.5px; fill: rgb(239, 85, 59); fill-opacity: 1; stroke: rgb(229, 236, 246); stroke-opacity: 1;\"/></g><g class=\"point\"><path d=\"M309.41,101.25V48.55H313V101.25Z\" style=\"vector-effect: non-scaling-stroke; opacity: 1; stroke-width: 0.5px; fill: rgb(239, 85, 59); fill-opacity: 1; stroke: rgb(229, 236, 246); stroke-opacity: 1;\"/></g><g class=\"point\"><path d=\"M313.89,101.25V33.4H317.47V101.25Z\" style=\"vector-effect: non-scaling-stroke; opacity: 1; stroke-width: 0.5px; fill: rgb(239, 85, 59); fill-opacity: 1; stroke: rgb(229, 236, 246); stroke-opacity: 1;\"/></g><g class=\"point\"><path d=\"M318.37,101.25V30.33H321.95V101.25Z\" style=\"vector-effect: non-scaling-stroke; opacity: 1; stroke-width: 0.5px; fill: rgb(239, 85, 59); fill-opacity: 1; stroke: rgb(229, 236, 246); stroke-opacity: 1;\"/></g><g class=\"point\"><path d=\"M322.85,101.25V25.76H326.43V101.25Z\" style=\"vector-effect: non-scaling-stroke; opacity: 1; stroke-width: 0.5px; fill: rgb(239, 85, 59); fill-opacity: 1; stroke: rgb(229, 236, 246); stroke-opacity: 1;\"/></g><g class=\"point\"><path d=\"M327.33,101.25V27.85H330.91V101.25Z\" style=\"vector-effect: non-scaling-stroke; opacity: 1; stroke-width: 0.5px; fill: rgb(239, 85, 59); fill-opacity: 1; stroke: rgb(229, 236, 246); stroke-opacity: 1;\"/></g><g class=\"point\"><path d=\"M331.8,101.25V38.82H335.39V101.25Z\" style=\"vector-effect: non-scaling-stroke; opacity: 1; stroke-width: 0.5px; fill: rgb(239, 85, 59); fill-opacity: 1; stroke: rgb(229, 236, 246); stroke-opacity: 1;\"/></g><g class=\"point\"><path d=\"M336.28,101.25V69.91H339.86V101.25Z\" style=\"vector-effect: non-scaling-stroke; opacity: 1; stroke-width: 0.5px; fill: rgb(239, 85, 59); fill-opacity: 1; stroke: rgb(229, 236, 246); stroke-opacity: 1;\"/></g><g class=\"point\"><path d=\"M340.76,101.25V60.57H344.34V101.25Z\" style=\"vector-effect: non-scaling-stroke; opacity: 1; stroke-width: 0.5px; fill: rgb(239, 85, 59); fill-opacity: 1; stroke: rgb(229, 236, 246); stroke-opacity: 1;\"/></g><g class=\"point\"><path d=\"M345.24,101.25V18.84H348.82V101.25Z\" style=\"vector-effect: non-scaling-stroke; opacity: 1; stroke-width: 0.5px; fill: rgb(239, 85, 59); fill-opacity: 1; stroke: rgb(229, 236, 246); stroke-opacity: 1;\"/></g><g class=\"point\"><path d=\"M349.71,101.25V13.16H353.3V101.25Z\" style=\"vector-effect: non-scaling-stroke; opacity: 1; stroke-width: 0.5px; fill: rgb(239, 85, 59); fill-opacity: 1; stroke: rgb(229, 236, 246); stroke-opacity: 1;\"/></g><g class=\"point\"><path d=\"M354.19,101.25V5.06H357.77V101.25Z\" style=\"vector-effect: non-scaling-stroke; opacity: 1; stroke-width: 0.5px; fill: rgb(239, 85, 59); fill-opacity: 1; stroke: rgb(229, 236, 246); stroke-opacity: 1;\"/></g><g class=\"point\"><path d=\"M358.67,101.25V35.62H362.25V101.25Z\" style=\"vector-effect: non-scaling-stroke; opacity: 1; stroke-width: 0.5px; fill: rgb(239, 85, 59); fill-opacity: 1; stroke: rgb(229, 236, 246); stroke-opacity: 1;\"/></g><g class=\"point\"><path d=\"M363.15,101.25V42.22H366.73V101.25Z\" style=\"vector-effect: non-scaling-stroke; opacity: 1; stroke-width: 0.5px; fill: rgb(239, 85, 59); fill-opacity: 1; stroke: rgb(229, 236, 246); stroke-opacity: 1;\"/></g><g class=\"point\"><path d=\"M367.63,101.25V66.97H371.21V101.25Z\" style=\"vector-effect: non-scaling-stroke; opacity: 1; stroke-width: 0.5px; fill: rgb(239, 85, 59); fill-opacity: 1; stroke: rgb(229, 236, 246); stroke-opacity: 1;\"/></g><g class=\"point\"><path d=\"M372.1,101.25V56.91H375.69V101.25Z\" style=\"vector-effect: non-scaling-stroke; opacity: 1; stroke-width: 0.5px; fill: rgb(239, 85, 59); fill-opacity: 1; stroke: rgb(229, 236, 246); stroke-opacity: 1;\"/></g><g class=\"point\"><path d=\"M376.58,101.25V18.19H380.16V101.25Z\" style=\"vector-effect: non-scaling-stroke; opacity: 1; stroke-width: 0.5px; fill: rgb(239, 85, 59); fill-opacity: 1; stroke: rgb(229, 236, 246); stroke-opacity: 1;\"/></g><g class=\"point\"><path d=\"M381.06,101.25V18.06H384.64V101.25Z\" style=\"vector-effect: non-scaling-stroke; opacity: 1; stroke-width: 0.5px; fill: rgb(239, 85, 59); fill-opacity: 1; stroke: rgb(229, 236, 246); stroke-opacity: 1;\"/></g><g class=\"point\"><path d=\"M385.54,101.25V20.34H389.12V101.25Z\" style=\"vector-effect: non-scaling-stroke; opacity: 1; stroke-width: 0.5px; fill: rgb(239, 85, 59); fill-opacity: 1; stroke: rgb(229, 236, 246); stroke-opacity: 1;\"/></g><g class=\"point\"><path d=\"M390.01,101.25V41.89H393.6V101.25Z\" style=\"vector-effect: non-scaling-stroke; opacity: 1; stroke-width: 0.5px; fill: rgb(239, 85, 59); fill-opacity: 1; stroke: rgb(229, 236, 246); stroke-opacity: 1;\"/></g><g class=\"point\"><path d=\"M394.49,101.25V43H398.07V101.25Z\" style=\"vector-effect: non-scaling-stroke; opacity: 1; stroke-width: 0.5px; fill: rgb(239, 85, 59); fill-opacity: 1; stroke: rgb(229, 236, 246); stroke-opacity: 1;\"/></g><g class=\"point\"><path d=\"M398.97,101.25V61.29H402.55V101.25Z\" style=\"vector-effect: non-scaling-stroke; opacity: 1; stroke-width: 0.5px; fill: rgb(239, 85, 59); fill-opacity: 1; stroke: rgb(229, 236, 246); stroke-opacity: 1;\"/></g></g></g></g></g><g class=\"overplot\"/><path class=\"xlines-above crisp\" d=\"M0,0\" style=\"fill: none;\"/><path class=\"ylines-above crisp\" d=\"M0,0\" style=\"fill: none;\"/><g class=\"overlines-above\"/><g class=\"xaxislayer-above\"><g class=\"x2tick\"><text text-anchor=\"middle\" x=\"0\" y=\"385\" transform=\"translate(135.97,0)\" style=\"font-family: 'Courier New', monospace; font-size: 14px; fill: rgb(127, 127, 127); fill-opacity: 1; white-space: pre;\"><tspan class=\"line\" dy=\"0em\" x=\"0\" y=\"385\">Mar 29</tspan><tspan class=\"line\" dy=\"1.3em\" x=\"0\" y=\"385\">2020</tspan></text></g><g class=\"x2tick\"><text text-anchor=\"middle\" x=\"0\" y=\"385\" transform=\"translate(198.66,0)\" style=\"font-family: 'Courier New', monospace; font-size: 14px; fill: rgb(127, 127, 127); fill-opacity: 1; white-space: pre;\">Apr 12</text></g><g class=\"x2tick\"><text text-anchor=\"middle\" x=\"0\" y=\"385\" transform=\"translate(261.35,0)\" style=\"font-family: 'Courier New', monospace; font-size: 14px; fill: rgb(127, 127, 127); fill-opacity: 1; white-space: pre;\">Apr 26</text></g><g class=\"x2tick\"><text text-anchor=\"middle\" x=\"0\" y=\"385\" transform=\"translate(324.03999999999996,0)\" style=\"font-family: 'Courier New', monospace; font-size: 14px; fill: rgb(127, 127, 127); fill-opacity: 1; white-space: pre;\">May 10</text></g><g class=\"x2tick\"><text text-anchor=\"middle\" x=\"0\" y=\"385\" transform=\"translate(386.73,0)\" style=\"font-family: 'Courier New', monospace; font-size: 14px; fill: rgb(127, 127, 127); fill-opacity: 1; white-space: pre;\">May 24</text></g><g class=\"x2tick\"><text text-anchor=\"middle\" x=\"0\" y=\"385\" transform=\"translate(449.42,0)\" style=\"font-family: 'Courier New', monospace; font-size: 14px; fill: rgb(127, 127, 127); fill-opacity: 1; white-space: pre;\">Jun 7</text></g></g><g class=\"yaxislayer-above\"><g class=\"y2tick\"><text text-anchor=\"end\" x=\"79\" y=\"4.8999999999999995\" transform=\"translate(0,370)\" style=\"font-family: 'Courier New', monospace; font-size: 14px; fill: rgb(127, 127, 127); fill-opacity: 1; white-space: pre;\">0</text></g><g class=\"y2tick\"><text text-anchor=\"end\" x=\"79\" y=\"4.8999999999999995\" transform=\"translate(0,337.35)\" style=\"font-family: 'Courier New', monospace; font-size: 14px; fill: rgb(127, 127, 127); fill-opacity: 1; white-space: pre;\">500</text></g><g class=\"y2tick\"><text text-anchor=\"end\" x=\"79\" y=\"4.8999999999999995\" transform=\"translate(0,304.7)\" style=\"font-family: 'Courier New', monospace; font-size: 14px; fill: rgb(127, 127, 127); fill-opacity: 1; white-space: pre;\">1000</text></g><g class=\"y2tick\"><text text-anchor=\"end\" x=\"79\" y=\"4.8999999999999995\" transform=\"translate(0,272.05)\" style=\"font-family: 'Courier New', monospace; font-size: 14px; fill: rgb(127, 127, 127); fill-opacity: 1; white-space: pre;\">1500</text></g></g><g class=\"overaxes-above\"/></g></g><g class=\"polarlayer\"/><g class=\"ternarylayer\"/><g class=\"geolayer\"/><g class=\"funnelarealayer\"/><g class=\"pielayer\"/><g class=\"treemaplayer\"/><g class=\"sunburstlayer\"/><g class=\"glimages\"/><defs id=\"topdefs-79f2ab\"><g class=\"clips\"/><clipPath id=\"legend79f2ab\"><rect width=\"197\" height=\"53\" x=\"0\" y=\"0\"/></clipPath></defs><g class=\"layer-above\"><g class=\"imagelayer\"/><g class=\"shapelayer\"/></g><g class=\"infolayer\"><g class=\"legend\" pointer-events=\"all\" transform=\"translate(491.06, 100)\"><rect class=\"bg\" shape-rendering=\"crispEdges\" style=\"stroke: rgb(68, 68, 68); stroke-opacity: 1; fill: rgb(255, 255, 255); fill-opacity: 1; stroke-width: 0px;\" width=\"197\" height=\"53\" x=\"0\" y=\"0\"/><g class=\"scrollbox\" transform=\"translate(0, 0)\" clip-path=\"url('#legend79f2ab')\"><g class=\"groups\"><g class=\"traces\" transform=\"translate(0, 15.6)\" style=\"opacity: 1;\"><text class=\"legendtext user-select-none\" text-anchor=\"start\" x=\"40\" y=\"5.46\" style=\"font-family: 'Courier New', monospace; font-size: 14px; fill: rgb(127, 127, 127); fill-opacity: 1; white-space: pre;\">Nº de novos casos</text><g class=\"layers\" style=\"opacity: 1;\"><g class=\"legendfill\"/><g class=\"legendlines\"/><g class=\"legendsymbols\"><g class=\"legendpoints\"><path class=\"legendundefined\" d=\"M6,6H-6V-6H6Z\" transform=\"translate(20,0)\" style=\"stroke-width: 0.5px; fill: rgb(99, 110, 250); fill-opacity: 1; stroke: rgb(229, 236, 246); stroke-opacity: 1;\"/></g></g></g><rect class=\"legendtoggle\" pointer-events=\"all\" x=\"0\" y=\"-10.6\" width=\"191.21875\" height=\"21.2\" style=\"cursor: pointer; fill: rgb(0, 0, 0); fill-opacity: 0;\"/></g><g class=\"traces\" transform=\"translate(0, 36.8)\" style=\"opacity: 1;\"><text class=\"legendtext user-select-none\" text-anchor=\"start\" x=\"40\" y=\"5.46\" style=\"font-family: 'Courier New', monospace; font-size: 14px; fill: rgb(127, 127, 127); fill-opacity: 1; white-space: pre;\">Nº de novos óbitos</text><g class=\"layers\" style=\"opacity: 1;\"><g class=\"legendfill\"/><g class=\"legendlines\"/><g class=\"legendsymbols\"><g class=\"legendpoints\"><path class=\"legendundefined\" d=\"M6,6H-6V-6H6Z\" transform=\"translate(20,0)\" style=\"stroke-width: 0.5px; fill: rgb(239, 85, 59); fill-opacity: 1; stroke: rgb(229, 236, 246); stroke-opacity: 1;\"/></g></g></g><rect class=\"legendtoggle\" pointer-events=\"all\" x=\"0\" y=\"-10.6\" width=\"191.21875\" height=\"21.2\" style=\"cursor: pointer; fill: rgb(0, 0, 0); fill-opacity: 0;\"/></g></g></g><rect class=\"scrollbar\" rx=\"20\" ry=\"3\" width=\"0\" height=\"0\" style=\"fill: rgb(128, 139, 164); fill-opacity: 1;\" x=\"0\" y=\"0\"/></g><g class=\"g-gtitle\"/><g class=\"g-xtitle\"/><g class=\"g-x2title\"/><g class=\"g-ytitle\"/><g class=\"g-y2title\"/><g class=\"annotation\" data-index=\"0\" style=\"opacity: 1;\"><g class=\"annotation-text-g\" transform=\"rotate(0,281.5,89)\"><g class=\"cursor-pointer\" transform=\"translate(169, 78)\"><rect class=\"bg\" x=\"0.5\" y=\"0.5\" width=\"224\" height=\"21\" style=\"stroke-width: 1px; stroke: rgb(0, 0, 0); stroke-opacity: 0; fill: rgb(0, 0, 0); fill-opacity: 0;\"/><text class=\"annotation-text\" text-anchor=\"middle\" x=\"112.40625\" y=\"15\" style=\"font-family: 'Courier New', monospace; font-size: 16px; fill: rgb(127, 127, 127); fill-opacity: 1; white-space: pre;\">Aumento Diário de Casos</text></g></g></g><g class=\"annotation\" data-index=\"1\" style=\"opacity: 1;\"><g class=\"annotation-text-g\" transform=\"rotate(0,281.5,257.25)\"><g class=\"cursor-pointer\" transform=\"translate(165, 246)\"><rect class=\"bg\" x=\"0.5\" y=\"0.5\" width=\"233\" height=\"22\" style=\"stroke-width: 1px; stroke: rgb(0, 0, 0); stroke-opacity: 0; fill: rgb(0, 0, 0); fill-opacity: 0;\"/><text class=\"annotation-text\" text-anchor=\"middle\" x=\"117.21875\" y=\"16\" style=\"font-family: 'Courier New', monospace; font-size: 16px; fill: rgb(127, 127, 127); fill-opacity: 1; white-space: pre;\">Aumento Diário de Óbitos</text></g></g></g></g></svg>"
          },
          "metadata": {}
        }
      ]
    },
    {
      "cell_type": "markdown",
      "metadata": {
        "id": "37B4IUd61INl",
        "colab_type": "text"
      },
      "source": [
        "Conseguimos ver que quanto ao gráfico da taxa de novos casos, até recentemente continua a aumentar o recorde diário de casos. Isto pode indicar vários fatores, nomeadamente o aumento da realização de testes.\n",
        "\n",
        "Quanto ao gráfico da taxa de novos óbitos, é normal que acompanhe a tendência do primeiro. Pois quantas mais pessoas ficam infetadas, mais o nº diário de óbitos irá aumentar."
      ]
    },
    {
      "cell_type": "markdown",
      "metadata": {
        "id": "_KiWNifC2sic",
        "colab_type": "text"
      },
      "source": [
        "Na computação seguinte é investigada a divisão dos dados por estados, em termos de casos e óbitos."
      ]
    },
    {
      "cell_type": "code",
      "metadata": {
        "id": "CMwGb84K457u",
        "colab_type": "code",
        "outputId": "4e48bab6-7fd0-4004-a31f-9595c2f6b9b6",
        "colab": {
          "base_uri": "https://localhost:8080/",
          "height": 617
        }
      },
      "source": [
        "# Data mais recente do dataset\n",
        "last_date = data['date'].tail(1).item()\n",
        "\n",
        "# Casos e mortes por estado, para a última data do dataset\n",
        "data_by_state = data[['cases','deaths']][data['date']==last_date].groupby(data['state']).sum().sort_values(by = 'cases', ascending=False)\n",
        "\n",
        "# Plot\n",
        "layout = Layout(\n",
        "    title=\"Casos e Óbitos por Estado\",\n",
        "    font=dict(\n",
        "        family=\"Courier New, monospace\",\n",
        "        size=14,\n",
        "        color=\"#7f7f7f\"\n",
        "    ),\n",
        "    height=600\n",
        ")\n",
        "\n",
        "fig = go.Figure(data=[\n",
        "    \n",
        "    go.Bar(name='Nº Casos'\n",
        "           , x=data_by_state.index\n",
        "           , y=data_by_state['cases']\n",
        "           ),\n",
        "    \n",
        "    go.Bar(name='Nº Óbitos'\n",
        "           , x=data_by_state.index\n",
        "           , y=data_by_state['deaths']\n",
        "           , text=data_by_state['deaths']\n",
        "           , textposition='outside')\n",
        "])\n",
        "\n",
        "fig.update_layout(barmode='stack')\n",
        "fig['layout'].update(layout)\n",
        "\n",
        "fig.show()"
      ],
      "execution_count": 13,
      "outputs": [
        {
          "output_type": "display_data",
          "data": {
            "image/svg+xml": "<svg class=\"main-svg\" xmlns=\"http://www.w3.org/2000/svg\" xmlns:xlink=\"http://www.w3.org/1999/xlink\" width=\"700\" height=\"450\" viewBox=\"0 0 700 450\"><rect x=\"0\" y=\"0\" width=\"700\" height=\"450\" style=\"fill: rgb(255, 255, 255); fill-opacity: 1;\"/><defs id=\"defs-3e8196\"><g class=\"clips\"><clipPath id=\"clip3e8196xyplot\" class=\"plotclip\"><rect width=\"477\" height=\"270\"/></clipPath><clipPath class=\"axesclip\" id=\"clip3e8196x\"><rect x=\"80\" y=\"0\" width=\"477\" height=\"450\"/></clipPath><clipPath class=\"axesclip\" id=\"clip3e8196y\"><rect x=\"0\" y=\"100\" width=\"700\" height=\"270\"/></clipPath><clipPath class=\"axesclip\" id=\"clip3e8196xy\"><rect x=\"80\" y=\"100\" width=\"477\" height=\"270\"/></clipPath></g><g class=\"gradients\"/></defs><g class=\"bglayer\"><rect class=\"bg\" x=\"80\" y=\"100\" width=\"477\" height=\"270\" style=\"fill: rgb(229, 236, 246); fill-opacity: 1; stroke-width: 0;\"/></g><g class=\"layer-below\"><g class=\"imagelayer\"/><g class=\"shapelayer\"/></g><g class=\"cartesianlayer\"><g class=\"subplot xy\"><g class=\"layer-subplot\"><g class=\"shapelayer\"/><g class=\"imagelayer\"/></g><g class=\"gridlayer\"><g class=\"x\"/><g class=\"y\"><path class=\"ygrid crisp\" transform=\"translate(0,302.11)\" d=\"M80,0h477\" style=\"stroke: rgb(255, 255, 255); stroke-opacity: 1; stroke-width: 1px;\"/><path class=\"ygrid crisp\" transform=\"translate(0,234.21)\" d=\"M80,0h477\" style=\"stroke: rgb(255, 255, 255); stroke-opacity: 1; stroke-width: 1px;\"/><path class=\"ygrid crisp\" transform=\"translate(0,166.32)\" d=\"M80,0h477\" style=\"stroke: rgb(255, 255, 255); stroke-opacity: 1; stroke-width: 1px;\"/></g></g><g class=\"zerolinelayer\"><path class=\"yzl zl crisp\" transform=\"translate(0,370)\" d=\"M80,0h477\" style=\"stroke: rgb(255, 255, 255); stroke-opacity: 1; stroke-width: 2px;\"/></g><path class=\"xlines-below\"/><path class=\"ylines-below\"/><g class=\"overlines-below\"/><g class=\"xaxislayer-below\"/><g class=\"yaxislayer-below\"/><g class=\"overaxes-below\"/><g class=\"plot\" transform=\"translate(80, 100)\" clip-path=\"url('#clip3e8196xyplot')\"><g class=\"barlayer mlayer\"><g class=\"trace bars\" shape-rendering=\"crispEdges\" style=\"opacity: 1;\"><g class=\"points\"><g class=\"point\"><path d=\"M1.77,270V28.02H15.9V270Z\" style=\"vector-effect: non-scaling-stroke; opacity: 1; stroke-width: 0.5px; fill: rgb(99, 110, 250); fill-opacity: 1; stroke: rgb(229, 236, 246); stroke-opacity: 1;\"/></g><g class=\"point\"><path d=\"M19.43,270V161.95H33.57V270Z\" style=\"vector-effect: non-scaling-stroke; opacity: 1; stroke-width: 0.5px; fill: rgb(99, 110, 250); fill-opacity: 1; stroke: rgb(229, 236, 246); stroke-opacity: 1;\"/></g><g class=\"point\"><path d=\"M37.1,270V165.78H51.23V270Z\" style=\"vector-effect: non-scaling-stroke; opacity: 1; stroke-width: 0.5px; fill: rgb(99, 110, 250); fill-opacity: 1; stroke: rgb(229, 236, 246); stroke-opacity: 1;\"/></g><g class=\"point\"><path d=\"M54.77,270V176.06H68.9V270Z\" style=\"vector-effect: non-scaling-stroke; opacity: 1; stroke-width: 0.5px; fill: rgb(99, 110, 250); fill-opacity: 1; stroke: rgb(229, 236, 246); stroke-opacity: 1;\"/></g><g class=\"point\"><path d=\"M72.43,270V188.73H86.57V270Z\" style=\"vector-effect: non-scaling-stroke; opacity: 1; stroke-width: 0.5px; fill: rgb(99, 110, 250); fill-opacity: 1; stroke: rgb(229, 236, 246); stroke-opacity: 1;\"/></g><g class=\"point\"><path d=\"M90.1,270V193.27H104.23V270Z\" style=\"vector-effect: non-scaling-stroke; opacity: 1; stroke-width: 0.5px; fill: rgb(99, 110, 250); fill-opacity: 1; stroke: rgb(229, 236, 246); stroke-opacity: 1;\"/></g><g class=\"point\"><path d=\"M107.77,270V208.54H121.9V270Z\" style=\"vector-effect: non-scaling-stroke; opacity: 1; stroke-width: 0.5px; fill: rgb(99, 110, 250); fill-opacity: 1; stroke: rgb(229, 236, 246); stroke-opacity: 1;\"/></g><g class=\"point\"><path d=\"M125.43,270V220.57H139.57V270Z\" style=\"vector-effect: non-scaling-stroke; opacity: 1; stroke-width: 0.5px; fill: rgb(99, 110, 250); fill-opacity: 1; stroke: rgb(229, 236, 246); stroke-opacity: 1;\"/></g><g class=\"point\"><path d=\"M143.1,270V231.96H157.23V270Z\" style=\"vector-effect: non-scaling-stroke; opacity: 1; stroke-width: 0.5px; fill: rgb(99, 110, 250); fill-opacity: 1; stroke: rgb(229, 236, 246); stroke-opacity: 1;\"/></g><g class=\"point\"><path d=\"M160.77,270V234.1H174.9V270Z\" style=\"vector-effect: non-scaling-stroke; opacity: 1; stroke-width: 0.5px; fill: rgb(99, 110, 250); fill-opacity: 1; stroke: rgb(229, 236, 246); stroke-opacity: 1;\"/></g><g class=\"point\"><path d=\"M178.43,270V238.94H192.57V270Z\" style=\"vector-effect: non-scaling-stroke; opacity: 1; stroke-width: 0.5px; fill: rgb(99, 110, 250); fill-opacity: 1; stroke: rgb(229, 236, 246); stroke-opacity: 1;\"/></g><g class=\"point\"><path d=\"M196.1,270V239.86H210.23V270Z\" style=\"vector-effect: non-scaling-stroke; opacity: 1; stroke-width: 0.5px; fill: rgb(99, 110, 250); fill-opacity: 1; stroke: rgb(229, 236, 246); stroke-opacity: 1;\"/></g><g class=\"point\"><path d=\"M213.77,270V240.97H227.9V270Z\" style=\"vector-effect: non-scaling-stroke; opacity: 1; stroke-width: 0.5px; fill: rgb(99, 110, 250); fill-opacity: 1; stroke: rgb(229, 236, 246); stroke-opacity: 1;\"/></g><g class=\"point\"><path d=\"M231.43,270V247.58H245.57V270Z\" style=\"vector-effect: non-scaling-stroke; opacity: 1; stroke-width: 0.5px; fill: rgb(99, 110, 250); fill-opacity: 1; stroke: rgb(229, 236, 246); stroke-opacity: 1;\"/></g><g class=\"point\"><path d=\"M249.1,270V250.09H263.23V270Z\" style=\"vector-effect: non-scaling-stroke; opacity: 1; stroke-width: 0.5px; fill: rgb(99, 110, 250); fill-opacity: 1; stroke: rgb(229, 236, 246); stroke-opacity: 1;\"/></g><g class=\"point\"><path d=\"M266.77,270V250.76H280.9V270Z\" style=\"vector-effect: non-scaling-stroke; opacity: 1; stroke-width: 0.5px; fill: rgb(99, 110, 250); fill-opacity: 1; stroke: rgb(229, 236, 246); stroke-opacity: 1;\"/></g><g class=\"point\"><path d=\"M284.43,270V251.03H298.57V270Z\" style=\"vector-effect: non-scaling-stroke; opacity: 1; stroke-width: 0.5px; fill: rgb(99, 110, 250); fill-opacity: 1; stroke: rgb(229, 236, 246); stroke-opacity: 1;\"/></g><g class=\"point\"><path d=\"M302.1,270V251.86H316.23V270Z\" style=\"vector-effect: non-scaling-stroke; opacity: 1; stroke-width: 0.5px; fill: rgb(99, 110, 250); fill-opacity: 1; stroke: rgb(229, 236, 246); stroke-opacity: 1;\"/></g><g class=\"point\"><path d=\"M319.77,270V253.89H333.9V270Z\" style=\"vector-effect: non-scaling-stroke; opacity: 1; stroke-width: 0.5px; fill: rgb(99, 110, 250); fill-opacity: 1; stroke: rgb(229, 236, 246); stroke-opacity: 1;\"/></g><g class=\"point\"><path d=\"M337.43,270V256.21H351.57V270Z\" style=\"vector-effect: non-scaling-stroke; opacity: 1; stroke-width: 0.5px; fill: rgb(99, 110, 250); fill-opacity: 1; stroke: rgb(229, 236, 246); stroke-opacity: 1;\"/></g><g class=\"point\"><path d=\"M355.1,270V256.91H369.23V270Z\" style=\"vector-effect: non-scaling-stroke; opacity: 1; stroke-width: 0.5px; fill: rgb(99, 110, 250); fill-opacity: 1; stroke: rgb(229, 236, 246); stroke-opacity: 1;\"/></g><g class=\"point\"><path d=\"M372.77,270V256.99H386.9V270Z\" style=\"vector-effect: non-scaling-stroke; opacity: 1; stroke-width: 0.5px; fill: rgb(99, 110, 250); fill-opacity: 1; stroke: rgb(229, 236, 246); stroke-opacity: 1;\"/></g><g class=\"point\"><path d=\"M390.43,270V259.21H404.57V270Z\" style=\"vector-effect: non-scaling-stroke; opacity: 1; stroke-width: 0.5px; fill: rgb(99, 110, 250); fill-opacity: 1; stroke: rgb(229, 236, 246); stroke-opacity: 1;\"/></g><g class=\"point\"><path d=\"M408.1,270V260.53H422.23V270Z\" style=\"vector-effect: non-scaling-stroke; opacity: 1; stroke-width: 0.5px; fill: rgb(99, 110, 250); fill-opacity: 1; stroke: rgb(229, 236, 246); stroke-opacity: 1;\"/></g><g class=\"point\"><path d=\"M425.77,270V260.66H439.9V270Z\" style=\"vector-effect: non-scaling-stroke; opacity: 1; stroke-width: 0.5px; fill: rgb(99, 110, 250); fill-opacity: 1; stroke: rgb(229, 236, 246); stroke-opacity: 1;\"/></g><g class=\"point\"><path d=\"M443.43,270V262.04H457.57V270Z\" style=\"vector-effect: non-scaling-stroke; opacity: 1; stroke-width: 0.5px; fill: rgb(99, 110, 250); fill-opacity: 1; stroke: rgb(229, 236, 246); stroke-opacity: 1;\"/></g><g class=\"point\"><path d=\"M461.1,270V265.34H475.23V270Z\" style=\"vector-effect: non-scaling-stroke; opacity: 1; stroke-width: 0.5px; fill: rgb(99, 110, 250); fill-opacity: 1; stroke: rgb(229, 236, 246); stroke-opacity: 1;\"/></g></g></g><g class=\"trace bars\" shape-rendering=\"crispEdges\" style=\"opacity: 1;\"><g class=\"points\"><g class=\"point\"><path d=\"M1.77,28.02V13.5H15.9V28.02Z\" style=\"vector-effect: non-scaling-stroke; opacity: 1; stroke-width: 0.5px; fill: rgb(239, 85, 59); fill-opacity: 1; stroke: rgb(229, 236, 246); stroke-opacity: 1;\"/><text class=\"bartext bartext-outside\" text-anchor=\"middle\" data-notex=\"1\" x=\"0\" y=\"0\" style=\"font-family: 'Courier New', monospace; font-size: 14px; fill: rgb(127, 127, 127); fill-opacity: 1; white-space: pre;\" transform=\"translate(8.835,9.154285714285715)scale(0.33642857142857147)\">10694</text></g><g class=\"point\"><path d=\"M19.43,161.95V151.53H33.57V161.95Z\" style=\"vector-effect: non-scaling-stroke; opacity: 1; stroke-width: 0.5px; fill: rgb(239, 85, 59); fill-opacity: 1; stroke: rgb(229, 236, 246); stroke-opacity: 1;\"/><text class=\"bartext bartext-outside\" text-anchor=\"middle\" data-notex=\"1\" x=\"0\" y=\"0\" style=\"font-family: 'Courier New', monospace; font-size: 14px; fill: rgb(127, 127, 127); fill-opacity: 1; white-space: pre;\" transform=\"translate(26.5,146.8463534883721)scale(0.4209116279069768)\">7672</text></g><g class=\"point\"><path d=\"M37.1,165.78V159.18H51.23V165.78Z\" style=\"vector-effect: non-scaling-stroke; opacity: 1; stroke-width: 0.5px; fill: rgb(239, 85, 59); fill-opacity: 1; stroke: rgb(229, 236, 246); stroke-opacity: 1;\"/><text class=\"bartext bartext-outside\" text-anchor=\"middle\" data-notex=\"1\" x=\"0\" y=\"0\" style=\"font-family: 'Courier New', monospace; font-size: 14px; fill: rgb(127, 127, 127); fill-opacity: 1; white-space: pre;\" transform=\"translate(44.165,154.49754418604653)scale(0.42061395348837194)\">4861</text></g><g class=\"point\"><path d=\"M54.77,176.06V170.37H68.9V176.06Z\" style=\"vector-effect: non-scaling-stroke; opacity: 1; stroke-width: 0.5px; fill: rgb(239, 85, 59); fill-opacity: 1; stroke: rgb(229, 236, 246); stroke-opacity: 1;\"/><text class=\"bartext bartext-outside\" text-anchor=\"middle\" data-notex=\"1\" x=\"0\" y=\"0\" style=\"font-family: 'Courier New', monospace; font-size: 14px; fill: rgb(127, 127, 127); fill-opacity: 1; white-space: pre;\" transform=\"translate(61.83500000000001,165.68754418604652)scale(0.42061395348837216)\">4191</text></g><g class=\"point\"><path d=\"M72.43,188.73V186.74H86.57V188.73Z\" style=\"vector-effect: non-scaling-stroke; opacity: 1; stroke-width: 0.5px; fill: rgb(239, 85, 59); fill-opacity: 1; stroke: rgb(229, 236, 246); stroke-opacity: 1;\"/><text class=\"bartext bartext-outside\" text-anchor=\"middle\" data-notex=\"1\" x=\"0\" y=\"0\" style=\"font-family: 'Courier New', monospace; font-size: 14px; fill: rgb(127, 127, 127); fill-opacity: 1; white-space: pre;\" transform=\"translate(79.5,182.0563534883721)scale(0.42091162790697634)\">1467</text></g><g class=\"point\"><path d=\"M90.1,193.27V189.89H104.23V193.27Z\" style=\"vector-effect: non-scaling-stroke; opacity: 1; stroke-width: 0.5px; fill: rgb(239, 85, 59); fill-opacity: 1; stroke: rgb(229, 236, 246); stroke-opacity: 1;\"/><text class=\"bartext bartext-outside\" text-anchor=\"middle\" data-notex=\"1\" x=\"0\" y=\"0\" style=\"font-family: 'Courier New', monospace; font-size: 14px; fill: rgb(127, 127, 127); fill-opacity: 1; white-space: pre;\" transform=\"translate(97.16499999999999,185.2075441860465)scale(0.4206139534883724)\">2492</text></g><g class=\"point\"><path d=\"M107.77,208.54V203.31H121.9V208.54Z\" style=\"vector-effect: non-scaling-stroke; opacity: 1; stroke-width: 0.5px; fill: rgb(239, 85, 59); fill-opacity: 1; stroke: rgb(229, 236, 246); stroke-opacity: 1;\"/><text class=\"bartext bartext-outside\" text-anchor=\"middle\" data-notex=\"1\" x=\"0\" y=\"0\" style=\"font-family: 'Courier New', monospace; font-size: 14px; fill: rgb(127, 127, 127); fill-opacity: 1; white-space: pre;\" transform=\"translate(114.83500000000001,198.62754418604652)scale(0.4206139534883724)\">3855</text></g><g class=\"point\"><path d=\"M125.43,220.57V219.07H139.57V220.57Z\" style=\"vector-effect: non-scaling-stroke; opacity: 1; stroke-width: 0.5px; fill: rgb(239, 85, 59); fill-opacity: 1; stroke: rgb(229, 236, 246); stroke-opacity: 1;\"/><text class=\"bartext bartext-outside\" text-anchor=\"middle\" data-notex=\"1\" x=\"0\" y=\"0\" style=\"font-family: 'Courier New', monospace; font-size: 14px; fill: rgb(127, 127, 127); fill-opacity: 1; white-space: pre;\" transform=\"translate(132.5,214.3863534883721)scale(0.42091162790697634)\">1105</text></g><g class=\"point\"><path d=\"M143.1,231.96V231.1H157.23V231.96Z\" style=\"vector-effect: non-scaling-stroke; opacity: 1; stroke-width: 0.5px; fill: rgb(239, 85, 59); fill-opacity: 1; stroke: rgb(229, 236, 246); stroke-opacity: 1;\"/><text class=\"bartext bartext-outside\" text-anchor=\"middle\" data-notex=\"1\" x=\"0\" y=\"0\" style=\"font-family: 'Courier New', monospace; font-size: 14px; fill: rgb(127, 127, 127); fill-opacity: 1; white-space: pre;\" transform=\"translate(150.16061996280223,225.8574209547427)scale(0.560644761314321)\">633</text></g><g class=\"point\"><path d=\"M160.77,234.1V232.66H174.9V234.1Z\" style=\"vector-effect: non-scaling-stroke; opacity: 1; stroke-width: 0.5px; fill: rgb(239, 85, 59); fill-opacity: 1; stroke: rgb(229, 236, 246); stroke-opacity: 1;\"/><text class=\"bartext bartext-outside\" text-anchor=\"middle\" data-notex=\"1\" x=\"0\" y=\"0\" style=\"font-family: 'Courier New', monospace; font-size: 14px; fill: rgb(127, 127, 127); fill-opacity: 1; white-space: pre;\" transform=\"translate(167.835,227.97754418604652)scale(0.42061395348837194)\">1054</text></g><g class=\"point\"><path d=\"M178.43,238.94V238.53H192.57V238.94Z\" style=\"vector-effect: non-scaling-stroke; opacity: 1; stroke-width: 0.5px; fill: rgb(239, 85, 59); fill-opacity: 1; stroke: rgb(229, 236, 246); stroke-opacity: 1;\"/><text class=\"bartext bartext-outside\" text-anchor=\"middle\" data-notex=\"1\" x=\"0\" y=\"0\" style=\"font-family: 'Courier New', monospace; font-size: 14px; fill: rgb(127, 127, 127); fill-opacity: 1; white-space: pre;\" transform=\"translate(185.49561686298821,233.285833849969)scale(0.561041537507749)\">304</text></g><g class=\"point\"><path d=\"M196.1,239.86V238.85H210.23V239.86Z\" style=\"vector-effect: non-scaling-stroke; opacity: 1; stroke-width: 0.5px; fill: rgb(239, 85, 59); fill-opacity: 1; stroke: rgb(229, 236, 246); stroke-opacity: 1;\"/><text class=\"bartext bartext-outside\" text-anchor=\"middle\" data-notex=\"1\" x=\"0\" y=\"0\" style=\"font-family: 'Courier New', monospace; font-size: 14px; fill: rgb(127, 127, 127); fill-opacity: 1; white-space: pre;\" transform=\"translate(203.16061996280223,233.6074209547427)scale(0.560644761314321)\">744</text></g><g class=\"point\"><path d=\"M213.77,240.97V240.32H227.9V240.97Z\" style=\"vector-effect: non-scaling-stroke; opacity: 1; stroke-width: 0.5px; fill: rgb(239, 85, 59); fill-opacity: 1; stroke: rgb(229, 236, 246); stroke-opacity: 1;\"/><text class=\"bartext bartext-outside\" text-anchor=\"middle\" data-notex=\"1\" x=\"0\" y=\"0\" style=\"font-family: 'Courier New', monospace; font-size: 14px; fill: rgb(127, 127, 127); fill-opacity: 1; white-space: pre;\" transform=\"translate(220.83061996280225,235.0774209547427)scale(0.560644761314321)\">475</text></g><g class=\"point\"><path d=\"M231.43,247.58V247.14H245.57V247.58Z\" style=\"vector-effect: non-scaling-stroke; opacity: 1; stroke-width: 0.5px; fill: rgb(239, 85, 59); fill-opacity: 1; stroke: rgb(229, 236, 246); stroke-opacity: 1;\"/><text class=\"bartext bartext-outside\" text-anchor=\"middle\" data-notex=\"1\" x=\"0\" y=\"0\" style=\"font-family: 'Courier New', monospace; font-size: 14px; fill: rgb(127, 127, 127); fill-opacity: 1; white-space: pre;\" transform=\"translate(238.49561686298821,241.895833849969)scale(0.561041537507749)\">324</text></g><g class=\"point\"><path d=\"M249.1,250.09V249.62H263.23V250.09Z\" style=\"vector-effect: non-scaling-stroke; opacity: 1; stroke-width: 0.5px; fill: rgb(239, 85, 59); fill-opacity: 1; stroke: rgb(229, 236, 246); stroke-opacity: 1;\"/><text class=\"bartext bartext-outside\" text-anchor=\"middle\" data-notex=\"1\" x=\"0\" y=\"0\" style=\"font-family: 'Courier New', monospace; font-size: 14px; fill: rgb(127, 127, 127); fill-opacity: 1; white-space: pre;\" transform=\"translate(256.16061996280223,244.37742095474272)scale(0.5606447613143221)\">350</text></g><g class=\"point\"><path d=\"M266.77,250.76V250.03H280.9V250.76Z\" style=\"vector-effect: non-scaling-stroke; opacity: 1; stroke-width: 0.5px; fill: rgb(239, 85, 59); fill-opacity: 1; stroke: rgb(229, 236, 246); stroke-opacity: 1;\"/><text class=\"bartext bartext-outside\" text-anchor=\"middle\" data-notex=\"1\" x=\"0\" y=\"0\" style=\"font-family: 'Courier New', monospace; font-size: 14px; fill: rgb(127, 127, 127); fill-opacity: 1; white-space: pre;\" transform=\"translate(273.8306199628022,244.78742095474271)scale(0.560644761314321)\">534</text></g><g class=\"point\"><path d=\"M284.43,251.03V250.58H298.57V251.03Z\" style=\"vector-effect: non-scaling-stroke; opacity: 1; stroke-width: 0.5px; fill: rgb(239, 85, 59); fill-opacity: 1; stroke: rgb(229, 236, 246); stroke-opacity: 1;\"/><text class=\"bartext bartext-outside\" text-anchor=\"middle\" data-notex=\"1\" x=\"0\" y=\"0\" style=\"font-family: 'Courier New', monospace; font-size: 14px; fill: rgb(127, 127, 127); fill-opacity: 1; white-space: pre;\" transform=\"translate(291.49561686298824,245.33583384996902)scale(0.561041537507749)\">330</text></g><g class=\"point\"><path d=\"M302.1,251.86V251.59H316.23V251.86Z\" style=\"vector-effect: non-scaling-stroke; opacity: 1; stroke-width: 0.5px; fill: rgb(239, 85, 59); fill-opacity: 1; stroke: rgb(229, 236, 246); stroke-opacity: 1;\"/><text class=\"bartext bartext-outside\" text-anchor=\"middle\" data-notex=\"1\" x=\"0\" y=\"0\" style=\"font-family: 'Courier New', monospace; font-size: 14px; fill: rgb(127, 127, 127); fill-opacity: 1; white-space: pre;\" transform=\"translate(309.16061996280223,246.34742095474272)scale(0.560644761314321)\">195</text></g><g class=\"point\"><path d=\"M319.77,253.89V253.45H333.9V253.89Z\" style=\"vector-effect: non-scaling-stroke; opacity: 1; stroke-width: 0.5px; fill: rgb(239, 85, 59); fill-opacity: 1; stroke: rgb(229, 236, 246); stroke-opacity: 1;\"/><text class=\"bartext bartext-outside\" text-anchor=\"middle\" data-notex=\"1\" x=\"0\" y=\"0\" style=\"font-family: 'Courier New', monospace; font-size: 14px; fill: rgb(127, 127, 127); fill-opacity: 1; white-space: pre;\" transform=\"translate(326.8306199628022,248.2074209547427)scale(0.560644761314321)\">324</text></g><g class=\"point\"><path d=\"M337.43,256.21V255.72H351.57V256.21Z\" style=\"vector-effect: non-scaling-stroke; opacity: 1; stroke-width: 0.5px; fill: rgb(239, 85, 59); fill-opacity: 1; stroke: rgb(229, 236, 246); stroke-opacity: 1;\"/><text class=\"bartext bartext-outside\" text-anchor=\"middle\" data-notex=\"1\" x=\"0\" y=\"0\" style=\"font-family: 'Courier New', monospace; font-size: 14px; fill: rgb(127, 127, 127); fill-opacity: 1; white-space: pre;\" transform=\"translate(344.49561686298824,250.475833849969)scale(0.561041537507749)\">360</text></g><g class=\"point\"><path d=\"M355.1,256.91V256.56H369.23V256.91Z\" style=\"vector-effect: non-scaling-stroke; opacity: 1; stroke-width: 0.5px; fill: rgb(239, 85, 59); fill-opacity: 1; stroke: rgb(229, 236, 246); stroke-opacity: 1;\"/><text class=\"bartext bartext-outside\" text-anchor=\"middle\" data-notex=\"1\" x=\"0\" y=\"0\" style=\"font-family: 'Courier New', monospace; font-size: 14px; fill: rgb(127, 127, 127); fill-opacity: 1; white-space: pre;\" transform=\"translate(362.16061996280223,251.31742095474272)scale(0.560644761314321)\">259</text></g><g class=\"point\"><path d=\"M372.77,256.99V256.54H386.9V256.99Z\" style=\"vector-effect: non-scaling-stroke; opacity: 1; stroke-width: 0.5px; fill: rgb(239, 85, 59); fill-opacity: 1; stroke: rgb(229, 236, 246); stroke-opacity: 1;\"/><text class=\"bartext bartext-outside\" text-anchor=\"middle\" data-notex=\"1\" x=\"0\" y=\"0\" style=\"font-family: 'Courier New', monospace; font-size: 14px; fill: rgb(127, 127, 127); fill-opacity: 1; white-space: pre;\" transform=\"translate(379.8306199628022,251.29742095474273)scale(0.560644761314321)\">326</text></g><g class=\"point\"><path d=\"M390.43,259.21V258.93H404.57V259.21Z\" style=\"vector-effect: non-scaling-stroke; opacity: 1; stroke-width: 0.5px; fill: rgb(239, 85, 59); fill-opacity: 1; stroke: rgb(229, 236, 246); stroke-opacity: 1;\"/><text class=\"bartext bartext-outside\" text-anchor=\"middle\" data-notex=\"1\" x=\"0\" y=\"0\" style=\"font-family: 'Courier New', monospace; font-size: 14px; fill: rgb(127, 127, 127); fill-opacity: 1; white-space: pre;\" transform=\"translate(397.49561686298824,253.68583384996901)scale(0.561041537507749)\">211</text></g><g class=\"point\"><path d=\"M408.1,260.53V260.35H422.23V260.53Z\" style=\"vector-effect: non-scaling-stroke; opacity: 1; stroke-width: 0.5px; fill: rgb(239, 85, 59); fill-opacity: 1; stroke: rgb(229, 236, 246); stroke-opacity: 1;\"/><text class=\"bartext bartext-outside\" text-anchor=\"middle\" data-notex=\"1\" x=\"0\" y=\"0\" style=\"font-family: 'Courier New', monospace; font-size: 14px; fill: rgb(127, 127, 127); fill-opacity: 1; white-space: pre;\" transform=\"translate(415.16061996280223,255.10742095474274)scale(0.560644761314321)\">132</text></g><g class=\"point\"><path d=\"M425.77,260.66V260.39H439.9V260.66Z\" style=\"vector-effect: non-scaling-stroke; opacity: 1; stroke-width: 0.5px; fill: rgb(239, 85, 59); fill-opacity: 1; stroke: rgb(229, 236, 246); stroke-opacity: 1;\"/><text class=\"bartext bartext-outside\" text-anchor=\"middle\" data-notex=\"1\" x=\"0\" y=\"0\" style=\"font-family: 'Courier New', monospace; font-size: 14px; fill: rgb(127, 127, 127); fill-opacity: 1; white-space: pre;\" transform=\"translate(432.8306199628022,255.1474209547427)scale(0.560644761314321)\">200</text></g><g class=\"point\"><path d=\"M443.43,262.04V261.76H457.57V262.04Z\" style=\"vector-effect: non-scaling-stroke; opacity: 1; stroke-width: 0.5px; fill: rgb(239, 85, 59); fill-opacity: 1; stroke: rgb(229, 236, 246); stroke-opacity: 1;\"/><text class=\"bartext bartext-outside\" text-anchor=\"middle\" data-notex=\"1\" x=\"0\" y=\"0\" style=\"font-family: 'Courier New', monospace; font-size: 14px; fill: rgb(127, 127, 127); fill-opacity: 1; white-space: pre;\" transform=\"translate(450.49561686298824,256.515833849969)scale(0.561041537507749)\">209</text></g><g class=\"point\"><path d=\"M461.1,265.34V265.3H475.23V265.34Z\" style=\"vector-effect: non-scaling-stroke; opacity: 1; stroke-width: 0.5px; fill: rgb(239, 85, 59); fill-opacity: 1; stroke: rgb(229, 236, 246); stroke-opacity: 1;\"/><text class=\"bartext bartext-outside\" text-anchor=\"middle\" data-notex=\"1\" x=\"0\" y=\"0\" style=\"font-family: 'Courier New', monospace; font-size: 14px; fill: rgb(127, 127, 127); fill-opacity: 1; white-space: pre;\" transform=\"translate(468.1584279069768,258.93508837209305)scale(0.8412279069767439)\">31</text></g></g></g></g></g><g class=\"overplot\"/><path class=\"xlines-above crisp\" d=\"M0,0\" style=\"fill: none;\"/><path class=\"ylines-above crisp\" d=\"M0,0\" style=\"fill: none;\"/><g class=\"overlines-above\"/><g class=\"xaxislayer-above\"><g class=\"xtick\"><text text-anchor=\"start\" x=\"0\" y=\"385\" transform=\"translate(88.83,0) rotate(90,0,378)\" style=\"font-family: 'Courier New', monospace; font-size: 14px; fill: rgb(127, 127, 127); fill-opacity: 1; white-space: pre;\">SP</text></g><g class=\"xtick\"><text text-anchor=\"start\" x=\"0\" y=\"385\" transform=\"translate(106.5,0) rotate(90,0,378)\" style=\"font-family: 'Courier New', monospace; font-size: 14px; fill: rgb(127, 127, 127); fill-opacity: 1; white-space: pre;\">RJ</text></g><g class=\"xtick\"><text text-anchor=\"start\" x=\"0\" y=\"385\" transform=\"translate(124.17,0) rotate(90,0,378)\" style=\"font-family: 'Courier New', monospace; font-size: 14px; fill: rgb(127, 127, 127); fill-opacity: 1; white-space: pre;\">CE</text></g><g class=\"xtick\"><text text-anchor=\"start\" x=\"0\" y=\"385\" transform=\"translate(141.82999999999998,0) rotate(90,0,378)\" style=\"font-family: 'Courier New', monospace; font-size: 14px; fill: rgb(127, 127, 127); fill-opacity: 1; white-space: pre;\">PA</text></g><g class=\"xtick\"><text text-anchor=\"start\" x=\"0\" y=\"385\" transform=\"translate(159.5,0) rotate(90,0,378)\" style=\"font-family: 'Courier New', monospace; font-size: 14px; fill: rgb(127, 127, 127); fill-opacity: 1; white-space: pre;\">MA</text></g><g class=\"xtick\"><text text-anchor=\"start\" x=\"0\" y=\"385\" transform=\"translate(177.17000000000002,0) rotate(90,0,378)\" style=\"font-family: 'Courier New', monospace; font-size: 14px; fill: rgb(127, 127, 127); fill-opacity: 1; white-space: pre;\">AM</text></g><g class=\"xtick\"><text text-anchor=\"start\" x=\"0\" y=\"385\" transform=\"translate(194.82999999999998,0) rotate(90,0,378)\" style=\"font-family: 'Courier New', monospace; font-size: 14px; fill: rgb(127, 127, 127); fill-opacity: 1; white-space: pre;\">PE</text></g><g class=\"xtick\"><text text-anchor=\"start\" x=\"0\" y=\"385\" transform=\"translate(212.5,0) rotate(90,0,378)\" style=\"font-family: 'Courier New', monospace; font-size: 14px; fill: rgb(127, 127, 127); fill-opacity: 1; white-space: pre;\">BA</text></g><g class=\"xtick\"><text text-anchor=\"start\" x=\"0\" y=\"385\" transform=\"translate(230.17,0) rotate(90,0,378)\" style=\"font-family: 'Courier New', monospace; font-size: 14px; fill: rgb(127, 127, 127); fill-opacity: 1; white-space: pre;\">PB</text></g><g class=\"xtick\"><text text-anchor=\"start\" x=\"0\" y=\"385\" transform=\"translate(247.83,0) rotate(90,0,378)\" style=\"font-family: 'Courier New', monospace; font-size: 14px; fill: rgb(127, 127, 127); fill-opacity: 1; white-space: pre;\">ES</text></g><g class=\"xtick\"><text text-anchor=\"start\" x=\"0\" y=\"385\" transform=\"translate(265.5,0) rotate(90,0,378)\" style=\"font-family: 'Courier New', monospace; font-size: 14px; fill: rgb(127, 127, 127); fill-opacity: 1; white-space: pre;\">DF</text></g><g class=\"xtick\"><text text-anchor=\"start\" x=\"0\" y=\"385\" transform=\"translate(283.16999999999996,0) rotate(90,0,378)\" style=\"font-family: 'Courier New', monospace; font-size: 14px; fill: rgb(127, 127, 127); fill-opacity: 1; white-space: pre;\">AL</text></g><g class=\"xtick\"><text text-anchor=\"start\" x=\"0\" y=\"385\" transform=\"translate(300.83000000000004,0) rotate(90,0,378)\" style=\"font-family: 'Courier New', monospace; font-size: 14px; fill: rgb(127, 127, 127); fill-opacity: 1; white-space: pre;\">MG</text></g><g class=\"xtick\"><text text-anchor=\"start\" x=\"0\" y=\"385\" transform=\"translate(318.5,0) rotate(90,0,378)\" style=\"font-family: 'Courier New', monospace; font-size: 14px; fill: rgb(127, 127, 127); fill-opacity: 1; white-space: pre;\">AP</text></g><g class=\"xtick\"><text text-anchor=\"start\" x=\"0\" y=\"385\" transform=\"translate(336.17,0) rotate(90,0,378)\" style=\"font-family: 'Courier New', monospace; font-size: 14px; fill: rgb(127, 127, 127); fill-opacity: 1; white-space: pre;\">RS</text></g><g class=\"xtick\"><text text-anchor=\"start\" x=\"0\" y=\"385\" transform=\"translate(353.83,0) rotate(90,0,378)\" style=\"font-family: 'Courier New', monospace; font-size: 14px; fill: rgb(127, 127, 127); fill-opacity: 1; white-space: pre;\">RN</text></g><g class=\"xtick\"><text text-anchor=\"start\" x=\"0\" y=\"385\" transform=\"translate(371.5,0) rotate(90,0,378)\" style=\"font-family: 'Courier New', monospace; font-size: 14px; fill: rgb(127, 127, 127); fill-opacity: 1; white-space: pre;\">SE</text></g><g class=\"xtick\"><text text-anchor=\"start\" x=\"0\" y=\"385\" transform=\"translate(389.17,0) rotate(90,0,378)\" style=\"font-family: 'Courier New', monospace; font-size: 14px; fill: rgb(127, 127, 127); fill-opacity: 1; white-space: pre;\">SC</text></g><g class=\"xtick\"><text text-anchor=\"start\" x=\"0\" y=\"385\" transform=\"translate(406.83,0) rotate(90,0,378)\" style=\"font-family: 'Courier New', monospace; font-size: 14px; fill: rgb(127, 127, 127); fill-opacity: 1; white-space: pre;\">RO</text></g><g class=\"xtick\"><text text-anchor=\"start\" x=\"0\" y=\"385\" transform=\"translate(424.5,0) rotate(90,0,378)\" style=\"font-family: 'Courier New', monospace; font-size: 14px; fill: rgb(127, 127, 127); fill-opacity: 1; white-space: pre;\">PI</text></g><g class=\"xtick\"><text text-anchor=\"start\" x=\"0\" y=\"385\" transform=\"translate(442.17,0) rotate(90,0,378)\" style=\"font-family: 'Courier New', monospace; font-size: 14px; fill: rgb(127, 127, 127); fill-opacity: 1; white-space: pre;\">AC</text></g><g class=\"xtick\"><text text-anchor=\"start\" x=\"0\" y=\"385\" transform=\"translate(459.83,0) rotate(90,0,378)\" style=\"font-family: 'Courier New', monospace; font-size: 14px; fill: rgb(127, 127, 127); fill-opacity: 1; white-space: pre;\">PR</text></g><g class=\"xtick\"><text text-anchor=\"start\" x=\"0\" y=\"385\" transform=\"translate(477.5,0) rotate(90,0,378)\" style=\"font-family: 'Courier New', monospace; font-size: 14px; fill: rgb(127, 127, 127); fill-opacity: 1; white-space: pre;\">GO</text></g><g class=\"xtick\"><text text-anchor=\"start\" x=\"0\" y=\"385\" transform=\"translate(495.17,0) rotate(90,0,378)\" style=\"font-family: 'Courier New', monospace; font-size: 14px; fill: rgb(127, 127, 127); fill-opacity: 1; white-space: pre;\">TO</text></g><g class=\"xtick\"><text text-anchor=\"start\" x=\"0\" y=\"385\" transform=\"translate(512.8299999999999,0) rotate(90,0,378)\" style=\"font-family: 'Courier New', monospace; font-size: 14px; fill: rgb(127, 127, 127); fill-opacity: 1; white-space: pre;\">RR</text></g><g class=\"xtick\"><text text-anchor=\"start\" x=\"0\" y=\"385\" transform=\"translate(530.5,0) rotate(90,0,378)\" style=\"font-family: 'Courier New', monospace; font-size: 14px; fill: rgb(127, 127, 127); fill-opacity: 1; white-space: pre;\">MT</text></g><g class=\"xtick\"><text text-anchor=\"start\" x=\"0\" y=\"385\" transform=\"translate(548.1700000000001,0) rotate(90,0,378)\" style=\"font-family: 'Courier New', monospace; font-size: 14px; fill: rgb(127, 127, 127); fill-opacity: 1; white-space: pre;\">MS</text></g></g><g class=\"yaxislayer-above\"><g class=\"ytick\"><text text-anchor=\"end\" x=\"79\" y=\"4.8999999999999995\" transform=\"translate(0,370)\" style=\"font-family: 'Courier New', monospace; font-size: 14px; fill: rgb(127, 127, 127); fill-opacity: 1; white-space: pre;\">0</text></g><g class=\"ytick\"><text text-anchor=\"end\" x=\"79\" y=\"4.8999999999999995\" transform=\"translate(0,302.11)\" style=\"font-family: 'Courier New', monospace; font-size: 14px; fill: rgb(127, 127, 127); fill-opacity: 1; white-space: pre;\">50k</text></g><g class=\"ytick\"><text text-anchor=\"end\" x=\"79\" y=\"4.8999999999999995\" transform=\"translate(0,234.21)\" style=\"font-family: 'Courier New', monospace; font-size: 14px; fill: rgb(127, 127, 127); fill-opacity: 1; white-space: pre;\">100k</text></g><g class=\"ytick\"><text text-anchor=\"end\" x=\"79\" y=\"4.8999999999999995\" transform=\"translate(0,166.32)\" style=\"font-family: 'Courier New', monospace; font-size: 14px; fill: rgb(127, 127, 127); fill-opacity: 1; white-space: pre;\">150k</text></g></g><g class=\"overaxes-above\"/></g></g><g class=\"polarlayer\"/><g class=\"ternarylayer\"/><g class=\"geolayer\"/><g class=\"funnelarealayer\"/><g class=\"pielayer\"/><g class=\"treemaplayer\"/><g class=\"sunburstlayer\"/><g class=\"glimages\"/><defs id=\"topdefs-3e8196\"><g class=\"clips\"/><clipPath id=\"legend3e8196\"><rect width=\"121\" height=\"53\" x=\"0\" y=\"0\"/></clipPath></defs><g class=\"layer-above\"><g class=\"imagelayer\"/><g class=\"shapelayer\"/></g><g class=\"infolayer\"><g class=\"legend\" pointer-events=\"all\" transform=\"translate(566.54, 100)\"><rect class=\"bg\" shape-rendering=\"crispEdges\" style=\"stroke: rgb(68, 68, 68); stroke-opacity: 1; fill: rgb(255, 255, 255); fill-opacity: 1; stroke-width: 0px;\" width=\"121\" height=\"53\" x=\"0\" y=\"0\"/><g class=\"scrollbox\" transform=\"translate(0, 0)\" clip-path=\"url('#legend3e8196')\"><g class=\"groups\"><g class=\"traces\" transform=\"translate(0, 15.6)\" style=\"opacity: 1;\"><text class=\"legendtext user-select-none\" text-anchor=\"start\" x=\"40\" y=\"5.46\" style=\"font-family: 'Courier New', monospace; font-size: 14px; fill: rgb(127, 127, 127); fill-opacity: 1; white-space: pre;\">Nº Óbitos</text><g class=\"layers\" style=\"opacity: 1;\"><g class=\"legendfill\"/><g class=\"legendlines\"/><g class=\"legendsymbols\"><g class=\"legendpoints\"><path class=\"legendundefined\" d=\"M6,6H-6V-6H6Z\" transform=\"translate(20,0)\" style=\"stroke-width: 0.5px; fill: rgb(239, 85, 59); fill-opacity: 1; stroke: rgb(229, 236, 246); stroke-opacity: 1;\"/></g></g></g><rect class=\"legendtoggle\" pointer-events=\"all\" x=\"0\" y=\"-10.6\" width=\"115.609375\" height=\"21.2\" style=\"cursor: pointer; fill: rgb(0, 0, 0); fill-opacity: 0;\"/></g><g class=\"traces\" transform=\"translate(0, 36.8)\" style=\"opacity: 1;\"><text class=\"legendtext user-select-none\" text-anchor=\"start\" x=\"40\" y=\"5.46\" style=\"font-family: 'Courier New', monospace; font-size: 14px; fill: rgb(127, 127, 127); fill-opacity: 1; white-space: pre;\">Nº Casos</text><g class=\"layers\" style=\"opacity: 1;\"><g class=\"legendfill\"/><g class=\"legendlines\"/><g class=\"legendsymbols\"><g class=\"legendpoints\"><path class=\"legendundefined\" d=\"M6,6H-6V-6H6Z\" transform=\"translate(20,0)\" style=\"stroke-width: 0.5px; fill: rgb(99, 110, 250); fill-opacity: 1; stroke: rgb(229, 236, 246); stroke-opacity: 1;\"/></g></g></g><rect class=\"legendtoggle\" pointer-events=\"all\" x=\"0\" y=\"-10.6\" width=\"115.609375\" height=\"21.2\" style=\"cursor: pointer; fill: rgb(0, 0, 0); fill-opacity: 0;\"/></g></g></g><rect class=\"scrollbar\" rx=\"20\" ry=\"3\" width=\"0\" height=\"0\" style=\"fill: rgb(128, 139, 164); fill-opacity: 1;\" x=\"0\" y=\"0\"/></g><g class=\"g-gtitle\"><text class=\"gtitle\" x=\"35\" y=\"50\" text-anchor=\"start\" dy=\"0em\" style=\"font-family: 'Courier New', monospace; font-size: 20px; fill: rgb(127, 127, 127); opacity: 1; font-weight: normal; white-space: pre;\">Casos e Óbitos por Estado</text></g><g class=\"g-xtitle\"/><g class=\"g-ytitle\"/></g></svg>"
          },
          "metadata": {}
        }
      ]
    },
    {
      "cell_type": "markdown",
      "metadata": {
        "id": "yxEQjQ1VEiaq",
        "colab_type": "text"
      },
      "source": [
        "O gráfico de barras é feito de forma a que no topo de cada barra, tenha uma *label* com o nº de óbitos, para uma melhor visualização.\n",
        "\n",
        "Como podemos ver, atualmente os 3 estados com maior nº de infetados são São Paulo, Rio de Janeiro e Ceará. Estes também concentram entre si, como é natural, o maior nº de mortes do Brasil."
      ]
    },
    {
      "cell_type": "markdown",
      "metadata": {
        "id": "LIs38FKqEivb",
        "colab_type": "text"
      },
      "source": [
        "Depois de visualizarmos o efeito do vírus em diferentes aspetos, em seguida calculámos a sua taxa de letalidade nos infetados. Este dado é conseguido através da seguinte expressão:\n",
        "\n",
        "$$\n",
        "\\textrm{Taxa de letalidade} =  \\frac{\\sum \\textrm{óbitos}}{\\sum \\textrm{casos}}\n",
        "$$"
      ]
    },
    {
      "cell_type": "code",
      "metadata": {
        "id": "_MVDKgLAGxLQ",
        "colab_type": "code",
        "outputId": "3f805306-0346-43a5-e696-359233008cb5",
        "colab": {
          "base_uri": "https://localhost:8080/",
          "height": 34
        },
        "tags": []
      },
      "source": [
        "# Cálculo da taxa de letalidade\n",
        "rate = sum(data_growth_rate['deaths'])/sum(data_growth_rate['cases'])\n",
        "\n",
        "print(\"Taxa de letalidade no dia\",last_date,\": {0:.2f}%\".format(rate*100))"
      ],
      "execution_count": 14,
      "outputs": [
        {
          "output_type": "stream",
          "name": "stdout",
          "text": "Taxa de letalidade no dia 2020-06-14 : 4.99%\n"
        }
      ]
    }
  ],
  "metadata": {
    "colab": {
      "name": "aa2.ipynb",
      "provenance": [],
      "collapsed_sections": [],
      "toc_visible": true
    },
    "kernelspec": {
      "name": "python37664bitbasecondad056b72b2824412f80db3a09b9cb4b58",
      "display_name": "Python 3.7.6 64-bit ('base': conda)"
    }
  },
  "nbformat": 4,
  "nbformat_minor": 0
}