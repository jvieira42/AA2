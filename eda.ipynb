{
  "cells": [
    {
      "cell_type": "markdown",
      "metadata": {
        "id": "lM1xMn0a5DOt",
        "colab_type": "text"
      },
      "source": [
        "# COVID-19 Brasil - Análise de Dados"
      ]
    },
    {
      "cell_type": "markdown",
      "metadata": {
        "id": "HScwGRuO5isV",
        "colab_type": "text"
      },
      "source": [
        "## 1. Conteúdo\n",
        "\n",
        "O seguinte *notebook* é resultado de uma análise exploratória aos dados da COVID-19 no Brasil. Foram feitas várias observações e considerações sobre os dados, assim como uma previsão da incidência do vírus através de modelos de aprendizagem máquina, nomeadamente de regressão.\n",
        "\n",
        "O conteúdo do *notebook* está dividido em várias alíneas, respetivamente:\n",
        "- Definição das Variáveis\n",
        "- Análise Exploratória dos Dados\n",
        "- Modelos de Aprendizagem Máquina\n",
        "\n",
        "O *dataset* utilizado foi retirado da plataforma *kaggle* no link: \n",
        "\n",
        "https://www.kaggle.com/unanimad/corona-virus-brazil\n",
        "\n",
        "Este contém informação do Ministério da Saúde Brasileiro, acerca do número de casos de infeções e óbitos ao longo dos dias, organizados por estado e região. Existem entradas de dados desde o surgimento do primeiro caso suspeito no Brasil, que foi a 30/01/2020."
      ]
    },
    {
      "cell_type": "code",
      "metadata": {
        "id": "Rfumh2lAp8LO",
        "colab_type": "code",
        "colab": {
          "base_uri": "https://localhost:8080/",
          "height": 295
        },
        "outputId": "232918cb-3b46-40bc-c936-69afae9d8966"
      },
      "source": [
        "import sys\n",
        "\n",
        "!conda install --yes --prefix {sys.prefix} pandas\n",
        "!conda install --yes --prefix {sys.prefix} numpy\n",
        "!conda install --yes --prefix {sys.prefix} nbformat\n",
        "!conda install --yes --prefix {sys.prefix} plotly==4.6.0\n",
        "!conda install --yes --prefix {sys.prefix} psutil requests\n",
        "!conda install --yes --prefix {sys.prefix} scikit-learn\n",
        "!conda install --yes --prefix {sys.prefix} plotly-orca==1.2.1"
      ],
      "execution_count": 1,
      "outputs": [
        {
          "output_type": "stream",
          "name": "stdout",
          "text": "Collecting package metadata (current_repodadone\ndone\n\n# All requested packages already installed.\n\nCollecting package metadata (current_repodatadone\ndone\n\n# All requested packages already installed.\n\nCollecting package metadata (current_repodatadone\ndone\n\n# All requested packages already installed.\n\nCollecting package metadata (current_repodatdone\ndone\n\n# All requested packages already installed.\n\nCollecting package metadata (current_repodatdone\ndone\n\n# All requested packages already installed.\n\nCollecting package metadata (current_repodadone\n\bdone\n\n# All requested packages already installed.\n\nCollecting package metadata (current_repoddone\ndone\n\n# All requested packages already installed.\n\n"
        }
      ]
    },
    {
      "cell_type": "code",
      "metadata": {
        "id": "MVTAMW1ZDAbo",
        "colab_type": "code",
        "colab": {}
      },
      "source": [
        "import numpy as np\n",
        "import pandas as pd\n",
        "import plotly.io as pio\n",
        "import plotly.graph_objects as go\n",
        "from plotly.graph_objs import *\n",
        "from plotly.subplots import make_subplots\n",
        "from sklearn.linear_model import LinearRegression\n",
        "from sklearn.metrics import mean_squared_error, r2_score\n",
        "import datetime\n",
        "\n",
        "import warnings\n",
        "warnings.filterwarnings('ignore')\n",
        "\n",
        "pio.renderers.default = \"svg\"\n",
        "\n",
        "# Ler os dados\n",
        "data = pd.read_csv('./brazil_covid19.csv')"
      ],
      "execution_count": 2,
      "outputs": []
    },
    {
      "cell_type": "markdown",
      "metadata": {
        "id": "hzy4qa-x5lyR",
        "colab_type": "text"
      },
      "source": [
        "## 2. Definição das Variáveis\n"
      ]
    },
    {
      "cell_type": "code",
      "metadata": {
        "id": "AJ0gicF5zq5H",
        "colab_type": "code",
        "outputId": "97b50656-91a6-4af9-92fc-6f99190905f8",
        "colab": {
          "base_uri": "https://localhost:8080/",
          "height": 139
        }
      },
      "source": [
        "# Últimas 5 entradas do dataset\n",
        "print(\"Tail do Dataset:\\n\", data.tail())"
      ],
      "execution_count": 3,
      "outputs": [
        {
          "output_type": "stream",
          "name": "stdout",
          "text": "Tail do Dataset:\n             date   region              state  cases  deaths\n2028  2020-05-27  Sudeste     Rio de Janeiro  42398    4605\n2029  2020-05-27  Sudeste          São Paulo  89483    6712\n2030  2020-05-27      Sul             Paraná   3712     162\n2031  2020-05-27      Sul  Rio Grande do Sul   7048     209\n2032  2020-05-27      Sul     Santa Catarina   7372     126\n"
        }
      ]
    },
    {
      "cell_type": "markdown",
      "metadata": {
        "id": "HxAB4CNTE-Gb",
        "colab_type": "text"
      },
      "source": [
        "É de notar que este *dataset* contém os dados numa série temporal, ou seja, o número de casos num determinado dia é cumulativo.\n",
        "\n",
        "\n",
        "Temos no total 5 variáveis:\n",
        "- **date**: Representa a data (YYYY-MM-DD) para cada entrada, sendo que existem várias entradas com a mesma data, relativas a diferentes estados.\n",
        "- **region**: Representa a região do país relativa ao estado, para cada entrada.\n",
        "- **state**: Representa o estado brasileiro a que se refere cada entrada de dados.\n",
        "- **cases**: Representa o nº de casos confirmados de infeção.\n",
        "- **deaths**: Representa o nº de óbitos confirmados.\n",
        "\n",
        "Apresenta-se a descrição das variáveis contínuas **cases** e **deaths**:"
      ]
    },
    {
      "cell_type": "code",
      "metadata": {
        "id": "8H6iJtvJ0Fz4",
        "colab_type": "code",
        "outputId": "a31a15ca-2b92-4604-918d-567f0d1df37e",
        "colab": {
          "base_uri": "https://localhost:8080/",
          "height": 300
        }
      },
      "source": [
        "data.describe()"
      ],
      "execution_count": 4,
      "outputs": [
        {
          "output_type": "execute_result",
          "data": {
            "text/plain": "              cases       deaths\ncount   2033.000000  2033.000000\nmean    3488.070339   227.431874\nstd     8611.443786   683.752071\nmin        1.000000     0.000000\n25%       64.000000     1.000000\n50%      636.000000    21.000000\n75%     2684.000000   103.000000\nmax    89483.000000  6712.000000",
            "text/html": "<div>\n<style scoped>\n    .dataframe tbody tr th:only-of-type {\n        vertical-align: middle;\n    }\n\n    .dataframe tbody tr th {\n        vertical-align: top;\n    }\n\n    .dataframe thead th {\n        text-align: right;\n    }\n</style>\n<table border=\"1\" class=\"dataframe\">\n  <thead>\n    <tr style=\"text-align: right;\">\n      <th></th>\n      <th>cases</th>\n      <th>deaths</th>\n    </tr>\n  </thead>\n  <tbody>\n    <tr>\n      <th>count</th>\n      <td>2033.000000</td>\n      <td>2033.000000</td>\n    </tr>\n    <tr>\n      <th>mean</th>\n      <td>3488.070339</td>\n      <td>227.431874</td>\n    </tr>\n    <tr>\n      <th>std</th>\n      <td>8611.443786</td>\n      <td>683.752071</td>\n    </tr>\n    <tr>\n      <th>min</th>\n      <td>1.000000</td>\n      <td>0.000000</td>\n    </tr>\n    <tr>\n      <th>25%</th>\n      <td>64.000000</td>\n      <td>1.000000</td>\n    </tr>\n    <tr>\n      <th>50%</th>\n      <td>636.000000</td>\n      <td>21.000000</td>\n    </tr>\n    <tr>\n      <th>75%</th>\n      <td>2684.000000</td>\n      <td>103.000000</td>\n    </tr>\n    <tr>\n      <th>max</th>\n      <td>89483.000000</td>\n      <td>6712.000000</td>\n    </tr>\n  </tbody>\n</table>\n</div>"
          },
          "metadata": {},
          "execution_count": 4
        }
      ]
    },
    {
      "cell_type": "markdown",
      "metadata": {
        "id": "rq4Vy_F2TYzP",
        "colab_type": "text"
      },
      "source": [
        "De seguida, são listados os valores possíveis para as nossas variáveis categóricas, que são respetivamente os nomes de todas as regiões e estados."
      ]
    },
    {
      "cell_type": "code",
      "metadata": {
        "id": "8bZUNMaSxtb8",
        "colab_type": "code",
        "outputId": "c7762383-4e51-49d3-e4d3-0466daaca795",
        "colab": {
          "base_uri": "https://localhost:8080/",
          "height": 173
        }
      },
      "source": [
        "# Lista de regiões do dataset\n",
        "print(\"\\nRegions: \", data.region.unique())\n",
        "\n",
        "# Lista de estados do dataset\n",
        "print(\"\\nStates: \", data.state.unique())"
      ],
      "execution_count": 5,
      "outputs": [
        {
          "output_type": "stream",
          "name": "stdout",
          "text": "\nRegions:  ['Sudeste' 'Nordeste' 'Centro-Oeste' 'Sul' 'Norte']\n\nStates:  ['São Paulo' 'Rio de Janeiro' 'Bahia' 'Espírito Santo' 'Distrito Federal'\n 'Alagoas' 'Minas Gerais' 'Rio Grande do Sul' 'Pernambuco' 'Paraná'\n 'Goiás' 'Rio Grande do Norte' 'Santa Catarina' 'Sergipe' 'Amazonas'\n 'Mato Grosso do Sul' 'Ceará' 'Paraíba' 'Acre' 'Pará' 'Tocantins'\n 'Mato Grosso' 'Piauí' 'Amapá' 'Rondônia' 'Maranhão' 'Roraima']\n"
        }
      ]
    },
    {
      "cell_type": "markdown",
      "metadata": {
        "id": "DlhZZZn_0eMU",
        "colab_type": "text"
      },
      "source": [
        "Como podemos ver, não existem quaisquer valores nulos para todas as 5 colunas do *dataset*. Logo não é necessário qualquer tratamento de dados extra.\n"
      ]
    },
    {
      "cell_type": "code",
      "metadata": {
        "id": "a6egIxs1OqKP",
        "colab_type": "code",
        "outputId": "c9f28b61-a36c-4bc8-b59e-6d65d87d553c",
        "colab": {
          "base_uri": "https://localhost:8080/",
          "height": 139
        }
      },
      "source": [
        "# Verificar valores nulos\n",
        "print(\"Null Values:\\n\", data.isnull().sum())"
      ],
      "execution_count": 6,
      "outputs": [
        {
          "output_type": "stream",
          "name": "stdout",
          "text": "Null Values:\n date      0\nregion    0\nstate     0\ncases     0\ndeaths    0\ndtype: int64\n"
        }
      ]
    },
    {
      "cell_type": "markdown",
      "metadata": {
        "id": "2GdrtrG252aw",
        "colab_type": "text"
      },
      "source": [
        "## 3. Análise Exploratória dos Dados\n",
        "\n",
        "Neste capítulo são feitas algumas avaliações e visualizações analíticas acerca dos dados."
      ]
    },
    {
      "cell_type": "markdown",
      "metadata": {
        "id": "8MVtHgMGwtmc",
        "colab_type": "text"
      },
      "source": [
        "Começando pelo cálculo do nº de dias já passado, de modo a termos uma noção do período de tempo da análise."
      ]
    },
    {
      "cell_type": "code",
      "metadata": {
        "id": "PT2tZoMkTZBP",
        "colab_type": "code",
        "outputId": "ef60df39-fd69-41ed-93a7-967807bac32c",
        "colab": {
          "base_uri": "https://localhost:8080/",
          "height": 34
        }
      },
      "source": [
        "# Nº de dias desde primeira entrada de dados\n",
        "print(\"Number of Days Passed: \", data.date.unique().size)"
      ],
      "execution_count": 7,
      "outputs": [
        {
          "output_type": "stream",
          "name": "stdout",
          "text": "Number of Days Passed:  92\n"
        }
      ]
    },
    {
      "cell_type": "code",
      "metadata": {
        "id": "7KRYIbJrRz5I",
        "colab_type": "code",
        "outputId": "a2dc8de0-4bbf-47f6-cd17-20b7665d43cf",
        "colab": {
          "base_uri": "https://localhost:8080/",
          "height": 81
        }
      },
      "source": [
        "# Primeiro caso de infeção\n",
        "data[data['cases'] > 0].head(1)"
      ],
      "execution_count": 8,
      "outputs": [
        {
          "output_type": "execute_result",
          "data": {
            "text/plain": "         date   region      state  cases  deaths\n0  2020-02-26  Sudeste  São Paulo      1       0",
            "text/html": "<div>\n<style scoped>\n    .dataframe tbody tr th:only-of-type {\n        vertical-align: middle;\n    }\n\n    .dataframe tbody tr th {\n        vertical-align: top;\n    }\n\n    .dataframe thead th {\n        text-align: right;\n    }\n</style>\n<table border=\"1\" class=\"dataframe\">\n  <thead>\n    <tr style=\"text-align: right;\">\n      <th></th>\n      <th>date</th>\n      <th>region</th>\n      <th>state</th>\n      <th>cases</th>\n      <th>deaths</th>\n    </tr>\n  </thead>\n  <tbody>\n    <tr>\n      <th>0</th>\n      <td>2020-02-26</td>\n      <td>Sudeste</td>\n      <td>São Paulo</td>\n      <td>1</td>\n      <td>0</td>\n    </tr>\n  </tbody>\n</table>\n</div>"
          },
          "metadata": {},
          "execution_count": 8
        }
      ]
    },
    {
      "cell_type": "markdown",
      "metadata": {
        "id": "rn_B2VW-R0tH",
        "colab_type": "text"
      },
      "source": [
        "O primeiro caso de infeção confirmado no país deu-se no dia 26 de fevereiro, mais precisamente no estado de São Paulo."
      ]
    },
    {
      "cell_type": "code",
      "metadata": {
        "id": "sdu5QFkcUkkv",
        "colab_type": "code",
        "outputId": "1ba80ad9-b8d6-4802-e9f4-2a66c9c81682",
        "colab": {
          "base_uri": "https://localhost:8080/",
          "height": 81
        }
      },
      "source": [
        "# Primeira morte\n",
        "data[data['deaths'] > 0].head(1)"
      ],
      "execution_count": 9,
      "outputs": [
        {
          "output_type": "execute_result",
          "data": {
            "text/plain": "           date   region      state  cases  deaths\n129  2020-03-17  Sudeste  São Paulo    164       1",
            "text/html": "<div>\n<style scoped>\n    .dataframe tbody tr th:only-of-type {\n        vertical-align: middle;\n    }\n\n    .dataframe tbody tr th {\n        vertical-align: top;\n    }\n\n    .dataframe thead th {\n        text-align: right;\n    }\n</style>\n<table border=\"1\" class=\"dataframe\">\n  <thead>\n    <tr style=\"text-align: right;\">\n      <th></th>\n      <th>date</th>\n      <th>region</th>\n      <th>state</th>\n      <th>cases</th>\n      <th>deaths</th>\n    </tr>\n  </thead>\n  <tbody>\n    <tr>\n      <th>129</th>\n      <td>2020-03-17</td>\n      <td>Sudeste</td>\n      <td>São Paulo</td>\n      <td>164</td>\n      <td>1</td>\n    </tr>\n  </tbody>\n</table>\n</div>"
          },
          "metadata": {},
          "execution_count": 9
        }
      ]
    },
    {
      "cell_type": "markdown",
      "metadata": {
        "id": "aNuUPwoIVCpX",
        "colab_type": "text"
      },
      "source": [
        "A primeira morte por infeção do vírus, foi confirmada no dia 17 de março, novamente no estado de São Paulo."
      ]
    },
    {
      "cell_type": "markdown",
      "metadata": {
        "id": "uTH9FADk4FLG",
        "colab_type": "text"
      },
      "source": [
        "Foi feito o gráfico da curva epidemiológica do vírus ao longo deste perído de tempo, em termos de casos confirmados."
      ]
    },
    {
      "cell_type": "code",
      "metadata": {
        "id": "7flgwwkB4FXM",
        "colab_type": "code",
        "outputId": "82f8ab7a-68b4-409e-de65-ee8699b57d3d",
        "colab": {
          "base_uri": "https://localhost:8080/",
          "height": 542
        }
      },
      "source": [
        "# Somar casos e mortes e juntar por dia\n",
        "data_by_day = data.groupby(['date'])['cases','deaths'].agg('sum')\n",
        "\n",
        "# Plot\n",
        "layout = Layout(\n",
        "    title=\"Casos Confirmados\",\n",
        "    font=dict(\n",
        "        family=\"Courier New, monospace\",\n",
        "        size=14,\n",
        "        color=\"#7f7f7f\"\n",
        "    )\n",
        ")\n",
        "\n",
        "fig = go.Figure(data=go.Line(x = data_by_day.index, y=data_by_day['cases']))\n",
        "\n",
        "fig['layout'].update(layout)\n",
        "\n",
        "fig.show()\n",
        "\n"
      ],
      "execution_count": 10,
      "outputs": [
        {
          "output_type": "display_data",
          "data": {
            "image/svg+xml": "<svg class=\"main-svg\" xmlns=\"http://www.w3.org/2000/svg\" xmlns:xlink=\"http://www.w3.org/1999/xlink\" width=\"700\" height=\"450\" viewBox=\"0 0 700 450\"><rect x=\"0\" y=\"0\" width=\"700\" height=\"450\" style=\"fill: rgb(255, 255, 255); fill-opacity: 1;\"/><defs id=\"defs-a56d5f\"><g class=\"clips\"><clipPath id=\"clipa56d5fxyplot\" class=\"plotclip\"><rect width=\"540\" height=\"270\"/></clipPath><clipPath class=\"axesclip\" id=\"clipa56d5fx\"><rect x=\"80\" y=\"0\" width=\"540\" height=\"450\"/></clipPath><clipPath class=\"axesclip\" id=\"clipa56d5fy\"><rect x=\"0\" y=\"100\" width=\"700\" height=\"270\"/></clipPath><clipPath class=\"axesclip\" id=\"clipa56d5fxy\"><rect x=\"80\" y=\"100\" width=\"540\" height=\"270\"/></clipPath></g><g class=\"gradients\"/></defs><g class=\"bglayer\"><rect class=\"bg\" x=\"80\" y=\"100\" width=\"540\" height=\"270\" style=\"fill: rgb(229, 236, 246); fill-opacity: 1; stroke-width: 0;\"/></g><g class=\"layer-below\"><g class=\"imagelayer\"/><g class=\"shapelayer\"/></g><g class=\"cartesianlayer\"><g class=\"subplot xy\"><g class=\"layer-subplot\"><g class=\"shapelayer\"/><g class=\"imagelayer\"/></g><g class=\"gridlayer\"><g class=\"x\"><path class=\"xgrid crisp\" transform=\"translate(103.74,0)\" d=\"M0,100v270\" style=\"stroke: rgb(255, 255, 255); stroke-opacity: 1; stroke-width: 1px;\"/><path class=\"xgrid crisp\" transform=\"translate(186.81,0)\" d=\"M0,100v270\" style=\"stroke: rgb(255, 255, 255); stroke-opacity: 1; stroke-width: 1px;\"/><path class=\"xgrid crisp\" transform=\"translate(269.89,0)\" d=\"M0,100v270\" style=\"stroke: rgb(255, 255, 255); stroke-opacity: 1; stroke-width: 1px;\"/><path class=\"xgrid crisp\" transform=\"translate(352.97,0)\" d=\"M0,100v270\" style=\"stroke: rgb(255, 255, 255); stroke-opacity: 1; stroke-width: 1px;\"/><path class=\"xgrid crisp\" transform=\"translate(436.04,0)\" d=\"M0,100v270\" style=\"stroke: rgb(255, 255, 255); stroke-opacity: 1; stroke-width: 1px;\"/><path class=\"xgrid crisp\" transform=\"translate(519.12,0)\" d=\"M0,100v270\" style=\"stroke: rgb(255, 255, 255); stroke-opacity: 1; stroke-width: 1px;\"/><path class=\"xgrid crisp\" transform=\"translate(602.2,0)\" d=\"M0,100v270\" style=\"stroke: rgb(255, 255, 255); stroke-opacity: 1; stroke-width: 1px;\"/></g><g class=\"y\"><path class=\"ygrid crisp\" transform=\"translate(0,297.49)\" d=\"M80,0h540\" style=\"stroke: rgb(255, 255, 255); stroke-opacity: 1; stroke-width: 1px;\"/><path class=\"ygrid crisp\" transform=\"translate(0,238.49)\" d=\"M80,0h540\" style=\"stroke: rgb(255, 255, 255); stroke-opacity: 1; stroke-width: 1px;\"/><path class=\"ygrid crisp\" transform=\"translate(0,179.48000000000002)\" d=\"M80,0h540\" style=\"stroke: rgb(255, 255, 255); stroke-opacity: 1; stroke-width: 1px;\"/><path class=\"ygrid crisp\" transform=\"translate(0,120.48)\" d=\"M80,0h540\" style=\"stroke: rgb(255, 255, 255); stroke-opacity: 1; stroke-width: 1px;\"/></g></g><g class=\"zerolinelayer\"><path class=\"yzl zl crisp\" transform=\"translate(0,356.5)\" d=\"M80,0h540\" style=\"stroke: rgb(255, 255, 255); stroke-opacity: 1; stroke-width: 2px;\"/></g><path class=\"xlines-below\"/><path class=\"ylines-below\"/><g class=\"overlines-below\"/><g class=\"xaxislayer-below\"/><g class=\"yaxislayer-below\"/><g class=\"overaxes-below\"/><g class=\"plot\" transform=\"translate(80, 100)\" clip-path=\"url('#clipa56d5fxyplot')\"><g class=\"scatterlayer mlayer\"><g class=\"trace scatter traced088f6\" style=\"stroke-miterlimit: 2; opacity: 1;\"><g class=\"fills\"/><g class=\"errorbars\"/><g class=\"lines\"><path class=\"js-line\" d=\"M0,256.5L142.42,255.83L148.35,255.59L201.76,253.13L207.69,252.47L243.3,248.41L249.23,247.1L267.03,244.27L272.97,243.42L284.84,241.59L290.77,239.79L302.64,236.63L308.57,234.9L332.31,229.5L338.24,227.3L344.18,225.23L350.11,221.98L361.98,217.26L367.91,214.08L385.71,202.63L391.65,199.62L397.58,196.82L403.52,192.9L409.45,188.81L415.38,182.61L433.19,164.49L439.12,160.5L445.05,157.17L450.99,151.71L456.92,144.99L462.86,136.77L474.73,118.93L480.66,114.25L486.59,106.49L492.53,96.22L504.4,73.53L510.33,59.89L522.2,42.18L528.13,35.29L534.07,25.65L540,13.5\" style=\"vector-effect: non-scaling-stroke; fill: none; stroke: rgb(99, 110, 250); stroke-opacity: 1; stroke-width: 2px; opacity: 1;\"/></g><g class=\"points\"/><g class=\"text\"/></g></g></g><g class=\"overplot\"/><path class=\"xlines-above crisp\" d=\"M0,0\" style=\"fill: none;\"/><path class=\"ylines-above crisp\" d=\"M0,0\" style=\"fill: none;\"/><g class=\"overlines-above\"/><g class=\"xaxislayer-above\"><g class=\"xtick\"><text text-anchor=\"middle\" x=\"0\" y=\"385\" transform=\"translate(103.74,0)\" style=\"font-family: 'Courier New', monospace; font-size: 14px; fill: rgb(127, 127, 127); fill-opacity: 1; white-space: pre;\"><tspan class=\"line\" dy=\"0em\" x=\"0\" y=\"385\">Mar 1</tspan><tspan class=\"line\" dy=\"1.3em\" x=\"0\" y=\"385\">2020</tspan></text></g><g class=\"xtick\"><text text-anchor=\"middle\" x=\"0\" y=\"385\" transform=\"translate(186.81,0)\" style=\"font-family: 'Courier New', monospace; font-size: 14px; fill: rgb(127, 127, 127); fill-opacity: 1; white-space: pre;\">Mar 15</text></g><g class=\"xtick\"><text text-anchor=\"middle\" x=\"0\" y=\"385\" transform=\"translate(269.89,0)\" style=\"font-family: 'Courier New', monospace; font-size: 14px; fill: rgb(127, 127, 127); fill-opacity: 1; white-space: pre;\">Mar 29</text></g><g class=\"xtick\"><text text-anchor=\"middle\" x=\"0\" y=\"385\" transform=\"translate(352.97,0)\" style=\"font-family: 'Courier New', monospace; font-size: 14px; fill: rgb(127, 127, 127); fill-opacity: 1; white-space: pre;\">Apr 12</text></g><g class=\"xtick\"><text text-anchor=\"middle\" x=\"0\" y=\"385\" transform=\"translate(436.04,0)\" style=\"font-family: 'Courier New', monospace; font-size: 14px; fill: rgb(127, 127, 127); fill-opacity: 1; white-space: pre;\">Apr 26</text></g><g class=\"xtick\"><text text-anchor=\"middle\" x=\"0\" y=\"385\" transform=\"translate(519.12,0)\" style=\"font-family: 'Courier New', monospace; font-size: 14px; fill: rgb(127, 127, 127); fill-opacity: 1; white-space: pre;\">May 10</text></g><g class=\"xtick\"><text text-anchor=\"middle\" x=\"0\" y=\"385\" transform=\"translate(602.2,0)\" style=\"font-family: 'Courier New', monospace; font-size: 14px; fill: rgb(127, 127, 127); fill-opacity: 1; white-space: pre;\">May 24</text></g></g><g class=\"yaxislayer-above\"><g class=\"ytick\"><text text-anchor=\"end\" x=\"79\" y=\"4.8999999999999995\" transform=\"translate(0,356.5)\" style=\"font-family: 'Courier New', monospace; font-size: 14px; fill: rgb(127, 127, 127); fill-opacity: 1; white-space: pre;\">0</text></g><g class=\"ytick\"><text text-anchor=\"end\" x=\"79\" y=\"4.8999999999999995\" transform=\"translate(0,297.49)\" style=\"font-family: 'Courier New', monospace; font-size: 14px; fill: rgb(127, 127, 127); fill-opacity: 1; white-space: pre;\">100k</text></g><g class=\"ytick\"><text text-anchor=\"end\" x=\"79\" y=\"4.8999999999999995\" transform=\"translate(0,238.49)\" style=\"font-family: 'Courier New', monospace; font-size: 14px; fill: rgb(127, 127, 127); fill-opacity: 1; white-space: pre;\">200k</text></g><g class=\"ytick\"><text text-anchor=\"end\" x=\"79\" y=\"4.8999999999999995\" transform=\"translate(0,179.48000000000002)\" style=\"font-family: 'Courier New', monospace; font-size: 14px; fill: rgb(127, 127, 127); fill-opacity: 1; white-space: pre;\">300k</text></g><g class=\"ytick\"><text text-anchor=\"end\" x=\"79\" y=\"4.8999999999999995\" transform=\"translate(0,120.48)\" style=\"font-family: 'Courier New', monospace; font-size: 14px; fill: rgb(127, 127, 127); fill-opacity: 1; white-space: pre;\">400k</text></g></g><g class=\"overaxes-above\"/></g></g><g class=\"polarlayer\"/><g class=\"ternarylayer\"/><g class=\"geolayer\"/><g class=\"funnelarealayer\"/><g class=\"pielayer\"/><g class=\"treemaplayer\"/><g class=\"sunburstlayer\"/><g class=\"glimages\"/><defs id=\"topdefs-a56d5f\"><g class=\"clips\"/></defs><g class=\"layer-above\"><g class=\"imagelayer\"/><g class=\"shapelayer\"/></g><g class=\"infolayer\"><g class=\"g-gtitle\"><text class=\"gtitle\" x=\"35\" y=\"50\" text-anchor=\"start\" dy=\"0em\" style=\"font-family: 'Courier New', monospace; font-size: 20px; fill: rgb(127, 127, 127); opacity: 1; font-weight: normal; white-space: pre;\">Casos Confirmados</text></g><g class=\"g-xtitle\"/><g class=\"g-ytitle\"/></g></svg>"
          },
          "metadata": {}
        }
      ]
    },
    {
      "cell_type": "markdown",
      "metadata": {
        "id": "qH61kgYW_Jq8",
        "colab_type": "text"
      },
      "source": [
        "Por conseguinte, realizou-se também o gráfico que demonstra o aumento do nº de óbitos durante este período."
      ]
    },
    {
      "cell_type": "code",
      "metadata": {
        "id": "Q_MbN733_aYe",
        "colab_type": "code",
        "outputId": "4ebda105-0b3a-4f29-fc04-def0887793f8",
        "colab": {
          "base_uri": "https://localhost:8080/",
          "height": 542
        }
      },
      "source": [
        "# Plot\n",
        "layout = Layout(\n",
        "    title=\"Óbitos Confirmados\",\n",
        "    font=dict(\n",
        "        family=\"Courier New, monospace\",\n",
        "        size=14,\n",
        "        color=\"#7f7f7f\"\n",
        "    )\n",
        ")\n",
        "\n",
        "fig = go.Figure(data=go.Line(x = data_by_day.index, y=data_by_day['deaths'], line_color='#cf0000'))\n",
        "\n",
        "fig['layout'].update(layout)\n",
        "\n",
        "fig.show()"
      ],
      "execution_count": 11,
      "outputs": [
        {
          "output_type": "display_data",
          "data": {
            "image/svg+xml": "<svg class=\"main-svg\" xmlns=\"http://www.w3.org/2000/svg\" xmlns:xlink=\"http://www.w3.org/1999/xlink\" width=\"700\" height=\"450\" viewBox=\"0 0 700 450\"><rect x=\"0\" y=\"0\" width=\"700\" height=\"450\" style=\"fill: rgb(255, 255, 255); fill-opacity: 1;\"/><defs id=\"defs-3a6ae4\"><g class=\"clips\"><clipPath id=\"clip3a6ae4xyplot\" class=\"plotclip\"><rect width=\"540\" height=\"270\"/></clipPath><clipPath class=\"axesclip\" id=\"clip3a6ae4x\"><rect x=\"80\" y=\"0\" width=\"540\" height=\"450\"/></clipPath><clipPath class=\"axesclip\" id=\"clip3a6ae4y\"><rect x=\"0\" y=\"100\" width=\"700\" height=\"270\"/></clipPath><clipPath class=\"axesclip\" id=\"clip3a6ae4xy\"><rect x=\"80\" y=\"100\" width=\"540\" height=\"270\"/></clipPath></g><g class=\"gradients\"/></defs><g class=\"bglayer\"><rect class=\"bg\" x=\"80\" y=\"100\" width=\"540\" height=\"270\" style=\"fill: rgb(229, 236, 246); fill-opacity: 1; stroke-width: 0;\"/></g><g class=\"layer-below\"><g class=\"imagelayer\"/><g class=\"shapelayer\"/></g><g class=\"cartesianlayer\"><g class=\"subplot xy\"><g class=\"layer-subplot\"><g class=\"shapelayer\"/><g class=\"imagelayer\"/></g><g class=\"gridlayer\"><g class=\"x\"><path class=\"xgrid crisp\" transform=\"translate(103.74,0)\" d=\"M0,100v270\" style=\"stroke: rgb(255, 255, 255); stroke-opacity: 1; stroke-width: 1px;\"/><path class=\"xgrid crisp\" transform=\"translate(186.81,0)\" d=\"M0,100v270\" style=\"stroke: rgb(255, 255, 255); stroke-opacity: 1; stroke-width: 1px;\"/><path class=\"xgrid crisp\" transform=\"translate(269.89,0)\" d=\"M0,100v270\" style=\"stroke: rgb(255, 255, 255); stroke-opacity: 1; stroke-width: 1px;\"/><path class=\"xgrid crisp\" transform=\"translate(352.97,0)\" d=\"M0,100v270\" style=\"stroke: rgb(255, 255, 255); stroke-opacity: 1; stroke-width: 1px;\"/><path class=\"xgrid crisp\" transform=\"translate(436.04,0)\" d=\"M0,100v270\" style=\"stroke: rgb(255, 255, 255); stroke-opacity: 1; stroke-width: 1px;\"/><path class=\"xgrid crisp\" transform=\"translate(519.12,0)\" d=\"M0,100v270\" style=\"stroke: rgb(255, 255, 255); stroke-opacity: 1; stroke-width: 1px;\"/><path class=\"xgrid crisp\" transform=\"translate(602.2,0)\" d=\"M0,100v270\" style=\"stroke: rgb(255, 255, 255); stroke-opacity: 1; stroke-width: 1px;\"/></g><g class=\"y\"><path class=\"ygrid crisp\" transform=\"translate(0,309.03999999999996)\" d=\"M80,0h540\" style=\"stroke: rgb(255, 255, 255); stroke-opacity: 1; stroke-width: 1px;\"/><path class=\"ygrid crisp\" transform=\"translate(0,261.57)\" d=\"M80,0h540\" style=\"stroke: rgb(255, 255, 255); stroke-opacity: 1; stroke-width: 1px;\"/><path class=\"ygrid crisp\" transform=\"translate(0,214.11)\" d=\"M80,0h540\" style=\"stroke: rgb(255, 255, 255); stroke-opacity: 1; stroke-width: 1px;\"/><path class=\"ygrid crisp\" transform=\"translate(0,166.64)\" d=\"M80,0h540\" style=\"stroke: rgb(255, 255, 255); stroke-opacity: 1; stroke-width: 1px;\"/><path class=\"ygrid crisp\" transform=\"translate(0,119.18)\" d=\"M80,0h540\" style=\"stroke: rgb(255, 255, 255); stroke-opacity: 1; stroke-width: 1px;\"/></g></g><g class=\"zerolinelayer\"><path class=\"yzl zl crisp\" transform=\"translate(0,356.5)\" d=\"M80,0h540\" style=\"stroke: rgb(255, 255, 255); stroke-opacity: 1; stroke-width: 2px;\"/></g><path class=\"xlines-below\"/><path class=\"ylines-below\"/><g class=\"overlines-below\"/><g class=\"xaxislayer-below\"/><g class=\"yaxislayer-below\"/><g class=\"overaxes-below\"/><g class=\"plot\" transform=\"translate(80, 100)\" clip-path=\"url('#clip3a6ae4xyplot')\"><g class=\"scatterlayer mlayer\"><g class=\"trace scatter trace94e671\" style=\"stroke-miterlimit: 2; opacity: 1;\"><g class=\"fills\"/><g class=\"errorbars\"/><g class=\"lines\"><path class=\"js-line\" d=\"M0,256.5L172.09,255.77L178.02,255.63L213.63,253.66L219.56,253.09L243.3,250.17L249.23,248.91L261.1,246.48L267.03,245.83L278.9,243.89L284.84,241.96L308.57,234.22L314.51,233.13L326.37,230.48L332.31,228.91L344.18,221.66L350.11,218.38L356.04,216.58L361.98,213.37L379.78,200.48L385.71,196.42L397.58,189.81L403.52,187L421.32,169.68L427.25,162.1L433.19,155.62L439.12,150.91L445.05,147.15L450.99,138.79L462.86,123.67L468.79,115.84L474.73,108.1L480.66,103.49L486.59,97.09L492.53,85.9L498.46,77.47L504.4,66.2L510.33,55.92L516.26,47.53L522.2,41.33L528.13,33.67L540,13.5\" style=\"vector-effect: non-scaling-stroke; fill: none; stroke: rgb(207, 0, 0); stroke-opacity: 1; stroke-width: 2px; opacity: 1;\"/></g><g class=\"points\"/><g class=\"text\"/></g></g></g><g class=\"overplot\"/><path class=\"xlines-above crisp\" d=\"M0,0\" style=\"fill: none;\"/><path class=\"ylines-above crisp\" d=\"M0,0\" style=\"fill: none;\"/><g class=\"overlines-above\"/><g class=\"xaxislayer-above\"><g class=\"xtick\"><text text-anchor=\"middle\" x=\"0\" y=\"385\" transform=\"translate(103.74,0)\" style=\"font-family: 'Courier New', monospace; font-size: 14px; fill: rgb(127, 127, 127); fill-opacity: 1; white-space: pre;\"><tspan class=\"line\" dy=\"0em\" x=\"0\" y=\"385\">Mar 1</tspan><tspan class=\"line\" dy=\"1.3em\" x=\"0\" y=\"385\">2020</tspan></text></g><g class=\"xtick\"><text text-anchor=\"middle\" x=\"0\" y=\"385\" transform=\"translate(186.81,0)\" style=\"font-family: 'Courier New', monospace; font-size: 14px; fill: rgb(127, 127, 127); fill-opacity: 1; white-space: pre;\">Mar 15</text></g><g class=\"xtick\"><text text-anchor=\"middle\" x=\"0\" y=\"385\" transform=\"translate(269.89,0)\" style=\"font-family: 'Courier New', monospace; font-size: 14px; fill: rgb(127, 127, 127); fill-opacity: 1; white-space: pre;\">Mar 29</text></g><g class=\"xtick\"><text text-anchor=\"middle\" x=\"0\" y=\"385\" transform=\"translate(352.97,0)\" style=\"font-family: 'Courier New', monospace; font-size: 14px; fill: rgb(127, 127, 127); fill-opacity: 1; white-space: pre;\">Apr 12</text></g><g class=\"xtick\"><text text-anchor=\"middle\" x=\"0\" y=\"385\" transform=\"translate(436.04,0)\" style=\"font-family: 'Courier New', monospace; font-size: 14px; fill: rgb(127, 127, 127); fill-opacity: 1; white-space: pre;\">Apr 26</text></g><g class=\"xtick\"><text text-anchor=\"middle\" x=\"0\" y=\"385\" transform=\"translate(519.12,0)\" style=\"font-family: 'Courier New', monospace; font-size: 14px; fill: rgb(127, 127, 127); fill-opacity: 1; white-space: pre;\">May 10</text></g><g class=\"xtick\"><text text-anchor=\"middle\" x=\"0\" y=\"385\" transform=\"translate(602.2,0)\" style=\"font-family: 'Courier New', monospace; font-size: 14px; fill: rgb(127, 127, 127); fill-opacity: 1; white-space: pre;\">May 24</text></g></g><g class=\"yaxislayer-above\"><g class=\"ytick\"><text text-anchor=\"end\" x=\"79\" y=\"4.8999999999999995\" transform=\"translate(0,356.5)\" style=\"font-family: 'Courier New', monospace; font-size: 14px; fill: rgb(127, 127, 127); fill-opacity: 1; white-space: pre;\">0</text></g><g class=\"ytick\"><text text-anchor=\"end\" x=\"79\" y=\"4.8999999999999995\" transform=\"translate(0,309.03999999999996)\" style=\"font-family: 'Courier New', monospace; font-size: 14px; fill: rgb(127, 127, 127); fill-opacity: 1; white-space: pre;\">5k</text></g><g class=\"ytick\"><text text-anchor=\"end\" x=\"79\" y=\"4.8999999999999995\" transform=\"translate(0,261.57)\" style=\"font-family: 'Courier New', monospace; font-size: 14px; fill: rgb(127, 127, 127); fill-opacity: 1; white-space: pre;\">10k</text></g><g class=\"ytick\"><text text-anchor=\"end\" x=\"79\" y=\"4.8999999999999995\" transform=\"translate(0,214.11)\" style=\"font-family: 'Courier New', monospace; font-size: 14px; fill: rgb(127, 127, 127); fill-opacity: 1; white-space: pre;\">15k</text></g><g class=\"ytick\"><text text-anchor=\"end\" x=\"79\" y=\"4.8999999999999995\" transform=\"translate(0,166.64)\" style=\"font-family: 'Courier New', monospace; font-size: 14px; fill: rgb(127, 127, 127); fill-opacity: 1; white-space: pre;\">20k</text></g><g class=\"ytick\"><text text-anchor=\"end\" x=\"79\" y=\"4.8999999999999995\" transform=\"translate(0,119.18)\" style=\"font-family: 'Courier New', monospace; font-size: 14px; fill: rgb(127, 127, 127); fill-opacity: 1; white-space: pre;\">25k</text></g></g><g class=\"overaxes-above\"/></g></g><g class=\"polarlayer\"/><g class=\"ternarylayer\"/><g class=\"geolayer\"/><g class=\"funnelarealayer\"/><g class=\"pielayer\"/><g class=\"treemaplayer\"/><g class=\"sunburstlayer\"/><g class=\"glimages\"/><defs id=\"topdefs-3a6ae4\"><g class=\"clips\"/></defs><g class=\"layer-above\"><g class=\"imagelayer\"/><g class=\"shapelayer\"/></g><g class=\"infolayer\"><g class=\"g-gtitle\"><text class=\"gtitle\" x=\"35\" y=\"50\" text-anchor=\"start\" dy=\"0em\" style=\"font-family: 'Courier New', monospace; font-size: 20px; fill: rgb(127, 127, 127); opacity: 1; font-weight: normal; white-space: pre;\">Óbitos Confirmados</text></g><g class=\"g-xtitle\"/><g class=\"g-ytitle\"/></g></svg>"
          },
          "metadata": {}
        }
      ]
    },
    {
      "cell_type": "markdown",
      "metadata": {
        "id": "_8fzqZmz0fRb",
        "colab_type": "text"
      },
      "source": [
        "Averíguamos agora através de gráficos de barras, qual tem sido o aumento diário de casos positivos e de óbitos no país."
      ]
    },
    {
      "cell_type": "code",
      "metadata": {
        "id": "QxnOE6RqQj_B",
        "colab_type": "code",
        "outputId": "6f5ebfb4-239f-4166-9d0f-f891fc848cf4",
        "colab": {
          "base_uri": "https://localhost:8080/",
          "height": 542
        }
      },
      "source": [
        "# Cálculo da taxa diária de casos e mortes\n",
        "data_today = data_by_day\n",
        "data_before = data_by_day.shift(1)\n",
        "\n",
        "data_growth_rate = data_today - data_before\n",
        "data_growth_rate = data_growth_rate.dropna()\n",
        "\n",
        "cases_rate = data_growth_rate['cases'][data_growth_rate['cases']>0]\n",
        "deaths_rate = data_growth_rate['deaths'][data_growth_rate['deaths']>0]\n",
        "\n",
        "# Plot\n",
        "layout = Layout(\n",
        "    font=dict(\n",
        "        family=\"Courier New, monospace\",\n",
        "        size=14,\n",
        "        color=\"#7f7f7f\"\n",
        "    )\n",
        ")\n",
        "\n",
        "fig = make_subplots(rows=2, cols=1\n",
        "                    , subplot_titles=('Aumento Diário de Casos'\n",
        "                                      , 'Aumento Diário de Óbitos'))\n",
        "\n",
        "fig.append_trace(Bar(\n",
        "    x=cases_rate.index,\n",
        "    y=cases_rate,\n",
        "    name='Nº de novos casos'\n",
        "), row=1, col=1)\n",
        "\n",
        "fig.append_trace(Bar(\n",
        "    x=deaths_rate.index,\n",
        "    y=deaths_rate,\n",
        "    name='Nº de novos óbitos'\n",
        "), row=2, col=1)\n",
        "\n",
        "fig['layout'].update(layout)\n",
        "\n",
        "fig.show()"
      ],
      "execution_count": 12,
      "outputs": [
        {
          "output_type": "display_data",
          "data": {
            "image/svg+xml": "<svg class=\"main-svg\" xmlns=\"http://www.w3.org/2000/svg\" xmlns:xlink=\"http://www.w3.org/1999/xlink\" width=\"700\" height=\"450\" viewBox=\"0 0 700 450\"><rect x=\"0\" y=\"0\" width=\"700\" height=\"450\" style=\"fill: rgb(255, 255, 255); fill-opacity: 1;\"/><defs id=\"defs-315ad3\"><g class=\"clips\"><clipPath id=\"clip315ad3xyplot\" class=\"plotclip\"><rect width=\"403\" height=\"101.25\"/></clipPath><clipPath id=\"clip315ad3x2y2plot\" class=\"plotclip\"><rect width=\"403\" height=\"101.25\"/></clipPath><clipPath class=\"axesclip\" id=\"clip315ad3x\"><rect x=\"80\" y=\"0\" width=\"403\" height=\"450\"/></clipPath><clipPath class=\"axesclip\" id=\"clip315ad3y\"><rect x=\"0\" y=\"100\" width=\"700\" height=\"101.25\"/></clipPath><clipPath class=\"axesclip\" id=\"clip315ad3xy\"><rect x=\"80\" y=\"100\" width=\"403\" height=\"101.25\"/></clipPath><clipPath class=\"axesclip\" id=\"clip315ad3y2\"><rect x=\"0\" y=\"268.75\" width=\"700\" height=\"101.25\"/></clipPath><clipPath class=\"axesclip\" id=\"clip315ad3xy2\"><rect x=\"80\" y=\"268.75\" width=\"403\" height=\"101.25\"/></clipPath><clipPath class=\"axesclip\" id=\"clip315ad3x2\"><rect x=\"80\" y=\"0\" width=\"403\" height=\"450\"/></clipPath><clipPath class=\"axesclip\" id=\"clip315ad3x2y\"><rect x=\"80\" y=\"100\" width=\"403\" height=\"101.25\"/></clipPath><clipPath class=\"axesclip\" id=\"clip315ad3x2y2\"><rect x=\"80\" y=\"268.75\" width=\"403\" height=\"101.25\"/></clipPath></g><g class=\"gradients\"/></defs><g class=\"bglayer\"><rect class=\"bg\" x=\"80\" y=\"100\" width=\"403\" height=\"101.25\" style=\"fill: rgb(229, 236, 246); fill-opacity: 1; stroke-width: 0;\"/><rect class=\"bg\" x=\"80\" y=\"268.75\" width=\"403\" height=\"101.25\" style=\"fill: rgb(229, 236, 246); fill-opacity: 1; stroke-width: 0;\"/></g><g class=\"layer-below\"><g class=\"imagelayer\"/><g class=\"shapelayer\"/></g><g class=\"cartesianlayer\"><g class=\"subplot xy\"><g class=\"layer-subplot\"><g class=\"shapelayer\"/><g class=\"imagelayer\"/></g><g class=\"gridlayer\"><g class=\"x\"/><g class=\"y\"><path class=\"ygrid crisp\" transform=\"translate(0,180.44)\" d=\"M80,0h403\" style=\"stroke: rgb(255, 255, 255); stroke-opacity: 1; stroke-width: 1px;\"/><path class=\"ygrid crisp\" transform=\"translate(0,159.63)\" d=\"M80,0h403\" style=\"stroke: rgb(255, 255, 255); stroke-opacity: 1; stroke-width: 1px;\"/><path class=\"ygrid crisp\" transform=\"translate(0,138.81)\" d=\"M80,0h403\" style=\"stroke: rgb(255, 255, 255); stroke-opacity: 1; stroke-width: 1px;\"/><path class=\"ygrid crisp\" transform=\"translate(0,118)\" d=\"M80,0h403\" style=\"stroke: rgb(255, 255, 255); stroke-opacity: 1; stroke-width: 1px;\"/></g></g><g class=\"zerolinelayer\"><path class=\"yzl zl crisp\" transform=\"translate(0,201.25)\" d=\"M80,0h403\" style=\"stroke: rgb(255, 255, 255); stroke-opacity: 1; stroke-width: 2px;\"/></g><path class=\"xlines-below\"/><path class=\"ylines-below\"/><g class=\"overlines-below\"/><g class=\"xaxislayer-below\"/><g class=\"yaxislayer-below\"/><g class=\"overaxes-below\"/><g class=\"plot\" transform=\"translate(80, 100)\" clip-path=\"url('#clip315ad3xyplot')\"><g class=\"barlayer mlayer\"><g class=\"trace bars\" style=\"opacity: 1;\"><g class=\"points\"><g class=\"point\"><path d=\"M0.45,101.25V101.25H4.08V101.25Z\" style=\"vector-effect: non-scaling-stroke; opacity: 1; stroke-width: 0.5px; fill: rgb(99, 110, 250); fill-opacity: 1; stroke: rgb(229, 236, 246); stroke-opacity: 1;\"/></g><g class=\"point\"><path d=\"M18.57,101.25V101.25H22.19V101.25Z\" style=\"vector-effect: non-scaling-stroke; opacity: 1; stroke-width: 0.5px; fill: rgb(99, 110, 250); fill-opacity: 1; stroke: rgb(229, 236, 246); stroke-opacity: 1;\"/></g><g class=\"point\"><path d=\"M23.09,101.25V101.23H26.72V101.25Z\" style=\"vector-effect: non-scaling-stroke; opacity: 1; stroke-width: 0.5px; fill: rgb(99, 110, 250); fill-opacity: 1; stroke: rgb(229, 236, 246); stroke-opacity: 1;\"/></g><g class=\"point\"><path d=\"M27.62,101.25V101.23H31.24V101.25Z\" style=\"vector-effect: non-scaling-stroke; opacity: 1; stroke-width: 0.5px; fill: rgb(99, 110, 250); fill-opacity: 1; stroke: rgb(229, 236, 246); stroke-opacity: 1;\"/></g><g class=\"point\"><path d=\"M32.15,101.25V101.23H35.77V101.25Z\" style=\"vector-effect: non-scaling-stroke; opacity: 1; stroke-width: 0.5px; fill: rgb(99, 110, 250); fill-opacity: 1; stroke: rgb(229, 236, 246); stroke-opacity: 1;\"/></g><g class=\"point\"><path d=\"M36.68,101.25V101.23H40.3V101.25Z\" style=\"vector-effect: non-scaling-stroke; opacity: 1; stroke-width: 0.5px; fill: rgb(99, 110, 250); fill-opacity: 1; stroke: rgb(229, 236, 246); stroke-opacity: 1;\"/></g><g class=\"point\"><path d=\"M45.73,101.25V101.21H49.36V101.25Z\" style=\"vector-effect: non-scaling-stroke; opacity: 1; stroke-width: 0.5px; fill: rgb(99, 110, 250); fill-opacity: 1; stroke: rgb(229, 236, 246); stroke-opacity: 1;\"/></g><g class=\"point\"><path d=\"M50.26,101.25V101.18H53.88V101.25Z\" style=\"vector-effect: non-scaling-stroke; opacity: 1; stroke-width: 0.5px; fill: rgb(99, 110, 250); fill-opacity: 1; stroke: rgb(229, 236, 246); stroke-opacity: 1;\"/></g><g class=\"point\"><path d=\"M54.79,101.25V101.15H58.41V101.25Z\" style=\"vector-effect: non-scaling-stroke; opacity: 1; stroke-width: 0.5px; fill: rgb(99, 110, 250); fill-opacity: 1; stroke: rgb(229, 236, 246); stroke-opacity: 1;\"/></g><g class=\"point\"><path d=\"M59.32,101.25V101.16H62.94V101.25Z\" style=\"vector-effect: non-scaling-stroke; opacity: 1; stroke-width: 0.5px; fill: rgb(99, 110, 250); fill-opacity: 1; stroke: rgb(229, 236, 246); stroke-opacity: 1;\"/></g><g class=\"point\"><path d=\"M63.85,101.25V101.15H67.47V101.25Z\" style=\"vector-effect: non-scaling-stroke; opacity: 1; stroke-width: 0.5px; fill: rgb(99, 110, 250); fill-opacity: 1; stroke: rgb(229, 236, 246); stroke-opacity: 1;\"/></g><g class=\"point\"><path d=\"M68.37,101.25V100.92H72V101.25Z\" style=\"vector-effect: non-scaling-stroke; opacity: 1; stroke-width: 0.5px; fill: rgb(99, 110, 250); fill-opacity: 1; stroke: rgb(229, 236, 246); stroke-opacity: 1;\"/></g><g class=\"point\"><path d=\"M72.9,101.25V101.11H76.52V101.25Z\" style=\"vector-effect: non-scaling-stroke; opacity: 1; stroke-width: 0.5px; fill: rgb(99, 110, 250); fill-opacity: 1; stroke: rgb(229, 236, 246); stroke-opacity: 1;\"/></g><g class=\"point\"><path d=\"M77.43,101.25V101.01H81.05V101.25Z\" style=\"vector-effect: non-scaling-stroke; opacity: 1; stroke-width: 0.5px; fill: rgb(99, 110, 250); fill-opacity: 1; stroke: rgb(229, 236, 246); stroke-opacity: 1;\"/></g><g class=\"point\"><path d=\"M81.96,101.25V100.68H85.58V101.25Z\" style=\"vector-effect: non-scaling-stroke; opacity: 1; stroke-width: 0.5px; fill: rgb(99, 110, 250); fill-opacity: 1; stroke: rgb(229, 236, 246); stroke-opacity: 1;\"/></g><g class=\"point\"><path d=\"M86.49,101.25V100.45H90.11V101.25Z\" style=\"vector-effect: non-scaling-stroke; opacity: 1; stroke-width: 0.5px; fill: rgb(99, 110, 250); fill-opacity: 1; stroke: rgb(229, 236, 246); stroke-opacity: 1;\"/></g><g class=\"point\"><path d=\"M91.01,101.25V100.07H94.64V101.25Z\" style=\"vector-effect: non-scaling-stroke; opacity: 1; stroke-width: 0.5px; fill: rgb(99, 110, 250); fill-opacity: 1; stroke: rgb(229, 236, 246); stroke-opacity: 1;\"/></g><g class=\"point\"><path d=\"M95.54,101.25V100.32H99.17V101.25Z\" style=\"vector-effect: non-scaling-stroke; opacity: 1; stroke-width: 0.5px; fill: rgb(99, 110, 250); fill-opacity: 1; stroke: rgb(229, 236, 246); stroke-opacity: 1;\"/></g><g class=\"point\"><path d=\"M100.07,101.25V99.51H103.69V101.25Z\" style=\"vector-effect: non-scaling-stroke; opacity: 1; stroke-width: 0.5px; fill: rgb(99, 110, 250); fill-opacity: 1; stroke: rgb(229, 236, 246); stroke-opacity: 1;\"/></g><g class=\"point\"><path d=\"M104.6,101.25V99.81H108.22V101.25Z\" style=\"vector-effect: non-scaling-stroke; opacity: 1; stroke-width: 0.5px; fill: rgb(99, 110, 250); fill-opacity: 1; stroke: rgb(229, 236, 246); stroke-opacity: 1;\"/></g><g class=\"point\"><path d=\"M109.13,101.25V99.96H112.75V101.25Z\" style=\"vector-effect: non-scaling-stroke; opacity: 1; stroke-width: 0.5px; fill: rgb(99, 110, 250); fill-opacity: 1; stroke: rgb(229, 236, 246); stroke-opacity: 1;\"/></g><g class=\"point\"><path d=\"M113.66,101.25V100.28H117.28V101.25Z\" style=\"vector-effect: non-scaling-stroke; opacity: 1; stroke-width: 0.5px; fill: rgb(99, 110, 250); fill-opacity: 1; stroke: rgb(229, 236, 246); stroke-opacity: 1;\"/></g><g class=\"point\"><path d=\"M118.18,101.25V99.24H121.81V101.25Z\" style=\"vector-effect: non-scaling-stroke; opacity: 1; stroke-width: 0.5px; fill: rgb(99, 110, 250); fill-opacity: 1; stroke: rgb(229, 236, 246); stroke-opacity: 1;\"/></g><g class=\"point\"><path d=\"M122.71,101.25V99.16H126.33V101.25Z\" style=\"vector-effect: non-scaling-stroke; opacity: 1; stroke-width: 0.5px; fill: rgb(99, 110, 250); fill-opacity: 1; stroke: rgb(229, 236, 246); stroke-opacity: 1;\"/></g><g class=\"point\"><path d=\"M127.24,101.25V99.23H130.86V101.25Z\" style=\"vector-effect: non-scaling-stroke; opacity: 1; stroke-width: 0.5px; fill: rgb(99, 110, 250); fill-opacity: 1; stroke: rgb(229, 236, 246); stroke-opacity: 1;\"/></g><g class=\"point\"><path d=\"M131.77,101.25V99.78H135.39V101.25Z\" style=\"vector-effect: non-scaling-stroke; opacity: 1; stroke-width: 0.5px; fill: rgb(99, 110, 250); fill-opacity: 1; stroke: rgb(229, 236, 246); stroke-opacity: 1;\"/></g><g class=\"point\"><path d=\"M136.3,101.25V99.91H139.92V101.25Z\" style=\"vector-effect: non-scaling-stroke; opacity: 1; stroke-width: 0.5px; fill: rgb(99, 110, 250); fill-opacity: 1; stroke: rgb(229, 236, 246); stroke-opacity: 1;\"/></g><g class=\"point\"><path d=\"M140.82,101.25V96.51H144.45V101.25Z\" style=\"vector-effect: non-scaling-stroke; opacity: 1; stroke-width: 0.5px; fill: rgb(99, 110, 250); fill-opacity: 1; stroke: rgb(229, 236, 246); stroke-opacity: 1;\"/></g><g class=\"point\"><path d=\"M145.35,101.25V96.6H148.97V101.25Z\" style=\"vector-effect: non-scaling-stroke; opacity: 1; stroke-width: 0.5px; fill: rgb(99, 110, 250); fill-opacity: 1; stroke: rgb(229, 236, 246); stroke-opacity: 1;\"/></g><g class=\"point\"><path d=\"M149.88,101.25V96.77H153.5V101.25Z\" style=\"vector-effect: non-scaling-stroke; opacity: 1; stroke-width: 0.5px; fill: rgb(99, 110, 250); fill-opacity: 1; stroke: rgb(229, 236, 246); stroke-opacity: 1;\"/></g><g class=\"point\"><path d=\"M154.41,101.25V96.48H158.03V101.25Z\" style=\"vector-effect: non-scaling-stroke; opacity: 1; stroke-width: 0.5px; fill: rgb(99, 110, 250); fill-opacity: 1; stroke: rgb(229, 236, 246); stroke-opacity: 1;\"/></g><g class=\"point\"><path d=\"M158.94,101.25V96.16H162.56V101.25Z\" style=\"vector-effect: non-scaling-stroke; opacity: 1; stroke-width: 0.5px; fill: rgb(99, 110, 250); fill-opacity: 1; stroke: rgb(229, 236, 246); stroke-opacity: 1;\"/></g><g class=\"point\"><path d=\"M163.46,101.25V97.7H167.09V101.25Z\" style=\"vector-effect: non-scaling-stroke; opacity: 1; stroke-width: 0.5px; fill: rgb(99, 110, 250); fill-opacity: 1; stroke: rgb(229, 236, 246); stroke-opacity: 1;\"/></g><g class=\"point\"><path d=\"M167.99,101.25V97.4H171.61V101.25Z\" style=\"vector-effect: non-scaling-stroke; opacity: 1; stroke-width: 0.5px; fill: rgb(99, 110, 250); fill-opacity: 1; stroke: rgb(229, 236, 246); stroke-opacity: 1;\"/></g><g class=\"point\"><path d=\"M172.52,101.25V94.34H176.14V101.25Z\" style=\"vector-effect: non-scaling-stroke; opacity: 1; stroke-width: 0.5px; fill: rgb(99, 110, 250); fill-opacity: 1; stroke: rgb(229, 236, 246); stroke-opacity: 1;\"/></g><g class=\"point\"><path d=\"M177.05,101.25V92.05H180.67V101.25Z\" style=\"vector-effect: non-scaling-stroke; opacity: 1; stroke-width: 0.5px; fill: rgb(99, 110, 250); fill-opacity: 1; stroke: rgb(229, 236, 246); stroke-opacity: 1;\"/></g><g class=\"point\"><path d=\"M181.58,101.25V93.22H185.2V101.25Z\" style=\"vector-effect: non-scaling-stroke; opacity: 1; stroke-width: 0.5px; fill: rgb(99, 110, 250); fill-opacity: 1; stroke: rgb(229, 236, 246); stroke-opacity: 1;\"/></g><g class=\"point\"><path d=\"M186.1,101.25V93.84H189.73V101.25Z\" style=\"vector-effect: non-scaling-stroke; opacity: 1; stroke-width: 0.5px; fill: rgb(99, 110, 250); fill-opacity: 1; stroke: rgb(229, 236, 246); stroke-opacity: 1;\"/></g><g class=\"point\"><path d=\"M190.63,101.25V96.72H194.26V101.25Z\" style=\"vector-effect: non-scaling-stroke; opacity: 1; stroke-width: 0.5px; fill: rgb(99, 110, 250); fill-opacity: 1; stroke: rgb(229, 236, 246); stroke-opacity: 1;\"/></g><g class=\"point\"><path d=\"M195.16,101.25V95.25H198.78V101.25Z\" style=\"vector-effect: non-scaling-stroke; opacity: 1; stroke-width: 0.5px; fill: rgb(99, 110, 250); fill-opacity: 1; stroke: rgb(229, 236, 246); stroke-opacity: 1;\"/></g><g class=\"point\"><path d=\"M199.69,101.25V96H203.31V101.25Z\" style=\"vector-effect: non-scaling-stroke; opacity: 1; stroke-width: 0.5px; fill: rgb(99, 110, 250); fill-opacity: 1; stroke: rgb(229, 236, 246); stroke-opacity: 1;\"/></g><g class=\"point\"><path d=\"M204.22,101.25V93.62H207.84V101.25Z\" style=\"vector-effect: non-scaling-stroke; opacity: 1; stroke-width: 0.5px; fill: rgb(99, 110, 250); fill-opacity: 1; stroke: rgb(229, 236, 246); stroke-opacity: 1;\"/></g><g class=\"point\"><path d=\"M208.74,101.25V88.52H212.37V101.25Z\" style=\"vector-effect: non-scaling-stroke; opacity: 1; stroke-width: 0.5px; fill: rgb(99, 110, 250); fill-opacity: 1; stroke: rgb(229, 236, 246); stroke-opacity: 1;\"/></g><g class=\"point\"><path d=\"M213.27,101.25V92.49H216.9V101.25Z\" style=\"vector-effect: non-scaling-stroke; opacity: 1; stroke-width: 0.5px; fill: rgb(99, 110, 250); fill-opacity: 1; stroke: rgb(229, 236, 246); stroke-opacity: 1;\"/></g><g class=\"point\"><path d=\"M217.8,101.25V87.69H221.42V101.25Z\" style=\"vector-effect: non-scaling-stroke; opacity: 1; stroke-width: 0.5px; fill: rgb(99, 110, 250); fill-opacity: 1; stroke: rgb(229, 236, 246); stroke-opacity: 1;\"/></g><g class=\"point\"><path d=\"M222.33,101.25V89.11H225.95V101.25Z\" style=\"vector-effect: non-scaling-stroke; opacity: 1; stroke-width: 0.5px; fill: rgb(99, 110, 250); fill-opacity: 1; stroke: rgb(229, 236, 246); stroke-opacity: 1;\"/></g><g class=\"point\"><path d=\"M226.86,101.25V92.7H230.48V101.25Z\" style=\"vector-effect: non-scaling-stroke; opacity: 1; stroke-width: 0.5px; fill: rgb(99, 110, 250); fill-opacity: 1; stroke: rgb(229, 236, 246); stroke-opacity: 1;\"/></g><g class=\"point\"><path d=\"M231.39,101.25V93.23H235.01V101.25Z\" style=\"vector-effect: non-scaling-stroke; opacity: 1; stroke-width: 0.5px; fill: rgb(99, 110, 250); fill-opacity: 1; stroke: rgb(229, 236, 246); stroke-opacity: 1;\"/></g><g class=\"point\"><path d=\"M235.91,101.25V90.85H239.54V101.25Z\" style=\"vector-effect: non-scaling-stroke; opacity: 1; stroke-width: 0.5px; fill: rgb(99, 110, 250); fill-opacity: 1; stroke: rgb(229, 236, 246); stroke-opacity: 1;\"/></g><g class=\"point\"><path d=\"M240.44,101.25V90.1H244.06V101.25Z\" style=\"vector-effect: non-scaling-stroke; opacity: 1; stroke-width: 0.5px; fill: rgb(99, 110, 250); fill-opacity: 1; stroke: rgb(229, 236, 246); stroke-opacity: 1;\"/></g><g class=\"point\"><path d=\"M244.97,101.25V85.7H248.59V101.25Z\" style=\"vector-effect: non-scaling-stroke; opacity: 1; stroke-width: 0.5px; fill: rgb(99, 110, 250); fill-opacity: 1; stroke: rgb(229, 236, 246); stroke-opacity: 1;\"/></g><g class=\"point\"><path d=\"M249.5,101.25V86.67H253.12V101.25Z\" style=\"vector-effect: non-scaling-stroke; opacity: 1; stroke-width: 0.5px; fill: rgb(99, 110, 250); fill-opacity: 1; stroke: rgb(229, 236, 246); stroke-opacity: 1;\"/></g><g class=\"point\"><path d=\"M254.03,101.25V78.3H257.65V101.25Z\" style=\"vector-effect: non-scaling-stroke; opacity: 1; stroke-width: 0.5px; fill: rgb(99, 110, 250); fill-opacity: 1; stroke: rgb(229, 236, 246); stroke-opacity: 1;\"/></g><g class=\"point\"><path d=\"M258.55,101.25V87.19H262.18V101.25Z\" style=\"vector-effect: non-scaling-stroke; opacity: 1; stroke-width: 0.5px; fill: rgb(99, 110, 250); fill-opacity: 1; stroke: rgb(229, 236, 246); stroke-opacity: 1;\"/></g><g class=\"point\"><path d=\"M263.08,101.25V82.05H266.7V101.25Z\" style=\"vector-effect: non-scaling-stroke; opacity: 1; stroke-width: 0.5px; fill: rgb(99, 110, 250); fill-opacity: 1; stroke: rgb(229, 236, 246); stroke-opacity: 1;\"/></g><g class=\"point\"><path d=\"M267.61,101.25V78.84H271.23V101.25Z\" style=\"vector-effect: non-scaling-stroke; opacity: 1; stroke-width: 0.5px; fill: rgb(99, 110, 250); fill-opacity: 1; stroke: rgb(229, 236, 246); stroke-opacity: 1;\"/></g><g class=\"point\"><path d=\"M272.14,101.25V75.13H275.76V101.25Z\" style=\"vector-effect: non-scaling-stroke; opacity: 1; stroke-width: 0.5px; fill: rgb(99, 110, 250); fill-opacity: 1; stroke: rgb(229, 236, 246); stroke-opacity: 1;\"/></g><g class=\"point\"><path d=\"M276.67,101.25V71.21H280.29V101.25Z\" style=\"vector-effect: non-scaling-stroke; opacity: 1; stroke-width: 0.5px; fill: rgb(99, 110, 250); fill-opacity: 1; stroke: rgb(229, 236, 246); stroke-opacity: 1;\"/></g><g class=\"point\"><path d=\"M281.19,101.25V76.61H284.82V101.25Z\" style=\"vector-effect: non-scaling-stroke; opacity: 1; stroke-width: 0.5px; fill: rgb(99, 110, 250); fill-opacity: 1; stroke: rgb(229, 236, 246); stroke-opacity: 1;\"/></g><g class=\"point\"><path d=\"M285.72,101.25V80.03H289.34V101.25Z\" style=\"vector-effect: non-scaling-stroke; opacity: 1; stroke-width: 0.5px; fill: rgb(99, 110, 250); fill-opacity: 1; stroke: rgb(229, 236, 246); stroke-opacity: 1;\"/></g><g class=\"point\"><path d=\"M290.25,101.25V81.47H293.87V101.25Z\" style=\"vector-effect: non-scaling-stroke; opacity: 1; stroke-width: 0.5px; fill: rgb(99, 110, 250); fill-opacity: 1; stroke: rgb(229, 236, 246); stroke-opacity: 1;\"/></g><g class=\"point\"><path d=\"M294.78,101.25V73.64H298.4V101.25Z\" style=\"vector-effect: non-scaling-stroke; opacity: 1; stroke-width: 0.5px; fill: rgb(99, 110, 250); fill-opacity: 1; stroke: rgb(229, 236, 246); stroke-opacity: 1;\"/></g><g class=\"point\"><path d=\"M299.31,101.25V72.38H302.93V101.25Z\" style=\"vector-effect: non-scaling-stroke; opacity: 1; stroke-width: 0.5px; fill: rgb(99, 110, 250); fill-opacity: 1; stroke: rgb(229, 236, 246); stroke-opacity: 1;\"/></g><g class=\"point\"><path d=\"M303.83,101.25V57.53H307.46V101.25Z\" style=\"vector-effect: non-scaling-stroke; opacity: 1; stroke-width: 0.5px; fill: rgb(99, 110, 250); fill-opacity: 1; stroke: rgb(229, 236, 246); stroke-opacity: 1;\"/></g><g class=\"point\"><path d=\"M308.36,101.25V60.09H311.99V101.25Z\" style=\"vector-effect: non-scaling-stroke; opacity: 1; stroke-width: 0.5px; fill: rgb(99, 110, 250); fill-opacity: 1; stroke: rgb(229, 236, 246); stroke-opacity: 1;\"/></g><g class=\"point\"><path d=\"M312.89,101.25V54.32H316.51V101.25Z\" style=\"vector-effect: non-scaling-stroke; opacity: 1; stroke-width: 0.5px; fill: rgb(99, 110, 250); fill-opacity: 1; stroke: rgb(229, 236, 246); stroke-opacity: 1;\"/></g><g class=\"point\"><path d=\"M317.42,101.25V61.47H321.04V101.25Z\" style=\"vector-effect: non-scaling-stroke; opacity: 1; stroke-width: 0.5px; fill: rgb(99, 110, 250); fill-opacity: 1; stroke: rgb(229, 236, 246); stroke-opacity: 1;\"/></g><g class=\"point\"><path d=\"M321.95,101.25V73.11H325.57V101.25Z\" style=\"vector-effect: non-scaling-stroke; opacity: 1; stroke-width: 0.5px; fill: rgb(99, 110, 250); fill-opacity: 1; stroke: rgb(229, 236, 246); stroke-opacity: 1;\"/></g><g class=\"point\"><path d=\"M326.48,101.25V77.81H330.1V101.25Z\" style=\"vector-effect: non-scaling-stroke; opacity: 1; stroke-width: 0.5px; fill: rgb(99, 110, 250); fill-opacity: 1; stroke: rgb(229, 236, 246); stroke-opacity: 1;\"/></g><g class=\"point\"><path d=\"M331,101.25V62.72H334.63V101.25Z\" style=\"vector-effect: non-scaling-stroke; opacity: 1; stroke-width: 0.5px; fill: rgb(99, 110, 250); fill-opacity: 1; stroke: rgb(229, 236, 246); stroke-opacity: 1;\"/></g><g class=\"point\"><path d=\"M335.53,101.25V53.86H339.15V101.25Z\" style=\"vector-effect: non-scaling-stroke; opacity: 1; stroke-width: 0.5px; fill: rgb(99, 110, 250); fill-opacity: 1; stroke: rgb(229, 236, 246); stroke-opacity: 1;\"/></g><g class=\"point\"><path d=\"M340.06,101.25V43.21H343.68V101.25Z\" style=\"vector-effect: non-scaling-stroke; opacity: 1; stroke-width: 0.5px; fill: rgb(99, 110, 250); fill-opacity: 1; stroke: rgb(229, 236, 246); stroke-opacity: 1;\"/></g><g class=\"point\"><path d=\"M344.59,101.25V37.55H348.21V101.25Z\" style=\"vector-effect: non-scaling-stroke; opacity: 1; stroke-width: 0.5px; fill: rgb(99, 110, 250); fill-opacity: 1; stroke: rgb(229, 236, 246); stroke-opacity: 1;\"/></g><g class=\"point\"><path d=\"M349.12,101.25V39.15H352.74V101.25Z\" style=\"vector-effect: non-scaling-stroke; opacity: 1; stroke-width: 0.5px; fill: rgb(99, 110, 250); fill-opacity: 1; stroke: rgb(229, 236, 246); stroke-opacity: 1;\"/></g><g class=\"point\"><path d=\"M353.64,101.25V68.21H357.27V101.25Z\" style=\"vector-effect: non-scaling-stroke; opacity: 1; stroke-width: 0.5px; fill: rgb(99, 110, 250); fill-opacity: 1; stroke: rgb(229, 236, 246); stroke-opacity: 1;\"/></g><g class=\"point\"><path d=\"M358.17,101.25V46.56H361.79V101.25Z\" style=\"vector-effect: non-scaling-stroke; opacity: 1; stroke-width: 0.5px; fill: rgb(99, 110, 250); fill-opacity: 1; stroke: rgb(229, 236, 246); stroke-opacity: 1;\"/></g><g class=\"point\"><path d=\"M362.7,101.25V28.79H366.32V101.25Z\" style=\"vector-effect: non-scaling-stroke; opacity: 1; stroke-width: 0.5px; fill: rgb(99, 110, 250); fill-opacity: 1; stroke: rgb(229, 236, 246); stroke-opacity: 1;\"/></g><g class=\"point\"><path d=\"M367.23,101.25V18.21H370.85V101.25Z\" style=\"vector-effect: non-scaling-stroke; opacity: 1; stroke-width: 0.5px; fill: rgb(99, 110, 250); fill-opacity: 1; stroke: rgb(229, 236, 246); stroke-opacity: 1;\"/></g><g class=\"point\"><path d=\"M371.76,101.25V24.21H375.38V101.25Z\" style=\"vector-effect: non-scaling-stroke; opacity: 1; stroke-width: 0.5px; fill: rgb(99, 110, 250); fill-opacity: 1; stroke: rgb(229, 236, 246); stroke-opacity: 1;\"/></g><g class=\"point\"><path d=\"M376.28,101.25V5.06H379.91V101.25Z\" style=\"vector-effect: non-scaling-stroke; opacity: 1; stroke-width: 0.5px; fill: rgb(99, 110, 250); fill-opacity: 1; stroke: rgb(229, 236, 246); stroke-opacity: 1;\"/></g><g class=\"point\"><path d=\"M380.81,101.25V42.14H384.43V101.25Z\" style=\"vector-effect: non-scaling-stroke; opacity: 1; stroke-width: 0.5px; fill: rgb(99, 110, 250); fill-opacity: 1; stroke: rgb(229, 236, 246); stroke-opacity: 1;\"/></g><g class=\"point\"><path d=\"M385.34,101.25V35.43H388.96V101.25Z\" style=\"vector-effect: non-scaling-stroke; opacity: 1; stroke-width: 0.5px; fill: rgb(99, 110, 250); fill-opacity: 1; stroke: rgb(229, 236, 246); stroke-opacity: 1;\"/></g><g class=\"point\"><path d=\"M389.87,101.25V52.6H393.49V101.25Z\" style=\"vector-effect: non-scaling-stroke; opacity: 1; stroke-width: 0.5px; fill: rgb(99, 110, 250); fill-opacity: 1; stroke: rgb(229, 236, 246); stroke-opacity: 1;\"/></g><g class=\"point\"><path d=\"M394.4,101.25V33.3H398.02V101.25Z\" style=\"vector-effect: non-scaling-stroke; opacity: 1; stroke-width: 0.5px; fill: rgb(99, 110, 250); fill-opacity: 1; stroke: rgb(229, 236, 246); stroke-opacity: 1;\"/></g><g class=\"point\"><path d=\"M398.92,101.25V15.51H402.55V101.25Z\" style=\"vector-effect: non-scaling-stroke; opacity: 1; stroke-width: 0.5px; fill: rgb(99, 110, 250); fill-opacity: 1; stroke: rgb(229, 236, 246); stroke-opacity: 1;\"/></g></g></g></g></g><g class=\"overplot\"/><path class=\"xlines-above crisp\" d=\"M0,0\" style=\"fill: none;\"/><path class=\"ylines-above crisp\" d=\"M0,0\" style=\"fill: none;\"/><g class=\"overlines-above\"/><g class=\"xaxislayer-above\"><g class=\"xtick\"><text text-anchor=\"middle\" x=\"0\" y=\"216.25\" transform=\"translate(86.79,0)\" style=\"font-family: 'Courier New', monospace; font-size: 14px; fill: rgb(127, 127, 127); fill-opacity: 1; white-space: pre;\"><tspan class=\"line\" dy=\"0em\" x=\"0\" y=\"216.25\">Mar 1</tspan><tspan class=\"line\" dy=\"1.3em\" x=\"0\" y=\"216.25\">2020</tspan></text></g><g class=\"xtick\"><text text-anchor=\"middle\" x=\"0\" y=\"216.25\" transform=\"translate(150.19,0)\" style=\"font-family: 'Courier New', monospace; font-size: 14px; fill: rgb(127, 127, 127); fill-opacity: 1; white-space: pre;\">Mar 15</text></g><g class=\"xtick\"><text text-anchor=\"middle\" x=\"0\" y=\"216.25\" transform=\"translate(213.58,0)\" style=\"font-family: 'Courier New', monospace; font-size: 14px; fill: rgb(127, 127, 127); fill-opacity: 1; white-space: pre;\">Mar 29</text></g><g class=\"xtick\"><text text-anchor=\"middle\" x=\"0\" y=\"216.25\" transform=\"translate(276.97,0)\" style=\"font-family: 'Courier New', monospace; font-size: 14px; fill: rgb(127, 127, 127); fill-opacity: 1; white-space: pre;\">Apr 12</text></g><g class=\"xtick\"><text text-anchor=\"middle\" x=\"0\" y=\"216.25\" transform=\"translate(340.37,0)\" style=\"font-family: 'Courier New', monospace; font-size: 14px; fill: rgb(127, 127, 127); fill-opacity: 1; white-space: pre;\">Apr 26</text></g><g class=\"xtick\"><text text-anchor=\"middle\" x=\"0\" y=\"216.25\" transform=\"translate(403.76,0)\" style=\"font-family: 'Courier New', monospace; font-size: 14px; fill: rgb(127, 127, 127); fill-opacity: 1; white-space: pre;\">May 10</text></g><g class=\"xtick\"><text text-anchor=\"middle\" x=\"0\" y=\"216.25\" transform=\"translate(467.15,0)\" style=\"font-family: 'Courier New', monospace; font-size: 14px; fill: rgb(127, 127, 127); fill-opacity: 1; white-space: pre;\">May 24</text></g></g><g class=\"yaxislayer-above\"><g class=\"ytick\"><text text-anchor=\"end\" x=\"79\" y=\"4.8999999999999995\" transform=\"translate(0,201.25)\" style=\"font-family: 'Courier New', monospace; font-size: 14px; fill: rgb(127, 127, 127); fill-opacity: 1; white-space: pre;\">0</text></g><g class=\"ytick\"><text text-anchor=\"end\" x=\"79\" y=\"4.8999999999999995\" transform=\"translate(0,180.44)\" style=\"font-family: 'Courier New', monospace; font-size: 14px; fill: rgb(127, 127, 127); fill-opacity: 1; white-space: pre;\">5k</text></g><g class=\"ytick\"><text text-anchor=\"end\" x=\"79\" y=\"4.8999999999999995\" transform=\"translate(0,159.63)\" style=\"font-family: 'Courier New', monospace; font-size: 14px; fill: rgb(127, 127, 127); fill-opacity: 1; white-space: pre;\">10k</text></g><g class=\"ytick\"><text text-anchor=\"end\" x=\"79\" y=\"4.8999999999999995\" transform=\"translate(0,138.81)\" style=\"font-family: 'Courier New', monospace; font-size: 14px; fill: rgb(127, 127, 127); fill-opacity: 1; white-space: pre;\">15k</text></g><g class=\"ytick\"><text text-anchor=\"end\" x=\"79\" y=\"4.8999999999999995\" transform=\"translate(0,118)\" style=\"font-family: 'Courier New', monospace; font-size: 14px; fill: rgb(127, 127, 127); fill-opacity: 1; white-space: pre;\">20k</text></g></g><g class=\"overaxes-above\"/></g><g class=\"subplot x2y2\"><g class=\"layer-subplot\"><g class=\"shapelayer\"/><g class=\"imagelayer\"/></g><g class=\"gridlayer\"><g class=\"x2\"/><g class=\"y2\"><path class=\"y2grid crisp\" transform=\"translate(0,329.52)\" d=\"M80,0h403\" style=\"stroke: rgb(255, 255, 255); stroke-opacity: 1; stroke-width: 1px;\"/><path class=\"y2grid crisp\" transform=\"translate(0,289.03)\" d=\"M80,0h403\" style=\"stroke: rgb(255, 255, 255); stroke-opacity: 1; stroke-width: 1px;\"/></g></g><g class=\"zerolinelayer\"><path class=\"y2zl zl crisp\" transform=\"translate(0,370)\" d=\"M80,0h403\" style=\"stroke: rgb(255, 255, 255); stroke-opacity: 1; stroke-width: 2px;\"/></g><path class=\"xlines-below\"/><path class=\"ylines-below\"/><g class=\"overlines-below\"/><g class=\"xaxislayer-below\"/><g class=\"yaxislayer-below\"/><g class=\"overaxes-below\"/><g class=\"plot\" transform=\"translate(80, 268.75)\" clip-path=\"url('#clip315ad3x2y2plot')\"><g class=\"barlayer mlayer\"><g class=\"trace bars\" style=\"opacity: 1;\"><g class=\"points\"><g class=\"point\"><path d=\"M0.56,101.25V101.17H5.04V101.25Z\" style=\"vector-effect: non-scaling-stroke; opacity: 1; stroke-width: 0.5px; fill: rgb(239, 85, 59); fill-opacity: 1; stroke: rgb(229, 236, 246); stroke-opacity: 1;\"/></g><g class=\"point\"><path d=\"M6.16,101.25V101.01H10.63V101.25Z\" style=\"vector-effect: non-scaling-stroke; opacity: 1; stroke-width: 0.5px; fill: rgb(239, 85, 59); fill-opacity: 1; stroke: rgb(229, 236, 246); stroke-opacity: 1;\"/></g><g class=\"point\"><path d=\"M11.75,101.25V101.09H16.23V101.25Z\" style=\"vector-effect: non-scaling-stroke; opacity: 1; stroke-width: 0.5px; fill: rgb(239, 85, 59); fill-opacity: 1; stroke: rgb(229, 236, 246); stroke-opacity: 1;\"/></g><g class=\"point\"><path d=\"M17.35,101.25V100.85H21.83V101.25Z\" style=\"vector-effect: non-scaling-stroke; opacity: 1; stroke-width: 0.5px; fill: rgb(239, 85, 59); fill-opacity: 1; stroke: rgb(229, 236, 246); stroke-opacity: 1;\"/></g><g class=\"point\"><path d=\"M22.95,101.25V100.68H27.43V101.25Z\" style=\"vector-effect: non-scaling-stroke; opacity: 1; stroke-width: 0.5px; fill: rgb(239, 85, 59); fill-opacity: 1; stroke: rgb(229, 236, 246); stroke-opacity: 1;\"/></g><g class=\"point\"><path d=\"M28.55,101.25V100.68H33.02V101.25Z\" style=\"vector-effect: non-scaling-stroke; opacity: 1; stroke-width: 0.5px; fill: rgb(239, 85, 59); fill-opacity: 1; stroke: rgb(229, 236, 246); stroke-opacity: 1;\"/></g><g class=\"point\"><path d=\"M34.14,101.25V100.52H38.62V101.25Z\" style=\"vector-effect: non-scaling-stroke; opacity: 1; stroke-width: 0.5px; fill: rgb(239, 85, 59); fill-opacity: 1; stroke: rgb(229, 236, 246); stroke-opacity: 1;\"/></g><g class=\"point\"><path d=\"M39.74,101.25V100.28H44.22V101.25Z\" style=\"vector-effect: non-scaling-stroke; opacity: 1; stroke-width: 0.5px; fill: rgb(239, 85, 59); fill-opacity: 1; stroke: rgb(229, 236, 246); stroke-opacity: 1;\"/></g><g class=\"point\"><path d=\"M45.34,101.25V100.36H49.82V101.25Z\" style=\"vector-effect: non-scaling-stroke; opacity: 1; stroke-width: 0.5px; fill: rgb(239, 85, 59); fill-opacity: 1; stroke: rgb(229, 236, 246); stroke-opacity: 1;\"/></g><g class=\"point\"><path d=\"M50.93,101.25V99.63H55.41V101.25Z\" style=\"vector-effect: non-scaling-stroke; opacity: 1; stroke-width: 0.5px; fill: rgb(239, 85, 59); fill-opacity: 1; stroke: rgb(229, 236, 246); stroke-opacity: 1;\"/></g><g class=\"point\"><path d=\"M56.53,101.25V100.04H61.01V101.25Z\" style=\"vector-effect: non-scaling-stroke; opacity: 1; stroke-width: 0.5px; fill: rgb(239, 85, 59); fill-opacity: 1; stroke: rgb(229, 236, 246); stroke-opacity: 1;\"/></g><g class=\"point\"><path d=\"M62.13,101.25V99.47H66.61V101.25Z\" style=\"vector-effect: non-scaling-stroke; opacity: 1; stroke-width: 0.5px; fill: rgb(239, 85, 59); fill-opacity: 1; stroke: rgb(229, 236, 246); stroke-opacity: 1;\"/></g><g class=\"point\"><path d=\"M67.73,101.25V99.47H72.2V101.25Z\" style=\"vector-effect: non-scaling-stroke; opacity: 1; stroke-width: 0.5px; fill: rgb(239, 85, 59); fill-opacity: 1; stroke: rgb(229, 236, 246); stroke-opacity: 1;\"/></g><g class=\"point\"><path d=\"M73.32,101.25V99.39H77.8V101.25Z\" style=\"vector-effect: non-scaling-stroke; opacity: 1; stroke-width: 0.5px; fill: rgb(239, 85, 59); fill-opacity: 1; stroke: rgb(229, 236, 246); stroke-opacity: 1;\"/></g><g class=\"point\"><path d=\"M78.92,101.25V97.85H83.4V101.25Z\" style=\"vector-effect: non-scaling-stroke; opacity: 1; stroke-width: 0.5px; fill: rgb(239, 85, 59); fill-opacity: 1; stroke: rgb(229, 236, 246); stroke-opacity: 1;\"/></g><g class=\"point\"><path d=\"M84.52,101.25V98.01H89V101.25Z\" style=\"vector-effect: non-scaling-stroke; opacity: 1; stroke-width: 0.5px; fill: rgb(239, 85, 59); fill-opacity: 1; stroke: rgb(229, 236, 246); stroke-opacity: 1;\"/></g><g class=\"point\"><path d=\"M90.12,101.25V96.55H94.59V101.25Z\" style=\"vector-effect: non-scaling-stroke; opacity: 1; stroke-width: 0.5px; fill: rgb(239, 85, 59); fill-opacity: 1; stroke: rgb(229, 236, 246); stroke-opacity: 1;\"/></g><g class=\"point\"><path d=\"M95.71,101.25V96.39H100.19V101.25Z\" style=\"vector-effect: non-scaling-stroke; opacity: 1; stroke-width: 0.5px; fill: rgb(239, 85, 59); fill-opacity: 1; stroke: rgb(229, 236, 246); stroke-opacity: 1;\"/></g><g class=\"point\"><path d=\"M101.31,101.25V95.34H105.79V101.25Z\" style=\"vector-effect: non-scaling-stroke; opacity: 1; stroke-width: 0.5px; fill: rgb(239, 85, 59); fill-opacity: 1; stroke: rgb(229, 236, 246); stroke-opacity: 1;\"/></g><g class=\"point\"><path d=\"M106.91,101.25V96.88H111.38V101.25Z\" style=\"vector-effect: non-scaling-stroke; opacity: 1; stroke-width: 0.5px; fill: rgb(239, 85, 59); fill-opacity: 1; stroke: rgb(229, 236, 246); stroke-opacity: 1;\"/></g><g class=\"point\"><path d=\"M112.5,101.25V95.83H116.98V101.25Z\" style=\"vector-effect: non-scaling-stroke; opacity: 1; stroke-width: 0.5px; fill: rgb(239, 85, 59); fill-opacity: 1; stroke: rgb(229, 236, 246); stroke-opacity: 1;\"/></g><g class=\"point\"><path d=\"M118.1,101.25V92.02H122.58V101.25Z\" style=\"vector-effect: non-scaling-stroke; opacity: 1; stroke-width: 0.5px; fill: rgb(239, 85, 59); fill-opacity: 1; stroke: rgb(229, 236, 246); stroke-opacity: 1;\"/></g><g class=\"point\"><path d=\"M123.7,101.25V90.48H128.18V101.25Z\" style=\"vector-effect: non-scaling-stroke; opacity: 1; stroke-width: 0.5px; fill: rgb(239, 85, 59); fill-opacity: 1; stroke: rgb(229, 236, 246); stroke-opacity: 1;\"/></g><g class=\"point\"><path d=\"M129.3,101.25V89.83H133.77V101.25Z\" style=\"vector-effect: non-scaling-stroke; opacity: 1; stroke-width: 0.5px; fill: rgb(239, 85, 59); fill-opacity: 1; stroke: rgb(229, 236, 246); stroke-opacity: 1;\"/></g><g class=\"point\"><path d=\"M134.89,101.25V91.94H139.37V101.25Z\" style=\"vector-effect: non-scaling-stroke; opacity: 1; stroke-width: 0.5px; fill: rgb(239, 85, 59); fill-opacity: 1; stroke: rgb(229, 236, 246); stroke-opacity: 1;\"/></g><g class=\"point\"><path d=\"M140.49,101.25V95.74H144.97V101.25Z\" style=\"vector-effect: non-scaling-stroke; opacity: 1; stroke-width: 0.5px; fill: rgb(239, 85, 59); fill-opacity: 1; stroke: rgb(229, 236, 246); stroke-opacity: 1;\"/></g><g class=\"point\"><path d=\"M146.09,101.25V93.23H150.57V101.25Z\" style=\"vector-effect: non-scaling-stroke; opacity: 1; stroke-width: 0.5px; fill: rgb(239, 85, 59); fill-opacity: 1; stroke: rgb(229, 236, 246); stroke-opacity: 1;\"/></g><g class=\"point\"><path d=\"M151.68,101.25V92.75H156.16V101.25Z\" style=\"vector-effect: non-scaling-stroke; opacity: 1; stroke-width: 0.5px; fill: rgb(239, 85, 59); fill-opacity: 1; stroke: rgb(229, 236, 246); stroke-opacity: 1;\"/></g><g class=\"point\"><path d=\"M157.28,101.25V84.73H161.76V101.25Z\" style=\"vector-effect: non-scaling-stroke; opacity: 1; stroke-width: 0.5px; fill: rgb(239, 85, 59); fill-opacity: 1; stroke: rgb(229, 236, 246); stroke-opacity: 1;\"/></g><g class=\"point\"><path d=\"M162.88,101.25V84.73H167.36V101.25Z\" style=\"vector-effect: non-scaling-stroke; opacity: 1; stroke-width: 0.5px; fill: rgb(239, 85, 59); fill-opacity: 1; stroke: rgb(229, 236, 246); stroke-opacity: 1;\"/></g><g class=\"point\"><path d=\"M168.48,101.25V86.03H172.95V101.25Z\" style=\"vector-effect: non-scaling-stroke; opacity: 1; stroke-width: 0.5px; fill: rgb(239, 85, 59); fill-opacity: 1; stroke: rgb(229, 236, 246); stroke-opacity: 1;\"/></g><g class=\"point\"><path d=\"M174.07,101.25V83.68H178.55V101.25Z\" style=\"vector-effect: non-scaling-stroke; opacity: 1; stroke-width: 0.5px; fill: rgb(239, 85, 59); fill-opacity: 1; stroke: rgb(229, 236, 246); stroke-opacity: 1;\"/></g><g class=\"point\"><path d=\"M179.67,101.25V84.57H184.15V101.25Z\" style=\"vector-effect: non-scaling-stroke; opacity: 1; stroke-width: 0.5px; fill: rgb(239, 85, 59); fill-opacity: 1; stroke: rgb(229, 236, 246); stroke-opacity: 1;\"/></g><g class=\"point\"><path d=\"M185.27,101.25V91.94H189.75V101.25Z\" style=\"vector-effect: non-scaling-stroke; opacity: 1; stroke-width: 0.5px; fill: rgb(239, 85, 59); fill-opacity: 1; stroke: rgb(229, 236, 246); stroke-opacity: 1;\"/></g><g class=\"point\"><path d=\"M190.87,101.25V92.1H195.34V101.25Z\" style=\"vector-effect: non-scaling-stroke; opacity: 1; stroke-width: 0.5px; fill: rgb(239, 85, 59); fill-opacity: 1; stroke: rgb(229, 236, 246); stroke-opacity: 1;\"/></g><g class=\"point\"><path d=\"M196.46,101.25V87.81H200.94V101.25Z\" style=\"vector-effect: non-scaling-stroke; opacity: 1; stroke-width: 0.5px; fill: rgb(239, 85, 59); fill-opacity: 1; stroke: rgb(229, 236, 246); stroke-opacity: 1;\"/></g><g class=\"point\"><path d=\"M202.06,101.25V87.89H206.54V101.25Z\" style=\"vector-effect: non-scaling-stroke; opacity: 1; stroke-width: 0.5px; fill: rgb(239, 85, 59); fill-opacity: 1; stroke: rgb(229, 236, 246); stroke-opacity: 1;\"/></g><g class=\"point\"><path d=\"M207.66,101.25V68.3H212.13V101.25Z\" style=\"vector-effect: non-scaling-stroke; opacity: 1; stroke-width: 0.5px; fill: rgb(239, 85, 59); fill-opacity: 1; stroke: rgb(229, 236, 246); stroke-opacity: 1;\"/></g><g class=\"point\"><path d=\"M213.25,101.25V72.35H217.73V101.25Z\" style=\"vector-effect: non-scaling-stroke; opacity: 1; stroke-width: 0.5px; fill: rgb(239, 85, 59); fill-opacity: 1; stroke: rgb(229, 236, 246); stroke-opacity: 1;\"/></g><g class=\"point\"><path d=\"M218.85,101.25V73.24H223.33V101.25Z\" style=\"vector-effect: non-scaling-stroke; opacity: 1; stroke-width: 0.5px; fill: rgb(239, 85, 59); fill-opacity: 1; stroke: rgb(229, 236, 246); stroke-opacity: 1;\"/></g><g class=\"point\"><path d=\"M224.45,101.25V85.95H228.93V101.25Z\" style=\"vector-effect: non-scaling-stroke; opacity: 1; stroke-width: 0.5px; fill: rgb(239, 85, 59); fill-opacity: 1; stroke: rgb(229, 236, 246); stroke-opacity: 1;\"/></g><g class=\"point\"><path d=\"M230.05,101.25V73.88H234.52V101.25Z\" style=\"vector-effect: non-scaling-stroke; opacity: 1; stroke-width: 0.5px; fill: rgb(239, 85, 59); fill-opacity: 1; stroke: rgb(229, 236, 246); stroke-opacity: 1;\"/></g><g class=\"point\"><path d=\"M235.64,101.25V62.87H240.12V101.25Z\" style=\"vector-effect: non-scaling-stroke; opacity: 1; stroke-width: 0.5px; fill: rgb(239, 85, 59); fill-opacity: 1; stroke: rgb(229, 236, 246); stroke-opacity: 1;\"/></g><g class=\"point\"><path d=\"M241.24,101.25V64.9H245.72V101.25Z\" style=\"vector-effect: non-scaling-stroke; opacity: 1; stroke-width: 0.5px; fill: rgb(239, 85, 59); fill-opacity: 1; stroke: rgb(229, 236, 246); stroke-opacity: 1;\"/></g><g class=\"point\"><path d=\"M246.84,101.25V66.03H251.32V101.25Z\" style=\"vector-effect: non-scaling-stroke; opacity: 1; stroke-width: 0.5px; fill: rgb(239, 85, 59); fill-opacity: 1; stroke: rgb(229, 236, 246); stroke-opacity: 1;\"/></g><g class=\"point\"><path d=\"M252.43,101.25V66.6H256.91V101.25Z\" style=\"vector-effect: non-scaling-stroke; opacity: 1; stroke-width: 0.5px; fill: rgb(239, 85, 59); fill-opacity: 1; stroke: rgb(229, 236, 246); stroke-opacity: 1;\"/></g><g class=\"point\"><path d=\"M258.03,101.25V69.27H262.51V101.25Z\" style=\"vector-effect: non-scaling-stroke; opacity: 1; stroke-width: 0.5px; fill: rgb(239, 85, 59); fill-opacity: 1; stroke: rgb(229, 236, 246); stroke-opacity: 1;\"/></g><g class=\"point\"><path d=\"M263.63,101.25V76.88H268.11V101.25Z\" style=\"vector-effect: non-scaling-stroke; opacity: 1; stroke-width: 0.5px; fill: rgb(239, 85, 59); fill-opacity: 1; stroke: rgb(229, 236, 246); stroke-opacity: 1;\"/></g><g class=\"point\"><path d=\"M269.23,101.25V77.28H273.7V101.25Z\" style=\"vector-effect: non-scaling-stroke; opacity: 1; stroke-width: 0.5px; fill: rgb(239, 85, 59); fill-opacity: 1; stroke: rgb(229, 236, 246); stroke-opacity: 1;\"/></g><g class=\"point\"><path d=\"M274.82,101.25V52.67H279.3V101.25Z\" style=\"vector-effect: non-scaling-stroke; opacity: 1; stroke-width: 0.5px; fill: rgb(239, 85, 59); fill-opacity: 1; stroke: rgb(229, 236, 246); stroke-opacity: 1;\"/></g><g class=\"point\"><path d=\"M280.42,101.25V51.54H284.9V101.25Z\" style=\"vector-effect: non-scaling-stroke; opacity: 1; stroke-width: 0.5px; fill: rgb(239, 85, 59); fill-opacity: 1; stroke: rgb(229, 236, 246); stroke-opacity: 1;\"/></g><g class=\"point\"><path d=\"M286.02,101.25V51.78H290.5V101.25Z\" style=\"vector-effect: non-scaling-stroke; opacity: 1; stroke-width: 0.5px; fill: rgb(239, 85, 59); fill-opacity: 1; stroke: rgb(229, 236, 246); stroke-opacity: 1;\"/></g><g class=\"point\"><path d=\"M291.62,101.25V36.64H296.09V101.25Z\" style=\"vector-effect: non-scaling-stroke; opacity: 1; stroke-width: 0.5px; fill: rgb(239, 85, 59); fill-opacity: 1; stroke: rgb(229, 236, 246); stroke-opacity: 1;\"/></g><g class=\"point\"><path d=\"M297.21,101.25V45.95H301.69V101.25Z\" style=\"vector-effect: non-scaling-stroke; opacity: 1; stroke-width: 0.5px; fill: rgb(239, 85, 59); fill-opacity: 1; stroke: rgb(229, 236, 246); stroke-opacity: 1;\"/></g><g class=\"point\"><path d=\"M302.81,101.25V61.09H307.29V101.25Z\" style=\"vector-effect: non-scaling-stroke; opacity: 1; stroke-width: 0.5px; fill: rgb(239, 85, 59); fill-opacity: 1; stroke: rgb(229, 236, 246); stroke-opacity: 1;\"/></g><g class=\"point\"><path d=\"M308.41,101.25V69.19H312.88V101.25Z\" style=\"vector-effect: non-scaling-stroke; opacity: 1; stroke-width: 0.5px; fill: rgb(239, 85, 59); fill-opacity: 1; stroke: rgb(229, 236, 246); stroke-opacity: 1;\"/></g><g class=\"point\"><path d=\"M314,101.25V29.92H318.48V101.25Z\" style=\"vector-effect: non-scaling-stroke; opacity: 1; stroke-width: 0.5px; fill: rgb(239, 85, 59); fill-opacity: 1; stroke: rgb(229, 236, 246); stroke-opacity: 1;\"/></g><g class=\"point\"><path d=\"M319.6,101.25V40.61H324.08V101.25Z\" style=\"vector-effect: non-scaling-stroke; opacity: 1; stroke-width: 0.5px; fill: rgb(239, 85, 59); fill-opacity: 1; stroke: rgb(229, 236, 246); stroke-opacity: 1;\"/></g><g class=\"point\"><path d=\"M325.2,101.25V32.91H329.68V101.25Z\" style=\"vector-effect: non-scaling-stroke; opacity: 1; stroke-width: 0.5px; fill: rgb(239, 85, 59); fill-opacity: 1; stroke: rgb(229, 236, 246); stroke-opacity: 1;\"/></g><g class=\"point\"><path d=\"M330.8,101.25V34.53H335.27V101.25Z\" style=\"vector-effect: non-scaling-stroke; opacity: 1; stroke-width: 0.5px; fill: rgb(239, 85, 59); fill-opacity: 1; stroke: rgb(229, 236, 246); stroke-opacity: 1;\"/></g><g class=\"point\"><path d=\"M336.39,101.25V35.18H340.87V101.25Z\" style=\"vector-effect: non-scaling-stroke; opacity: 1; stroke-width: 0.5px; fill: rgb(239, 85, 59); fill-opacity: 1; stroke: rgb(229, 236, 246); stroke-opacity: 1;\"/></g><g class=\"point\"><path d=\"M341.99,101.25V61.98H346.47V101.25Z\" style=\"vector-effect: non-scaling-stroke; opacity: 1; stroke-width: 0.5px; fill: rgb(239, 85, 59); fill-opacity: 1; stroke: rgb(229, 236, 246); stroke-opacity: 1;\"/></g><g class=\"point\"><path d=\"M347.59,101.25V46.68H352.07V101.25Z\" style=\"vector-effect: non-scaling-stroke; opacity: 1; stroke-width: 0.5px; fill: rgb(239, 85, 59); fill-opacity: 1; stroke: rgb(229, 236, 246); stroke-opacity: 1;\"/></g><g class=\"point\"><path d=\"M353.18,101.25V5.79H357.66V101.25Z\" style=\"vector-effect: non-scaling-stroke; opacity: 1; stroke-width: 0.5px; fill: rgb(239, 85, 59); fill-opacity: 1; stroke: rgb(229, 236, 246); stroke-opacity: 1;\"/></g><g class=\"point\"><path d=\"M358.78,101.25V29.35H363.26V101.25Z\" style=\"vector-effect: non-scaling-stroke; opacity: 1; stroke-width: 0.5px; fill: rgb(239, 85, 59); fill-opacity: 1; stroke: rgb(229, 236, 246); stroke-opacity: 1;\"/></g><g class=\"point\"><path d=\"M364.38,101.25V5.06H368.86V101.25Z\" style=\"vector-effect: non-scaling-stroke; opacity: 1; stroke-width: 0.5px; fill: rgb(239, 85, 59); fill-opacity: 1; stroke: rgb(229, 236, 246); stroke-opacity: 1;\"/></g><g class=\"point\"><path d=\"M369.98,101.25V13.64H374.45V101.25Z\" style=\"vector-effect: non-scaling-stroke; opacity: 1; stroke-width: 0.5px; fill: rgb(239, 85, 59); fill-opacity: 1; stroke: rgb(229, 236, 246); stroke-opacity: 1;\"/></g><g class=\"point\"><path d=\"M375.57,101.25V29.68H380.05V101.25Z\" style=\"vector-effect: non-scaling-stroke; opacity: 1; stroke-width: 0.5px; fill: rgb(239, 85, 59); fill-opacity: 1; stroke: rgb(229, 236, 246); stroke-opacity: 1;\"/></g><g class=\"point\"><path d=\"M381.17,101.25V48.38H385.65V101.25Z\" style=\"vector-effect: non-scaling-stroke; opacity: 1; stroke-width: 0.5px; fill: rgb(239, 85, 59); fill-opacity: 1; stroke: rgb(229, 236, 246); stroke-opacity: 1;\"/></g><g class=\"point\"><path d=\"M386.77,101.25V35.91H391.25V101.25Z\" style=\"vector-effect: non-scaling-stroke; opacity: 1; stroke-width: 0.5px; fill: rgb(239, 85, 59); fill-opacity: 1; stroke: rgb(229, 236, 246); stroke-opacity: 1;\"/></g><g class=\"point\"><path d=\"M392.37,101.25V17.13H396.84V101.25Z\" style=\"vector-effect: non-scaling-stroke; opacity: 1; stroke-width: 0.5px; fill: rgb(239, 85, 59); fill-opacity: 1; stroke: rgb(229, 236, 246); stroke-opacity: 1;\"/></g><g class=\"point\"><path d=\"M397.96,101.25V13.32H402.44V101.25Z\" style=\"vector-effect: non-scaling-stroke; opacity: 1; stroke-width: 0.5px; fill: rgb(239, 85, 59); fill-opacity: 1; stroke: rgb(229, 236, 246); stroke-opacity: 1;\"/></g></g></g></g></g><g class=\"overplot\"/><path class=\"xlines-above crisp\" d=\"M0,0\" style=\"fill: none;\"/><path class=\"ylines-above crisp\" d=\"M0,0\" style=\"fill: none;\"/><g class=\"overlines-above\"/><g class=\"xaxislayer-above\"><g class=\"x2tick\"><text text-anchor=\"middle\" x=\"0\" y=\"385\" transform=\"translate(149.97,0)\" style=\"font-family: 'Courier New', monospace; font-size: 14px; fill: rgb(127, 127, 127); fill-opacity: 1; white-space: pre;\"><tspan class=\"line\" dy=\"0em\" x=\"0\" y=\"385\">Mar 29</tspan><tspan class=\"line\" dy=\"1.3em\" x=\"0\" y=\"385\">2020</tspan></text></g><g class=\"x2tick\"><text text-anchor=\"middle\" x=\"0\" y=\"385\" transform=\"translate(228.33,0)\" style=\"font-family: 'Courier New', monospace; font-size: 14px; fill: rgb(127, 127, 127); fill-opacity: 1; white-space: pre;\">Apr 12</text></g><g class=\"x2tick\"><text text-anchor=\"middle\" x=\"0\" y=\"385\" transform=\"translate(306.69,0)\" style=\"font-family: 'Courier New', monospace; font-size: 14px; fill: rgb(127, 127, 127); fill-opacity: 1; white-space: pre;\">Apr 26</text></g><g class=\"x2tick\"><text text-anchor=\"middle\" x=\"0\" y=\"385\" transform=\"translate(385.05,0)\" style=\"font-family: 'Courier New', monospace; font-size: 14px; fill: rgb(127, 127, 127); fill-opacity: 1; white-space: pre;\">May 10</text></g><g class=\"x2tick\"><text text-anchor=\"middle\" x=\"0\" y=\"385\" transform=\"translate(463.41,0)\" style=\"font-family: 'Courier New', monospace; font-size: 14px; fill: rgb(127, 127, 127); fill-opacity: 1; white-space: pre;\">May 24</text></g></g><g class=\"yaxislayer-above\"><g class=\"y2tick\"><text text-anchor=\"end\" x=\"79\" y=\"4.8999999999999995\" transform=\"translate(0,370)\" style=\"font-family: 'Courier New', monospace; font-size: 14px; fill: rgb(127, 127, 127); fill-opacity: 1; white-space: pre;\">0</text></g><g class=\"y2tick\"><text text-anchor=\"end\" x=\"79\" y=\"4.8999999999999995\" transform=\"translate(0,329.52)\" style=\"font-family: 'Courier New', monospace; font-size: 14px; fill: rgb(127, 127, 127); fill-opacity: 1; white-space: pre;\">500</text></g><g class=\"y2tick\"><text text-anchor=\"end\" x=\"79\" y=\"4.8999999999999995\" transform=\"translate(0,289.03)\" style=\"font-family: 'Courier New', monospace; font-size: 14px; fill: rgb(127, 127, 127); fill-opacity: 1; white-space: pre;\">1000</text></g></g><g class=\"overaxes-above\"/></g></g><g class=\"polarlayer\"/><g class=\"ternarylayer\"/><g class=\"geolayer\"/><g class=\"funnelarealayer\"/><g class=\"pielayer\"/><g class=\"treemaplayer\"/><g class=\"sunburstlayer\"/><g class=\"glimages\"/><defs id=\"topdefs-315ad3\"><g class=\"clips\"/><clipPath id=\"legend315ad3\"><rect width=\"197\" height=\"53\" x=\"0\" y=\"0\"/></clipPath></defs><g class=\"layer-above\"><g class=\"imagelayer\"/><g class=\"shapelayer\"/></g><g class=\"infolayer\"><g class=\"legend\" pointer-events=\"all\" transform=\"translate(491.06, 100)\"><rect class=\"bg\" shape-rendering=\"crispEdges\" style=\"stroke: rgb(68, 68, 68); stroke-opacity: 1; fill: rgb(255, 255, 255); fill-opacity: 1; stroke-width: 0px;\" width=\"197\" height=\"53\" x=\"0\" y=\"0\"/><g class=\"scrollbox\" transform=\"translate(0, 0)\" clip-path=\"url('#legend315ad3')\"><g class=\"groups\"><g class=\"traces\" transform=\"translate(0, 15.6)\" style=\"opacity: 1;\"><text class=\"legendtext user-select-none\" text-anchor=\"start\" x=\"40\" y=\"5.46\" style=\"font-family: 'Courier New', monospace; font-size: 14px; fill: rgb(127, 127, 127); fill-opacity: 1; white-space: pre;\">Nº de novos casos</text><g class=\"layers\" style=\"opacity: 1;\"><g class=\"legendfill\"/><g class=\"legendlines\"/><g class=\"legendsymbols\"><g class=\"legendpoints\"><path class=\"legendundefined\" d=\"M6,6H-6V-6H6Z\" transform=\"translate(20,0)\" style=\"stroke-width: 0.5px; fill: rgb(99, 110, 250); fill-opacity: 1; stroke: rgb(229, 236, 246); stroke-opacity: 1;\"/></g></g></g><rect class=\"legendtoggle\" pointer-events=\"all\" x=\"0\" y=\"-10.6\" width=\"191.21875\" height=\"21.2\" style=\"cursor: pointer; fill: rgb(0, 0, 0); fill-opacity: 0;\"/></g><g class=\"traces\" transform=\"translate(0, 36.8)\" style=\"opacity: 1;\"><text class=\"legendtext user-select-none\" text-anchor=\"start\" x=\"40\" y=\"5.46\" style=\"font-family: 'Courier New', monospace; font-size: 14px; fill: rgb(127, 127, 127); fill-opacity: 1; white-space: pre;\">Nº de novos óbitos</text><g class=\"layers\" style=\"opacity: 1;\"><g class=\"legendfill\"/><g class=\"legendlines\"/><g class=\"legendsymbols\"><g class=\"legendpoints\"><path class=\"legendundefined\" d=\"M6,6H-6V-6H6Z\" transform=\"translate(20,0)\" style=\"stroke-width: 0.5px; fill: rgb(239, 85, 59); fill-opacity: 1; stroke: rgb(229, 236, 246); stroke-opacity: 1;\"/></g></g></g><rect class=\"legendtoggle\" pointer-events=\"all\" x=\"0\" y=\"-10.6\" width=\"191.21875\" height=\"21.2\" style=\"cursor: pointer; fill: rgb(0, 0, 0); fill-opacity: 0;\"/></g></g></g><rect class=\"scrollbar\" rx=\"20\" ry=\"3\" width=\"0\" height=\"0\" style=\"fill: rgb(128, 139, 164); fill-opacity: 1;\" x=\"0\" y=\"0\"/></g><g class=\"g-gtitle\"/><g class=\"g-xtitle\"/><g class=\"g-x2title\"/><g class=\"g-ytitle\"/><g class=\"g-y2title\"/><g class=\"annotation\" data-index=\"0\" style=\"opacity: 1;\"><g class=\"annotation-text-g\" transform=\"rotate(0,281.5,89)\"><g class=\"cursor-pointer\" transform=\"translate(169, 78)\"><rect class=\"bg\" x=\"0.5\" y=\"0.5\" width=\"224\" height=\"21\" style=\"stroke-width: 1px; stroke: rgb(0, 0, 0); stroke-opacity: 0; fill: rgb(0, 0, 0); fill-opacity: 0;\"/><text class=\"annotation-text\" text-anchor=\"middle\" x=\"112.40625\" y=\"15\" style=\"font-family: 'Courier New', monospace; font-size: 16px; fill: rgb(127, 127, 127); fill-opacity: 1; white-space: pre;\">Aumento Diário de Casos</text></g></g></g><g class=\"annotation\" data-index=\"1\" style=\"opacity: 1;\"><g class=\"annotation-text-g\" transform=\"rotate(0,281.5,257.25)\"><g class=\"cursor-pointer\" transform=\"translate(165, 246)\"><rect class=\"bg\" x=\"0.5\" y=\"0.5\" width=\"233\" height=\"22\" style=\"stroke-width: 1px; stroke: rgb(0, 0, 0); stroke-opacity: 0; fill: rgb(0, 0, 0); fill-opacity: 0;\"/><text class=\"annotation-text\" text-anchor=\"middle\" x=\"117.21875\" y=\"16\" style=\"font-family: 'Courier New', monospace; font-size: 16px; fill: rgb(127, 127, 127); fill-opacity: 1; white-space: pre;\">Aumento Diário de Óbitos</text></g></g></g></g></svg>"
          },
          "metadata": {}
        }
      ]
    },
    {
      "cell_type": "markdown",
      "metadata": {
        "id": "37B4IUd61INl",
        "colab_type": "text"
      },
      "source": [
        "Conseguimos ver que quanto ao gráfico da taxa de novos casos, até recentemente continua a aumentar o recorde diário de casos. Isto pode indicar vários fatores, nomeadamente o aumento da realização de testes.\n",
        "\n",
        "Quanto ao gráfico da taxa de novos óbitos, é normal que acompanhe a tendência do primeiro. Pois quantas mais pessoas ficam infetadas, mais o nº diário de óbitos irá aumentar."
      ]
    },
    {
      "cell_type": "markdown",
      "metadata": {
        "id": "_KiWNifC2sic",
        "colab_type": "text"
      },
      "source": [
        "Na computação seguinte é investigada a divisão dos dados por estados, em termos de casos e óbitos."
      ]
    },
    {
      "cell_type": "code",
      "metadata": {
        "id": "CMwGb84K457u",
        "colab_type": "code",
        "outputId": "4e48bab6-7fd0-4004-a31f-9595c2f6b9b6",
        "colab": {
          "base_uri": "https://localhost:8080/",
          "height": 617
        }
      },
      "source": [
        "# Data mais recente do dataset\n",
        "last_date = data['date'].tail(1).item()\n",
        "\n",
        "# Casos e mortes por estado, para a última data do dataset\n",
        "data_by_state = data[['cases','deaths']][data['date']==last_date].groupby(data['state']).sum().sort_values(by = 'cases', ascending=False)\n",
        "\n",
        "# Plot\n",
        "layout = Layout(\n",
        "    title=\"Casos e Óbitos por Estado\",\n",
        "    font=dict(\n",
        "        family=\"Courier New, monospace\",\n",
        "        size=14,\n",
        "        color=\"#7f7f7f\"\n",
        "    ),\n",
        "    height=600\n",
        ")\n",
        "\n",
        "fig = go.Figure(data=[\n",
        "    \n",
        "    go.Bar(name='Nº Casos'\n",
        "           , x=data_by_state.index\n",
        "           , y=data_by_state['cases']\n",
        "           ),\n",
        "    \n",
        "    go.Bar(name='Nº Óbitos'\n",
        "           , x=data_by_state.index\n",
        "           , y=data_by_state['deaths']\n",
        "           , text=data_by_state['deaths']\n",
        "           , textposition='outside')\n",
        "])\n",
        "\n",
        "fig.update_layout(barmode='stack')\n",
        "fig['layout'].update(layout)\n",
        "\n",
        "fig.show()"
      ],
      "execution_count": 13,
      "outputs": [
        {
          "output_type": "display_data",
          "data": {
            "image/svg+xml": "<svg class=\"main-svg\" xmlns=\"http://www.w3.org/2000/svg\" xmlns:xlink=\"http://www.w3.org/1999/xlink\" width=\"700\" height=\"450\" viewBox=\"0 0 700 450\"><rect x=\"0\" y=\"0\" width=\"700\" height=\"450\" style=\"fill: rgb(255, 255, 255); fill-opacity: 1;\"/><defs id=\"defs-9a164f\"><g class=\"clips\"><clipPath id=\"clip9a164fxyplot\" class=\"plotclip\"><rect width=\"477\" height=\"170\"/></clipPath><clipPath class=\"axesclip\" id=\"clip9a164fx\"><rect x=\"80\" y=\"0\" width=\"477\" height=\"450\"/></clipPath><clipPath class=\"axesclip\" id=\"clip9a164fy\"><rect x=\"0\" y=\"100\" width=\"700\" height=\"170\"/></clipPath><clipPath class=\"axesclip\" id=\"clip9a164fxy\"><rect x=\"80\" y=\"100\" width=\"477\" height=\"170\"/></clipPath></g><g class=\"gradients\"/></defs><g class=\"bglayer\"><rect class=\"bg\" x=\"80\" y=\"100\" width=\"477\" height=\"170\" style=\"fill: rgb(229, 236, 246); fill-opacity: 1; stroke-width: 0;\"/></g><g class=\"layer-below\"><g class=\"imagelayer\"/><g class=\"shapelayer\"/></g><g class=\"cartesianlayer\"><g class=\"subplot xy\"><g class=\"layer-subplot\"><g class=\"shapelayer\"/><g class=\"imagelayer\"/></g><g class=\"gridlayer\"><g class=\"x\"/><g class=\"y\"><path class=\"ygrid crisp\" transform=\"translate(0,236.42)\" d=\"M80,0h477\" style=\"stroke: rgb(255, 255, 255); stroke-opacity: 1; stroke-width: 1px;\"/><path class=\"ygrid crisp\" transform=\"translate(0,202.84)\" d=\"M80,0h477\" style=\"stroke: rgb(255, 255, 255); stroke-opacity: 1; stroke-width: 1px;\"/><path class=\"ygrid crisp\" transform=\"translate(0,169.26999999999998)\" d=\"M80,0h477\" style=\"stroke: rgb(255, 255, 255); stroke-opacity: 1; stroke-width: 1px;\"/><path class=\"ygrid crisp\" transform=\"translate(0,135.69)\" d=\"M80,0h477\" style=\"stroke: rgb(255, 255, 255); stroke-opacity: 1; stroke-width: 1px;\"/><path class=\"ygrid crisp\" transform=\"translate(0,102.11)\" d=\"M80,0h477\" style=\"stroke: rgb(255, 255, 255); stroke-opacity: 1; stroke-width: 1px;\"/></g></g><g class=\"zerolinelayer\"><path class=\"yzl zl crisp\" transform=\"translate(0,270)\" d=\"M80,0h477\" style=\"stroke: rgb(255, 255, 255); stroke-opacity: 1; stroke-width: 2px;\"/></g><path class=\"xlines-below\"/><path class=\"ylines-below\"/><g class=\"overlines-below\"/><g class=\"xaxislayer-below\"/><g class=\"yaxislayer-below\"/><g class=\"overaxes-below\"/><g class=\"plot\" transform=\"translate(80, 100)\" clip-path=\"url('#clip9a164fxyplot')\"><g class=\"barlayer mlayer\"><g class=\"trace bars\" shape-rendering=\"crispEdges\" style=\"opacity: 1;\"><g class=\"points\"><g class=\"point\"><path d=\"M1.77,170V19.77H15.9V170Z\" style=\"vector-effect: non-scaling-stroke; opacity: 1; stroke-width: 0.5px; fill: rgb(99, 110, 250); fill-opacity: 1; stroke: rgb(229, 236, 246); stroke-opacity: 1;\"/></g><g class=\"point\"><path d=\"M19.43,170V98.82H33.57V170Z\" style=\"vector-effect: non-scaling-stroke; opacity: 1; stroke-width: 0.5px; fill: rgb(99, 110, 250); fill-opacity: 1; stroke: rgb(229, 236, 246); stroke-opacity: 1;\"/></g><g class=\"point\"><path d=\"M37.1,170V107.42H51.23V170Z\" style=\"vector-effect: non-scaling-stroke; opacity: 1; stroke-width: 0.5px; fill: rgb(99, 110, 250); fill-opacity: 1; stroke: rgb(229, 236, 246); stroke-opacity: 1;\"/></g><g class=\"point\"><path d=\"M54.77,170V113.74H68.9V170Z\" style=\"vector-effect: non-scaling-stroke; opacity: 1; stroke-width: 0.5px; fill: rgb(99, 110, 250); fill-opacity: 1; stroke: rgb(229, 236, 246); stroke-opacity: 1;\"/></g><g class=\"point\"><path d=\"M72.43,170V117.9H86.57V170Z\" style=\"vector-effect: non-scaling-stroke; opacity: 1; stroke-width: 0.5px; fill: rgb(99, 110, 250); fill-opacity: 1; stroke: rgb(229, 236, 246); stroke-opacity: 1;\"/></g><g class=\"point\"><path d=\"M90.1,170V119.77H104.23V170Z\" style=\"vector-effect: non-scaling-stroke; opacity: 1; stroke-width: 0.5px; fill: rgb(99, 110, 250); fill-opacity: 1; stroke: rgb(229, 236, 246); stroke-opacity: 1;\"/></g><g class=\"point\"><path d=\"M107.77,170V126.11H121.9V170Z\" style=\"vector-effect: non-scaling-stroke; opacity: 1; stroke-width: 0.5px; fill: rgb(99, 110, 250); fill-opacity: 1; stroke: rgb(229, 236, 246); stroke-opacity: 1;\"/></g><g class=\"point\"><path d=\"M125.43,170V144.7H139.57V170Z\" style=\"vector-effect: non-scaling-stroke; opacity: 1; stroke-width: 0.5px; fill: rgb(99, 110, 250); fill-opacity: 1; stroke: rgb(229, 236, 246); stroke-opacity: 1;\"/></g><g class=\"point\"><path d=\"M143.1,170V150.72H157.23V170Z\" style=\"vector-effect: non-scaling-stroke; opacity: 1; stroke-width: 0.5px; fill: rgb(99, 110, 250); fill-opacity: 1; stroke: rgb(229, 236, 246); stroke-opacity: 1;\"/></g><g class=\"point\"><path d=\"M160.77,170V152.86H174.9V170Z\" style=\"vector-effect: non-scaling-stroke; opacity: 1; stroke-width: 0.5px; fill: rgb(99, 110, 250); fill-opacity: 1; stroke: rgb(229, 236, 246); stroke-opacity: 1;\"/></g><g class=\"point\"><path d=\"M178.43,170V156.55H192.57V170Z\" style=\"vector-effect: non-scaling-stroke; opacity: 1; stroke-width: 0.5px; fill: rgb(99, 110, 250); fill-opacity: 1; stroke: rgb(229, 236, 246); stroke-opacity: 1;\"/></g><g class=\"point\"><path d=\"M196.1,170V156.97H210.23V170Z\" style=\"vector-effect: non-scaling-stroke; opacity: 1; stroke-width: 0.5px; fill: rgb(99, 110, 250); fill-opacity: 1; stroke: rgb(229, 236, 246); stroke-opacity: 1;\"/></g><g class=\"point\"><path d=\"M213.77,170V157.21H227.9V170Z\" style=\"vector-effect: non-scaling-stroke; opacity: 1; stroke-width: 0.5px; fill: rgb(99, 110, 250); fill-opacity: 1; stroke: rgb(229, 236, 246); stroke-opacity: 1;\"/></g><g class=\"point\"><path d=\"M231.43,170V157.27H245.57V170Z\" style=\"vector-effect: non-scaling-stroke; opacity: 1; stroke-width: 0.5px; fill: rgb(99, 110, 250); fill-opacity: 1; stroke: rgb(229, 236, 246); stroke-opacity: 1;\"/></g><g class=\"point\"><path d=\"M249.1,170V157.62H263.23V170Z\" style=\"vector-effect: non-scaling-stroke; opacity: 1; stroke-width: 0.5px; fill: rgb(99, 110, 250); fill-opacity: 1; stroke: rgb(229, 236, 246); stroke-opacity: 1;\"/></g><g class=\"point\"><path d=\"M266.77,170V158.17H280.9V170Z\" style=\"vector-effect: non-scaling-stroke; opacity: 1; stroke-width: 0.5px; fill: rgb(99, 110, 250); fill-opacity: 1; stroke: rgb(229, 236, 246); stroke-opacity: 1;\"/></g><g class=\"point\"><path d=\"M284.43,170V160.07H298.57V170Z\" style=\"vector-effect: non-scaling-stroke; opacity: 1; stroke-width: 0.5px; fill: rgb(99, 110, 250); fill-opacity: 1; stroke: rgb(229, 236, 246); stroke-opacity: 1;\"/></g><g class=\"point\"><path d=\"M302.1,170V160.55H316.23V170Z\" style=\"vector-effect: non-scaling-stroke; opacity: 1; stroke-width: 0.5px; fill: rgb(99, 110, 250); fill-opacity: 1; stroke: rgb(229, 236, 246); stroke-opacity: 1;\"/></g><g class=\"point\"><path d=\"M319.77,170V161.18H333.9V170Z\" style=\"vector-effect: non-scaling-stroke; opacity: 1; stroke-width: 0.5px; fill: rgb(99, 110, 250); fill-opacity: 1; stroke: rgb(229, 236, 246); stroke-opacity: 1;\"/></g><g class=\"point\"><path d=\"M337.43,170V163.34H351.57V170Z\" style=\"vector-effect: non-scaling-stroke; opacity: 1; stroke-width: 0.5px; fill: rgb(99, 110, 250); fill-opacity: 1; stroke: rgb(229, 236, 246); stroke-opacity: 1;\"/></g><g class=\"point\"><path d=\"M355.1,170V163.52H369.23V170Z\" style=\"vector-effect: non-scaling-stroke; opacity: 1; stroke-width: 0.5px; fill: rgb(99, 110, 250); fill-opacity: 1; stroke: rgb(229, 236, 246); stroke-opacity: 1;\"/></g><g class=\"point\"><path d=\"M372.77,170V163.77H386.9V170Z\" style=\"vector-effect: non-scaling-stroke; opacity: 1; stroke-width: 0.5px; fill: rgb(99, 110, 250); fill-opacity: 1; stroke: rgb(229, 236, 246); stroke-opacity: 1;\"/></g><g class=\"point\"><path d=\"M390.43,170V164.92H404.57V170Z\" style=\"vector-effect: non-scaling-stroke; opacity: 1; stroke-width: 0.5px; fill: rgb(99, 110, 250); fill-opacity: 1; stroke: rgb(229, 236, 246); stroke-opacity: 1;\"/></g><g class=\"point\"><path d=\"M408.1,170V165.23H422.23V170Z\" style=\"vector-effect: non-scaling-stroke; opacity: 1; stroke-width: 0.5px; fill: rgb(99, 110, 250); fill-opacity: 1; stroke: rgb(229, 236, 246); stroke-opacity: 1;\"/></g><g class=\"point\"><path d=\"M425.77,170V165.5H439.9V170Z\" style=\"vector-effect: non-scaling-stroke; opacity: 1; stroke-width: 0.5px; fill: rgb(99, 110, 250); fill-opacity: 1; stroke: rgb(229, 236, 246); stroke-opacity: 1;\"/></g><g class=\"point\"><path d=\"M443.43,170V166.91H457.57V170Z\" style=\"vector-effect: non-scaling-stroke; opacity: 1; stroke-width: 0.5px; fill: rgb(99, 110, 250); fill-opacity: 1; stroke: rgb(229, 236, 246); stroke-opacity: 1;\"/></g><g class=\"point\"><path d=\"M461.1,170V168.01H475.23V170Z\" style=\"vector-effect: non-scaling-stroke; opacity: 1; stroke-width: 0.5px; fill: rgb(99, 110, 250); fill-opacity: 1; stroke: rgb(229, 236, 246); stroke-opacity: 1;\"/></g></g></g><g class=\"trace bars\" shape-rendering=\"crispEdges\" style=\"opacity: 1;\"><g class=\"points\"><g class=\"point\"><path d=\"M1.77,19.77V8.5H15.9V19.77Z\" style=\"vector-effect: non-scaling-stroke; opacity: 1; stroke-width: 0.5px; fill: rgb(239, 85, 59); fill-opacity: 1; stroke: rgb(229, 236, 246); stroke-opacity: 1;\"/><text class=\"bartext bartext-outside\" text-anchor=\"middle\" data-notex=\"1\" x=\"0\" y=\"0\" style=\"font-family: 'Courier New', monospace; font-size: 14px; fill: rgb(127, 127, 127); fill-opacity: 1; white-space: pre;\" transform=\"translate(8.835,3.8175441860465114)scale(0.4206139534883721)\">6712</text></g><g class=\"point\"><path d=\"M19.43,98.82V91.09H33.57V98.82Z\" style=\"vector-effect: non-scaling-stroke; opacity: 1; stroke-width: 0.5px; fill: rgb(239, 85, 59); fill-opacity: 1; stroke: rgb(229, 236, 246); stroke-opacity: 1;\"/><text class=\"bartext bartext-outside\" text-anchor=\"middle\" data-notex=\"1\" x=\"0\" y=\"0\" style=\"font-family: 'Courier New', monospace; font-size: 14px; fill: rgb(127, 127, 127); fill-opacity: 1; white-space: pre;\" transform=\"translate(26.5,86.40635348837209)scale(0.4209116279069768)\">4605</text></g><g class=\"point\"><path d=\"M37.1,107.42V102.94H51.23V107.42Z\" style=\"vector-effect: non-scaling-stroke; opacity: 1; stroke-width: 0.5px; fill: rgb(239, 85, 59); fill-opacity: 1; stroke: rgb(229, 236, 246); stroke-opacity: 1;\"/><text class=\"bartext bartext-outside\" text-anchor=\"middle\" data-notex=\"1\" x=\"0\" y=\"0\" style=\"font-family: 'Courier New', monospace; font-size: 14px; fill: rgb(127, 127, 127); fill-opacity: 1; white-space: pre;\" transform=\"translate(44.165,98.25754418604652)scale(0.42061395348837194)\">2671</text></g><g class=\"point\"><path d=\"M54.77,113.74V110.57H68.9V113.74Z\" style=\"vector-effect: non-scaling-stroke; opacity: 1; stroke-width: 0.5px; fill: rgb(239, 85, 59); fill-opacity: 1; stroke: rgb(229, 236, 246); stroke-opacity: 1;\"/><text class=\"bartext bartext-outside\" text-anchor=\"middle\" data-notex=\"1\" x=\"0\" y=\"0\" style=\"font-family: 'Courier New', monospace; font-size: 14px; fill: rgb(127, 127, 127); fill-opacity: 1; white-space: pre;\" transform=\"translate(61.83500000000001,105.88754418604651)scale(0.42061395348837216)\">1891</text></g><g class=\"point\"><path d=\"M72.43,117.9V113.63H86.57V117.9Z\" style=\"vector-effect: non-scaling-stroke; opacity: 1; stroke-width: 0.5px; fill: rgb(239, 85, 59); fill-opacity: 1; stroke: rgb(229, 236, 246); stroke-opacity: 1;\"/><text class=\"bartext bartext-outside\" text-anchor=\"middle\" data-notex=\"1\" x=\"0\" y=\"0\" style=\"font-family: 'Courier New', monospace; font-size: 14px; fill: rgb(127, 127, 127); fill-opacity: 1; white-space: pre;\" transform=\"translate(79.5,108.9463534883721)scale(0.42091162790697634)\">2545</text></g><g class=\"point\"><path d=\"M90.1,119.77V115.63H104.23V119.77Z\" style=\"vector-effect: non-scaling-stroke; opacity: 1; stroke-width: 0.5px; fill: rgb(239, 85, 59); fill-opacity: 1; stroke: rgb(229, 236, 246); stroke-opacity: 1;\"/><text class=\"bartext bartext-outside\" text-anchor=\"middle\" data-notex=\"1\" x=\"0\" y=\"0\" style=\"font-family: 'Courier New', monospace; font-size: 14px; fill: rgb(127, 127, 127); fill-opacity: 1; white-space: pre;\" transform=\"translate(97.16499999999999,110.9475441860465)scale(0.4206139534883724)\">2468</text></g><g class=\"point\"><path d=\"M107.77,126.11V124.67H121.9V126.11Z\" style=\"vector-effect: non-scaling-stroke; opacity: 1; stroke-width: 0.5px; fill: rgb(239, 85, 59); fill-opacity: 1; stroke: rgb(229, 236, 246); stroke-opacity: 1;\"/><text class=\"bartext bartext-outside\" text-anchor=\"middle\" data-notex=\"1\" x=\"0\" y=\"0\" style=\"font-family: 'Courier New', monospace; font-size: 14px; fill: rgb(127, 127, 127); fill-opacity: 1; white-space: pre;\" transform=\"translate(114.83061996280225,119.42742095474271)scale(0.5606447613143215)\">853</text></g><g class=\"point\"><path d=\"M125.43,144.7V143.81H139.57V144.7Z\" style=\"vector-effect: non-scaling-stroke; opacity: 1; stroke-width: 0.5px; fill: rgb(239, 85, 59); fill-opacity: 1; stroke: rgb(229, 236, 246); stroke-opacity: 1;\"/><text class=\"bartext bartext-outside\" text-anchor=\"middle\" data-notex=\"1\" x=\"0\" y=\"0\" style=\"font-family: 'Courier New', monospace; font-size: 14px; fill: rgb(127, 127, 127); fill-opacity: 1; white-space: pre;\" transform=\"translate(132.49561686298821,138.565833849969)scale(0.561041537507749)\">531</text></g><g class=\"point\"><path d=\"M143.1,150.72V149.86H157.23V150.72Z\" style=\"vector-effect: non-scaling-stroke; opacity: 1; stroke-width: 0.5px; fill: rgb(239, 85, 59); fill-opacity: 1; stroke: rgb(229, 236, 246); stroke-opacity: 1;\"/><text class=\"bartext bartext-outside\" text-anchor=\"middle\" data-notex=\"1\" x=\"0\" y=\"0\" style=\"font-family: 'Courier New', monospace; font-size: 14px; fill: rgb(127, 127, 127); fill-opacity: 1; white-space: pre;\" transform=\"translate(150.16061996280223,144.61742095474273)scale(0.560644761314321)\">511</text></g><g class=\"point\"><path d=\"M160.77,152.86V152.36H174.9V152.86Z\" style=\"vector-effect: non-scaling-stroke; opacity: 1; stroke-width: 0.5px; fill: rgb(239, 85, 59); fill-opacity: 1; stroke: rgb(229, 236, 246); stroke-opacity: 1;\"/><text class=\"bartext bartext-outside\" text-anchor=\"middle\" data-notex=\"1\" x=\"0\" y=\"0\" style=\"font-family: 'Courier New', monospace; font-size: 14px; fill: rgb(127, 127, 127); fill-opacity: 1; white-space: pre;\" transform=\"translate(167.83061996280225,147.11742095474273)scale(0.560644761314321)\">298</text></g><g class=\"point\"><path d=\"M178.43,156.55V156.15H192.57V156.55Z\" style=\"vector-effect: non-scaling-stroke; opacity: 1; stroke-width: 0.5px; fill: rgb(239, 85, 59); fill-opacity: 1; stroke: rgb(229, 236, 246); stroke-opacity: 1;\"/><text class=\"bartext bartext-outside\" text-anchor=\"middle\" data-notex=\"1\" x=\"0\" y=\"0\" style=\"font-family: 'Courier New', monospace; font-size: 14px; fill: rgb(127, 127, 127); fill-opacity: 1; white-space: pre;\" transform=\"translate(185.49561686298821,150.905833849969)scale(0.561041537507749)\">240</text></g><g class=\"point\"><path d=\"M196.1,156.97V156.75H210.23V156.97Z\" style=\"vector-effect: non-scaling-stroke; opacity: 1; stroke-width: 0.5px; fill: rgb(239, 85, 59); fill-opacity: 1; stroke: rgb(229, 236, 246); stroke-opacity: 1;\"/><text class=\"bartext bartext-outside\" text-anchor=\"middle\" data-notex=\"1\" x=\"0\" y=\"0\" style=\"font-family: 'Courier New', monospace; font-size: 14px; fill: rgb(127, 127, 127); fill-opacity: 1; white-space: pre;\" transform=\"translate(203.16061996280223,151.5074209547427)scale(0.560644761314321)\">133</text></g><g class=\"point\"><path d=\"M213.77,157.21V156.9H227.9V157.21Z\" style=\"vector-effect: non-scaling-stroke; opacity: 1; stroke-width: 0.5px; fill: rgb(239, 85, 59); fill-opacity: 1; stroke: rgb(229, 236, 246); stroke-opacity: 1;\"/><text class=\"bartext bartext-outside\" text-anchor=\"middle\" data-notex=\"1\" x=\"0\" y=\"0\" style=\"font-family: 'Courier New', monospace; font-size: 14px; fill: rgb(127, 127, 127); fill-opacity: 1; white-space: pre;\" transform=\"translate(220.83061996280225,151.65742095474272)scale(0.560644761314321)\">183</text></g><g class=\"point\"><path d=\"M231.43,157.27V156.66H245.57V157.27Z\" style=\"vector-effect: non-scaling-stroke; opacity: 1; stroke-width: 0.5px; fill: rgb(239, 85, 59); fill-opacity: 1; stroke: rgb(229, 236, 246); stroke-opacity: 1;\"/><text class=\"bartext bartext-outside\" text-anchor=\"middle\" data-notex=\"1\" x=\"0\" y=\"0\" style=\"font-family: 'Courier New', monospace; font-size: 14px; fill: rgb(127, 127, 127); fill-opacity: 1; white-space: pre;\" transform=\"translate(238.49561686298821,151.415833849969)scale(0.561041537507749)\">368</text></g><g class=\"point\"><path d=\"M249.1,157.62V157.41H263.23V157.62Z\" style=\"vector-effect: non-scaling-stroke; opacity: 1; stroke-width: 0.5px; fill: rgb(239, 85, 59); fill-opacity: 1; stroke: rgb(229, 236, 246); stroke-opacity: 1;\"/><text class=\"bartext bartext-outside\" text-anchor=\"middle\" data-notex=\"1\" x=\"0\" y=\"0\" style=\"font-family: 'Courier New', monospace; font-size: 14px; fill: rgb(127, 127, 127); fill-opacity: 1; white-space: pre;\" transform=\"translate(256.16061996280223,152.1674209547427)scale(0.5606447613143221)\">126</text></g><g class=\"point\"><path d=\"M266.77,158.17V157.82H280.9V158.17Z\" style=\"vector-effect: non-scaling-stroke; opacity: 1; stroke-width: 0.5px; fill: rgb(239, 85, 59); fill-opacity: 1; stroke: rgb(229, 236, 246); stroke-opacity: 1;\"/><text class=\"bartext bartext-outside\" text-anchor=\"middle\" data-notex=\"1\" x=\"0\" y=\"0\" style=\"font-family: 'Courier New', monospace; font-size: 14px; fill: rgb(127, 127, 127); fill-opacity: 1; white-space: pre;\" transform=\"translate(273.8306199628022,152.5774209547427)scale(0.560644761314321)\">209</text></g><g class=\"point\"><path d=\"M284.43,160.07V159.86H298.57V160.07Z\" style=\"vector-effect: non-scaling-stroke; opacity: 1; stroke-width: 0.5px; fill: rgb(239, 85, 59); fill-opacity: 1; stroke: rgb(229, 236, 246); stroke-opacity: 1;\"/><text class=\"bartext bartext-outside\" text-anchor=\"middle\" data-notex=\"1\" x=\"0\" y=\"0\" style=\"font-family: 'Courier New', monospace; font-size: 14px; fill: rgb(127, 127, 127); fill-opacity: 1; white-space: pre;\" transform=\"translate(291.49561686298824,154.61583384996902)scale(0.561041537507749)\">127</text></g><g class=\"point\"><path d=\"M302.1,160.55V160.14H316.23V160.55Z\" style=\"vector-effect: non-scaling-stroke; opacity: 1; stroke-width: 0.5px; fill: rgb(239, 85, 59); fill-opacity: 1; stroke: rgb(229, 236, 246); stroke-opacity: 1;\"/><text class=\"bartext bartext-outside\" text-anchor=\"middle\" data-notex=\"1\" x=\"0\" y=\"0\" style=\"font-family: 'Courier New', monospace; font-size: 14px; fill: rgb(127, 127, 127); fill-opacity: 1; white-space: pre;\" transform=\"translate(309.16061996280223,154.8974209547427)scale(0.560644761314321)\">242</text></g><g class=\"point\"><path d=\"M319.77,161.18V160.99H333.9V161.18Z\" style=\"vector-effect: non-scaling-stroke; opacity: 1; stroke-width: 0.5px; fill: rgb(239, 85, 59); fill-opacity: 1; stroke: rgb(229, 236, 246); stroke-opacity: 1;\"/><text class=\"bartext bartext-outside\" text-anchor=\"middle\" data-notex=\"1\" x=\"0\" y=\"0\" style=\"font-family: 'Courier New', monospace; font-size: 14px; fill: rgb(127, 127, 127); fill-opacity: 1; white-space: pre;\" transform=\"translate(326.8306199628022,155.74742095474272)scale(0.560644761314321)\">113</text></g><g class=\"point\"><path d=\"M337.43,163.34V163.12H351.57V163.34Z\" style=\"vector-effect: non-scaling-stroke; opacity: 1; stroke-width: 0.5px; fill: rgb(239, 85, 59); fill-opacity: 1; stroke: rgb(229, 236, 246); stroke-opacity: 1;\"/><text class=\"bartext bartext-outside\" text-anchor=\"middle\" data-notex=\"1\" x=\"0\" y=\"0\" style=\"font-family: 'Courier New', monospace; font-size: 14px; fill: rgb(127, 127, 127); fill-opacity: 1; white-space: pre;\" transform=\"translate(344.49561686298824,157.875833849969)scale(0.561041537507749)\">134</text></g><g class=\"point\"><path d=\"M355.1,163.52V163.29H369.23V163.52Z\" style=\"vector-effect: non-scaling-stroke; opacity: 1; stroke-width: 0.5px; fill: rgb(239, 85, 59); fill-opacity: 1; stroke: rgb(229, 236, 246); stroke-opacity: 1;\"/><text class=\"bartext bartext-outside\" text-anchor=\"middle\" data-notex=\"1\" x=\"0\" y=\"0\" style=\"font-family: 'Courier New', monospace; font-size: 14px; fill: rgb(127, 127, 127); fill-opacity: 1; white-space: pre;\" transform=\"translate(362.16061996280223,158.0474209547427)scale(0.560644761314321)\">137</text></g><g class=\"point\"><path d=\"M372.77,163.77V163.5H386.9V163.77Z\" style=\"vector-effect: non-scaling-stroke; opacity: 1; stroke-width: 0.5px; fill: rgb(239, 85, 59); fill-opacity: 1; stroke: rgb(229, 236, 246); stroke-opacity: 1;\"/><text class=\"bartext bartext-outside\" text-anchor=\"middle\" data-notex=\"1\" x=\"0\" y=\"0\" style=\"font-family: 'Courier New', monospace; font-size: 14px; fill: rgb(127, 127, 127); fill-opacity: 1; white-space: pre;\" transform=\"translate(379.8306199628022,158.2574209547427)scale(0.560644761314321)\">162</text></g><g class=\"point\"><path d=\"M390.43,164.92V164.82H404.57V164.92Z\" style=\"vector-effect: non-scaling-stroke; opacity: 1; stroke-width: 0.5px; fill: rgb(239, 85, 59); fill-opacity: 1; stroke: rgb(229, 236, 246); stroke-opacity: 1;\"/><text class=\"bartext bartext-outside\" text-anchor=\"middle\" data-notex=\"1\" x=\"0\" y=\"0\" style=\"font-family: 'Courier New', monospace; font-size: 14px; fill: rgb(127, 127, 127); fill-opacity: 1; white-space: pre;\" transform=\"translate(397.493423255814,158.4527069767442)scale(0.8418232558139527)\">65</text></g><g class=\"point\"><path d=\"M408.1,165.23V165.05H422.23V165.23Z\" style=\"vector-effect: non-scaling-stroke; opacity: 1; stroke-width: 0.5px; fill: rgb(239, 85, 59); fill-opacity: 1; stroke: rgb(229, 236, 246); stroke-opacity: 1;\"/><text class=\"bartext bartext-outside\" text-anchor=\"middle\" data-notex=\"1\" x=\"0\" y=\"0\" style=\"font-family: 'Courier New', monospace; font-size: 14px; fill: rgb(127, 127, 127); fill-opacity: 1; white-space: pre;\" transform=\"translate(415.16061996280223,159.80742095474272)scale(0.560644761314321)\">108</text></g><g class=\"point\"><path d=\"M425.77,165.5V165.33H439.9V165.5Z\" style=\"vector-effect: non-scaling-stroke; opacity: 1; stroke-width: 0.5px; fill: rgb(239, 85, 59); fill-opacity: 1; stroke: rgb(229, 236, 246); stroke-opacity: 1;\"/><text class=\"bartext bartext-outside\" text-anchor=\"middle\" data-notex=\"1\" x=\"0\" y=\"0\" style=\"font-family: 'Courier New', monospace; font-size: 14px; fill: rgb(127, 127, 127); fill-opacity: 1; white-space: pre;\" transform=\"translate(432.8306199628022,160.08742095474273)scale(0.560644761314321)\">102</text></g><g class=\"point\"><path d=\"M443.43,166.91V166.84H457.57V166.91Z\" style=\"vector-effect: non-scaling-stroke; opacity: 1; stroke-width: 0.5px; fill: rgb(239, 85, 59); fill-opacity: 1; stroke: rgb(229, 236, 246); stroke-opacity: 1;\"/><text class=\"bartext bartext-outside\" text-anchor=\"middle\" data-notex=\"1\" x=\"0\" y=\"0\" style=\"font-family: 'Courier New', monospace; font-size: 14px; fill: rgb(127, 127, 127); fill-opacity: 1; white-space: pre;\" transform=\"translate(450.493423255814,160.4727069767442)scale(0.8418232558139527)\">46</text></g><g class=\"point\"><path d=\"M461.1,168.01V167.98H475.23V168.01Z\" style=\"vector-effect: non-scaling-stroke; opacity: 1; stroke-width: 0.5px; fill: rgb(239, 85, 59); fill-opacity: 1; stroke: rgb(229, 236, 246); stroke-opacity: 1;\"/><text class=\"bartext bartext-outside\" text-anchor=\"middle\" data-notex=\"1\" x=\"0\" y=\"0\" style=\"font-family: 'Courier New', monospace; font-size: 14px; fill: rgb(127, 127, 127); fill-opacity: 1; white-space: pre;\" transform=\"translate(468.1584279069768,161.61508837209303)scale(0.8412279069767439)\">18</text></g></g></g></g></g><g class=\"overplot\"/><path class=\"xlines-above crisp\" d=\"M0,0\" style=\"fill: none;\"/><path class=\"ylines-above crisp\" d=\"M0,0\" style=\"fill: none;\"/><g class=\"overlines-above\"/><g class=\"xaxislayer-above\"><g class=\"xtick\"><text text-anchor=\"start\" x=\"0\" y=\"285\" transform=\"translate(88.83,0) rotate(90,0,278)\" style=\"font-family: 'Courier New', monospace; font-size: 14px; fill: rgb(127, 127, 127); fill-opacity: 1; white-space: pre;\">São Paulo</text></g><g class=\"xtick\"><text text-anchor=\"start\" x=\"0\" y=\"285\" transform=\"translate(106.5,0) rotate(90,0,278)\" style=\"font-family: 'Courier New', monospace; font-size: 14px; fill: rgb(127, 127, 127); fill-opacity: 1; white-space: pre;\">Rio de Janeiro</text></g><g class=\"xtick\"><text text-anchor=\"start\" x=\"0\" y=\"285\" transform=\"translate(124.17,0) rotate(90,0,278)\" style=\"font-family: 'Courier New', monospace; font-size: 14px; fill: rgb(127, 127, 127); fill-opacity: 1; white-space: pre;\">Ceará</text></g><g class=\"xtick\"><text text-anchor=\"start\" x=\"0\" y=\"285\" transform=\"translate(141.82999999999998,0) rotate(90,0,278)\" style=\"font-family: 'Courier New', monospace; font-size: 14px; fill: rgb(127, 127, 127); fill-opacity: 1; white-space: pre;\">Amazonas</text></g><g class=\"xtick\"><text text-anchor=\"start\" x=\"0\" y=\"285\" transform=\"translate(159.5,0) rotate(90,0,278)\" style=\"font-family: 'Courier New', monospace; font-size: 14px; fill: rgb(127, 127, 127); fill-opacity: 1; white-space: pre;\">Pará</text></g><g class=\"xtick\"><text text-anchor=\"start\" x=\"0\" y=\"285\" transform=\"translate(177.17000000000002,0) rotate(90,0,278)\" style=\"font-family: 'Courier New', monospace; font-size: 14px; fill: rgb(127, 127, 127); fill-opacity: 1; white-space: pre;\">Pernambuco</text></g><g class=\"xtick\"><text text-anchor=\"start\" x=\"0\" y=\"285\" transform=\"translate(194.82999999999998,0) rotate(90,0,278)\" style=\"font-family: 'Courier New', monospace; font-size: 14px; fill: rgb(127, 127, 127); fill-opacity: 1; white-space: pre;\">Maranhão</text></g><g class=\"xtick\"><text text-anchor=\"start\" x=\"0\" y=\"285\" transform=\"translate(212.5,0) rotate(90,0,278)\" style=\"font-family: 'Courier New', monospace; font-size: 14px; fill: rgb(127, 127, 127); fill-opacity: 1; white-space: pre;\">Bahia</text></g><g class=\"xtick\"><text text-anchor=\"start\" x=\"0\" y=\"285\" transform=\"translate(230.17,0) rotate(90,0,278)\" style=\"font-family: 'Courier New', monospace; font-size: 14px; fill: rgb(127, 127, 127); fill-opacity: 1; white-space: pre;\">Espírito Santo</text></g><g class=\"xtick\"><text text-anchor=\"start\" x=\"0\" y=\"285\" transform=\"translate(247.83,0) rotate(90,0,278)\" style=\"font-family: 'Courier New', monospace; font-size: 14px; fill: rgb(127, 127, 127); fill-opacity: 1; white-space: pre;\">Paraíba</text></g><g class=\"xtick\"><text text-anchor=\"start\" x=\"0\" y=\"285\" transform=\"translate(265.5,0) rotate(90,0,278)\" style=\"font-family: 'Courier New', monospace; font-size: 14px; fill: rgb(127, 127, 127); fill-opacity: 1; white-space: pre;\">Minas Gerais</text></g><g class=\"xtick\"><text text-anchor=\"start\" x=\"0\" y=\"285\" transform=\"translate(283.16999999999996,0) rotate(90,0,278)\" style=\"font-family: 'Courier New', monospace; font-size: 14px; fill: rgb(127, 127, 127); fill-opacity: 1; white-space: pre;\">Distrito Federal</text></g><g class=\"xtick\"><text text-anchor=\"start\" x=\"0\" y=\"285\" transform=\"translate(300.83000000000004,0) rotate(90,0,278)\" style=\"font-family: 'Courier New', monospace; font-size: 14px; fill: rgb(127, 127, 127); fill-opacity: 1; white-space: pre;\">Amapá</text></g><g class=\"xtick\"><text text-anchor=\"start\" x=\"0\" y=\"285\" transform=\"translate(318.5,0) rotate(90,0,278)\" style=\"font-family: 'Courier New', monospace; font-size: 14px; fill: rgb(127, 127, 127); fill-opacity: 1; white-space: pre;\">Alagoas</text></g><g class=\"xtick\"><text text-anchor=\"start\" x=\"0\" y=\"285\" transform=\"translate(336.17,0) rotate(90,0,278)\" style=\"font-family: 'Courier New', monospace; font-size: 14px; fill: rgb(127, 127, 127); fill-opacity: 1; white-space: pre;\">Santa Catarina</text></g><g class=\"xtick\"><text text-anchor=\"start\" x=\"0\" y=\"285\" transform=\"translate(353.83,0) rotate(90,0,278)\" style=\"font-family: 'Courier New', monospace; font-size: 14px; fill: rgb(127, 127, 127); fill-opacity: 1; white-space: pre;\">Rio Grande do Sul</text></g><g class=\"xtick\"><text text-anchor=\"start\" x=\"0\" y=\"285\" transform=\"translate(371.5,0) rotate(90,0,278)\" style=\"font-family: 'Courier New', monospace; font-size: 14px; fill: rgb(127, 127, 127); fill-opacity: 1; white-space: pre;\">Sergipe</text></g><g class=\"xtick\"><text text-anchor=\"start\" x=\"0\" y=\"285\" transform=\"translate(389.17,0) rotate(90,0,278)\" style=\"font-family: 'Courier New', monospace; font-size: 14px; fill: rgb(127, 127, 127); fill-opacity: 1; white-space: pre;\">Rio Grande do Norte</text></g><g class=\"xtick\"><text text-anchor=\"start\" x=\"0\" y=\"285\" transform=\"translate(406.83,0) rotate(90,0,278)\" style=\"font-family: 'Courier New', monospace; font-size: 14px; fill: rgb(127, 127, 127); fill-opacity: 1; white-space: pre;\">Acre</text></g><g class=\"xtick\"><text text-anchor=\"start\" x=\"0\" y=\"285\" transform=\"translate(424.5,0) rotate(90,0,278)\" style=\"font-family: 'Courier New', monospace; font-size: 14px; fill: rgb(127, 127, 127); fill-opacity: 1; white-space: pre;\">Piauí</text></g><g class=\"xtick\"><text text-anchor=\"start\" x=\"0\" y=\"285\" transform=\"translate(442.17,0) rotate(90,0,278)\" style=\"font-family: 'Courier New', monospace; font-size: 14px; fill: rgb(127, 127, 127); fill-opacity: 1; white-space: pre;\">Rondônia</text></g><g class=\"xtick\"><text text-anchor=\"start\" x=\"0\" y=\"285\" transform=\"translate(459.83,0) rotate(90,0,278)\" style=\"font-family: 'Courier New', monospace; font-size: 14px; fill: rgb(127, 127, 127); fill-opacity: 1; white-space: pre;\">Paraná</text></g><g class=\"xtick\"><text text-anchor=\"start\" x=\"0\" y=\"285\" transform=\"translate(477.5,0) rotate(90,0,278)\" style=\"font-family: 'Courier New', monospace; font-size: 14px; fill: rgb(127, 127, 127); fill-opacity: 1; white-space: pre;\">Tocantins</text></g><g class=\"xtick\"><text text-anchor=\"start\" x=\"0\" y=\"285\" transform=\"translate(495.17,0) rotate(90,0,278)\" style=\"font-family: 'Courier New', monospace; font-size: 14px; fill: rgb(127, 127, 127); fill-opacity: 1; white-space: pre;\">Goiás</text></g><g class=\"xtick\"><text text-anchor=\"start\" x=\"0\" y=\"285\" transform=\"translate(512.8299999999999,0) rotate(90,0,278)\" style=\"font-family: 'Courier New', monospace; font-size: 14px; fill: rgb(127, 127, 127); fill-opacity: 1; white-space: pre;\">Roraima</text></g><g class=\"xtick\"><text text-anchor=\"start\" x=\"0\" y=\"285\" transform=\"translate(530.5,0) rotate(90,0,278)\" style=\"font-family: 'Courier New', monospace; font-size: 14px; fill: rgb(127, 127, 127); fill-opacity: 1; white-space: pre;\">Mato Grosso</text></g><g class=\"xtick\"><text text-anchor=\"start\" x=\"0\" y=\"285\" transform=\"translate(548.1700000000001,0) rotate(90,0,278)\" style=\"font-family: 'Courier New', monospace; font-size: 14px; fill: rgb(127, 127, 127); fill-opacity: 1; white-space: pre;\">Mato Grosso do Sul</text></g></g><g class=\"yaxislayer-above\"><g class=\"ytick\"><text text-anchor=\"end\" x=\"79\" y=\"4.8999999999999995\" transform=\"translate(0,270)\" style=\"font-family: 'Courier New', monospace; font-size: 14px; fill: rgb(127, 127, 127); fill-opacity: 1; white-space: pre;\">0</text></g><g class=\"ytick\"><text text-anchor=\"end\" x=\"79\" y=\"4.8999999999999995\" transform=\"translate(0,236.42)\" style=\"font-family: 'Courier New', monospace; font-size: 14px; fill: rgb(127, 127, 127); fill-opacity: 1; white-space: pre;\">20k</text></g><g class=\"ytick\"><text text-anchor=\"end\" x=\"79\" y=\"4.8999999999999995\" transform=\"translate(0,202.84)\" style=\"font-family: 'Courier New', monospace; font-size: 14px; fill: rgb(127, 127, 127); fill-opacity: 1; white-space: pre;\">40k</text></g><g class=\"ytick\"><text text-anchor=\"end\" x=\"79\" y=\"4.8999999999999995\" transform=\"translate(0,169.26999999999998)\" style=\"font-family: 'Courier New', monospace; font-size: 14px; fill: rgb(127, 127, 127); fill-opacity: 1; white-space: pre;\">60k</text></g><g class=\"ytick\"><text text-anchor=\"end\" x=\"79\" y=\"4.8999999999999995\" transform=\"translate(0,135.69)\" style=\"font-family: 'Courier New', monospace; font-size: 14px; fill: rgb(127, 127, 127); fill-opacity: 1; white-space: pre;\">80k</text></g><g class=\"ytick\"><text text-anchor=\"end\" x=\"79\" y=\"4.8999999999999995\" transform=\"translate(0,102.11)\" style=\"font-family: 'Courier New', monospace; font-size: 14px; fill: rgb(127, 127, 127); fill-opacity: 1; white-space: pre;\">100k</text></g></g><g class=\"overaxes-above\"/></g></g><g class=\"polarlayer\"/><g class=\"ternarylayer\"/><g class=\"geolayer\"/><g class=\"funnelarealayer\"/><g class=\"pielayer\"/><g class=\"treemaplayer\"/><g class=\"sunburstlayer\"/><g class=\"glimages\"/><defs id=\"topdefs-9a164f\"><g class=\"clips\"/><clipPath id=\"legend9a164f\"><rect width=\"121\" height=\"53\" x=\"0\" y=\"0\"/></clipPath></defs><g class=\"layer-above\"><g class=\"imagelayer\"/><g class=\"shapelayer\"/></g><g class=\"infolayer\"><g class=\"legend\" pointer-events=\"all\" transform=\"translate(566.54, 100)\"><rect class=\"bg\" shape-rendering=\"crispEdges\" style=\"stroke: rgb(68, 68, 68); stroke-opacity: 1; fill: rgb(255, 255, 255); fill-opacity: 1; stroke-width: 0px;\" width=\"121\" height=\"53\" x=\"0\" y=\"0\"/><g class=\"scrollbox\" transform=\"translate(0, 0)\" clip-path=\"url('#legend9a164f')\"><g class=\"groups\"><g class=\"traces\" transform=\"translate(0, 15.6)\" style=\"opacity: 1;\"><text class=\"legendtext user-select-none\" text-anchor=\"start\" x=\"40\" y=\"5.46\" style=\"font-family: 'Courier New', monospace; font-size: 14px; fill: rgb(127, 127, 127); fill-opacity: 1; white-space: pre;\">Nº Óbitos</text><g class=\"layers\" style=\"opacity: 1;\"><g class=\"legendfill\"/><g class=\"legendlines\"/><g class=\"legendsymbols\"><g class=\"legendpoints\"><path class=\"legendundefined\" d=\"M6,6H-6V-6H6Z\" transform=\"translate(20,0)\" style=\"stroke-width: 0.5px; fill: rgb(239, 85, 59); fill-opacity: 1; stroke: rgb(229, 236, 246); stroke-opacity: 1;\"/></g></g></g><rect class=\"legendtoggle\" pointer-events=\"all\" x=\"0\" y=\"-10.6\" width=\"115.609375\" height=\"21.2\" style=\"cursor: pointer; fill: rgb(0, 0, 0); fill-opacity: 0;\"/></g><g class=\"traces\" transform=\"translate(0, 36.8)\" style=\"opacity: 1;\"><text class=\"legendtext user-select-none\" text-anchor=\"start\" x=\"40\" y=\"5.46\" style=\"font-family: 'Courier New', monospace; font-size: 14px; fill: rgb(127, 127, 127); fill-opacity: 1; white-space: pre;\">Nº Casos</text><g class=\"layers\" style=\"opacity: 1;\"><g class=\"legendfill\"/><g class=\"legendlines\"/><g class=\"legendsymbols\"><g class=\"legendpoints\"><path class=\"legendundefined\" d=\"M6,6H-6V-6H6Z\" transform=\"translate(20,0)\" style=\"stroke-width: 0.5px; fill: rgb(99, 110, 250); fill-opacity: 1; stroke: rgb(229, 236, 246); stroke-opacity: 1;\"/></g></g></g><rect class=\"legendtoggle\" pointer-events=\"all\" x=\"0\" y=\"-10.6\" width=\"115.609375\" height=\"21.2\" style=\"cursor: pointer; fill: rgb(0, 0, 0); fill-opacity: 0;\"/></g></g></g><rect class=\"scrollbar\" rx=\"20\" ry=\"3\" width=\"0\" height=\"0\" style=\"fill: rgb(128, 139, 164); fill-opacity: 1;\" x=\"0\" y=\"0\"/></g><g class=\"g-gtitle\"><text class=\"gtitle\" x=\"35\" y=\"50\" text-anchor=\"start\" dy=\"0em\" style=\"font-family: 'Courier New', monospace; font-size: 20px; fill: rgb(127, 127, 127); opacity: 1; font-weight: normal; white-space: pre;\">Casos e Óbitos por Estado</text></g><g class=\"g-xtitle\"/><g class=\"g-ytitle\"/></g></svg>"
          },
          "metadata": {}
        }
      ]
    },
    {
      "cell_type": "markdown",
      "metadata": {
        "id": "yxEQjQ1VEiaq",
        "colab_type": "text"
      },
      "source": [
        "O gráfico de barras é feito de forma a que no topo de cada barra, tenha uma *label* com o nº de óbitos, para uma melhor visualização.\n",
        "\n",
        "Como podemos ver, atualmente os 3 estados com maior nº de infetados são São Paulo, Rio de Janeiro e Ceará. Estes também concentram entre si, como é natural, o maior nº de mortes do Brasil."
      ]
    },
    {
      "cell_type": "markdown",
      "metadata": {
        "id": "LIs38FKqEivb",
        "colab_type": "text"
      },
      "source": [
        "Depois de visualizarmos o efeito do vírus em diferentes aspetos, em seguida calculámos a sua taxa de letalidade nos infetados. Este dado é conseguido através da seguinte expressão:\n",
        "\n",
        "$$\n",
        "\\textrm{Taxa de letalidade} =  \\frac{\\sum \\textrm{óbitos}}{\\sum \\textrm{casos}}\n",
        "$$"
      ]
    },
    {
      "cell_type": "code",
      "metadata": {
        "id": "_MVDKgLAGxLQ",
        "colab_type": "code",
        "outputId": "3f805306-0346-43a5-e696-359233008cb5",
        "colab": {
          "base_uri": "https://localhost:8080/",
          "height": 34
        }
      },
      "source": [
        "# Cálculo da taxa de letalidade\n",
        "rate = sum(data_growth_rate['deaths'])/sum(data_growth_rate['cases'])\n",
        "\n",
        "print(\"Taxa de letalidade no dia\",last_date,\": {0:.2f}%\".format(rate*100))"
      ],
      "execution_count": 14,
      "outputs": [
        {
          "output_type": "stream",
          "name": "stdout",
          "text": "Taxa de letalidade no dia 2020-05-27 : 6.22%\n"
        }
      ]
    }
  ],
  "metadata": {
    "colab": {
      "name": "aa2.ipynb",
      "provenance": [],
      "collapsed_sections": [],
      "toc_visible": true
    },
    "kernelspec": {
      "name": "python37664bitbasecondad056b72b2824412f80db3a09b9cb4b58",
      "display_name": "Python 3.7.6 64-bit ('base': conda)"
    }
  },
  "nbformat": 4,
  "nbformat_minor": 0
}