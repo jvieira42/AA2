{
  "cells": [
    {
      "cell_type": "markdown",
      "metadata": {
        "id": "lM1xMn0a5DOt",
        "colab_type": "text"
      },
      "source": [
        "# COVID-19 Brasil - Análise de Dados"
      ]
    },
    {
      "cell_type": "markdown",
      "metadata": {
        "id": "HScwGRuO5isV",
        "colab_type": "text"
      },
      "source": [
        "## 1. Conteúdo\n",
        "\n",
        "O seguinte *notebook* é resultado de uma análise exploratória aos dados da COVID-19 no Brasil. Foram feitas várias observações e considerações sobre os dados, assim como uma previsão da incidência do vírus através de modelos de aprendizagem máquina, nomeadamente de regressão.\n",
        "\n",
        "O conteúdo do *notebook* está dividido em várias alíneas, respetivamente:\n",
        "- Definição das Variáveis\n",
        "- Análise Exploratória dos Dados\n",
        "- Modelos de Aprendizagem Máquina\n",
        "\n",
        "O *dataset* utilizado foi retirado da plataforma *kaggle* no link: \n",
        "\n",
        "https://www.kaggle.com/unanimad/corona-virus-brazil\n",
        "\n",
        "Este contém informação do Ministério da Saúde Brasileiro, acerca do número de casos de infeções e óbitos ao longo dos dias, organizados por estado e região. Existem entradas de dados desde o surgimento do primeiro caso suspeito no Brasil, que foi a 30/01/2020."
      ]
    },
    {
      "cell_type": "code",
      "metadata": {
        "id": "Rfumh2lAp8LO",
        "colab_type": "code",
        "colab": {
          "base_uri": "https://localhost:8080/",
          "height": 295
        },
        "outputId": "232918cb-3b46-40bc-c936-69afae9d8966"
      },
      "source": [
        "import sys\n",
        "\n",
        "!conda install --yes --prefix {sys.prefix} pandas\n",
        "!conda install --yes --prefix {sys.prefix} numpy\n",
        "!conda install --yes --prefix {sys.prefix} nbformat\n",
        "!conda install --yes --prefix {sys.prefix} plotly==4.6.0\n",
        "!conda install --yes --prefix {sys.prefix} psutil requests\n",
        "!conda install --yes --prefix {sys.prefix} scikit-learn\n",
        "!conda install --yes --prefix {sys.prefix} -c plotly plotly-orca==1.2.1 psutil requests"
      ],
      "execution_count": 87,
      "outputs": [
        {
          "output_type": "stream",
          "name": "stdout",
          "text": "Collecting package metadata (curdone\n\bdone\n\n# All requested packages already installed.\n\nCollecting package metadata (current_repodatdone\nSdone\n\n# All requested packages already installed.\n\nCollecting package metadata (current_repodone\n\bdone\n\n# All requested packages already installed.\n\nCollecting package metadata (current_repdone\ndone\n\n# All requested packages already installed.\n\nCollecting package metadata (current_repodata.jdone\nSolvdone\n\n# All requested packages already installed.\n\nCollecting package metadata (current_repodata.jdone\nSolvdone\n\n# All requested packages already installed.\n\nCollecting package metadata (cdone\nSolvidone\n\n# All requested packages already installed.\n\n"
        }
      ]
    },
    {
      "cell_type": "code",
      "metadata": {
        "id": "MVTAMW1ZDAbo",
        "colab_type": "code",
        "colab": {}
      },
      "source": [
        "import numpy as np\n",
        "import pandas as pd\n",
        "import plotly.io as pio\n",
        "import plotly.graph_objects as go\n",
        "from plotly.graph_objs import *\n",
        "from plotly.subplots import make_subplots\n",
        "from sklearn.linear_model import LinearRegression\n",
        "from sklearn.metrics import mean_squared_error, r2_score\n",
        "import datetime\n",
        "\n",
        "import warnings\n",
        "warnings.filterwarnings('ignore')\n",
        "\n",
        "pio.renderers.default = \"svg\"\n",
        "\n",
        "# Ler os dados\n",
        "data = pd.read_csv('./brazil_covid19.csv')"
      ],
      "execution_count": 88,
      "outputs": []
    },
    {
      "cell_type": "markdown",
      "metadata": {
        "id": "hzy4qa-x5lyR",
        "colab_type": "text"
      },
      "source": [
        "## 2. Definição das Variáveis\n"
      ]
    },
    {
      "cell_type": "code",
      "metadata": {
        "id": "AJ0gicF5zq5H",
        "colab_type": "code",
        "outputId": "97b50656-91a6-4af9-92fc-6f99190905f8",
        "colab": {
          "base_uri": "https://localhost:8080/",
          "height": 139
        }
      },
      "source": [
        "# Últimas 5 entradas do dataset\n",
        "print(\"Tail do Dataset:\\n\", data.tail())"
      ],
      "execution_count": 89,
      "outputs": [
        {
          "output_type": "stream",
          "name": "stdout",
          "text": "Tail do Dataset:\n             date   region              state  cases  deaths\n1837  2020-05-20  Sudeste     Rio de Janeiro  30372    3237\n1838  2020-05-20  Sudeste          São Paulo  69859    5363\n1839  2020-05-20      Sul             Paraná   2616     137\n1840  2020-05-20      Sul  Rio Grande do Sul   4973     161\n1841  2020-05-20      Sul     Santa Catarina   5499      94\n"
        }
      ]
    },
    {
      "cell_type": "markdown",
      "metadata": {
        "id": "HxAB4CNTE-Gb",
        "colab_type": "text"
      },
      "source": [
        "É de notar que este *dataset* contém os dados numa série temporal, ou seja, o número de casos num determinado dia é cumulativo.\n",
        "\n",
        "\n",
        "Temos no total 5 variáveis:\n",
        "- **date**: Representa a data (YYYY-MM-DD) para cada entrada, sendo que existem várias entradas com a mesma data, relativas a diferentes estados.\n",
        "- **region**: Representa a região do país relativa ao estado, para cada entrada.\n",
        "- **state**: Representa o estado brasileiro a que se refere cada entrada de dados.\n",
        "- **cases**: Representa o nº de casos confirmados de infeção.\n",
        "- **deaths**: Representa o nº de óbitos confirmados.\n",
        "\n",
        "Apresenta-se a descrição das variáveis contínuas **cases** e **deaths**:"
      ]
    },
    {
      "cell_type": "code",
      "metadata": {
        "id": "8H6iJtvJ0Fz4",
        "colab_type": "code",
        "outputId": "a31a15ca-2b92-4604-918d-567f0d1df37e",
        "colab": {
          "base_uri": "https://localhost:8080/",
          "height": 300
        }
      },
      "source": [
        "data.describe()"
      ],
      "execution_count": 90,
      "outputs": [
        {
          "output_type": "execute_result",
          "data": {
            "text/plain": "              cases       deaths\ncount   1842.000000  1842.000000\nmean    2474.680239   164.432139\nstd     6363.967745   514.934458\nmin        1.000000     0.000000\n25%       47.000000     1.000000\n50%      430.500000    15.000000\n75%     1875.500000    72.000000\nmax    69859.000000  5363.000000",
            "text/html": "<div>\n<style scoped>\n    .dataframe tbody tr th:only-of-type {\n        vertical-align: middle;\n    }\n\n    .dataframe tbody tr th {\n        vertical-align: top;\n    }\n\n    .dataframe thead th {\n        text-align: right;\n    }\n</style>\n<table border=\"1\" class=\"dataframe\">\n  <thead>\n    <tr style=\"text-align: right;\">\n      <th></th>\n      <th>cases</th>\n      <th>deaths</th>\n    </tr>\n  </thead>\n  <tbody>\n    <tr>\n      <th>count</th>\n      <td>1842.000000</td>\n      <td>1842.000000</td>\n    </tr>\n    <tr>\n      <th>mean</th>\n      <td>2474.680239</td>\n      <td>164.432139</td>\n    </tr>\n    <tr>\n      <th>std</th>\n      <td>6363.967745</td>\n      <td>514.934458</td>\n    </tr>\n    <tr>\n      <th>min</th>\n      <td>1.000000</td>\n      <td>0.000000</td>\n    </tr>\n    <tr>\n      <th>25%</th>\n      <td>47.000000</td>\n      <td>1.000000</td>\n    </tr>\n    <tr>\n      <th>50%</th>\n      <td>430.500000</td>\n      <td>15.000000</td>\n    </tr>\n    <tr>\n      <th>75%</th>\n      <td>1875.500000</td>\n      <td>72.000000</td>\n    </tr>\n    <tr>\n      <th>max</th>\n      <td>69859.000000</td>\n      <td>5363.000000</td>\n    </tr>\n  </tbody>\n</table>\n</div>"
          },
          "metadata": {},
          "execution_count": 90
        }
      ]
    },
    {
      "cell_type": "markdown",
      "metadata": {
        "id": "rq4Vy_F2TYzP",
        "colab_type": "text"
      },
      "source": [
        "De seguida, são listados os valores possíveis para as nossas variáveis categóricas, que são respetivamente os nomes de todas as regiões e estados."
      ]
    },
    {
      "cell_type": "code",
      "metadata": {
        "id": "8bZUNMaSxtb8",
        "colab_type": "code",
        "outputId": "c7762383-4e51-49d3-e4d3-0466daaca795",
        "colab": {
          "base_uri": "https://localhost:8080/",
          "height": 173
        }
      },
      "source": [
        "# Lista de regiões do dataset\n",
        "print(\"\\nRegions: \", data.region.unique())\n",
        "\n",
        "# Lista de estados do dataset\n",
        "print(\"\\nStates: \", data.state.unique())"
      ],
      "execution_count": 91,
      "outputs": [
        {
          "output_type": "stream",
          "name": "stdout",
          "text": "\nRegions:  ['Sudeste' 'Nordeste' 'Centro-Oeste' 'Sul' 'Norte']\n\nStates:  ['São Paulo' 'Rio de Janeiro' 'Bahia' 'Espírito Santo' 'Distrito Federal'\n 'Alagoas' 'Minas Gerais' 'Rio Grande do Sul' 'Pernambuco' 'Paraná'\n 'Goiás' 'Rio Grande do Norte' 'Santa Catarina' 'Sergipe' 'Amazonas'\n 'Mato Grosso do Sul' 'Ceará' 'Paraíba' 'Acre' 'Pará' 'Tocantins'\n 'Mato Grosso' 'Piauí' 'Amapá' 'Rondônia' 'Maranhão' 'Roraima']\n"
        }
      ]
    },
    {
      "cell_type": "markdown",
      "metadata": {
        "id": "DlhZZZn_0eMU",
        "colab_type": "text"
      },
      "source": [
        "Como podemos ver, não existem quaisquer valores nulos para todas as 5 colunas do *dataset*. Logo não é necessário qualquer tratamento de dados extra.\n"
      ]
    },
    {
      "cell_type": "code",
      "metadata": {
        "id": "a6egIxs1OqKP",
        "colab_type": "code",
        "outputId": "c9f28b61-a36c-4bc8-b59e-6d65d87d553c",
        "colab": {
          "base_uri": "https://localhost:8080/",
          "height": 139
        }
      },
      "source": [
        "# Verificar valores nulos\n",
        "print(\"Null Values:\\n\", data.isnull().sum())"
      ],
      "execution_count": 92,
      "outputs": [
        {
          "output_type": "stream",
          "name": "stdout",
          "text": "Null Values:\n date      0\nregion    0\nstate     0\ncases     0\ndeaths    0\ndtype: int64\n"
        }
      ]
    },
    {
      "cell_type": "markdown",
      "metadata": {
        "id": "2GdrtrG252aw",
        "colab_type": "text"
      },
      "source": [
        "## 3. Análise Exploratória dos Dados\n",
        "\n",
        "Neste capítulo são feitas algumas avaliações e visualizações analíticas acerca dos dados."
      ]
    },
    {
      "cell_type": "markdown",
      "metadata": {
        "id": "8MVtHgMGwtmc",
        "colab_type": "text"
      },
      "source": [
        "Começando pelo cálculo do nº de dias já passado, de modo a termos uma noção do período de tempo da análise."
      ]
    },
    {
      "cell_type": "code",
      "metadata": {
        "id": "PT2tZoMkTZBP",
        "colab_type": "code",
        "outputId": "ef60df39-fd69-41ed-93a7-967807bac32c",
        "colab": {
          "base_uri": "https://localhost:8080/",
          "height": 34
        }
      },
      "source": [
        "# Nº de dias desde primeira entrada de dados\n",
        "print(\"Number of Days Passed: \", data.date.unique().size)"
      ],
      "execution_count": 93,
      "outputs": [
        {
          "output_type": "stream",
          "name": "stdout",
          "text": "Number of Days Passed:  85\n"
        }
      ]
    },
    {
      "cell_type": "code",
      "metadata": {
        "id": "7KRYIbJrRz5I",
        "colab_type": "code",
        "outputId": "a2dc8de0-4bbf-47f6-cd17-20b7665d43cf",
        "colab": {
          "base_uri": "https://localhost:8080/",
          "height": 81
        }
      },
      "source": [
        "# Primeiro caso de infeção\n",
        "data[data['cases'] > 0].head(1)"
      ],
      "execution_count": 94,
      "outputs": [
        {
          "output_type": "execute_result",
          "data": {
            "text/plain": "         date   region      state  cases  deaths\n0  2020-02-26  Sudeste  São Paulo      1       0",
            "text/html": "<div>\n<style scoped>\n    .dataframe tbody tr th:only-of-type {\n        vertical-align: middle;\n    }\n\n    .dataframe tbody tr th {\n        vertical-align: top;\n    }\n\n    .dataframe thead th {\n        text-align: right;\n    }\n</style>\n<table border=\"1\" class=\"dataframe\">\n  <thead>\n    <tr style=\"text-align: right;\">\n      <th></th>\n      <th>date</th>\n      <th>region</th>\n      <th>state</th>\n      <th>cases</th>\n      <th>deaths</th>\n    </tr>\n  </thead>\n  <tbody>\n    <tr>\n      <th>0</th>\n      <td>2020-02-26</td>\n      <td>Sudeste</td>\n      <td>São Paulo</td>\n      <td>1</td>\n      <td>0</td>\n    </tr>\n  </tbody>\n</table>\n</div>"
          },
          "metadata": {},
          "execution_count": 94
        }
      ]
    },
    {
      "cell_type": "markdown",
      "metadata": {
        "id": "rn_B2VW-R0tH",
        "colab_type": "text"
      },
      "source": [
        "O primeiro caso de infeção confirmado no país deu-se no dia 26 de fevereiro, mais precisamente no estado de São Paulo."
      ]
    },
    {
      "cell_type": "code",
      "metadata": {
        "id": "sdu5QFkcUkkv",
        "colab_type": "code",
        "outputId": "1ba80ad9-b8d6-4802-e9f4-2a66c9c81682",
        "colab": {
          "base_uri": "https://localhost:8080/",
          "height": 81
        }
      },
      "source": [
        "# Primeira morte\n",
        "data[data['deaths'] > 0].head(1)"
      ],
      "execution_count": 95,
      "outputs": [
        {
          "output_type": "execute_result",
          "data": {
            "text/plain": "           date   region      state  cases  deaths\n129  2020-03-17  Sudeste  São Paulo    164       1",
            "text/html": "<div>\n<style scoped>\n    .dataframe tbody tr th:only-of-type {\n        vertical-align: middle;\n    }\n\n    .dataframe tbody tr th {\n        vertical-align: top;\n    }\n\n    .dataframe thead th {\n        text-align: right;\n    }\n</style>\n<table border=\"1\" class=\"dataframe\">\n  <thead>\n    <tr style=\"text-align: right;\">\n      <th></th>\n      <th>date</th>\n      <th>region</th>\n      <th>state</th>\n      <th>cases</th>\n      <th>deaths</th>\n    </tr>\n  </thead>\n  <tbody>\n    <tr>\n      <th>129</th>\n      <td>2020-03-17</td>\n      <td>Sudeste</td>\n      <td>São Paulo</td>\n      <td>164</td>\n      <td>1</td>\n    </tr>\n  </tbody>\n</table>\n</div>"
          },
          "metadata": {},
          "execution_count": 95
        }
      ]
    },
    {
      "cell_type": "markdown",
      "metadata": {
        "id": "aNuUPwoIVCpX",
        "colab_type": "text"
      },
      "source": [
        "A primeira morte por infeção do vírus, foi confirmada no dia 17 de março, novamente no estado de São Paulo."
      ]
    },
    {
      "cell_type": "markdown",
      "metadata": {
        "id": "uTH9FADk4FLG",
        "colab_type": "text"
      },
      "source": [
        "Foi feito o gráfico da curva epidemiológica do vírus ao longo deste perído de tempo, em termos de casos confirmados."
      ]
    },
    {
      "cell_type": "code",
      "metadata": {
        "id": "7flgwwkB4FXM",
        "colab_type": "code",
        "outputId": "82f8ab7a-68b4-409e-de65-ee8699b57d3d",
        "colab": {
          "base_uri": "https://localhost:8080/",
          "height": 542
        }
      },
      "source": [
        "# Somar casos e mortes e juntar por dia\n",
        "data_by_day = data.groupby(['date'])['cases','deaths'].agg('sum')\n",
        "\n",
        "# Plot\n",
        "layout = Layout(\n",
        "    title=\"Casos Confirmados\",\n",
        "    font=dict(\n",
        "        family=\"Courier New, monospace\",\n",
        "        size=14,\n",
        "        color=\"#7f7f7f\"\n",
        "    )\n",
        ")\n",
        "\n",
        "fig = go.Figure(data=go.Line(x = data_by_day.index, y=data_by_day['cases']))\n",
        "\n",
        "fig['layout'].update(layout)\n",
        "\n",
        "fig.show()\n",
        "\n"
      ],
      "execution_count": 96,
      "outputs": [
        {
          "output_type": "display_data",
          "data": {
            "image/svg+xml": "<svg class=\"main-svg\" xmlns=\"http://www.w3.org/2000/svg\" xmlns:xlink=\"http://www.w3.org/1999/xlink\" width=\"700\" height=\"450\" viewBox=\"0 0 700 450\"><rect x=\"0\" y=\"0\" width=\"700\" height=\"450\" style=\"fill: rgb(255, 255, 255); fill-opacity: 1;\"/><defs id=\"defs-76aebd\"><g class=\"clips\"><clipPath id=\"clip76aebdxyplot\" class=\"plotclip\"><rect width=\"540\" height=\"270\"/></clipPath><clipPath class=\"axesclip\" id=\"clip76aebdx\"><rect x=\"80\" y=\"0\" width=\"540\" height=\"450\"/></clipPath><clipPath class=\"axesclip\" id=\"clip76aebdy\"><rect x=\"0\" y=\"100\" width=\"700\" height=\"270\"/></clipPath><clipPath class=\"axesclip\" id=\"clip76aebdxy\"><rect x=\"80\" y=\"100\" width=\"540\" height=\"270\"/></clipPath></g><g class=\"gradients\"/></defs><g class=\"bglayer\"><rect class=\"bg\" x=\"80\" y=\"100\" width=\"540\" height=\"270\" style=\"fill: rgb(229, 236, 246); fill-opacity: 1; stroke-width: 0;\"/></g><g class=\"layer-below\"><g class=\"imagelayer\"/><g class=\"shapelayer\"/></g><g class=\"cartesianlayer\"><g class=\"subplot xy\"><g class=\"layer-subplot\"><g class=\"shapelayer\"/><g class=\"imagelayer\"/></g><g class=\"gridlayer\"><g class=\"x\"><path class=\"xgrid crisp\" transform=\"translate(105.71000000000001,0)\" d=\"M0,100v270\" style=\"stroke: rgb(255, 255, 255); stroke-opacity: 1; stroke-width: 1px;\"/><path class=\"xgrid crisp\" transform=\"translate(195.70999999999998,0)\" d=\"M0,100v270\" style=\"stroke: rgb(255, 255, 255); stroke-opacity: 1; stroke-width: 1px;\"/><path class=\"xgrid crisp\" transform=\"translate(285.71000000000004,0)\" d=\"M0,100v270\" style=\"stroke: rgb(255, 255, 255); stroke-opacity: 1; stroke-width: 1px;\"/><path class=\"xgrid crisp\" transform=\"translate(375.71,0)\" d=\"M0,100v270\" style=\"stroke: rgb(255, 255, 255); stroke-opacity: 1; stroke-width: 1px;\"/><path class=\"xgrid crisp\" transform=\"translate(465.71,0)\" d=\"M0,100v270\" style=\"stroke: rgb(255, 255, 255); stroke-opacity: 1; stroke-width: 1px;\"/><path class=\"xgrid crisp\" transform=\"translate(555.71,0)\" d=\"M0,100v270\" style=\"stroke: rgb(255, 255, 255); stroke-opacity: 1; stroke-width: 1px;\"/></g><g class=\"y\"><path class=\"ygrid crisp\" transform=\"translate(0,314.83000000000004)\" d=\"M80,0h540\" style=\"stroke: rgb(255, 255, 255); stroke-opacity: 1; stroke-width: 1px;\"/><path class=\"ygrid crisp\" transform=\"translate(0,273.15999999999997)\" d=\"M80,0h540\" style=\"stroke: rgb(255, 255, 255); stroke-opacity: 1; stroke-width: 1px;\"/><path class=\"ygrid crisp\" transform=\"translate(0,231.49)\" d=\"M80,0h540\" style=\"stroke: rgb(255, 255, 255); stroke-opacity: 1; stroke-width: 1px;\"/><path class=\"ygrid crisp\" transform=\"translate(0,189.82)\" d=\"M80,0h540\" style=\"stroke: rgb(255, 255, 255); stroke-opacity: 1; stroke-width: 1px;\"/><path class=\"ygrid crisp\" transform=\"translate(0,148.15)\" d=\"M80,0h540\" style=\"stroke: rgb(255, 255, 255); stroke-opacity: 1; stroke-width: 1px;\"/><path class=\"ygrid crisp\" transform=\"translate(0,106.48)\" d=\"M80,0h540\" style=\"stroke: rgb(255, 255, 255); stroke-opacity: 1; stroke-width: 1px;\"/></g></g><g class=\"zerolinelayer\"><path class=\"yzl zl crisp\" transform=\"translate(0,356.5)\" d=\"M80,0h540\" style=\"stroke: rgb(255, 255, 255); stroke-opacity: 1; stroke-width: 2px;\"/></g><path class=\"xlines-below\"/><path class=\"ylines-below\"/><g class=\"overlines-below\"/><g class=\"xaxislayer-below\"/><g class=\"yaxislayer-below\"/><g class=\"overaxes-below\"/><g class=\"plot\" transform=\"translate(80, 100)\" clip-path=\"url('#clip76aebdxyplot')\"><g class=\"scatterlayer mlayer\"><g class=\"trace scatter tracee2e9ff\" style=\"stroke-miterlimit: 2; opacity: 1;\"><g class=\"fills\"/><g class=\"errorbars\"/><g class=\"lines\"><path class=\"js-line\" d=\"M0,256.5L147.86,255.75L154.29,255.56L218.57,251.74L225,250.81L263.57,245.07L270,243.23L282.86,240.13L289.29,239.23L308.57,235.45L315,232.9L321.43,231.14L327.86,228.43L340.71,224.29L347.14,222.68L360,218.37L366.43,215.25L372.86,212.34L379.29,207.74L385.71,204.92L392.14,201.08L405,191.36L411.43,185.35L424.29,176.16L430.71,172.21L443.57,160.9L450,152.14L469.29,126.54L475.71,120.91L482.14,116.21L488.57,108.5L495,99.01L501.43,87.39L514.29,62.2L520.71,55.59L527.14,44.63L533.57,30.13L540,13.5\" style=\"vector-effect: non-scaling-stroke; fill: none; stroke: rgb(99, 110, 250); stroke-opacity: 1; stroke-width: 2px; opacity: 1;\"/></g><g class=\"points\"/><g class=\"text\"/></g></g></g><g class=\"overplot\"/><path class=\"xlines-above crisp\" d=\"M0,0\" style=\"fill: none;\"/><path class=\"ylines-above crisp\" d=\"M0,0\" style=\"fill: none;\"/><g class=\"overlines-above\"/><g class=\"xaxislayer-above\"><g class=\"xtick\"><text text-anchor=\"middle\" x=\"0\" y=\"385\" transform=\"translate(105.71000000000001,0)\" style=\"font-family: 'Courier New', monospace; font-size: 14px; fill: rgb(127, 127, 127); fill-opacity: 1; white-space: pre;\"><tspan class=\"line\" dy=\"0em\" x=\"0\" y=\"385\">Mar 1</tspan><tspan class=\"line\" dy=\"1.3em\" x=\"0\" y=\"385\">2020</tspan></text></g><g class=\"xtick\"><text text-anchor=\"middle\" x=\"0\" y=\"385\" transform=\"translate(195.70999999999998,0)\" style=\"font-family: 'Courier New', monospace; font-size: 14px; fill: rgb(127, 127, 127); fill-opacity: 1; white-space: pre;\">Mar 15</text></g><g class=\"xtick\"><text text-anchor=\"middle\" x=\"0\" y=\"385\" transform=\"translate(285.71000000000004,0)\" style=\"font-family: 'Courier New', monospace; font-size: 14px; fill: rgb(127, 127, 127); fill-opacity: 1; white-space: pre;\">Mar 29</text></g><g class=\"xtick\"><text text-anchor=\"middle\" x=\"0\" y=\"385\" transform=\"translate(375.71,0)\" style=\"font-family: 'Courier New', monospace; font-size: 14px; fill: rgb(127, 127, 127); fill-opacity: 1; white-space: pre;\">Apr 12</text></g><g class=\"xtick\"><text text-anchor=\"middle\" x=\"0\" y=\"385\" transform=\"translate(465.71,0)\" style=\"font-family: 'Courier New', monospace; font-size: 14px; fill: rgb(127, 127, 127); fill-opacity: 1; white-space: pre;\">Apr 26</text></g><g class=\"xtick\"><text text-anchor=\"middle\" x=\"0\" y=\"385\" transform=\"translate(555.71,0)\" style=\"font-family: 'Courier New', monospace; font-size: 14px; fill: rgb(127, 127, 127); fill-opacity: 1; white-space: pre;\">May 10</text></g></g><g class=\"yaxislayer-above\"><g class=\"ytick\"><text text-anchor=\"end\" x=\"79\" y=\"4.8999999999999995\" transform=\"translate(0,356.5)\" style=\"font-family: 'Courier New', monospace; font-size: 14px; fill: rgb(127, 127, 127); fill-opacity: 1; white-space: pre;\">0</text></g><g class=\"ytick\"><text text-anchor=\"end\" x=\"79\" y=\"4.8999999999999995\" transform=\"translate(0,314.83000000000004)\" style=\"font-family: 'Courier New', monospace; font-size: 14px; fill: rgb(127, 127, 127); fill-opacity: 1; white-space: pre;\">50k</text></g><g class=\"ytick\"><text text-anchor=\"end\" x=\"79\" y=\"4.8999999999999995\" transform=\"translate(0,273.15999999999997)\" style=\"font-family: 'Courier New', monospace; font-size: 14px; fill: rgb(127, 127, 127); fill-opacity: 1; white-space: pre;\">100k</text></g><g class=\"ytick\"><text text-anchor=\"end\" x=\"79\" y=\"4.8999999999999995\" transform=\"translate(0,231.49)\" style=\"font-family: 'Courier New', monospace; font-size: 14px; fill: rgb(127, 127, 127); fill-opacity: 1; white-space: pre;\">150k</text></g><g class=\"ytick\"><text text-anchor=\"end\" x=\"79\" y=\"4.8999999999999995\" transform=\"translate(0,189.82)\" style=\"font-family: 'Courier New', monospace; font-size: 14px; fill: rgb(127, 127, 127); fill-opacity: 1; white-space: pre;\">200k</text></g><g class=\"ytick\"><text text-anchor=\"end\" x=\"79\" y=\"4.8999999999999995\" transform=\"translate(0,148.15)\" style=\"font-family: 'Courier New', monospace; font-size: 14px; fill: rgb(127, 127, 127); fill-opacity: 1; white-space: pre;\">250k</text></g><g class=\"ytick\"><text text-anchor=\"end\" x=\"79\" y=\"4.8999999999999995\" transform=\"translate(0,106.48)\" style=\"font-family: 'Courier New', monospace; font-size: 14px; fill: rgb(127, 127, 127); fill-opacity: 1; white-space: pre;\">300k</text></g></g><g class=\"overaxes-above\"/></g></g><g class=\"polarlayer\"/><g class=\"ternarylayer\"/><g class=\"geolayer\"/><g class=\"funnelarealayer\"/><g class=\"pielayer\"/><g class=\"treemaplayer\"/><g class=\"sunburstlayer\"/><g class=\"glimages\"/><defs id=\"topdefs-76aebd\"><g class=\"clips\"/></defs><g class=\"layer-above\"><g class=\"imagelayer\"/><g class=\"shapelayer\"/></g><g class=\"infolayer\"><g class=\"g-gtitle\"><text class=\"gtitle\" x=\"35\" y=\"50\" text-anchor=\"start\" dy=\"0em\" style=\"font-family: 'Courier New', monospace; font-size: 20px; fill: rgb(127, 127, 127); opacity: 1; font-weight: normal; white-space: pre;\">Casos Confirmados</text></g><g class=\"g-xtitle\"/><g class=\"g-ytitle\"/></g></svg>"
          },
          "metadata": {}
        }
      ]
    },
    {
      "cell_type": "markdown",
      "metadata": {
        "id": "qH61kgYW_Jq8",
        "colab_type": "text"
      },
      "source": [
        "Por conseguinte, realizou-se também o gráfico que demonstra o aumento do nº de óbitos durante este período."
      ]
    },
    {
      "cell_type": "code",
      "metadata": {
        "id": "Q_MbN733_aYe",
        "colab_type": "code",
        "outputId": "4ebda105-0b3a-4f29-fc04-def0887793f8",
        "colab": {
          "base_uri": "https://localhost:8080/",
          "height": 542
        }
      },
      "source": [
        "# Plot\n",
        "layout = Layout(\n",
        "    title=\"Óbitos Confirmados\",\n",
        "    font=dict(\n",
        "        family=\"Courier New, monospace\",\n",
        "        size=14,\n",
        "        color=\"#7f7f7f\"\n",
        "    )\n",
        ")\n",
        "\n",
        "fig = go.Figure(data=go.Line(x = data_by_day.index, y=data_by_day['deaths'], line_color='#cf0000'))\n",
        "\n",
        "fig['layout'].update(layout)\n",
        "\n",
        "fig.show()"
      ],
      "execution_count": 97,
      "outputs": [
        {
          "output_type": "display_data",
          "data": {
            "image/svg+xml": "<svg class=\"main-svg\" xmlns=\"http://www.w3.org/2000/svg\" xmlns:xlink=\"http://www.w3.org/1999/xlink\" width=\"700\" height=\"450\" viewBox=\"0 0 700 450\"><rect x=\"0\" y=\"0\" width=\"700\" height=\"450\" style=\"fill: rgb(255, 255, 255); fill-opacity: 1;\"/><defs id=\"defs-05d9e3\"><g class=\"clips\"><clipPath id=\"clip05d9e3xyplot\" class=\"plotclip\"><rect width=\"540\" height=\"270\"/></clipPath><clipPath class=\"axesclip\" id=\"clip05d9e3x\"><rect x=\"80\" y=\"0\" width=\"540\" height=\"450\"/></clipPath><clipPath class=\"axesclip\" id=\"clip05d9e3y\"><rect x=\"0\" y=\"100\" width=\"700\" height=\"270\"/></clipPath><clipPath class=\"axesclip\" id=\"clip05d9e3xy\"><rect x=\"80\" y=\"100\" width=\"540\" height=\"270\"/></clipPath></g><g class=\"gradients\"/></defs><g class=\"bglayer\"><rect class=\"bg\" x=\"80\" y=\"100\" width=\"540\" height=\"270\" style=\"fill: rgb(229, 236, 246); fill-opacity: 1; stroke-width: 0;\"/></g><g class=\"layer-below\"><g class=\"imagelayer\"/><g class=\"shapelayer\"/></g><g class=\"cartesianlayer\"><g class=\"subplot xy\"><g class=\"layer-subplot\"><g class=\"shapelayer\"/><g class=\"imagelayer\"/></g><g class=\"gridlayer\"><g class=\"x\"><path class=\"xgrid crisp\" transform=\"translate(105.71000000000001,0)\" d=\"M0,100v270\" style=\"stroke: rgb(255, 255, 255); stroke-opacity: 1; stroke-width: 1px;\"/><path class=\"xgrid crisp\" transform=\"translate(195.70999999999998,0)\" d=\"M0,100v270\" style=\"stroke: rgb(255, 255, 255); stroke-opacity: 1; stroke-width: 1px;\"/><path class=\"xgrid crisp\" transform=\"translate(285.71000000000004,0)\" d=\"M0,100v270\" style=\"stroke: rgb(255, 255, 255); stroke-opacity: 1; stroke-width: 1px;\"/><path class=\"xgrid crisp\" transform=\"translate(375.71,0)\" d=\"M0,100v270\" style=\"stroke: rgb(255, 255, 255); stroke-opacity: 1; stroke-width: 1px;\"/><path class=\"xgrid crisp\" transform=\"translate(465.71,0)\" d=\"M0,100v270\" style=\"stroke: rgb(255, 255, 255); stroke-opacity: 1; stroke-width: 1px;\"/><path class=\"xgrid crisp\" transform=\"translate(555.71,0)\" d=\"M0,100v270\" style=\"stroke: rgb(255, 255, 255); stroke-opacity: 1; stroke-width: 1px;\"/></g><g class=\"y\"><path class=\"ygrid crisp\" transform=\"translate(0,292.07)\" d=\"M80,0h540\" style=\"stroke: rgb(255, 255, 255); stroke-opacity: 1; stroke-width: 1px;\"/><path class=\"ygrid crisp\" transform=\"translate(0,227.65)\" d=\"M80,0h540\" style=\"stroke: rgb(255, 255, 255); stroke-opacity: 1; stroke-width: 1px;\"/><path class=\"ygrid crisp\" transform=\"translate(0,163.22)\" d=\"M80,0h540\" style=\"stroke: rgb(255, 255, 255); stroke-opacity: 1; stroke-width: 1px;\"/></g></g><g class=\"zerolinelayer\"><path class=\"yzl zl crisp\" transform=\"translate(0,356.5)\" d=\"M80,0h540\" style=\"stroke: rgb(255, 255, 255); stroke-opacity: 1; stroke-width: 2px;\"/></g><path class=\"xlines-below\"/><path class=\"ylines-below\"/><g class=\"overlines-below\"/><g class=\"xaxislayer-below\"/><g class=\"yaxislayer-below\"/><g class=\"overaxes-below\"/><g class=\"plot\" transform=\"translate(80, 100)\" clip-path=\"url('#clip05d9e3xyplot')\"><g class=\"scatterlayer mlayer\"><g class=\"trace scatter tracede98cf\" style=\"stroke-miterlimit: 2; opacity: 1;\"><g class=\"fills\"/><g class=\"errorbars\"/><g class=\"lines\"><path class=\"js-line\" d=\"M0,256.5L180,255.77L186.43,255.51L218.57,253.91L225,253.39L257.14,249.37L263.57,247.91L282.86,242.89L289.29,242.02L302.14,239.39L308.57,236.76L334.29,226.26L340.71,224.78L353.57,221.18L360,219.06L372.86,209.21L379.29,204.75L385.71,202.32L392.14,197.96L411.43,180.47L417.86,174.95L424.29,169.86L430.71,165.98L437.14,162.17L443.57,154.44L456.43,138.65L462.86,128.98L469.29,119.57L475.71,113.18L482.14,108.08L488.57,96.72L501.43,76.2L507.86,65.58L514.29,55.07L520.71,48.82L527.14,40.13L533.57,24.94L540,13.5\" style=\"vector-effect: non-scaling-stroke; fill: none; stroke: rgb(207, 0, 0); stroke-opacity: 1; stroke-width: 2px; opacity: 1;\"/></g><g class=\"points\"/><g class=\"text\"/></g></g></g><g class=\"overplot\"/><path class=\"xlines-above crisp\" d=\"M0,0\" style=\"fill: none;\"/><path class=\"ylines-above crisp\" d=\"M0,0\" style=\"fill: none;\"/><g class=\"overlines-above\"/><g class=\"xaxislayer-above\"><g class=\"xtick\"><text text-anchor=\"middle\" x=\"0\" y=\"385\" transform=\"translate(105.71000000000001,0)\" style=\"font-family: 'Courier New', monospace; font-size: 14px; fill: rgb(127, 127, 127); fill-opacity: 1; white-space: pre;\"><tspan class=\"line\" dy=\"0em\" x=\"0\" y=\"385\">Mar 1</tspan><tspan class=\"line\" dy=\"1.3em\" x=\"0\" y=\"385\">2020</tspan></text></g><g class=\"xtick\"><text text-anchor=\"middle\" x=\"0\" y=\"385\" transform=\"translate(195.70999999999998,0)\" style=\"font-family: 'Courier New', monospace; font-size: 14px; fill: rgb(127, 127, 127); fill-opacity: 1; white-space: pre;\">Mar 15</text></g><g class=\"xtick\"><text text-anchor=\"middle\" x=\"0\" y=\"385\" transform=\"translate(285.71000000000004,0)\" style=\"font-family: 'Courier New', monospace; font-size: 14px; fill: rgb(127, 127, 127); fill-opacity: 1; white-space: pre;\">Mar 29</text></g><g class=\"xtick\"><text text-anchor=\"middle\" x=\"0\" y=\"385\" transform=\"translate(375.71,0)\" style=\"font-family: 'Courier New', monospace; font-size: 14px; fill: rgb(127, 127, 127); fill-opacity: 1; white-space: pre;\">Apr 12</text></g><g class=\"xtick\"><text text-anchor=\"middle\" x=\"0\" y=\"385\" transform=\"translate(465.71,0)\" style=\"font-family: 'Courier New', monospace; font-size: 14px; fill: rgb(127, 127, 127); fill-opacity: 1; white-space: pre;\">Apr 26</text></g><g class=\"xtick\"><text text-anchor=\"middle\" x=\"0\" y=\"385\" transform=\"translate(555.71,0)\" style=\"font-family: 'Courier New', monospace; font-size: 14px; fill: rgb(127, 127, 127); fill-opacity: 1; white-space: pre;\">May 10</text></g></g><g class=\"yaxislayer-above\"><g class=\"ytick\"><text text-anchor=\"end\" x=\"79\" y=\"4.8999999999999995\" transform=\"translate(0,356.5)\" style=\"font-family: 'Courier New', monospace; font-size: 14px; fill: rgb(127, 127, 127); fill-opacity: 1; white-space: pre;\">0</text></g><g class=\"ytick\"><text text-anchor=\"end\" x=\"79\" y=\"4.8999999999999995\" transform=\"translate(0,292.07)\" style=\"font-family: 'Courier New', monospace; font-size: 14px; fill: rgb(127, 127, 127); fill-opacity: 1; white-space: pre;\">5k</text></g><g class=\"ytick\"><text text-anchor=\"end\" x=\"79\" y=\"4.8999999999999995\" transform=\"translate(0,227.65)\" style=\"font-family: 'Courier New', monospace; font-size: 14px; fill: rgb(127, 127, 127); fill-opacity: 1; white-space: pre;\">10k</text></g><g class=\"ytick\"><text text-anchor=\"end\" x=\"79\" y=\"4.8999999999999995\" transform=\"translate(0,163.22)\" style=\"font-family: 'Courier New', monospace; font-size: 14px; fill: rgb(127, 127, 127); fill-opacity: 1; white-space: pre;\">15k</text></g></g><g class=\"overaxes-above\"/></g></g><g class=\"polarlayer\"/><g class=\"ternarylayer\"/><g class=\"geolayer\"/><g class=\"funnelarealayer\"/><g class=\"pielayer\"/><g class=\"treemaplayer\"/><g class=\"sunburstlayer\"/><g class=\"glimages\"/><defs id=\"topdefs-05d9e3\"><g class=\"clips\"/></defs><g class=\"layer-above\"><g class=\"imagelayer\"/><g class=\"shapelayer\"/></g><g class=\"infolayer\"><g class=\"g-gtitle\"><text class=\"gtitle\" x=\"35\" y=\"50\" text-anchor=\"start\" dy=\"0em\" style=\"font-family: 'Courier New', monospace; font-size: 20px; fill: rgb(127, 127, 127); opacity: 1; font-weight: normal; white-space: pre;\">Óbitos Confirmados</text></g><g class=\"g-xtitle\"/><g class=\"g-ytitle\"/></g></svg>"
          },
          "metadata": {}
        }
      ]
    },
    {
      "cell_type": "markdown",
      "metadata": {
        "id": "_8fzqZmz0fRb",
        "colab_type": "text"
      },
      "source": [
        "Averíguamos agora através de gráficos de barras, qual tem sido o aumento diário de casos positivos e de óbitos no país."
      ]
    },
    {
      "cell_type": "code",
      "metadata": {
        "id": "QxnOE6RqQj_B",
        "colab_type": "code",
        "outputId": "6f5ebfb4-239f-4166-9d0f-f891fc848cf4",
        "colab": {
          "base_uri": "https://localhost:8080/",
          "height": 542
        }
      },
      "source": [
        "# Cálculo da taxa diária de casos e mortes\n",
        "data_today = data_by_day\n",
        "data_before = data_by_day.shift(1)\n",
        "\n",
        "data_growth_rate = data_today - data_before\n",
        "data_growth_rate = data_growth_rate.dropna()\n",
        "\n",
        "cases_rate = data_growth_rate['cases'][data_growth_rate['cases']>0]\n",
        "deaths_rate = data_growth_rate['deaths'][data_growth_rate['deaths']>0]\n",
        "\n",
        "# Plot\n",
        "layout = Layout(\n",
        "    font=dict(\n",
        "        family=\"Courier New, monospace\",\n",
        "        size=14,\n",
        "        color=\"#7f7f7f\"\n",
        "    )\n",
        ")\n",
        "\n",
        "fig = make_subplots(rows=2, cols=1\n",
        "                    , subplot_titles=('Aumento Diário de Casos'\n",
        "                                      , 'Aumento Diário de Óbitos'))\n",
        "\n",
        "fig.append_trace(Bar(\n",
        "    x=cases_rate.index,\n",
        "    y=cases_rate,\n",
        "    name='Nº de novos casos'\n",
        "), row=1, col=1)\n",
        "\n",
        "fig.append_trace(Bar(\n",
        "    x=deaths_rate.index,\n",
        "    y=deaths_rate,\n",
        "    name='Nº de novos óbitos'\n",
        "), row=2, col=1)\n",
        "\n",
        "fig['layout'].update(layout)\n",
        "\n",
        "fig.show()"
      ],
      "execution_count": 98,
      "outputs": [
        {
          "output_type": "display_data",
          "data": {
            "image/svg+xml": "<svg class=\"main-svg\" xmlns=\"http://www.w3.org/2000/svg\" xmlns:xlink=\"http://www.w3.org/1999/xlink\" width=\"700\" height=\"450\" viewBox=\"0 0 700 450\"><rect x=\"0\" y=\"0\" width=\"700\" height=\"450\" style=\"fill: rgb(255, 255, 255); fill-opacity: 1;\"/><defs id=\"defs-9e922d\"><g class=\"clips\"><clipPath id=\"clip9e922dxyplot\" class=\"plotclip\"><rect width=\"403\" height=\"101.25\"/></clipPath><clipPath id=\"clip9e922dx2y2plot\" class=\"plotclip\"><rect width=\"403\" height=\"101.25\"/></clipPath><clipPath class=\"axesclip\" id=\"clip9e922dx\"><rect x=\"80\" y=\"0\" width=\"403\" height=\"450\"/></clipPath><clipPath class=\"axesclip\" id=\"clip9e922dy\"><rect x=\"0\" y=\"100\" width=\"700\" height=\"101.25\"/></clipPath><clipPath class=\"axesclip\" id=\"clip9e922dxy\"><rect x=\"80\" y=\"100\" width=\"403\" height=\"101.25\"/></clipPath><clipPath class=\"axesclip\" id=\"clip9e922dy2\"><rect x=\"0\" y=\"268.75\" width=\"700\" height=\"101.25\"/></clipPath><clipPath class=\"axesclip\" id=\"clip9e922dxy2\"><rect x=\"80\" y=\"268.75\" width=\"403\" height=\"101.25\"/></clipPath><clipPath class=\"axesclip\" id=\"clip9e922dx2\"><rect x=\"80\" y=\"0\" width=\"403\" height=\"450\"/></clipPath><clipPath class=\"axesclip\" id=\"clip9e922dx2y\"><rect x=\"80\" y=\"100\" width=\"403\" height=\"101.25\"/></clipPath><clipPath class=\"axesclip\" id=\"clip9e922dx2y2\"><rect x=\"80\" y=\"268.75\" width=\"403\" height=\"101.25\"/></clipPath></g><g class=\"gradients\"/></defs><g class=\"bglayer\"><rect class=\"bg\" x=\"80\" y=\"100\" width=\"403\" height=\"101.25\" style=\"fill: rgb(229, 236, 246); fill-opacity: 1; stroke-width: 0;\"/><rect class=\"bg\" x=\"80\" y=\"268.75\" width=\"403\" height=\"101.25\" style=\"fill: rgb(229, 236, 246); fill-opacity: 1; stroke-width: 0;\"/></g><g class=\"layer-below\"><g class=\"imagelayer\"/><g class=\"shapelayer\"/></g><g class=\"cartesianlayer\"><g class=\"subplot xy\"><g class=\"layer-subplot\"><g class=\"shapelayer\"/><g class=\"imagelayer\"/></g><g class=\"gridlayer\"><g class=\"x\"/><g class=\"y\"><path class=\"ygrid crisp\" transform=\"translate(0,177.14)\" d=\"M80,0h403\" style=\"stroke: rgb(255, 255, 255); stroke-opacity: 1; stroke-width: 1px;\"/><path class=\"ygrid crisp\" transform=\"translate(0,153.04)\" d=\"M80,0h403\" style=\"stroke: rgb(255, 255, 255); stroke-opacity: 1; stroke-width: 1px;\"/><path class=\"ygrid crisp\" transform=\"translate(0,128.93)\" d=\"M80,0h403\" style=\"stroke: rgb(255, 255, 255); stroke-opacity: 1; stroke-width: 1px;\"/><path class=\"ygrid crisp\" transform=\"translate(0,104.83)\" d=\"M80,0h403\" style=\"stroke: rgb(255, 255, 255); stroke-opacity: 1; stroke-width: 1px;\"/></g></g><g class=\"zerolinelayer\"><path class=\"yzl zl crisp\" transform=\"translate(0,201.25)\" d=\"M80,0h403\" style=\"stroke: rgb(255, 255, 255); stroke-opacity: 1; stroke-width: 2px;\"/></g><path class=\"xlines-below\"/><path class=\"ylines-below\"/><g class=\"overlines-below\"/><g class=\"xaxislayer-below\"/><g class=\"yaxislayer-below\"/><g class=\"overaxes-below\"/><g class=\"plot\" transform=\"translate(80, 100)\" clip-path=\"url('#clip9e922dxyplot')\"><g class=\"barlayer mlayer\"><g class=\"trace bars\" style=\"opacity: 1;\"><g class=\"points\"><g class=\"point\"><path d=\"M0.49,101.25V101.25H4.42V101.25Z\" style=\"vector-effect: non-scaling-stroke; opacity: 1; stroke-width: 0.5px; fill: rgb(99, 110, 250); fill-opacity: 1; stroke: rgb(229, 236, 246); stroke-opacity: 1;\"/></g><g class=\"point\"><path d=\"M20.15,101.25V101.25H24.08V101.25Z\" style=\"vector-effect: non-scaling-stroke; opacity: 1; stroke-width: 0.5px; fill: rgb(99, 110, 250); fill-opacity: 1; stroke: rgb(229, 236, 246); stroke-opacity: 1;\"/></g><g class=\"point\"><path d=\"M25.06,101.25V101.23H29V101.25Z\" style=\"vector-effect: non-scaling-stroke; opacity: 1; stroke-width: 0.5px; fill: rgb(99, 110, 250); fill-opacity: 1; stroke: rgb(229, 236, 246); stroke-opacity: 1;\"/></g><g class=\"point\"><path d=\"M29.98,101.25V101.22H33.91V101.25Z\" style=\"vector-effect: non-scaling-stroke; opacity: 1; stroke-width: 0.5px; fill: rgb(99, 110, 250); fill-opacity: 1; stroke: rgb(229, 236, 246); stroke-opacity: 1;\"/></g><g class=\"point\"><path d=\"M34.89,101.25V101.22H38.83V101.25Z\" style=\"vector-effect: non-scaling-stroke; opacity: 1; stroke-width: 0.5px; fill: rgb(99, 110, 250); fill-opacity: 1; stroke: rgb(229, 236, 246); stroke-opacity: 1;\"/></g><g class=\"point\"><path d=\"M39.81,101.25V101.22H43.74V101.25Z\" style=\"vector-effect: non-scaling-stroke; opacity: 1; stroke-width: 0.5px; fill: rgb(99, 110, 250); fill-opacity: 1; stroke: rgb(229, 236, 246); stroke-opacity: 1;\"/></g><g class=\"point\"><path d=\"M49.64,101.25V101.21H53.57V101.25Z\" style=\"vector-effect: non-scaling-stroke; opacity: 1; stroke-width: 0.5px; fill: rgb(99, 110, 250); fill-opacity: 1; stroke: rgb(229, 236, 246); stroke-opacity: 1;\"/></g><g class=\"point\"><path d=\"M54.55,101.25V101.16H58.48V101.25Z\" style=\"vector-effect: non-scaling-stroke; opacity: 1; stroke-width: 0.5px; fill: rgb(99, 110, 250); fill-opacity: 1; stroke: rgb(229, 236, 246); stroke-opacity: 1;\"/></g><g class=\"point\"><path d=\"M59.47,101.25V101.13H63.4V101.25Z\" style=\"vector-effect: non-scaling-stroke; opacity: 1; stroke-width: 0.5px; fill: rgb(99, 110, 250); fill-opacity: 1; stroke: rgb(229, 236, 246); stroke-opacity: 1;\"/></g><g class=\"point\"><path d=\"M64.38,101.25V101.15H68.31V101.25Z\" style=\"vector-effect: non-scaling-stroke; opacity: 1; stroke-width: 0.5px; fill: rgb(99, 110, 250); fill-opacity: 1; stroke: rgb(229, 236, 246); stroke-opacity: 1;\"/></g><g class=\"point\"><path d=\"M69.3,101.25V101.14H73.23V101.25Z\" style=\"vector-effect: non-scaling-stroke; opacity: 1; stroke-width: 0.5px; fill: rgb(99, 110, 250); fill-opacity: 1; stroke: rgb(229, 236, 246); stroke-opacity: 1;\"/></g><g class=\"point\"><path d=\"M74.21,101.25V100.87H78.14V101.25Z\" style=\"vector-effect: non-scaling-stroke; opacity: 1; stroke-width: 0.5px; fill: rgb(99, 110, 250); fill-opacity: 1; stroke: rgb(229, 236, 246); stroke-opacity: 1;\"/></g><g class=\"point\"><path d=\"M79.13,101.25V101.09H83.06V101.25Z\" style=\"vector-effect: non-scaling-stroke; opacity: 1; stroke-width: 0.5px; fill: rgb(99, 110, 250); fill-opacity: 1; stroke: rgb(229, 236, 246); stroke-opacity: 1;\"/></g><g class=\"point\"><path d=\"M84.04,101.25V100.98H87.97V101.25Z\" style=\"vector-effect: non-scaling-stroke; opacity: 1; stroke-width: 0.5px; fill: rgb(99, 110, 250); fill-opacity: 1; stroke: rgb(229, 236, 246); stroke-opacity: 1;\"/></g><g class=\"point\"><path d=\"M88.95,101.25V100.59H92.89V101.25Z\" style=\"vector-effect: non-scaling-stroke; opacity: 1; stroke-width: 0.5px; fill: rgb(99, 110, 250); fill-opacity: 1; stroke: rgb(229, 236, 246); stroke-opacity: 1;\"/></g><g class=\"point\"><path d=\"M93.87,101.25V100.32H97.8V101.25Z\" style=\"vector-effect: non-scaling-stroke; opacity: 1; stroke-width: 0.5px; fill: rgb(99, 110, 250); fill-opacity: 1; stroke: rgb(229, 236, 246); stroke-opacity: 1;\"/></g><g class=\"point\"><path d=\"M98.78,101.25V99.89H102.72V101.25Z\" style=\"vector-effect: non-scaling-stroke; opacity: 1; stroke-width: 0.5px; fill: rgb(99, 110, 250); fill-opacity: 1; stroke: rgb(229, 236, 246); stroke-opacity: 1;\"/></g><g class=\"point\"><path d=\"M103.7,101.25V100.17H107.63V101.25Z\" style=\"vector-effect: non-scaling-stroke; opacity: 1; stroke-width: 0.5px; fill: rgb(99, 110, 250); fill-opacity: 1; stroke: rgb(229, 236, 246); stroke-opacity: 1;\"/></g><g class=\"point\"><path d=\"M108.61,101.25V99.23H112.55V101.25Z\" style=\"vector-effect: non-scaling-stroke; opacity: 1; stroke-width: 0.5px; fill: rgb(99, 110, 250); fill-opacity: 1; stroke: rgb(229, 236, 246); stroke-opacity: 1;\"/></g><g class=\"point\"><path d=\"M113.53,101.25V99.59H117.46V101.25Z\" style=\"vector-effect: non-scaling-stroke; opacity: 1; stroke-width: 0.5px; fill: rgb(99, 110, 250); fill-opacity: 1; stroke: rgb(229, 236, 246); stroke-opacity: 1;\"/></g><g class=\"point\"><path d=\"M118.44,101.25V99.76H122.37V101.25Z\" style=\"vector-effect: non-scaling-stroke; opacity: 1; stroke-width: 0.5px; fill: rgb(99, 110, 250); fill-opacity: 1; stroke: rgb(229, 236, 246); stroke-opacity: 1;\"/></g><g class=\"point\"><path d=\"M123.36,101.25V100.13H127.29V101.25Z\" style=\"vector-effect: non-scaling-stroke; opacity: 1; stroke-width: 0.5px; fill: rgb(99, 110, 250); fill-opacity: 1; stroke: rgb(229, 236, 246); stroke-opacity: 1;\"/></g><g class=\"point\"><path d=\"M128.27,101.25V98.93H132.2V101.25Z\" style=\"vector-effect: non-scaling-stroke; opacity: 1; stroke-width: 0.5px; fill: rgb(99, 110, 250); fill-opacity: 1; stroke: rgb(229, 236, 246); stroke-opacity: 1;\"/></g><g class=\"point\"><path d=\"M133.19,101.25V98.83H137.12V101.25Z\" style=\"vector-effect: non-scaling-stroke; opacity: 1; stroke-width: 0.5px; fill: rgb(99, 110, 250); fill-opacity: 1; stroke: rgb(229, 236, 246); stroke-opacity: 1;\"/></g><g class=\"point\"><path d=\"M138.1,101.25V98.91H142.03V101.25Z\" style=\"vector-effect: non-scaling-stroke; opacity: 1; stroke-width: 0.5px; fill: rgb(99, 110, 250); fill-opacity: 1; stroke: rgb(229, 236, 246); stroke-opacity: 1;\"/></g><g class=\"point\"><path d=\"M143.02,101.25V99.55H146.95V101.25Z\" style=\"vector-effect: non-scaling-stroke; opacity: 1; stroke-width: 0.5px; fill: rgb(99, 110, 250); fill-opacity: 1; stroke: rgb(229, 236, 246); stroke-opacity: 1;\"/></g><g class=\"point\"><path d=\"M147.93,101.25V99.69H151.86V101.25Z\" style=\"vector-effect: non-scaling-stroke; opacity: 1; stroke-width: 0.5px; fill: rgb(99, 110, 250); fill-opacity: 1; stroke: rgb(229, 236, 246); stroke-opacity: 1;\"/></g><g class=\"point\"><path d=\"M152.85,101.25V95.76H156.78V101.25Z\" style=\"vector-effect: non-scaling-stroke; opacity: 1; stroke-width: 0.5px; fill: rgb(99, 110, 250); fill-opacity: 1; stroke: rgb(229, 236, 246); stroke-opacity: 1;\"/></g><g class=\"point\"><path d=\"M157.76,101.25V95.86H161.69V101.25Z\" style=\"vector-effect: non-scaling-stroke; opacity: 1; stroke-width: 0.5px; fill: rgb(99, 110, 250); fill-opacity: 1; stroke: rgb(229, 236, 246); stroke-opacity: 1;\"/></g><g class=\"point\"><path d=\"M162.67,101.25V96.06H166.61V101.25Z\" style=\"vector-effect: non-scaling-stroke; opacity: 1; stroke-width: 0.5px; fill: rgb(99, 110, 250); fill-opacity: 1; stroke: rgb(229, 236, 246); stroke-opacity: 1;\"/></g><g class=\"point\"><path d=\"M167.59,101.25V95.72H171.52V101.25Z\" style=\"vector-effect: non-scaling-stroke; opacity: 1; stroke-width: 0.5px; fill: rgb(99, 110, 250); fill-opacity: 1; stroke: rgb(229, 236, 246); stroke-opacity: 1;\"/></g><g class=\"point\"><path d=\"M172.5,101.25V95.36H176.44V101.25Z\" style=\"vector-effect: non-scaling-stroke; opacity: 1; stroke-width: 0.5px; fill: rgb(99, 110, 250); fill-opacity: 1; stroke: rgb(229, 236, 246); stroke-opacity: 1;\"/></g><g class=\"point\"><path d=\"M177.42,101.25V97.14H181.35V101.25Z\" style=\"vector-effect: non-scaling-stroke; opacity: 1; stroke-width: 0.5px; fill: rgb(99, 110, 250); fill-opacity: 1; stroke: rgb(229, 236, 246); stroke-opacity: 1;\"/></g><g class=\"point\"><path d=\"M182.33,101.25V96.79H186.26V101.25Z\" style=\"vector-effect: non-scaling-stroke; opacity: 1; stroke-width: 0.5px; fill: rgb(99, 110, 250); fill-opacity: 1; stroke: rgb(229, 236, 246); stroke-opacity: 1;\"/></g><g class=\"point\"><path d=\"M187.25,101.25V93.24H191.18V101.25Z\" style=\"vector-effect: non-scaling-stroke; opacity: 1; stroke-width: 0.5px; fill: rgb(99, 110, 250); fill-opacity: 1; stroke: rgb(229, 236, 246); stroke-opacity: 1;\"/></g><g class=\"point\"><path d=\"M192.16,101.25V90.6H196.09V101.25Z\" style=\"vector-effect: non-scaling-stroke; opacity: 1; stroke-width: 0.5px; fill: rgb(99, 110, 250); fill-opacity: 1; stroke: rgb(229, 236, 246); stroke-opacity: 1;\"/></g><g class=\"point\"><path d=\"M197.08,101.25V91.95H201.01V101.25Z\" style=\"vector-effect: non-scaling-stroke; opacity: 1; stroke-width: 0.5px; fill: rgb(99, 110, 250); fill-opacity: 1; stroke: rgb(229, 236, 246); stroke-opacity: 1;\"/></g><g class=\"point\"><path d=\"M201.99,101.25V92.66H205.92V101.25Z\" style=\"vector-effect: non-scaling-stroke; opacity: 1; stroke-width: 0.5px; fill: rgb(99, 110, 250); fill-opacity: 1; stroke: rgb(229, 236, 246); stroke-opacity: 1;\"/></g><g class=\"point\"><path d=\"M206.91,101.25V96H210.84V101.25Z\" style=\"vector-effect: non-scaling-stroke; opacity: 1; stroke-width: 0.5px; fill: rgb(99, 110, 250); fill-opacity: 1; stroke: rgb(229, 236, 246); stroke-opacity: 1;\"/></g><g class=\"point\"><path d=\"M211.82,101.25V94.3H215.75V101.25Z\" style=\"vector-effect: non-scaling-stroke; opacity: 1; stroke-width: 0.5px; fill: rgb(99, 110, 250); fill-opacity: 1; stroke: rgb(229, 236, 246); stroke-opacity: 1;\"/></g><g class=\"point\"><path d=\"M216.74,101.25V95.17H220.67V101.25Z\" style=\"vector-effect: non-scaling-stroke; opacity: 1; stroke-width: 0.5px; fill: rgb(99, 110, 250); fill-opacity: 1; stroke: rgb(229, 236, 246); stroke-opacity: 1;\"/></g><g class=\"point\"><path d=\"M221.65,101.25V92.42H225.58V101.25Z\" style=\"vector-effect: non-scaling-stroke; opacity: 1; stroke-width: 0.5px; fill: rgb(99, 110, 250); fill-opacity: 1; stroke: rgb(229, 236, 246); stroke-opacity: 1;\"/></g><g class=\"point\"><path d=\"M226.56,101.25V86.51H230.5V101.25Z\" style=\"vector-effect: non-scaling-stroke; opacity: 1; stroke-width: 0.5px; fill: rgb(99, 110, 250); fill-opacity: 1; stroke: rgb(229, 236, 246); stroke-opacity: 1;\"/></g><g class=\"point\"><path d=\"M231.48,101.25V91.1H235.41V101.25Z\" style=\"vector-effect: non-scaling-stroke; opacity: 1; stroke-width: 0.5px; fill: rgb(99, 110, 250); fill-opacity: 1; stroke: rgb(229, 236, 246); stroke-opacity: 1;\"/></g><g class=\"point\"><path d=\"M236.39,101.25V85.55H240.33V101.25Z\" style=\"vector-effect: non-scaling-stroke; opacity: 1; stroke-width: 0.5px; fill: rgb(99, 110, 250); fill-opacity: 1; stroke: rgb(229, 236, 246); stroke-opacity: 1;\"/></g><g class=\"point\"><path d=\"M241.31,101.25V87.19H245.24V101.25Z\" style=\"vector-effect: non-scaling-stroke; opacity: 1; stroke-width: 0.5px; fill: rgb(99, 110, 250); fill-opacity: 1; stroke: rgb(229, 236, 246); stroke-opacity: 1;\"/></g><g class=\"point\"><path d=\"M246.22,101.25V91.34H250.15V101.25Z\" style=\"vector-effect: non-scaling-stroke; opacity: 1; stroke-width: 0.5px; fill: rgb(99, 110, 250); fill-opacity: 1; stroke: rgb(229, 236, 246); stroke-opacity: 1;\"/></g><g class=\"point\"><path d=\"M251.14,101.25V91.96H255.07V101.25Z\" style=\"vector-effect: non-scaling-stroke; opacity: 1; stroke-width: 0.5px; fill: rgb(99, 110, 250); fill-opacity: 1; stroke: rgb(229, 236, 246); stroke-opacity: 1;\"/></g><g class=\"point\"><path d=\"M256.05,101.25V89.21H259.98V101.25Z\" style=\"vector-effect: non-scaling-stroke; opacity: 1; stroke-width: 0.5px; fill: rgb(99, 110, 250); fill-opacity: 1; stroke: rgb(229, 236, 246); stroke-opacity: 1;\"/></g><g class=\"point\"><path d=\"M260.97,101.25V88.34H264.9V101.25Z\" style=\"vector-effect: non-scaling-stroke; opacity: 1; stroke-width: 0.5px; fill: rgb(99, 110, 250); fill-opacity: 1; stroke: rgb(229, 236, 246); stroke-opacity: 1;\"/></g><g class=\"point\"><path d=\"M265.88,101.25V83.24H269.81V101.25Z\" style=\"vector-effect: non-scaling-stroke; opacity: 1; stroke-width: 0.5px; fill: rgb(99, 110, 250); fill-opacity: 1; stroke: rgb(229, 236, 246); stroke-opacity: 1;\"/></g><g class=\"point\"><path d=\"M270.8,101.25V84.36H274.73V101.25Z\" style=\"vector-effect: non-scaling-stroke; opacity: 1; stroke-width: 0.5px; fill: rgb(99, 110, 250); fill-opacity: 1; stroke: rgb(229, 236, 246); stroke-opacity: 1;\"/></g><g class=\"point\"><path d=\"M275.71,101.25V74.67H279.64V101.25Z\" style=\"vector-effect: non-scaling-stroke; opacity: 1; stroke-width: 0.5px; fill: rgb(99, 110, 250); fill-opacity: 1; stroke: rgb(229, 236, 246); stroke-opacity: 1;\"/></g><g class=\"point\"><path d=\"M280.63,101.25V84.96H284.56V101.25Z\" style=\"vector-effect: non-scaling-stroke; opacity: 1; stroke-width: 0.5px; fill: rgb(99, 110, 250); fill-opacity: 1; stroke: rgb(229, 236, 246); stroke-opacity: 1;\"/></g><g class=\"point\"><path d=\"M285.54,101.25V79.01H289.47V101.25Z\" style=\"vector-effect: non-scaling-stroke; opacity: 1; stroke-width: 0.5px; fill: rgb(99, 110, 250); fill-opacity: 1; stroke: rgb(229, 236, 246); stroke-opacity: 1;\"/></g><g class=\"point\"><path d=\"M290.45,101.25V75.29H294.39V101.25Z\" style=\"vector-effect: non-scaling-stroke; opacity: 1; stroke-width: 0.5px; fill: rgb(99, 110, 250); fill-opacity: 1; stroke: rgb(229, 236, 246); stroke-opacity: 1;\"/></g><g class=\"point\"><path d=\"M295.37,101.25V70.99H299.3V101.25Z\" style=\"vector-effect: non-scaling-stroke; opacity: 1; stroke-width: 0.5px; fill: rgb(99, 110, 250); fill-opacity: 1; stroke: rgb(229, 236, 246); stroke-opacity: 1;\"/></g><g class=\"point\"><path d=\"M300.28,101.25V66.45H304.22V101.25Z\" style=\"vector-effect: non-scaling-stroke; opacity: 1; stroke-width: 0.5px; fill: rgb(99, 110, 250); fill-opacity: 1; stroke: rgb(229, 236, 246); stroke-opacity: 1;\"/></g><g class=\"point\"><path d=\"M305.2,101.25V72.71H309.13V101.25Z\" style=\"vector-effect: non-scaling-stroke; opacity: 1; stroke-width: 0.5px; fill: rgb(99, 110, 250); fill-opacity: 1; stroke: rgb(229, 236, 246); stroke-opacity: 1;\"/></g><g class=\"point\"><path d=\"M310.11,101.25V76.68H314.05V101.25Z\" style=\"vector-effect: non-scaling-stroke; opacity: 1; stroke-width: 0.5px; fill: rgb(99, 110, 250); fill-opacity: 1; stroke: rgb(229, 236, 246); stroke-opacity: 1;\"/></g><g class=\"point\"><path d=\"M315.03,101.25V78.34H318.96V101.25Z\" style=\"vector-effect: non-scaling-stroke; opacity: 1; stroke-width: 0.5px; fill: rgb(99, 110, 250); fill-opacity: 1; stroke: rgb(229, 236, 246); stroke-opacity: 1;\"/></g><g class=\"point\"><path d=\"M319.94,101.25V69.27H323.87V101.25Z\" style=\"vector-effect: non-scaling-stroke; opacity: 1; stroke-width: 0.5px; fill: rgb(99, 110, 250); fill-opacity: 1; stroke: rgb(229, 236, 246); stroke-opacity: 1;\"/></g><g class=\"point\"><path d=\"M324.86,101.25V67.82H328.79V101.25Z\" style=\"vector-effect: non-scaling-stroke; opacity: 1; stroke-width: 0.5px; fill: rgb(99, 110, 250); fill-opacity: 1; stroke: rgb(229, 236, 246); stroke-opacity: 1;\"/></g><g class=\"point\"><path d=\"M329.77,101.25V50.61H333.7V101.25Z\" style=\"vector-effect: non-scaling-stroke; opacity: 1; stroke-width: 0.5px; fill: rgb(99, 110, 250); fill-opacity: 1; stroke: rgb(229, 236, 246); stroke-opacity: 1;\"/></g><g class=\"point\"><path d=\"M334.69,101.25V53.58H338.62V101.25Z\" style=\"vector-effect: non-scaling-stroke; opacity: 1; stroke-width: 0.5px; fill: rgb(99, 110, 250); fill-opacity: 1; stroke: rgb(229, 236, 246); stroke-opacity: 1;\"/></g><g class=\"point\"><path d=\"M339.6,101.25V51.97H343.53V101.25Z\" style=\"vector-effect: non-scaling-stroke; opacity: 1; stroke-width: 0.5px; fill: rgb(99, 110, 250); fill-opacity: 1; stroke: rgb(229, 236, 246); stroke-opacity: 1;\"/></g><g class=\"point\"><path d=\"M344.52,101.25V50.09H348.45V101.25Z\" style=\"vector-effect: non-scaling-stroke; opacity: 1; stroke-width: 0.5px; fill: rgb(99, 110, 250); fill-opacity: 1; stroke: rgb(229, 236, 246); stroke-opacity: 1;\"/></g><g class=\"point\"><path d=\"M349.43,101.25V68.66H353.36V101.25Z\" style=\"vector-effect: non-scaling-stroke; opacity: 1; stroke-width: 0.5px; fill: rgb(99, 110, 250); fill-opacity: 1; stroke: rgb(229, 236, 246); stroke-opacity: 1;\"/></g><g class=\"point\"><path d=\"M354.35,101.25V74.1H358.28V101.25Z\" style=\"vector-effect: non-scaling-stroke; opacity: 1; stroke-width: 0.5px; fill: rgb(99, 110, 250); fill-opacity: 1; stroke: rgb(229, 236, 246); stroke-opacity: 1;\"/></g><g class=\"point\"><path d=\"M359.26,101.25V56.62H363.19V101.25Z\" style=\"vector-effect: non-scaling-stroke; opacity: 1; stroke-width: 0.5px; fill: rgb(99, 110, 250); fill-opacity: 1; stroke: rgb(229, 236, 246); stroke-opacity: 1;\"/></g><g class=\"point\"><path d=\"M364.17,101.25V46.36H368.11V101.25Z\" style=\"vector-effect: non-scaling-stroke; opacity: 1; stroke-width: 0.5px; fill: rgb(99, 110, 250); fill-opacity: 1; stroke: rgb(229, 236, 246); stroke-opacity: 1;\"/></g><g class=\"point\"><path d=\"M369.09,101.25V34.02H373.02V101.25Z\" style=\"vector-effect: non-scaling-stroke; opacity: 1; stroke-width: 0.5px; fill: rgb(99, 110, 250); fill-opacity: 1; stroke: rgb(229, 236, 246); stroke-opacity: 1;\"/></g><g class=\"point\"><path d=\"M374,101.25V27.46H377.94V101.25Z\" style=\"vector-effect: non-scaling-stroke; opacity: 1; stroke-width: 0.5px; fill: rgb(99, 110, 250); fill-opacity: 1; stroke: rgb(229, 236, 246); stroke-opacity: 1;\"/></g><g class=\"point\"><path d=\"M378.92,101.25V29.32H382.85V101.25Z\" style=\"vector-effect: non-scaling-stroke; opacity: 1; stroke-width: 0.5px; fill: rgb(99, 110, 250); fill-opacity: 1; stroke: rgb(229, 236, 246); stroke-opacity: 1;\"/></g><g class=\"point\"><path d=\"M383.83,101.25V62.98H387.76V101.25Z\" style=\"vector-effect: non-scaling-stroke; opacity: 1; stroke-width: 0.5px; fill: rgb(99, 110, 250); fill-opacity: 1; stroke: rgb(229, 236, 246); stroke-opacity: 1;\"/></g><g class=\"point\"><path d=\"M388.75,101.25V37.9H392.68V101.25Z\" style=\"vector-effect: non-scaling-stroke; opacity: 1; stroke-width: 0.5px; fill: rgb(99, 110, 250); fill-opacity: 1; stroke: rgb(229, 236, 246); stroke-opacity: 1;\"/></g><g class=\"point\"><path d=\"M393.66,101.25V17.32H397.59V101.25Z\" style=\"vector-effect: non-scaling-stroke; opacity: 1; stroke-width: 0.5px; fill: rgb(99, 110, 250); fill-opacity: 1; stroke: rgb(229, 236, 246); stroke-opacity: 1;\"/></g><g class=\"point\"><path d=\"M398.58,101.25V5.06H402.51V101.25Z\" style=\"vector-effect: non-scaling-stroke; opacity: 1; stroke-width: 0.5px; fill: rgb(99, 110, 250); fill-opacity: 1; stroke: rgb(229, 236, 246); stroke-opacity: 1;\"/></g></g></g></g></g><g class=\"overplot\"/><path class=\"xlines-above crisp\" d=\"M0,0\" style=\"fill: none;\"/><path class=\"ylines-above crisp\" d=\"M0,0\" style=\"fill: none;\"/><g class=\"overlines-above\"/><g class=\"xaxislayer-above\"><g class=\"xtick\"><text text-anchor=\"middle\" x=\"0\" y=\"216.25\" transform=\"translate(87.37,0)\" style=\"font-family: 'Courier New', monospace; font-size: 14px; fill: rgb(127, 127, 127); fill-opacity: 1; white-space: pre;\"><tspan class=\"line\" dy=\"0em\" x=\"0\" y=\"216.25\">Mar 1</tspan><tspan class=\"line\" dy=\"1.3em\" x=\"0\" y=\"216.25\">2020</tspan></text></g><g class=\"xtick\"><text text-anchor=\"middle\" x=\"0\" y=\"216.25\" transform=\"translate(156.18,0)\" style=\"font-family: 'Courier New', monospace; font-size: 14px; fill: rgb(127, 127, 127); fill-opacity: 1; white-space: pre;\">Mar 15</text></g><g class=\"xtick\"><text text-anchor=\"middle\" x=\"0\" y=\"216.25\" transform=\"translate(224.98,0)\" style=\"font-family: 'Courier New', monospace; font-size: 14px; fill: rgb(127, 127, 127); fill-opacity: 1; white-space: pre;\">Mar 29</text></g><g class=\"xtick\"><text text-anchor=\"middle\" x=\"0\" y=\"216.25\" transform=\"translate(293.78999999999996,0)\" style=\"font-family: 'Courier New', monospace; font-size: 14px; fill: rgb(127, 127, 127); fill-opacity: 1; white-space: pre;\">Apr 12</text></g><g class=\"xtick\"><text text-anchor=\"middle\" x=\"0\" y=\"216.25\" transform=\"translate(362.59,0)\" style=\"font-family: 'Courier New', monospace; font-size: 14px; fill: rgb(127, 127, 127); fill-opacity: 1; white-space: pre;\">Apr 26</text></g><g class=\"xtick\"><text text-anchor=\"middle\" x=\"0\" y=\"216.25\" transform=\"translate(431.4,0)\" style=\"font-family: 'Courier New', monospace; font-size: 14px; fill: rgb(127, 127, 127); fill-opacity: 1; white-space: pre;\">May 10</text></g></g><g class=\"yaxislayer-above\"><g class=\"ytick\"><text text-anchor=\"end\" x=\"79\" y=\"4.8999999999999995\" transform=\"translate(0,201.25)\" style=\"font-family: 'Courier New', monospace; font-size: 14px; fill: rgb(127, 127, 127); fill-opacity: 1; white-space: pre;\">0</text></g><g class=\"ytick\"><text text-anchor=\"end\" x=\"79\" y=\"4.8999999999999995\" transform=\"translate(0,177.14)\" style=\"font-family: 'Courier New', monospace; font-size: 14px; fill: rgb(127, 127, 127); fill-opacity: 1; white-space: pre;\">5k</text></g><g class=\"ytick\"><text text-anchor=\"end\" x=\"79\" y=\"4.8999999999999995\" transform=\"translate(0,153.04)\" style=\"font-family: 'Courier New', monospace; font-size: 14px; fill: rgb(127, 127, 127); fill-opacity: 1; white-space: pre;\">10k</text></g><g class=\"ytick\"><text text-anchor=\"end\" x=\"79\" y=\"4.8999999999999995\" transform=\"translate(0,128.93)\" style=\"font-family: 'Courier New', monospace; font-size: 14px; fill: rgb(127, 127, 127); fill-opacity: 1; white-space: pre;\">15k</text></g><g class=\"ytick\"><text text-anchor=\"end\" x=\"79\" y=\"4.8999999999999995\" transform=\"translate(0,104.83)\" style=\"font-family: 'Courier New', monospace; font-size: 14px; fill: rgb(127, 127, 127); fill-opacity: 1; white-space: pre;\">20k</text></g></g><g class=\"overaxes-above\"/></g><g class=\"subplot x2y2\"><g class=\"layer-subplot\"><g class=\"shapelayer\"/><g class=\"imagelayer\"/></g><g class=\"gridlayer\"><g class=\"x2\"/><g class=\"y2\"><path class=\"y2grid crisp\" transform=\"translate(0,329.21)\" d=\"M80,0h403\" style=\"stroke: rgb(255, 255, 255); stroke-opacity: 1; stroke-width: 1px;\"/><path class=\"y2grid crisp\" transform=\"translate(0,288.42)\" d=\"M80,0h403\" style=\"stroke: rgb(255, 255, 255); stroke-opacity: 1; stroke-width: 1px;\"/></g></g><g class=\"zerolinelayer\"><path class=\"y2zl zl crisp\" transform=\"translate(0,370)\" d=\"M80,0h403\" style=\"stroke: rgb(255, 255, 255); stroke-opacity: 1; stroke-width: 2px;\"/></g><path class=\"xlines-below\"/><path class=\"ylines-below\"/><g class=\"overlines-below\"/><g class=\"xaxislayer-below\"/><g class=\"yaxislayer-below\"/><g class=\"overaxes-below\"/><g class=\"plot\" transform=\"translate(80, 268.75)\" clip-path=\"url('#clip9e922dx2y2plot')\"><g class=\"barlayer mlayer\"><g class=\"trace bars\" style=\"opacity: 1;\"><g class=\"points\"><g class=\"point\"><path d=\"M0.62,101.25V101.17H5.58V101.25Z\" style=\"vector-effect: non-scaling-stroke; opacity: 1; stroke-width: 0.5px; fill: rgb(239, 85, 59); fill-opacity: 1; stroke: rgb(229, 236, 246); stroke-opacity: 1;\"/></g><g class=\"point\"><path d=\"M6.82,101.25V101.01H11.78V101.25Z\" style=\"vector-effect: non-scaling-stroke; opacity: 1; stroke-width: 0.5px; fill: rgb(239, 85, 59); fill-opacity: 1; stroke: rgb(229, 236, 246); stroke-opacity: 1;\"/></g><g class=\"point\"><path d=\"M13.02,101.25V101.09H17.98V101.25Z\" style=\"vector-effect: non-scaling-stroke; opacity: 1; stroke-width: 0.5px; fill: rgb(239, 85, 59); fill-opacity: 1; stroke: rgb(229, 236, 246); stroke-opacity: 1;\"/></g><g class=\"point\"><path d=\"M19.22,101.25V100.84H24.18V101.25Z\" style=\"vector-effect: non-scaling-stroke; opacity: 1; stroke-width: 0.5px; fill: rgb(239, 85, 59); fill-opacity: 1; stroke: rgb(229, 236, 246); stroke-opacity: 1;\"/></g><g class=\"point\"><path d=\"M25.42,101.25V100.68H30.38V101.25Z\" style=\"vector-effect: non-scaling-stroke; opacity: 1; stroke-width: 0.5px; fill: rgb(239, 85, 59); fill-opacity: 1; stroke: rgb(229, 236, 246); stroke-opacity: 1;\"/></g><g class=\"point\"><path d=\"M31.62,101.25V100.68H36.58V101.25Z\" style=\"vector-effect: non-scaling-stroke; opacity: 1; stroke-width: 0.5px; fill: rgb(239, 85, 59); fill-opacity: 1; stroke: rgb(229, 236, 246); stroke-opacity: 1;\"/></g><g class=\"point\"><path d=\"M37.82,101.25V100.52H42.78V101.25Z\" style=\"vector-effect: non-scaling-stroke; opacity: 1; stroke-width: 0.5px; fill: rgb(239, 85, 59); fill-opacity: 1; stroke: rgb(229, 236, 246); stroke-opacity: 1;\"/></g><g class=\"point\"><path d=\"M44.02,101.25V100.27H48.98V101.25Z\" style=\"vector-effect: non-scaling-stroke; opacity: 1; stroke-width: 0.5px; fill: rgb(239, 85, 59); fill-opacity: 1; stroke: rgb(229, 236, 246); stroke-opacity: 1;\"/></g><g class=\"point\"><path d=\"M50.22,101.25V100.35H55.18V101.25Z\" style=\"vector-effect: non-scaling-stroke; opacity: 1; stroke-width: 0.5px; fill: rgb(239, 85, 59); fill-opacity: 1; stroke: rgb(229, 236, 246); stroke-opacity: 1;\"/></g><g class=\"point\"><path d=\"M56.42,101.25V99.62H61.38V101.25Z\" style=\"vector-effect: non-scaling-stroke; opacity: 1; stroke-width: 0.5px; fill: rgb(239, 85, 59); fill-opacity: 1; stroke: rgb(229, 236, 246); stroke-opacity: 1;\"/></g><g class=\"point\"><path d=\"M62.62,101.25V100.03H67.58V101.25Z\" style=\"vector-effect: non-scaling-stroke; opacity: 1; stroke-width: 0.5px; fill: rgb(239, 85, 59); fill-opacity: 1; stroke: rgb(229, 236, 246); stroke-opacity: 1;\"/></g><g class=\"point\"><path d=\"M68.82,101.25V99.46H73.78V101.25Z\" style=\"vector-effect: non-scaling-stroke; opacity: 1; stroke-width: 0.5px; fill: rgb(239, 85, 59); fill-opacity: 1; stroke: rgb(229, 236, 246); stroke-opacity: 1;\"/></g><g class=\"point\"><path d=\"M75.02,101.25V99.46H79.98V101.25Z\" style=\"vector-effect: non-scaling-stroke; opacity: 1; stroke-width: 0.5px; fill: rgb(239, 85, 59); fill-opacity: 1; stroke: rgb(229, 236, 246); stroke-opacity: 1;\"/></g><g class=\"point\"><path d=\"M81.22,101.25V99.37H86.18V101.25Z\" style=\"vector-effect: non-scaling-stroke; opacity: 1; stroke-width: 0.5px; fill: rgb(239, 85, 59); fill-opacity: 1; stroke: rgb(229, 236, 246); stroke-opacity: 1;\"/></g><g class=\"point\"><path d=\"M87.42,101.25V97.82H92.38V101.25Z\" style=\"vector-effect: non-scaling-stroke; opacity: 1; stroke-width: 0.5px; fill: rgb(239, 85, 59); fill-opacity: 1; stroke: rgb(229, 236, 246); stroke-opacity: 1;\"/></g><g class=\"point\"><path d=\"M93.62,101.25V97.99H98.58V101.25Z\" style=\"vector-effect: non-scaling-stroke; opacity: 1; stroke-width: 0.5px; fill: rgb(239, 85, 59); fill-opacity: 1; stroke: rgb(229, 236, 246); stroke-opacity: 1;\"/></g><g class=\"point\"><path d=\"M99.82,101.25V96.52H104.78V101.25Z\" style=\"vector-effect: non-scaling-stroke; opacity: 1; stroke-width: 0.5px; fill: rgb(239, 85, 59); fill-opacity: 1; stroke: rgb(229, 236, 246); stroke-opacity: 1;\"/></g><g class=\"point\"><path d=\"M106.02,101.25V96.35H110.98V101.25Z\" style=\"vector-effect: non-scaling-stroke; opacity: 1; stroke-width: 0.5px; fill: rgb(239, 85, 59); fill-opacity: 1; stroke: rgb(229, 236, 246); stroke-opacity: 1;\"/></g><g class=\"point\"><path d=\"M112.22,101.25V95.29H117.18V101.25Z\" style=\"vector-effect: non-scaling-stroke; opacity: 1; stroke-width: 0.5px; fill: rgb(239, 85, 59); fill-opacity: 1; stroke: rgb(229, 236, 246); stroke-opacity: 1;\"/></g><g class=\"point\"><path d=\"M118.42,101.25V96.84H123.38V101.25Z\" style=\"vector-effect: non-scaling-stroke; opacity: 1; stroke-width: 0.5px; fill: rgb(239, 85, 59); fill-opacity: 1; stroke: rgb(229, 236, 246); stroke-opacity: 1;\"/></g><g class=\"point\"><path d=\"M124.62,101.25V95.78H129.58V101.25Z\" style=\"vector-effect: non-scaling-stroke; opacity: 1; stroke-width: 0.5px; fill: rgb(239, 85, 59); fill-opacity: 1; stroke: rgb(229, 236, 246); stroke-opacity: 1;\"/></g><g class=\"point\"><path d=\"M130.82,101.25V91.95H135.78V101.25Z\" style=\"vector-effect: non-scaling-stroke; opacity: 1; stroke-width: 0.5px; fill: rgb(239, 85, 59); fill-opacity: 1; stroke: rgb(229, 236, 246); stroke-opacity: 1;\"/></g><g class=\"point\"><path d=\"M137.02,101.25V90.4H141.98V101.25Z\" style=\"vector-effect: non-scaling-stroke; opacity: 1; stroke-width: 0.5px; fill: rgb(239, 85, 59); fill-opacity: 1; stroke: rgb(229, 236, 246); stroke-opacity: 1;\"/></g><g class=\"point\"><path d=\"M143.22,101.25V89.75H148.18V101.25Z\" style=\"vector-effect: non-scaling-stroke; opacity: 1; stroke-width: 0.5px; fill: rgb(239, 85, 59); fill-opacity: 1; stroke: rgb(229, 236, 246); stroke-opacity: 1;\"/></g><g class=\"point\"><path d=\"M149.42,101.25V91.87H154.38V101.25Z\" style=\"vector-effect: non-scaling-stroke; opacity: 1; stroke-width: 0.5px; fill: rgb(239, 85, 59); fill-opacity: 1; stroke: rgb(229, 236, 246); stroke-opacity: 1;\"/></g><g class=\"point\"><path d=\"M155.62,101.25V95.7H160.58V101.25Z\" style=\"vector-effect: non-scaling-stroke; opacity: 1; stroke-width: 0.5px; fill: rgb(239, 85, 59); fill-opacity: 1; stroke: rgb(229, 236, 246); stroke-opacity: 1;\"/></g><g class=\"point\"><path d=\"M161.82,101.25V93.17H166.78V101.25Z\" style=\"vector-effect: non-scaling-stroke; opacity: 1; stroke-width: 0.5px; fill: rgb(239, 85, 59); fill-opacity: 1; stroke: rgb(229, 236, 246); stroke-opacity: 1;\"/></g><g class=\"point\"><path d=\"M168.02,101.25V92.68H172.98V101.25Z\" style=\"vector-effect: non-scaling-stroke; opacity: 1; stroke-width: 0.5px; fill: rgb(239, 85, 59); fill-opacity: 1; stroke: rgb(229, 236, 246); stroke-opacity: 1;\"/></g><g class=\"point\"><path d=\"M174.22,101.25V84.61H179.18V101.25Z\" style=\"vector-effect: non-scaling-stroke; opacity: 1; stroke-width: 0.5px; fill: rgb(239, 85, 59); fill-opacity: 1; stroke: rgb(229, 236, 246); stroke-opacity: 1;\"/></g><g class=\"point\"><path d=\"M180.42,101.25V84.61H185.38V101.25Z\" style=\"vector-effect: non-scaling-stroke; opacity: 1; stroke-width: 0.5px; fill: rgb(239, 85, 59); fill-opacity: 1; stroke: rgb(229, 236, 246); stroke-opacity: 1;\"/></g><g class=\"point\"><path d=\"M186.62,101.25V85.91H191.58V101.25Z\" style=\"vector-effect: non-scaling-stroke; opacity: 1; stroke-width: 0.5px; fill: rgb(239, 85, 59); fill-opacity: 1; stroke: rgb(229, 236, 246); stroke-opacity: 1;\"/></g><g class=\"point\"><path d=\"M192.82,101.25V83.55H197.78V101.25Z\" style=\"vector-effect: non-scaling-stroke; opacity: 1; stroke-width: 0.5px; fill: rgb(239, 85, 59); fill-opacity: 1; stroke: rgb(229, 236, 246); stroke-opacity: 1;\"/></g><g class=\"point\"><path d=\"M199.02,101.25V84.44H203.98V101.25Z\" style=\"vector-effect: non-scaling-stroke; opacity: 1; stroke-width: 0.5px; fill: rgb(239, 85, 59); fill-opacity: 1; stroke: rgb(229, 236, 246); stroke-opacity: 1;\"/></g><g class=\"point\"><path d=\"M205.22,101.25V91.87H210.18V101.25Z\" style=\"vector-effect: non-scaling-stroke; opacity: 1; stroke-width: 0.5px; fill: rgb(239, 85, 59); fill-opacity: 1; stroke: rgb(229, 236, 246); stroke-opacity: 1;\"/></g><g class=\"point\"><path d=\"M211.42,101.25V92.03H216.38V101.25Z\" style=\"vector-effect: non-scaling-stroke; opacity: 1; stroke-width: 0.5px; fill: rgb(239, 85, 59); fill-opacity: 1; stroke: rgb(229, 236, 246); stroke-opacity: 1;\"/></g><g class=\"point\"><path d=\"M217.62,101.25V87.71H222.58V101.25Z\" style=\"vector-effect: non-scaling-stroke; opacity: 1; stroke-width: 0.5px; fill: rgb(239, 85, 59); fill-opacity: 1; stroke: rgb(229, 236, 246); stroke-opacity: 1;\"/></g><g class=\"point\"><path d=\"M223.82,101.25V87.79H228.78V101.25Z\" style=\"vector-effect: non-scaling-stroke; opacity: 1; stroke-width: 0.5px; fill: rgb(239, 85, 59); fill-opacity: 1; stroke: rgb(229, 236, 246); stroke-opacity: 1;\"/></g><g class=\"point\"><path d=\"M230.02,101.25V68.05H234.98V101.25Z\" style=\"vector-effect: non-scaling-stroke; opacity: 1; stroke-width: 0.5px; fill: rgb(239, 85, 59); fill-opacity: 1; stroke: rgb(229, 236, 246); stroke-opacity: 1;\"/></g><g class=\"point\"><path d=\"M236.22,101.25V72.12H241.18V101.25Z\" style=\"vector-effect: non-scaling-stroke; opacity: 1; stroke-width: 0.5px; fill: rgb(239, 85, 59); fill-opacity: 1; stroke: rgb(229, 236, 246); stroke-opacity: 1;\"/></g><g class=\"point\"><path d=\"M242.42,101.25V73.02H247.38V101.25Z\" style=\"vector-effect: non-scaling-stroke; opacity: 1; stroke-width: 0.5px; fill: rgb(239, 85, 59); fill-opacity: 1; stroke: rgb(229, 236, 246); stroke-opacity: 1;\"/></g><g class=\"point\"><path d=\"M248.62,101.25V85.83H253.58V101.25Z\" style=\"vector-effect: non-scaling-stroke; opacity: 1; stroke-width: 0.5px; fill: rgb(239, 85, 59); fill-opacity: 1; stroke: rgb(229, 236, 246); stroke-opacity: 1;\"/></g><g class=\"point\"><path d=\"M254.82,101.25V73.67H259.78V101.25Z\" style=\"vector-effect: non-scaling-stroke; opacity: 1; stroke-width: 0.5px; fill: rgb(239, 85, 59); fill-opacity: 1; stroke: rgb(229, 236, 246); stroke-opacity: 1;\"/></g><g class=\"point\"><path d=\"M261.02,101.25V62.58H265.98V101.25Z\" style=\"vector-effect: non-scaling-stroke; opacity: 1; stroke-width: 0.5px; fill: rgb(239, 85, 59); fill-opacity: 1; stroke: rgb(229, 236, 246); stroke-opacity: 1;\"/></g><g class=\"point\"><path d=\"M267.22,101.25V64.62H272.18V101.25Z\" style=\"vector-effect: non-scaling-stroke; opacity: 1; stroke-width: 0.5px; fill: rgb(239, 85, 59); fill-opacity: 1; stroke: rgb(229, 236, 246); stroke-opacity: 1;\"/></g><g class=\"point\"><path d=\"M273.42,101.25V65.76H278.38V101.25Z\" style=\"vector-effect: non-scaling-stroke; opacity: 1; stroke-width: 0.5px; fill: rgb(239, 85, 59); fill-opacity: 1; stroke: rgb(229, 236, 246); stroke-opacity: 1;\"/></g><g class=\"point\"><path d=\"M279.62,101.25V66.33H284.58V101.25Z\" style=\"vector-effect: non-scaling-stroke; opacity: 1; stroke-width: 0.5px; fill: rgb(239, 85, 59); fill-opacity: 1; stroke: rgb(229, 236, 246); stroke-opacity: 1;\"/></g><g class=\"point\"><path d=\"M285.82,101.25V69.02H290.78V101.25Z\" style=\"vector-effect: non-scaling-stroke; opacity: 1; stroke-width: 0.5px; fill: rgb(239, 85, 59); fill-opacity: 1; stroke: rgb(229, 236, 246); stroke-opacity: 1;\"/></g><g class=\"point\"><path d=\"M292.02,101.25V76.69H296.98V101.25Z\" style=\"vector-effect: non-scaling-stroke; opacity: 1; stroke-width: 0.5px; fill: rgb(239, 85, 59); fill-opacity: 1; stroke: rgb(229, 236, 246); stroke-opacity: 1;\"/></g><g class=\"point\"><path d=\"M298.22,101.25V77.1H303.18V101.25Z\" style=\"vector-effect: non-scaling-stroke; opacity: 1; stroke-width: 0.5px; fill: rgb(239, 85, 59); fill-opacity: 1; stroke: rgb(229, 236, 246); stroke-opacity: 1;\"/></g><g class=\"point\"><path d=\"M304.42,101.25V52.3H309.38V101.25Z\" style=\"vector-effect: non-scaling-stroke; opacity: 1; stroke-width: 0.5px; fill: rgb(239, 85, 59); fill-opacity: 1; stroke: rgb(229, 236, 246); stroke-opacity: 1;\"/></g><g class=\"point\"><path d=\"M310.62,101.25V51.16H315.58V101.25Z\" style=\"vector-effect: non-scaling-stroke; opacity: 1; stroke-width: 0.5px; fill: rgb(239, 85, 59); fill-opacity: 1; stroke: rgb(229, 236, 246); stroke-opacity: 1;\"/></g><g class=\"point\"><path d=\"M316.82,101.25V51.4H321.78V101.25Z\" style=\"vector-effect: non-scaling-stroke; opacity: 1; stroke-width: 0.5px; fill: rgb(239, 85, 59); fill-opacity: 1; stroke: rgb(229, 236, 246); stroke-opacity: 1;\"/></g><g class=\"point\"><path d=\"M323.02,101.25V39.98H327.98V101.25Z\" style=\"vector-effect: non-scaling-stroke; opacity: 1; stroke-width: 0.5px; fill: rgb(239, 85, 59); fill-opacity: 1; stroke: rgb(229, 236, 246); stroke-opacity: 1;\"/></g><g class=\"point\"><path d=\"M329.22,101.25V41.69H334.18V101.25Z\" style=\"vector-effect: non-scaling-stroke; opacity: 1; stroke-width: 0.5px; fill: rgb(239, 85, 59); fill-opacity: 1; stroke: rgb(229, 236, 246); stroke-opacity: 1;\"/></g><g class=\"point\"><path d=\"M335.42,101.25V60.78H340.38V101.25Z\" style=\"vector-effect: non-scaling-stroke; opacity: 1; stroke-width: 0.5px; fill: rgb(239, 85, 59); fill-opacity: 1; stroke: rgb(229, 236, 246); stroke-opacity: 1;\"/></g><g class=\"point\"><path d=\"M341.62,101.25V68.94H346.58V101.25Z\" style=\"vector-effect: non-scaling-stroke; opacity: 1; stroke-width: 0.5px; fill: rgb(239, 85, 59); fill-opacity: 1; stroke: rgb(229, 236, 246); stroke-opacity: 1;\"/></g><g class=\"point\"><path d=\"M347.82,101.25V29.37H352.78V101.25Z\" style=\"vector-effect: non-scaling-stroke; opacity: 1; stroke-width: 0.5px; fill: rgb(239, 85, 59); fill-opacity: 1; stroke: rgb(229, 236, 246); stroke-opacity: 1;\"/></g><g class=\"point\"><path d=\"M354.02,101.25V40.14H358.98V101.25Z\" style=\"vector-effect: non-scaling-stroke; opacity: 1; stroke-width: 0.5px; fill: rgb(239, 85, 59); fill-opacity: 1; stroke: rgb(229, 236, 246); stroke-opacity: 1;\"/></g><g class=\"point\"><path d=\"M360.22,101.25V32.39H365.18V101.25Z\" style=\"vector-effect: non-scaling-stroke; opacity: 1; stroke-width: 0.5px; fill: rgb(239, 85, 59); fill-opacity: 1; stroke: rgb(229, 236, 246); stroke-opacity: 1;\"/></g><g class=\"point\"><path d=\"M366.42,101.25V34.02H371.38V101.25Z\" style=\"vector-effect: non-scaling-stroke; opacity: 1; stroke-width: 0.5px; fill: rgb(239, 85, 59); fill-opacity: 1; stroke: rgb(229, 236, 246); stroke-opacity: 1;\"/></g><g class=\"point\"><path d=\"M372.62,101.25V34.68H377.58V101.25Z\" style=\"vector-effect: non-scaling-stroke; opacity: 1; stroke-width: 0.5px; fill: rgb(239, 85, 59); fill-opacity: 1; stroke: rgb(229, 236, 246); stroke-opacity: 1;\"/></g><g class=\"point\"><path d=\"M378.82,101.25V61.68H383.78V101.25Z\" style=\"vector-effect: non-scaling-stroke; opacity: 1; stroke-width: 0.5px; fill: rgb(239, 85, 59); fill-opacity: 1; stroke: rgb(229, 236, 246); stroke-opacity: 1;\"/></g><g class=\"point\"><path d=\"M385.02,101.25V46.26H389.98V101.25Z\" style=\"vector-effect: non-scaling-stroke; opacity: 1; stroke-width: 0.5px; fill: rgb(239, 85, 59); fill-opacity: 1; stroke: rgb(229, 236, 246); stroke-opacity: 1;\"/></g><g class=\"point\"><path d=\"M391.22,101.25V5.06H396.18V101.25Z\" style=\"vector-effect: non-scaling-stroke; opacity: 1; stroke-width: 0.5px; fill: rgb(239, 85, 59); fill-opacity: 1; stroke: rgb(229, 236, 246); stroke-opacity: 1;\"/></g><g class=\"point\"><path d=\"M397.42,101.25V28.8H402.38V101.25Z\" style=\"vector-effect: non-scaling-stroke; opacity: 1; stroke-width: 0.5px; fill: rgb(239, 85, 59); fill-opacity: 1; stroke: rgb(229, 236, 246); stroke-opacity: 1;\"/></g></g></g></g></g><g class=\"overplot\"/><path class=\"xlines-above crisp\" d=\"M0,0\" style=\"fill: none;\"/><path class=\"ylines-above crisp\" d=\"M0,0\" style=\"fill: none;\"/><g class=\"overlines-above\"/><g class=\"xaxislayer-above\"><g class=\"x2tick\"><text text-anchor=\"middle\" x=\"0\" y=\"385\" transform=\"translate(157.5,0)\" style=\"font-family: 'Courier New', monospace; font-size: 14px; fill: rgb(127, 127, 127); fill-opacity: 1; white-space: pre;\"><tspan class=\"line\" dy=\"0em\" x=\"0\" y=\"385\">Mar 29</tspan><tspan class=\"line\" dy=\"1.3em\" x=\"0\" y=\"385\">2020</tspan></text></g><g class=\"x2tick\"><text text-anchor=\"middle\" x=\"0\" y=\"385\" transform=\"translate(244.3,0)\" style=\"font-family: 'Courier New', monospace; font-size: 14px; fill: rgb(127, 127, 127); fill-opacity: 1; white-space: pre;\">Apr 12</text></g><g class=\"x2tick\"><text text-anchor=\"middle\" x=\"0\" y=\"385\" transform=\"translate(331.1,0)\" style=\"font-family: 'Courier New', monospace; font-size: 14px; fill: rgb(127, 127, 127); fill-opacity: 1; white-space: pre;\">Apr 26</text></g><g class=\"x2tick\"><text text-anchor=\"middle\" x=\"0\" y=\"385\" transform=\"translate(417.9,0)\" style=\"font-family: 'Courier New', monospace; font-size: 14px; fill: rgb(127, 127, 127); fill-opacity: 1; white-space: pre;\">May 10</text></g></g><g class=\"yaxislayer-above\"><g class=\"y2tick\"><text text-anchor=\"end\" x=\"79\" y=\"4.8999999999999995\" transform=\"translate(0,370)\" style=\"font-family: 'Courier New', monospace; font-size: 14px; fill: rgb(127, 127, 127); fill-opacity: 1; white-space: pre;\">0</text></g><g class=\"y2tick\"><text text-anchor=\"end\" x=\"79\" y=\"4.8999999999999995\" transform=\"translate(0,329.21)\" style=\"font-family: 'Courier New', monospace; font-size: 14px; fill: rgb(127, 127, 127); fill-opacity: 1; white-space: pre;\">500</text></g><g class=\"y2tick\"><text text-anchor=\"end\" x=\"79\" y=\"4.8999999999999995\" transform=\"translate(0,288.42)\" style=\"font-family: 'Courier New', monospace; font-size: 14px; fill: rgb(127, 127, 127); fill-opacity: 1; white-space: pre;\">1000</text></g></g><g class=\"overaxes-above\"/></g></g><g class=\"polarlayer\"/><g class=\"ternarylayer\"/><g class=\"geolayer\"/><g class=\"funnelarealayer\"/><g class=\"pielayer\"/><g class=\"treemaplayer\"/><g class=\"sunburstlayer\"/><g class=\"glimages\"/><defs id=\"topdefs-9e922d\"><g class=\"clips\"/><clipPath id=\"legend9e922d\"><rect width=\"197\" height=\"53\" x=\"0\" y=\"0\"/></clipPath></defs><g class=\"layer-above\"><g class=\"imagelayer\"/><g class=\"shapelayer\"/></g><g class=\"infolayer\"><g class=\"legend\" pointer-events=\"all\" transform=\"translate(491.06, 100)\"><rect class=\"bg\" shape-rendering=\"crispEdges\" width=\"197\" height=\"53\" x=\"0\" y=\"0\" style=\"stroke: rgb(68, 68, 68); stroke-opacity: 1; fill: rgb(255, 255, 255); fill-opacity: 1; stroke-width: 0px;\"/><g class=\"scrollbox\" transform=\"translate(0, 0)\" clip-path=\"url('#legend9e922d')\"><g class=\"groups\"><g class=\"traces\" transform=\"translate(0, 15.6)\" style=\"opacity: 1;\"><text class=\"legendtext user-select-none\" text-anchor=\"start\" x=\"40\" y=\"5.46\" style=\"font-family: 'Courier New', monospace; font-size: 14px; fill: rgb(127, 127, 127); fill-opacity: 1; white-space: pre;\">Nº de novos casos</text><g class=\"layers\" style=\"opacity: 1;\"><g class=\"legendfill\"/><g class=\"legendlines\"/><g class=\"legendsymbols\"><g class=\"legendpoints\"><path class=\"legendundefined\" d=\"M6,6H-6V-6H6Z\" transform=\"translate(20,0)\" style=\"stroke-width: 0.5px; fill: rgb(99, 110, 250); fill-opacity: 1; stroke: rgb(229, 236, 246); stroke-opacity: 1;\"/></g></g></g><rect class=\"legendtoggle\" pointer-events=\"all\" x=\"0\" y=\"-10.6\" width=\"191.21875\" height=\"21.2\" style=\"cursor: pointer; fill: rgb(0, 0, 0); fill-opacity: 0;\"/></g><g class=\"traces\" transform=\"translate(0, 36.8)\" style=\"opacity: 1;\"><text class=\"legendtext user-select-none\" text-anchor=\"start\" x=\"40\" y=\"5.46\" style=\"font-family: 'Courier New', monospace; font-size: 14px; fill: rgb(127, 127, 127); fill-opacity: 1; white-space: pre;\">Nº de novos óbitos</text><g class=\"layers\" style=\"opacity: 1;\"><g class=\"legendfill\"/><g class=\"legendlines\"/><g class=\"legendsymbols\"><g class=\"legendpoints\"><path class=\"legendundefined\" d=\"M6,6H-6V-6H6Z\" transform=\"translate(20,0)\" style=\"stroke-width: 0.5px; fill: rgb(239, 85, 59); fill-opacity: 1; stroke: rgb(229, 236, 246); stroke-opacity: 1;\"/></g></g></g><rect class=\"legendtoggle\" pointer-events=\"all\" x=\"0\" y=\"-10.6\" width=\"191.21875\" height=\"21.2\" style=\"cursor: pointer; fill: rgb(0, 0, 0); fill-opacity: 0;\"/></g></g></g><rect class=\"scrollbar\" rx=\"20\" ry=\"3\" width=\"0\" height=\"0\" x=\"0\" y=\"0\" style=\"fill: rgb(128, 139, 164); fill-opacity: 1;\"/></g><g class=\"g-gtitle\"/><g class=\"g-xtitle\"/><g class=\"g-x2title\"/><g class=\"g-ytitle\"/><g class=\"g-y2title\"/><g class=\"annotation\" data-index=\"0\" style=\"opacity: 1;\"><g class=\"annotation-text-g\" transform=\"rotate(0,281.5,89)\"><g class=\"cursor-pointer\" transform=\"translate(169, 78)\"><rect class=\"bg\" x=\"0.5\" y=\"0.5\" width=\"224\" height=\"21\" style=\"stroke-width: 1px; stroke: rgb(0, 0, 0); stroke-opacity: 0; fill: rgb(0, 0, 0); fill-opacity: 0;\"/><text class=\"annotation-text\" text-anchor=\"middle\" x=\"112.40625\" y=\"15\" style=\"font-family: 'Courier New', monospace; font-size: 16px; fill: rgb(127, 127, 127); fill-opacity: 1; white-space: pre;\">Aumento Diário de Casos</text></g></g></g><g class=\"annotation\" data-index=\"1\" style=\"opacity: 1;\"><g class=\"annotation-text-g\" transform=\"rotate(0,281.5,257.25)\"><g class=\"cursor-pointer\" transform=\"translate(165, 246)\"><rect class=\"bg\" x=\"0.5\" y=\"0.5\" width=\"233\" height=\"22\" style=\"stroke-width: 1px; stroke: rgb(0, 0, 0); stroke-opacity: 0; fill: rgb(0, 0, 0); fill-opacity: 0;\"/><text class=\"annotation-text\" text-anchor=\"middle\" x=\"117.21875\" y=\"16\" style=\"font-family: 'Courier New', monospace; font-size: 16px; fill: rgb(127, 127, 127); fill-opacity: 1; white-space: pre;\">Aumento Diário de Óbitos</text></g></g></g></g></svg>"
          },
          "metadata": {}
        }
      ]
    },
    {
      "cell_type": "markdown",
      "metadata": {
        "id": "37B4IUd61INl",
        "colab_type": "text"
      },
      "source": [
        "Conseguimos ver que quanto ao gráfico da taxa de novos casos, até recentemente continua a aumentar o recorde diário de casos. Isto pode indicar vários fatores, nomeadamente o aumento da realização de testes.\n",
        "\n",
        "Quanto ao gráfico da taxa de novos óbitos, é normal que acompanhe a tendência do primeiro. Pois quantas mais pessoas ficam infetadas, mais o nº diário de óbitos irá aumentar."
      ]
    },
    {
      "cell_type": "markdown",
      "metadata": {
        "id": "_KiWNifC2sic",
        "colab_type": "text"
      },
      "source": [
        "Na computação seguinte é investigada a divisão dos dados por estados, em termos de casos e óbitos."
      ]
    },
    {
      "cell_type": "code",
      "metadata": {
        "id": "CMwGb84K457u",
        "colab_type": "code",
        "outputId": "4e48bab6-7fd0-4004-a31f-9595c2f6b9b6",
        "colab": {
          "base_uri": "https://localhost:8080/",
          "height": 617
        }
      },
      "source": [
        "# Data mais recente do dataset\n",
        "last_date = data['date'].tail(1).item()\n",
        "\n",
        "# Casos e mortes por estado, para a última data do dataset\n",
        "data_by_state = data[['cases','deaths']][data['date']==last_date].groupby(data['state']).sum().sort_values(by = 'cases', ascending=False)\n",
        "\n",
        "# Plot\n",
        "layout = Layout(\n",
        "    title=\"Casos e Óbitos por Estado\",\n",
        "    font=dict(\n",
        "        family=\"Courier New, monospace\",\n",
        "        size=14,\n",
        "        color=\"#7f7f7f\"\n",
        "    ),\n",
        "    height=600\n",
        ")\n",
        "\n",
        "fig = go.Figure(data=[\n",
        "    \n",
        "    go.Bar(name='Nº Casos'\n",
        "           , x=data_by_state.index\n",
        "           , y=data_by_state['cases']\n",
        "           ),\n",
        "    \n",
        "    go.Bar(name='Nº Óbitos'\n",
        "           , x=data_by_state.index\n",
        "           , y=data_by_state['deaths']\n",
        "           , text=data_by_state['deaths']\n",
        "           , textposition='outside')\n",
        "])\n",
        "\n",
        "fig.update_layout(barmode='stack')\n",
        "fig['layout'].update(layout)\n",
        "\n",
        "fig.show()"
      ],
      "execution_count": 99,
      "outputs": [
        {
          "output_type": "display_data",
          "data": {
            "image/svg+xml": "<svg class=\"main-svg\" xmlns=\"http://www.w3.org/2000/svg\" xmlns:xlink=\"http://www.w3.org/1999/xlink\" width=\"700\" height=\"450\" viewBox=\"0 0 700 450\"><rect x=\"0\" y=\"0\" width=\"700\" height=\"450\" style=\"fill: rgb(255, 255, 255); fill-opacity: 1;\"/><defs id=\"defs-e71fab\"><g class=\"clips\"><clipPath id=\"clipe71fabxyplot\" class=\"plotclip\"><rect width=\"477\" height=\"170\"/></clipPath><clipPath class=\"axesclip\" id=\"clipe71fabx\"><rect x=\"80\" y=\"0\" width=\"477\" height=\"450\"/></clipPath><clipPath class=\"axesclip\" id=\"clipe71faby\"><rect x=\"0\" y=\"100\" width=\"700\" height=\"170\"/></clipPath><clipPath class=\"axesclip\" id=\"clipe71fabxy\"><rect x=\"80\" y=\"100\" width=\"477\" height=\"170\"/></clipPath></g><g class=\"gradients\"/></defs><g class=\"bglayer\"><rect class=\"bg\" x=\"80\" y=\"100\" width=\"477\" height=\"170\" style=\"fill: rgb(229, 236, 246); fill-opacity: 1; stroke-width: 0;\"/></g><g class=\"layer-below\"><g class=\"imagelayer\"/><g class=\"shapelayer\"/></g><g class=\"cartesianlayer\"><g class=\"subplot xy\"><g class=\"layer-subplot\"><g class=\"shapelayer\"/><g class=\"imagelayer\"/></g><g class=\"gridlayer\"><g class=\"x\"/><g class=\"y\"><path class=\"ygrid crisp\" transform=\"translate(0,227.06)\" d=\"M80,0h477\" style=\"stroke: rgb(255, 255, 255); stroke-opacity: 1; stroke-width: 1px;\"/><path class=\"ygrid crisp\" transform=\"translate(0,184.12)\" d=\"M80,0h477\" style=\"stroke: rgb(255, 255, 255); stroke-opacity: 1; stroke-width: 1px;\"/><path class=\"ygrid crisp\" transform=\"translate(0,141.18)\" d=\"M80,0h477\" style=\"stroke: rgb(255, 255, 255); stroke-opacity: 1; stroke-width: 1px;\"/></g></g><g class=\"zerolinelayer\"><path class=\"yzl zl crisp\" transform=\"translate(0,270)\" d=\"M80,0h477\" style=\"stroke: rgb(255, 255, 255); stroke-opacity: 1; stroke-width: 2px;\"/></g><path class=\"xlines-below\"/><path class=\"ylines-below\"/><g class=\"overlines-below\"/><g class=\"xaxislayer-below\"/><g class=\"yaxislayer-below\"/><g class=\"overaxes-below\"/><g class=\"plot\" transform=\"translate(80, 100)\" clip-path=\"url('#clipe71fabxyplot')\"><g class=\"barlayer mlayer\"><g class=\"trace bars\" shape-rendering=\"crispEdges\" style=\"opacity: 1;\"><g class=\"points\"><g class=\"point\"><path d=\"M1.77,170V20.01H15.9V170Z\" style=\"vector-effect: non-scaling-stroke; opacity: 1; stroke-width: 0.5px; fill: rgb(99, 110, 250); fill-opacity: 1; stroke: rgb(229, 236, 246); stroke-opacity: 1;\"/></g><g class=\"point\"><path d=\"M19.43,170V104.39H33.57V170Z\" style=\"vector-effect: non-scaling-stroke; opacity: 1; stroke-width: 0.5px; fill: rgb(99, 110, 250); fill-opacity: 1; stroke: rgb(229, 236, 246); stroke-opacity: 1;\"/></g><g class=\"point\"><path d=\"M37.1,170V104.79H51.23V170Z\" style=\"vector-effect: non-scaling-stroke; opacity: 1; stroke-width: 0.5px; fill: rgb(99, 110, 250); fill-opacity: 1; stroke: rgb(229, 236, 246); stroke-opacity: 1;\"/></g><g class=\"point\"><path d=\"M54.77,170V119.11H68.9V170Z\" style=\"vector-effect: non-scaling-stroke; opacity: 1; stroke-width: 0.5px; fill: rgb(99, 110, 250); fill-opacity: 1; stroke: rgb(229, 236, 246); stroke-opacity: 1;\"/></g><g class=\"point\"><path d=\"M72.43,170V121.56H86.57V170Z\" style=\"vector-effect: non-scaling-stroke; opacity: 1; stroke-width: 0.5px; fill: rgb(99, 110, 250); fill-opacity: 1; stroke: rgb(229, 236, 246); stroke-opacity: 1;\"/></g><g class=\"point\"><path d=\"M90.1,170V131.06H104.23V170Z\" style=\"vector-effect: non-scaling-stroke; opacity: 1; stroke-width: 0.5px; fill: rgb(99, 110, 250); fill-opacity: 1; stroke: rgb(229, 236, 246); stroke-opacity: 1;\"/></g><g class=\"point\"><path d=\"M107.77,170V137.55H121.9V170Z\" style=\"vector-effect: non-scaling-stroke; opacity: 1; stroke-width: 0.5px; fill: rgb(99, 110, 250); fill-opacity: 1; stroke: rgb(229, 236, 246); stroke-opacity: 1;\"/></g><g class=\"point\"><path d=\"M125.43,170V145.96H139.57V170Z\" style=\"vector-effect: non-scaling-stroke; opacity: 1; stroke-width: 0.5px; fill: rgb(99, 110, 250); fill-opacity: 1; stroke: rgb(229, 236, 246); stroke-opacity: 1;\"/></g><g class=\"point\"><path d=\"M143.1,170V152.63H157.23V170Z\" style=\"vector-effect: non-scaling-stroke; opacity: 1; stroke-width: 0.5px; fill: rgb(99, 110, 250); fill-opacity: 1; stroke: rgb(229, 236, 246); stroke-opacity: 1;\"/></g><g class=\"point\"><path d=\"M160.77,170V157.47H174.9V170Z\" style=\"vector-effect: non-scaling-stroke; opacity: 1; stroke-width: 0.5px; fill: rgb(99, 110, 250); fill-opacity: 1; stroke: rgb(229, 236, 246); stroke-opacity: 1;\"/></g><g class=\"point\"><path d=\"M178.43,170V158.19H192.57V170Z\" style=\"vector-effect: non-scaling-stroke; opacity: 1; stroke-width: 0.5px; fill: rgb(99, 110, 250); fill-opacity: 1; stroke: rgb(229, 236, 246); stroke-opacity: 1;\"/></g><g class=\"point\"><path d=\"M196.1,170V158.65H210.23V170Z\" style=\"vector-effect: non-scaling-stroke; opacity: 1; stroke-width: 0.5px; fill: rgb(99, 110, 250); fill-opacity: 1; stroke: rgb(229, 236, 246); stroke-opacity: 1;\"/></g><g class=\"point\"><path d=\"M213.77,170V158.92H227.9V170Z\" style=\"vector-effect: non-scaling-stroke; opacity: 1; stroke-width: 0.5px; fill: rgb(99, 110, 250); fill-opacity: 1; stroke: rgb(229, 236, 246); stroke-opacity: 1;\"/></g><g class=\"point\"><path d=\"M231.43,170V159.32H245.57V170Z\" style=\"vector-effect: non-scaling-stroke; opacity: 1; stroke-width: 0.5px; fill: rgb(99, 110, 250); fill-opacity: 1; stroke: rgb(229, 236, 246); stroke-opacity: 1;\"/></g><g class=\"point\"><path d=\"M249.1,170V160.23H263.23V170Z\" style=\"vector-effect: non-scaling-stroke; opacity: 1; stroke-width: 0.5px; fill: rgb(99, 110, 250); fill-opacity: 1; stroke: rgb(229, 236, 246); stroke-opacity: 1;\"/></g><g class=\"point\"><path d=\"M266.77,170V160.47H280.9V170Z\" style=\"vector-effect: non-scaling-stroke; opacity: 1; stroke-width: 0.5px; fill: rgb(99, 110, 250); fill-opacity: 1; stroke: rgb(229, 236, 246); stroke-opacity: 1;\"/></g><g class=\"point\"><path d=\"M284.43,170V160.82H298.57V170Z\" style=\"vector-effect: non-scaling-stroke; opacity: 1; stroke-width: 0.5px; fill: rgb(99, 110, 250); fill-opacity: 1; stroke: rgb(229, 236, 246); stroke-opacity: 1;\"/></g><g class=\"point\"><path d=\"M302.1,170V161.85H316.23V170Z\" style=\"vector-effect: non-scaling-stroke; opacity: 1; stroke-width: 0.5px; fill: rgb(99, 110, 250); fill-opacity: 1; stroke: rgb(229, 236, 246); stroke-opacity: 1;\"/></g><g class=\"point\"><path d=\"M319.77,170V163.95H333.9V170Z\" style=\"vector-effect: non-scaling-stroke; opacity: 1; stroke-width: 0.5px; fill: rgb(99, 110, 250); fill-opacity: 1; stroke: rgb(229, 236, 246); stroke-opacity: 1;\"/></g><g class=\"point\"><path d=\"M337.43,170V164.34H351.57V170Z\" style=\"vector-effect: non-scaling-stroke; opacity: 1; stroke-width: 0.5px; fill: rgb(99, 110, 250); fill-opacity: 1; stroke: rgb(229, 236, 246); stroke-opacity: 1;\"/></g><g class=\"point\"><path d=\"M355.1,170V164.38H369.23V170Z\" style=\"vector-effect: non-scaling-stroke; opacity: 1; stroke-width: 0.5px; fill: rgb(99, 110, 250); fill-opacity: 1; stroke: rgb(229, 236, 246); stroke-opacity: 1;\"/></g><g class=\"point\"><path d=\"M372.77,170V164.63H386.9V170Z\" style=\"vector-effect: non-scaling-stroke; opacity: 1; stroke-width: 0.5px; fill: rgb(99, 110, 250); fill-opacity: 1; stroke: rgb(229, 236, 246); stroke-opacity: 1;\"/></g><g class=\"point\"><path d=\"M390.43,170V165.56H404.57V170Z\" style=\"vector-effect: non-scaling-stroke; opacity: 1; stroke-width: 0.5px; fill: rgb(99, 110, 250); fill-opacity: 1; stroke: rgb(229, 236, 246); stroke-opacity: 1;\"/></g><g class=\"point\"><path d=\"M408.1,170V165.75H422.23V170Z\" style=\"vector-effect: non-scaling-stroke; opacity: 1; stroke-width: 0.5px; fill: rgb(99, 110, 250); fill-opacity: 1; stroke: rgb(229, 236, 246); stroke-opacity: 1;\"/></g><g class=\"point\"><path d=\"M425.77,170V166.12H439.9V170Z\" style=\"vector-effect: non-scaling-stroke; opacity: 1; stroke-width: 0.5px; fill: rgb(99, 110, 250); fill-opacity: 1; stroke: rgb(229, 236, 246); stroke-opacity: 1;\"/></g><g class=\"point\"><path d=\"M443.43,170V167.74H457.57V170Z\" style=\"vector-effect: non-scaling-stroke; opacity: 1; stroke-width: 0.5px; fill: rgb(99, 110, 250); fill-opacity: 1; stroke: rgb(229, 236, 246); stroke-opacity: 1;\"/></g><g class=\"point\"><path d=\"M461.1,170V168.51H475.23V170Z\" style=\"vector-effect: non-scaling-stroke; opacity: 1; stroke-width: 0.5px; fill: rgb(99, 110, 250); fill-opacity: 1; stroke: rgb(229, 236, 246); stroke-opacity: 1;\"/></g></g></g><g class=\"trace bars\" shape-rendering=\"crispEdges\" style=\"opacity: 1;\"><g class=\"points\"><g class=\"point\"><path d=\"M1.77,20.01V8.5H15.9V20.01Z\" style=\"vector-effect: non-scaling-stroke; opacity: 1; stroke-width: 0.5px; fill: rgb(239, 85, 59); fill-opacity: 1; stroke: rgb(229, 236, 246); stroke-opacity: 1;\"/><text class=\"bartext bartext-outside\" text-anchor=\"middle\" data-notex=\"1\" x=\"0\" y=\"0\" style=\"font-family: 'Courier New', monospace; font-size: 14px; fill: rgb(127, 127, 127); fill-opacity: 1; white-space: pre;\" transform=\"translate(8.835,3.8175441860465114)scale(0.4206139534883721)\">5363</text></g><g class=\"point\"><path d=\"M19.43,104.39V100.31H33.57V104.39Z\" style=\"vector-effect: non-scaling-stroke; opacity: 1; stroke-width: 0.5px; fill: rgb(239, 85, 59); fill-opacity: 1; stroke: rgb(229, 236, 246); stroke-opacity: 1;\"/><text class=\"bartext bartext-outside\" text-anchor=\"middle\" data-notex=\"1\" x=\"0\" y=\"0\" style=\"font-family: 'Courier New', monospace; font-size: 14px; fill: rgb(127, 127, 127); fill-opacity: 1; white-space: pre;\" transform=\"translate(26.5,95.62635348837209)scale(0.4209116279069768)\">1900</text></g><g class=\"point\"><path d=\"M37.1,104.79V97.84H51.23V104.79Z\" style=\"vector-effect: non-scaling-stroke; opacity: 1; stroke-width: 0.5px; fill: rgb(239, 85, 59); fill-opacity: 1; stroke: rgb(229, 236, 246); stroke-opacity: 1;\"/><text class=\"bartext bartext-outside\" text-anchor=\"middle\" data-notex=\"1\" x=\"0\" y=\"0\" style=\"font-family: 'Courier New', monospace; font-size: 14px; fill: rgb(127, 127, 127); fill-opacity: 1; white-space: pre;\" transform=\"translate(44.165,93.15754418604652)scale(0.42061395348837194)\">3237</text></g><g class=\"point\"><path d=\"M54.77,119.11V115.76H68.9V119.11Z\" style=\"vector-effect: non-scaling-stroke; opacity: 1; stroke-width: 0.5px; fill: rgb(239, 85, 59); fill-opacity: 1; stroke: rgb(229, 236, 246); stroke-opacity: 1;\"/><text class=\"bartext bartext-outside\" text-anchor=\"middle\" data-notex=\"1\" x=\"0\" y=\"0\" style=\"font-family: 'Courier New', monospace; font-size: 14px; fill: rgb(127, 127, 127); fill-opacity: 1; white-space: pre;\" transform=\"translate(61.83500000000001,111.07754418604651)scale(0.42061395348837216)\">1561</text></g><g class=\"point\"><path d=\"M72.43,121.56V117.63H86.57V121.56Z\" style=\"vector-effect: non-scaling-stroke; opacity: 1; stroke-width: 0.5px; fill: rgb(239, 85, 59); fill-opacity: 1; stroke: rgb(229, 236, 246); stroke-opacity: 1;\"/><text class=\"bartext bartext-outside\" text-anchor=\"middle\" data-notex=\"1\" x=\"0\" y=\"0\" style=\"font-family: 'Courier New', monospace; font-size: 14px; fill: rgb(127, 127, 127); fill-opacity: 1; white-space: pre;\" transform=\"translate(79.5,112.9463534883721)scale(0.42091162790697634)\">1834</text></g><g class=\"point\"><path d=\"M90.1,131.06V127.56H104.23V131.06Z\" style=\"vector-effect: non-scaling-stroke; opacity: 1; stroke-width: 0.5px; fill: rgb(239, 85, 59); fill-opacity: 1; stroke: rgb(229, 236, 246); stroke-opacity: 1;\"/><text class=\"bartext bartext-outside\" text-anchor=\"middle\" data-notex=\"1\" x=\"0\" y=\"0\" style=\"font-family: 'Courier New', monospace; font-size: 14px; fill: rgb(127, 127, 127); fill-opacity: 1; white-space: pre;\" transform=\"translate(97.16499999999999,122.8775441860465)scale(0.4206139534883724)\">1633</text></g><g class=\"point\"><path d=\"M107.77,137.55V136.19H121.9V137.55Z\" style=\"vector-effect: non-scaling-stroke; opacity: 1; stroke-width: 0.5px; fill: rgb(239, 85, 59); fill-opacity: 1; stroke: rgb(229, 236, 246); stroke-opacity: 1;\"/><text class=\"bartext bartext-outside\" text-anchor=\"middle\" data-notex=\"1\" x=\"0\" y=\"0\" style=\"font-family: 'Courier New', monospace; font-size: 14px; fill: rgb(127, 127, 127); fill-opacity: 1; white-space: pre;\" transform=\"translate(114.83061996280225,130.9474209547427)scale(0.5606447613143215)\">634</text></g><g class=\"point\"><path d=\"M125.43,145.96V145.18H139.57V145.96Z\" style=\"vector-effect: non-scaling-stroke; opacity: 1; stroke-width: 0.5px; fill: rgb(239, 85, 59); fill-opacity: 1; stroke: rgb(229, 236, 246); stroke-opacity: 1;\"/><text class=\"bartext bartext-outside\" text-anchor=\"middle\" data-notex=\"1\" x=\"0\" y=\"0\" style=\"font-family: 'Courier New', monospace; font-size: 14px; fill: rgb(127, 127, 127); fill-opacity: 1; white-space: pre;\" transform=\"translate(132.49561686298821,139.93583384996901)scale(0.561041537507749)\">362</text></g><g class=\"point\"><path d=\"M143.1,152.63V151.89H157.23V152.63Z\" style=\"vector-effect: non-scaling-stroke; opacity: 1; stroke-width: 0.5px; fill: rgb(239, 85, 59); fill-opacity: 1; stroke: rgb(229, 236, 246); stroke-opacity: 1;\"/><text class=\"bartext bartext-outside\" text-anchor=\"middle\" data-notex=\"1\" x=\"0\" y=\"0\" style=\"font-family: 'Courier New', monospace; font-size: 14px; fill: rgb(127, 127, 127); fill-opacity: 1; white-space: pre;\" transform=\"translate(150.16061996280223,146.6474209547427)scale(0.560644761314321)\">341</text></g><g class=\"point\"><path d=\"M160.77,157.47V156.97H174.9V157.47Z\" style=\"vector-effect: non-scaling-stroke; opacity: 1; stroke-width: 0.5px; fill: rgb(239, 85, 59); fill-opacity: 1; stroke: rgb(229, 236, 246); stroke-opacity: 1;\"/><text class=\"bartext bartext-outside\" text-anchor=\"middle\" data-notex=\"1\" x=\"0\" y=\"0\" style=\"font-family: 'Courier New', monospace; font-size: 14px; fill: rgb(127, 127, 127); fill-opacity: 1; white-space: pre;\" transform=\"translate(167.83061996280225,151.7274209547427)scale(0.560644761314321)\">230</text></g><g class=\"point\"><path d=\"M178.43,158.19V157.99H192.57V158.19Z\" style=\"vector-effect: non-scaling-stroke; opacity: 1; stroke-width: 0.5px; fill: rgb(239, 85, 59); fill-opacity: 1; stroke: rgb(229, 236, 246); stroke-opacity: 1;\"/><text class=\"bartext bartext-outside\" text-anchor=\"middle\" data-notex=\"1\" x=\"0\" y=\"0\" style=\"font-family: 'Courier New', monospace; font-size: 14px; fill: rgb(127, 127, 127); fill-opacity: 1; white-space: pre;\" transform=\"translate(185.49342325581395,151.6227069767442)scale(0.8418232558139527)\">94</text></g><g class=\"point\"><path d=\"M196.1,158.65V158.27H210.23V158.65Z\" style=\"vector-effect: non-scaling-stroke; opacity: 1; stroke-width: 0.5px; fill: rgb(239, 85, 59); fill-opacity: 1; stroke: rgb(229, 236, 246); stroke-opacity: 1;\"/><text class=\"bartext bartext-outside\" text-anchor=\"middle\" data-notex=\"1\" x=\"0\" y=\"0\" style=\"font-family: 'Courier New', monospace; font-size: 14px; fill: rgb(127, 127, 127); fill-opacity: 1; white-space: pre;\" transform=\"translate(203.16061996280223,153.02742095474272)scale(0.560644761314321)\">177</text></g><g class=\"point\"><path d=\"M213.77,158.92V158.75H227.9V158.92Z\" style=\"vector-effect: non-scaling-stroke; opacity: 1; stroke-width: 0.5px; fill: rgb(239, 85, 59); fill-opacity: 1; stroke: rgb(229, 236, 246); stroke-opacity: 1;\"/><text class=\"bartext bartext-outside\" text-anchor=\"middle\" data-notex=\"1\" x=\"0\" y=\"0\" style=\"font-family: 'Courier New', monospace; font-size: 14px; fill: rgb(127, 127, 127); fill-opacity: 1; white-space: pre;\" transform=\"translate(220.82842790697674,152.38508837209304)scale(0.8412279069767439)\">77</text></g><g class=\"point\"><path d=\"M231.43,159.32V158.98H245.57V159.32Z\" style=\"vector-effect: non-scaling-stroke; opacity: 1; stroke-width: 0.5px; fill: rgb(239, 85, 59); fill-opacity: 1; stroke: rgb(229, 236, 246); stroke-opacity: 1;\"/><text class=\"bartext bartext-outside\" text-anchor=\"middle\" data-notex=\"1\" x=\"0\" y=\"0\" style=\"font-family: 'Courier New', monospace; font-size: 14px; fill: rgb(127, 127, 127); fill-opacity: 1; white-space: pre;\" transform=\"translate(238.49561686298821,153.735833849969)scale(0.561041537507749)\">161</text></g><g class=\"point\"><path d=\"M249.1,160.23V159.93H263.23V160.23Z\" style=\"vector-effect: non-scaling-stroke; opacity: 1; stroke-width: 0.5px; fill: rgb(239, 85, 59); fill-opacity: 1; stroke: rgb(229, 236, 246); stroke-opacity: 1;\"/><text class=\"bartext bartext-outside\" text-anchor=\"middle\" data-notex=\"1\" x=\"0\" y=\"0\" style=\"font-family: 'Courier New', monospace; font-size: 14px; fill: rgb(127, 127, 127); fill-opacity: 1; white-space: pre;\" transform=\"translate(256.16061996280223,154.68742095474272)scale(0.5606447613143221)\">142</text></g><g class=\"point\"><path d=\"M266.77,160.47V159.93H280.9V160.47Z\" style=\"vector-effect: non-scaling-stroke; opacity: 1; stroke-width: 0.5px; fill: rgb(239, 85, 59); fill-opacity: 1; stroke: rgb(229, 236, 246); stroke-opacity: 1;\"/><text class=\"bartext bartext-outside\" text-anchor=\"middle\" data-notex=\"1\" x=\"0\" y=\"0\" style=\"font-family: 'Courier New', monospace; font-size: 14px; fill: rgb(127, 127, 127); fill-opacity: 1; white-space: pre;\" transform=\"translate(273.8306199628022,154.68742095474272)scale(0.560644761314321)\">251</text></g><g class=\"point\"><path d=\"M284.43,160.82V160.67H298.57V160.82Z\" style=\"vector-effect: non-scaling-stroke; opacity: 1; stroke-width: 0.5px; fill: rgb(239, 85, 59); fill-opacity: 1; stroke: rgb(229, 236, 246); stroke-opacity: 1;\"/><text class=\"bartext bartext-outside\" text-anchor=\"middle\" data-notex=\"1\" x=\"0\" y=\"0\" style=\"font-family: 'Courier New', monospace; font-size: 14px; fill: rgb(127, 127, 127); fill-opacity: 1; white-space: pre;\" transform=\"translate(291.493423255814,154.3027069767442)scale(0.8418232558139527)\">69</text></g><g class=\"point\"><path d=\"M302.1,161.85V161.49H316.23V161.85Z\" style=\"vector-effect: non-scaling-stroke; opacity: 1; stroke-width: 0.5px; fill: rgb(239, 85, 59); fill-opacity: 1; stroke: rgb(229, 236, 246); stroke-opacity: 1;\"/><text class=\"bartext bartext-outside\" text-anchor=\"middle\" data-notex=\"1\" x=\"0\" y=\"0\" style=\"font-family: 'Courier New', monospace; font-size: 14px; fill: rgb(127, 127, 127); fill-opacity: 1; white-space: pre;\" transform=\"translate(309.16061996280223,156.24742095474272)scale(0.560644761314321)\">170</text></g><g class=\"point\"><path d=\"M319.77,163.95V163.79H333.9V163.95Z\" style=\"vector-effect: non-scaling-stroke; opacity: 1; stroke-width: 0.5px; fill: rgb(239, 85, 59); fill-opacity: 1; stroke: rgb(229, 236, 246); stroke-opacity: 1;\"/><text class=\"bartext bartext-outside\" text-anchor=\"middle\" data-notex=\"1\" x=\"0\" y=\"0\" style=\"font-family: 'Courier New', monospace; font-size: 14px; fill: rgb(127, 127, 127); fill-opacity: 1; white-space: pre;\" transform=\"translate(326.82842790697674,157.42508837209303)scale(0.8412279069767439)\">76</text></g><g class=\"point\"><path d=\"M337.43,164.34V164.15H351.57V164.34Z\" style=\"vector-effect: non-scaling-stroke; opacity: 1; stroke-width: 0.5px; fill: rgb(239, 85, 59); fill-opacity: 1; stroke: rgb(229, 236, 246); stroke-opacity: 1;\"/><text class=\"bartext bartext-outside\" text-anchor=\"middle\" data-notex=\"1\" x=\"0\" y=\"0\" style=\"font-family: 'Courier New', monospace; font-size: 14px; fill: rgb(127, 127, 127); fill-opacity: 1; white-space: pre;\" transform=\"translate(344.493423255814,157.7827069767442)scale(0.8418232558139527)\">87</text></g><g class=\"point\"><path d=\"M355.1,164.38V164.09H369.23V164.38Z\" style=\"vector-effect: non-scaling-stroke; opacity: 1; stroke-width: 0.5px; fill: rgb(239, 85, 59); fill-opacity: 1; stroke: rgb(229, 236, 246); stroke-opacity: 1;\"/><text class=\"bartext bartext-outside\" text-anchor=\"middle\" data-notex=\"1\" x=\"0\" y=\"0\" style=\"font-family: 'Courier New', monospace; font-size: 14px; fill: rgb(127, 127, 127); fill-opacity: 1; white-space: pre;\" transform=\"translate(362.16061996280223,158.84742095474272)scale(0.560644761314321)\">137</text></g><g class=\"point\"><path d=\"M372.77,164.63V164.44H386.9V164.63Z\" style=\"vector-effect: non-scaling-stroke; opacity: 1; stroke-width: 0.5px; fill: rgb(239, 85, 59); fill-opacity: 1; stroke: rgb(229, 236, 246); stroke-opacity: 1;\"/><text class=\"bartext bartext-outside\" text-anchor=\"middle\" data-notex=\"1\" x=\"0\" y=\"0\" style=\"font-family: 'Courier New', monospace; font-size: 14px; fill: rgb(127, 127, 127); fill-opacity: 1; white-space: pre;\" transform=\"translate(379.82842790697674,158.07508837209303)scale(0.8412279069767439)\">90</text></g><g class=\"point\"><path d=\"M390.43,165.56V165.42H404.57V165.56Z\" style=\"vector-effect: non-scaling-stroke; opacity: 1; stroke-width: 0.5px; fill: rgb(239, 85, 59); fill-opacity: 1; stroke: rgb(229, 236, 246); stroke-opacity: 1;\"/><text class=\"bartext bartext-outside\" text-anchor=\"middle\" data-notex=\"1\" x=\"0\" y=\"0\" style=\"font-family: 'Courier New', monospace; font-size: 14px; fill: rgb(127, 127, 127); fill-opacity: 1; white-space: pre;\" transform=\"translate(397.493423255814,159.0527069767442)scale(0.8418232558139527)\">64</text></g><g class=\"point\"><path d=\"M408.1,165.75V165.59H422.23V165.75Z\" style=\"vector-effect: non-scaling-stroke; opacity: 1; stroke-width: 0.5px; fill: rgb(239, 85, 59); fill-opacity: 1; stroke: rgb(229, 236, 246); stroke-opacity: 1;\"/><text class=\"bartext bartext-outside\" text-anchor=\"middle\" data-notex=\"1\" x=\"0\" y=\"0\" style=\"font-family: 'Courier New', monospace; font-size: 14px; fill: rgb(127, 127, 127); fill-opacity: 1; white-space: pre;\" transform=\"translate(415.1584279069768,159.22508837209304)scale(0.8412279069767439)\">78</text></g><g class=\"point\"><path d=\"M425.77,166.12V166.03H439.9V166.12Z\" style=\"vector-effect: non-scaling-stroke; opacity: 1; stroke-width: 0.5px; fill: rgb(239, 85, 59); fill-opacity: 1; stroke: rgb(229, 236, 246); stroke-opacity: 1;\"/><text class=\"bartext bartext-outside\" text-anchor=\"middle\" data-notex=\"1\" x=\"0\" y=\"0\" style=\"font-family: 'Courier New', monospace; font-size: 14px; fill: rgb(127, 127, 127); fill-opacity: 1; white-space: pre;\" transform=\"translate(432.82842790697674,159.66508837209304)scale(0.8412279069767439)\">42</text></g><g class=\"point\"><path d=\"M443.43,167.74V167.67H457.57V167.74Z\" style=\"vector-effect: non-scaling-stroke; opacity: 1; stroke-width: 0.5px; fill: rgb(239, 85, 59); fill-opacity: 1; stroke: rgb(229, 236, 246); stroke-opacity: 1;\"/><text class=\"bartext bartext-outside\" text-anchor=\"middle\" data-notex=\"1\" x=\"0\" y=\"0\" style=\"font-family: 'Courier New', monospace; font-size: 14px; fill: rgb(127, 127, 127); fill-opacity: 1; white-space: pre;\" transform=\"translate(450.493423255814,161.3027069767442)scale(0.8418232558139527)\">32</text></g><g class=\"point\"><path d=\"M461.1,168.51V168.48H475.23V168.51Z\" style=\"vector-effect: non-scaling-stroke; opacity: 1; stroke-width: 0.5px; fill: rgb(239, 85, 59); fill-opacity: 1; stroke: rgb(229, 236, 246); stroke-opacity: 1;\"/><text class=\"bartext bartext-outside\" text-anchor=\"middle\" data-notex=\"1\" x=\"0\" y=\"0\" style=\"font-family: 'Courier New', monospace; font-size: 14px; fill: rgb(127, 127, 127); fill-opacity: 1; white-space: pre;\" transform=\"translate(468.1584279069768,162.11508837209303)scale(0.8412279069767439)\">17</text></g></g></g></g></g><g class=\"overplot\"/><path class=\"xlines-above crisp\" d=\"M0,0\" style=\"fill: none;\"/><path class=\"ylines-above crisp\" d=\"M0,0\" style=\"fill: none;\"/><g class=\"overlines-above\"/><g class=\"xaxislayer-above\"><g class=\"xtick\"><text text-anchor=\"start\" x=\"0\" y=\"285\" transform=\"translate(88.83,0) rotate(90,0,278)\" style=\"font-family: 'Courier New', monospace; font-size: 14px; fill: rgb(127, 127, 127); fill-opacity: 1; white-space: pre;\">São Paulo</text></g><g class=\"xtick\"><text text-anchor=\"start\" x=\"0\" y=\"285\" transform=\"translate(106.5,0) rotate(90,0,278)\" style=\"font-family: 'Courier New', monospace; font-size: 14px; fill: rgb(127, 127, 127); fill-opacity: 1; white-space: pre;\">Ceará</text></g><g class=\"xtick\"><text text-anchor=\"start\" x=\"0\" y=\"285\" transform=\"translate(124.17,0) rotate(90,0,278)\" style=\"font-family: 'Courier New', monospace; font-size: 14px; fill: rgb(127, 127, 127); fill-opacity: 1; white-space: pre;\">Rio de Janeiro</text></g><g class=\"xtick\"><text text-anchor=\"start\" x=\"0\" y=\"285\" transform=\"translate(141.82999999999998,0) rotate(90,0,278)\" style=\"font-family: 'Courier New', monospace; font-size: 14px; fill: rgb(127, 127, 127); fill-opacity: 1; white-space: pre;\">Amazonas</text></g><g class=\"xtick\"><text text-anchor=\"start\" x=\"0\" y=\"285\" transform=\"translate(159.5,0) rotate(90,0,278)\" style=\"font-family: 'Courier New', monospace; font-size: 14px; fill: rgb(127, 127, 127); fill-opacity: 1; white-space: pre;\">Pernambuco</text></g><g class=\"xtick\"><text text-anchor=\"start\" x=\"0\" y=\"285\" transform=\"translate(177.17000000000002,0) rotate(90,0,278)\" style=\"font-family: 'Courier New', monospace; font-size: 14px; fill: rgb(127, 127, 127); fill-opacity: 1; white-space: pre;\">Pará</text></g><g class=\"xtick\"><text text-anchor=\"start\" x=\"0\" y=\"285\" transform=\"translate(194.82999999999998,0) rotate(90,0,278)\" style=\"font-family: 'Courier New', monospace; font-size: 14px; fill: rgb(127, 127, 127); fill-opacity: 1; white-space: pre;\">Maranhão</text></g><g class=\"xtick\"><text text-anchor=\"start\" x=\"0\" y=\"285\" transform=\"translate(212.5,0) rotate(90,0,278)\" style=\"font-family: 'Courier New', monospace; font-size: 14px; fill: rgb(127, 127, 127); fill-opacity: 1; white-space: pre;\">Bahia</text></g><g class=\"xtick\"><text text-anchor=\"start\" x=\"0\" y=\"285\" transform=\"translate(230.17,0) rotate(90,0,278)\" style=\"font-family: 'Courier New', monospace; font-size: 14px; fill: rgb(127, 127, 127); fill-opacity: 1; white-space: pre;\">Espírito Santo</text></g><g class=\"xtick\"><text text-anchor=\"start\" x=\"0\" y=\"285\" transform=\"translate(247.83,0) rotate(90,0,278)\" style=\"font-family: 'Courier New', monospace; font-size: 14px; fill: rgb(127, 127, 127); fill-opacity: 1; white-space: pre;\">Paraíba</text></g><g class=\"xtick\"><text text-anchor=\"start\" x=\"0\" y=\"285\" transform=\"translate(265.5,0) rotate(90,0,278)\" style=\"font-family: 'Courier New', monospace; font-size: 14px; fill: rgb(127, 127, 127); fill-opacity: 1; white-space: pre;\">Santa Catarina</text></g><g class=\"xtick\"><text text-anchor=\"start\" x=\"0\" y=\"285\" transform=\"translate(283.16999999999996,0) rotate(90,0,278)\" style=\"font-family: 'Courier New', monospace; font-size: 14px; fill: rgb(127, 127, 127); fill-opacity: 1; white-space: pre;\">Minas Gerais</text></g><g class=\"xtick\"><text text-anchor=\"start\" x=\"0\" y=\"285\" transform=\"translate(300.83000000000004,0) rotate(90,0,278)\" style=\"font-family: 'Courier New', monospace; font-size: 14px; fill: rgb(127, 127, 127); fill-opacity: 1; white-space: pre;\">Distrito Federal</text></g><g class=\"xtick\"><text text-anchor=\"start\" x=\"0\" y=\"285\" transform=\"translate(318.5,0) rotate(90,0,278)\" style=\"font-family: 'Courier New', monospace; font-size: 14px; fill: rgb(127, 127, 127); fill-opacity: 1; white-space: pre;\">Rio Grande do Sul</text></g><g class=\"xtick\"><text text-anchor=\"start\" x=\"0\" y=\"285\" transform=\"translate(336.17,0) rotate(90,0,278)\" style=\"font-family: 'Courier New', monospace; font-size: 14px; fill: rgb(127, 127, 127); fill-opacity: 1; white-space: pre;\">Amapá</text></g><g class=\"xtick\"><text text-anchor=\"start\" x=\"0\" y=\"285\" transform=\"translate(353.83,0) rotate(90,0,278)\" style=\"font-family: 'Courier New', monospace; font-size: 14px; fill: rgb(127, 127, 127); fill-opacity: 1; white-space: pre;\">Alagoas</text></g><g class=\"xtick\"><text text-anchor=\"start\" x=\"0\" y=\"285\" transform=\"translate(371.5,0) rotate(90,0,278)\" style=\"font-family: 'Courier New', monospace; font-size: 14px; fill: rgb(127, 127, 127); fill-opacity: 1; white-space: pre;\">Sergipe</text></g><g class=\"xtick\"><text text-anchor=\"start\" x=\"0\" y=\"285\" transform=\"translate(389.17,0) rotate(90,0,278)\" style=\"font-family: 'Courier New', monospace; font-size: 14px; fill: rgb(127, 127, 127); fill-opacity: 1; white-space: pre;\">Rio Grande do Norte</text></g><g class=\"xtick\"><text text-anchor=\"start\" x=\"0\" y=\"285\" transform=\"translate(406.83,0) rotate(90,0,278)\" style=\"font-family: 'Courier New', monospace; font-size: 14px; fill: rgb(127, 127, 127); fill-opacity: 1; white-space: pre;\">Acre</text></g><g class=\"xtick\"><text text-anchor=\"start\" x=\"0\" y=\"285\" transform=\"translate(424.5,0) rotate(90,0,278)\" style=\"font-family: 'Courier New', monospace; font-size: 14px; fill: rgb(127, 127, 127); fill-opacity: 1; white-space: pre;\">Piauí</text></g><g class=\"xtick\"><text text-anchor=\"start\" x=\"0\" y=\"285\" transform=\"translate(442.17,0) rotate(90,0,278)\" style=\"font-family: 'Courier New', monospace; font-size: 14px; fill: rgb(127, 127, 127); fill-opacity: 1; white-space: pre;\">Paraná</text></g><g class=\"xtick\"><text text-anchor=\"start\" x=\"0\" y=\"285\" transform=\"translate(459.83,0) rotate(90,0,278)\" style=\"font-family: 'Courier New', monospace; font-size: 14px; fill: rgb(127, 127, 127); fill-opacity: 1; white-space: pre;\">Rondônia</text></g><g class=\"xtick\"><text text-anchor=\"start\" x=\"0\" y=\"285\" transform=\"translate(477.5,0) rotate(90,0,278)\" style=\"font-family: 'Courier New', monospace; font-size: 14px; fill: rgb(127, 127, 127); fill-opacity: 1; white-space: pre;\">Roraima</text></g><g class=\"xtick\"><text text-anchor=\"start\" x=\"0\" y=\"285\" transform=\"translate(495.17,0) rotate(90,0,278)\" style=\"font-family: 'Courier New', monospace; font-size: 14px; fill: rgb(127, 127, 127); fill-opacity: 1; white-space: pre;\">Goiás</text></g><g class=\"xtick\"><text text-anchor=\"start\" x=\"0\" y=\"285\" transform=\"translate(512.8299999999999,0) rotate(90,0,278)\" style=\"font-family: 'Courier New', monospace; font-size: 14px; fill: rgb(127, 127, 127); fill-opacity: 1; white-space: pre;\">Tocantins</text></g><g class=\"xtick\"><text text-anchor=\"start\" x=\"0\" y=\"285\" transform=\"translate(530.5,0) rotate(90,0,278)\" style=\"font-family: 'Courier New', monospace; font-size: 14px; fill: rgb(127, 127, 127); fill-opacity: 1; white-space: pre;\">Mato Grosso</text></g><g class=\"xtick\"><text text-anchor=\"start\" x=\"0\" y=\"285\" transform=\"translate(548.1700000000001,0) rotate(90,0,278)\" style=\"font-family: 'Courier New', monospace; font-size: 14px; fill: rgb(127, 127, 127); fill-opacity: 1; white-space: pre;\">Mato Grosso do Sul</text></g></g><g class=\"yaxislayer-above\"><g class=\"ytick\"><text text-anchor=\"end\" x=\"79\" y=\"4.8999999999999995\" transform=\"translate(0,270)\" style=\"font-family: 'Courier New', monospace; font-size: 14px; fill: rgb(127, 127, 127); fill-opacity: 1; white-space: pre;\">0</text></g><g class=\"ytick\"><text text-anchor=\"end\" x=\"79\" y=\"4.8999999999999995\" transform=\"translate(0,227.06)\" style=\"font-family: 'Courier New', monospace; font-size: 14px; fill: rgb(127, 127, 127); fill-opacity: 1; white-space: pre;\">20k</text></g><g class=\"ytick\"><text text-anchor=\"end\" x=\"79\" y=\"4.8999999999999995\" transform=\"translate(0,184.12)\" style=\"font-family: 'Courier New', monospace; font-size: 14px; fill: rgb(127, 127, 127); fill-opacity: 1; white-space: pre;\">40k</text></g><g class=\"ytick\"><text text-anchor=\"end\" x=\"79\" y=\"4.8999999999999995\" transform=\"translate(0,141.18)\" style=\"font-family: 'Courier New', monospace; font-size: 14px; fill: rgb(127, 127, 127); fill-opacity: 1; white-space: pre;\">60k</text></g></g><g class=\"overaxes-above\"/></g></g><g class=\"polarlayer\"/><g class=\"ternarylayer\"/><g class=\"geolayer\"/><g class=\"funnelarealayer\"/><g class=\"pielayer\"/><g class=\"treemaplayer\"/><g class=\"sunburstlayer\"/><g class=\"glimages\"/><defs id=\"topdefs-e71fab\"><g class=\"clips\"/><clipPath id=\"legende71fab\"><rect width=\"121\" height=\"53\" x=\"0\" y=\"0\"/></clipPath></defs><g class=\"layer-above\"><g class=\"imagelayer\"/><g class=\"shapelayer\"/></g><g class=\"infolayer\"><g class=\"legend\" pointer-events=\"all\" transform=\"translate(566.54, 100)\"><rect class=\"bg\" shape-rendering=\"crispEdges\" width=\"121\" height=\"53\" x=\"0\" y=\"0\" style=\"stroke: rgb(68, 68, 68); stroke-opacity: 1; fill: rgb(255, 255, 255); fill-opacity: 1; stroke-width: 0px;\"/><g class=\"scrollbox\" transform=\"translate(0, 0)\" clip-path=\"url('#legende71fab')\"><g class=\"groups\"><g class=\"traces\" transform=\"translate(0, 15.6)\" style=\"opacity: 1;\"><text class=\"legendtext user-select-none\" text-anchor=\"start\" x=\"40\" y=\"5.46\" style=\"font-family: 'Courier New', monospace; font-size: 14px; fill: rgb(127, 127, 127); fill-opacity: 1; white-space: pre;\">Nº Óbitos</text><g class=\"layers\" style=\"opacity: 1;\"><g class=\"legendfill\"/><g class=\"legendlines\"/><g class=\"legendsymbols\"><g class=\"legendpoints\"><path class=\"legendundefined\" d=\"M6,6H-6V-6H6Z\" transform=\"translate(20,0)\" style=\"stroke-width: 0.5px; fill: rgb(239, 85, 59); fill-opacity: 1; stroke: rgb(229, 236, 246); stroke-opacity: 1;\"/></g></g></g><rect class=\"legendtoggle\" pointer-events=\"all\" x=\"0\" y=\"-10.6\" width=\"115.609375\" height=\"21.2\" style=\"cursor: pointer; fill: rgb(0, 0, 0); fill-opacity: 0;\"/></g><g class=\"traces\" transform=\"translate(0, 36.8)\" style=\"opacity: 1;\"><text class=\"legendtext user-select-none\" text-anchor=\"start\" x=\"40\" y=\"5.46\" style=\"font-family: 'Courier New', monospace; font-size: 14px; fill: rgb(127, 127, 127); fill-opacity: 1; white-space: pre;\">Nº Casos</text><g class=\"layers\" style=\"opacity: 1;\"><g class=\"legendfill\"/><g class=\"legendlines\"/><g class=\"legendsymbols\"><g class=\"legendpoints\"><path class=\"legendundefined\" d=\"M6,6H-6V-6H6Z\" transform=\"translate(20,0)\" style=\"stroke-width: 0.5px; fill: rgb(99, 110, 250); fill-opacity: 1; stroke: rgb(229, 236, 246); stroke-opacity: 1;\"/></g></g></g><rect class=\"legendtoggle\" pointer-events=\"all\" x=\"0\" y=\"-10.6\" width=\"115.609375\" height=\"21.2\" style=\"cursor: pointer; fill: rgb(0, 0, 0); fill-opacity: 0;\"/></g></g></g><rect class=\"scrollbar\" rx=\"20\" ry=\"3\" width=\"0\" height=\"0\" x=\"0\" y=\"0\" style=\"fill: rgb(128, 139, 164); fill-opacity: 1;\"/></g><g class=\"g-gtitle\"><text class=\"gtitle\" x=\"35\" y=\"50\" text-anchor=\"start\" dy=\"0em\" style=\"font-family: 'Courier New', monospace; font-size: 20px; fill: rgb(127, 127, 127); opacity: 1; font-weight: normal; white-space: pre;\">Casos e Óbitos por Estado</text></g><g class=\"g-xtitle\"/><g class=\"g-ytitle\"/></g></svg>"
          },
          "metadata": {}
        }
      ]
    },
    {
      "cell_type": "markdown",
      "metadata": {
        "id": "yxEQjQ1VEiaq",
        "colab_type": "text"
      },
      "source": [
        "O gráfico de barras é feito de forma a que no topo de cada barra, tenha uma *label* com o nº de óbitos, para uma melhor visualização.\n",
        "\n",
        "Como podemos ver, atualmente os 3 estados com maior nº de infetados são São Paulo, Rio de Janeiro e Ceará. Estes também concentram entre si, como é natural, o maior nº de mortes do Brasil."
      ]
    },
    {
      "cell_type": "markdown",
      "metadata": {
        "id": "LIs38FKqEivb",
        "colab_type": "text"
      },
      "source": [
        "Depois de visualizarmos o efeito do vírus em diferentes aspetos, em seguida calculámos a sua taxa de letalidade nos infetados. Este dado é conseguido através da seguinte expressão:\n",
        "\n",
        "$$\n",
        "\\textrm{Taxa de letalidade} =  \\frac{\\sum \\textrm{óbitos}}{\\sum \\textrm{casos}}\n",
        "$$"
      ]
    },
    {
      "cell_type": "code",
      "metadata": {
        "id": "_MVDKgLAGxLQ",
        "colab_type": "code",
        "outputId": "3f805306-0346-43a5-e696-359233008cb5",
        "colab": {
          "base_uri": "https://localhost:8080/",
          "height": 34
        }
      },
      "source": [
        "# Cálculo da taxa de letalidade\n",
        "rate = sum(data_growth_rate['deaths'])/sum(data_growth_rate['cases'])\n",
        "\n",
        "print(\"Taxa de letalidade no dia\",last_date,\": {0:.2f}%\".format(rate*100))"
      ],
      "execution_count": 100,
      "outputs": [
        {
          "output_type": "stream",
          "name": "stdout",
          "text": "Taxa de letalidade no dia 2020-05-20 : 6.47%\n"
        }
      ]
    },
    {
      "cell_type": "markdown",
      "metadata": {
        "id": "fvAuQkYz6C-n",
        "colab_type": "text"
      },
      "source": [
        "## 4. Modelos"
      ]
    },
    {
      "cell_type": "markdown",
      "metadata": {
        "id": "43oz8NyQ5rLS",
        "colab_type": "text"
      },
      "source": [
        "### Regressão Linear\n",
        "\n",
        "O primeiro modelo a aplicar aos dados será uma simples regressão linear, de modo a podermos analisar qual vai ser o seu comportamento na previsão do nº de casos."
      ]
    },
    {
      "cell_type": "markdown",
      "metadata": {
        "id": "slgIJdhOF1L-",
        "colab_type": "text"
      },
      "source": [
        "Primeiro, é necessário preparar os dados para a regressão. Definiu-se que o *holdout* seria realizar o treino com 90% dos dados (90% desde primeiro dia) e o teste com os 10% dias restantes.\n"
      ]
    },
    {
      "cell_type": "code",
      "metadata": {
        "id": "O_xa-jPf_n0P",
        "colab_type": "code",
        "outputId": "d8f8b00e-89e1-411e-926d-79cff0e2e0da",
        "colab": {
          "base_uri": "https://localhost:8080/",
          "height": 34
        }
      },
      "source": [
        "df1 = data_by_day\n",
        "df1 = df1.reset_index()\n",
        "\n",
        "# Filtrar desde primeiro caso\n",
        "df1 = df1.loc[df1['date'] >= '2020-02-26']\n",
        "\n",
        "# Inserir coluna de dias\n",
        "df1['days'] = range(1, len(df1) + 1)\n",
        "\n",
        "\n",
        "# Treino\n",
        "days_train = df1['days'][:int(0.9*len(df1))]\n",
        "cases_train = df1['cases'][:int(0.9*len(df1))]\n",
        "\n",
        "# Teste\n",
        "days_test = df1['days'][int(0.9*len(df1)):]\n",
        "cases_test =  df1['cases'][int(0.9*len(df1)):]\n",
        "\n",
        "estimate = len(df1) - len(days_test)\n",
        "\n",
        "print(\"Total Dados: %d, Treino: %d dias, Teste: %d dias\" % (len(df1),len(days_train),len(days_test)))"
      ],
      "execution_count": 101,
      "outputs": [
        {
          "output_type": "stream",
          "name": "stdout",
          "text": "Total Dados: 85, Treino: 76 dias, Teste: 9 dias\n"
        }
      ]
    },
    {
      "cell_type": "markdown",
      "metadata": {
        "id": "UnIaFoCgF4hZ",
        "colab_type": "text"
      },
      "source": [
        "Tendo o *holdout* definido, passamos à computação do modelo com os dados de treino, e a respetiva previsão com os dados de teste. \n",
        "\n",
        "É feito um gráfico de modo a podermos visualizar esta estimativa, e no final são calculadas as métricas do Erro Médio Quadrático e do coeficiente R^2, para avaliar o modelo."
      ]
    },
    {
      "cell_type": "code",
      "metadata": {
        "id": "PBYNwLa5FHz6",
        "colab_type": "code",
        "outputId": "91fddfe8-bcaa-40cb-d849-4281581ffd87",
        "colab": {
          "base_uri": "https://localhost:8080/",
          "height": 542
        }
      },
      "source": [
        "# Regressão Linear\n",
        "reg = LinearRegression().fit(days_train.values.reshape(-1,1), cases_train)\n",
        "cases_estimate = reg.predict(days_test.values.reshape(-1,1))\n",
        "\n",
        "# Plot\n",
        "layout = Layout(\n",
        "    font=dict(\n",
        "        family=\"Courier New, monospace\",\n",
        "        size=14,\n",
        "        color=\"#7f7f7f\"\n",
        "    ),\n",
        "    title= \"Previsão Nº Casos\",\n",
        "    xaxis_title=\"Dias desde primeiro caso\",\n",
        "    yaxis_title=\"Nº Casos\",\n",
        "    xaxis = dict(\n",
        "        tickmode = 'linear',\n",
        "        tick0 = 1,\n",
        "        dtick = 3,\n",
        "        range=[0,len(df1)+1]\n",
        "    )\n",
        ")\n",
        "\n",
        "fig = go.Figure(data=[\n",
        "    go.Scatter(x=days_train, y=cases_train, name='Casos de Treino',mode=\"lines+markers\"),\n",
        "    go.Scatter(x=days_test, y=cases_estimate, name = 'Casos Previstos',mode=\"lines+markers\"),\n",
        "    go.Scatter(x=days_test, y=cases_test, name = 'Casos Reais',mode=\"lines+markers\")\n",
        "])\n",
        "\n",
        "fig.add_shape(\n",
        "        dict(\n",
        "            type=\"line\",\n",
        "            x0=estimate + 0.5,\n",
        "            y0=120,\n",
        "            x1=estimate + 0.5,\n",
        "            y1=max(df1['cases']),\n",
        "            line=dict(\n",
        "                width=1.5,\n",
        "                dash= \"dash\"\n",
        "            )\n",
        "))\n",
        "\n",
        "fig['layout'].update(layout)\n",
        "fig.show()"
      ],
      "execution_count": 102,
      "outputs": [
        {
          "output_type": "display_data",
          "data": {
            "image/svg+xml": "<svg class=\"main-svg\" xmlns=\"http://www.w3.org/2000/svg\" xmlns:xlink=\"http://www.w3.org/1999/xlink\" width=\"700\" height=\"450\" viewBox=\"0 0 700 450\"><rect x=\"0\" y=\"0\" width=\"700\" height=\"450\" style=\"fill: rgb(255, 255, 255); fill-opacity: 1;\"/><defs id=\"defs-d697cf\"><g class=\"clips\"><clipPath id=\"clipd697cfxyplot\" class=\"plotclip\"><rect width=\"427\" height=\"270\"/></clipPath><clipPath class=\"axesclip\" id=\"clipd697cfx\"><rect x=\"80\" y=\"0\" width=\"427\" height=\"450\"/></clipPath><clipPath class=\"axesclip\" id=\"clipd697cfy\"><rect x=\"0\" y=\"100\" width=\"700\" height=\"270\"/></clipPath><clipPath class=\"axesclip\" id=\"clipd697cfxy\"><rect x=\"80\" y=\"100\" width=\"427\" height=\"270\"/></clipPath></g><g class=\"gradients\"/></defs><g class=\"bglayer\"><rect class=\"bg\" x=\"80\" y=\"100\" width=\"427\" height=\"270\" style=\"fill: rgb(229, 236, 246); fill-opacity: 1; stroke-width: 0;\"/></g><g class=\"layer-below\"><g class=\"imagelayer\"/><g class=\"shapelayer\"/></g><g class=\"cartesianlayer\"><g class=\"subplot xy\"><g class=\"layer-subplot\"><g class=\"shapelayer\"/><g class=\"imagelayer\"/></g><g class=\"gridlayer\"><g class=\"x\"><path class=\"xgrid crisp\" transform=\"translate(84.97,0)\" d=\"M0,100v270\" style=\"stroke: rgb(255, 255, 255); stroke-opacity: 1; stroke-width: 1px;\"/><path class=\"xgrid crisp\" transform=\"translate(99.86,0)\" d=\"M0,100v270\" style=\"stroke: rgb(255, 255, 255); stroke-opacity: 1; stroke-width: 1px;\"/><path class=\"xgrid crisp\" transform=\"translate(114.75999999999999,0)\" d=\"M0,100v270\" style=\"stroke: rgb(255, 255, 255); stroke-opacity: 1; stroke-width: 1px;\"/><path class=\"xgrid crisp\" transform=\"translate(129.65,0)\" d=\"M0,100v270\" style=\"stroke: rgb(255, 255, 255); stroke-opacity: 1; stroke-width: 1px;\"/><path class=\"xgrid crisp\" transform=\"translate(144.55,0)\" d=\"M0,100v270\" style=\"stroke: rgb(255, 255, 255); stroke-opacity: 1; stroke-width: 1px;\"/><path class=\"xgrid crisp\" transform=\"translate(159.44,0)\" d=\"M0,100v270\" style=\"stroke: rgb(255, 255, 255); stroke-opacity: 1; stroke-width: 1px;\"/><path class=\"xgrid crisp\" transform=\"translate(174.34,0)\" d=\"M0,100v270\" style=\"stroke: rgb(255, 255, 255); stroke-opacity: 1; stroke-width: 1px;\"/><path class=\"xgrid crisp\" transform=\"translate(189.23000000000002,0)\" d=\"M0,100v270\" style=\"stroke: rgb(255, 255, 255); stroke-opacity: 1; stroke-width: 1px;\"/><path class=\"xgrid crisp\" transform=\"translate(204.13,0)\" d=\"M0,100v270\" style=\"stroke: rgb(255, 255, 255); stroke-opacity: 1; stroke-width: 1px;\"/><path class=\"xgrid crisp\" transform=\"translate(219.02,0)\" d=\"M0,100v270\" style=\"stroke: rgb(255, 255, 255); stroke-opacity: 1; stroke-width: 1px;\"/><path class=\"xgrid crisp\" transform=\"translate(233.92,0)\" d=\"M0,100v270\" style=\"stroke: rgb(255, 255, 255); stroke-opacity: 1; stroke-width: 1px;\"/><path class=\"xgrid crisp\" transform=\"translate(248.81,0)\" d=\"M0,100v270\" style=\"stroke: rgb(255, 255, 255); stroke-opacity: 1; stroke-width: 1px;\"/><path class=\"xgrid crisp\" transform=\"translate(263.71000000000004,0)\" d=\"M0,100v270\" style=\"stroke: rgb(255, 255, 255); stroke-opacity: 1; stroke-width: 1px;\"/><path class=\"xgrid crisp\" transform=\"translate(278.6,0)\" d=\"M0,100v270\" style=\"stroke: rgb(255, 255, 255); stroke-opacity: 1; stroke-width: 1px;\"/><path class=\"xgrid crisp\" transform=\"translate(293.5,0)\" d=\"M0,100v270\" style=\"stroke: rgb(255, 255, 255); stroke-opacity: 1; stroke-width: 1px;\"/><path class=\"xgrid crisp\" transform=\"translate(308.4,0)\" d=\"M0,100v270\" style=\"stroke: rgb(255, 255, 255); stroke-opacity: 1; stroke-width: 1px;\"/><path class=\"xgrid crisp\" transform=\"translate(323.28999999999996,0)\" d=\"M0,100v270\" style=\"stroke: rgb(255, 255, 255); stroke-opacity: 1; stroke-width: 1px;\"/><path class=\"xgrid crisp\" transform=\"translate(338.19,0)\" d=\"M0,100v270\" style=\"stroke: rgb(255, 255, 255); stroke-opacity: 1; stroke-width: 1px;\"/><path class=\"xgrid crisp\" transform=\"translate(353.08,0)\" d=\"M0,100v270\" style=\"stroke: rgb(255, 255, 255); stroke-opacity: 1; stroke-width: 1px;\"/><path class=\"xgrid crisp\" transform=\"translate(367.98,0)\" d=\"M0,100v270\" style=\"stroke: rgb(255, 255, 255); stroke-opacity: 1; stroke-width: 1px;\"/><path class=\"xgrid crisp\" transform=\"translate(382.87,0)\" d=\"M0,100v270\" style=\"stroke: rgb(255, 255, 255); stroke-opacity: 1; stroke-width: 1px;\"/><path class=\"xgrid crisp\" transform=\"translate(397.77,0)\" d=\"M0,100v270\" style=\"stroke: rgb(255, 255, 255); stroke-opacity: 1; stroke-width: 1px;\"/><path class=\"xgrid crisp\" transform=\"translate(412.66,0)\" d=\"M0,100v270\" style=\"stroke: rgb(255, 255, 255); stroke-opacity: 1; stroke-width: 1px;\"/><path class=\"xgrid crisp\" transform=\"translate(427.56,0)\" d=\"M0,100v270\" style=\"stroke: rgb(255, 255, 255); stroke-opacity: 1; stroke-width: 1px;\"/><path class=\"xgrid crisp\" transform=\"translate(442.45,0)\" d=\"M0,100v270\" style=\"stroke: rgb(255, 255, 255); stroke-opacity: 1; stroke-width: 1px;\"/><path class=\"xgrid crisp\" transform=\"translate(457.35,0)\" d=\"M0,100v270\" style=\"stroke: rgb(255, 255, 255); stroke-opacity: 1; stroke-width: 1px;\"/><path class=\"xgrid crisp\" transform=\"translate(472.24,0)\" d=\"M0,100v270\" style=\"stroke: rgb(255, 255, 255); stroke-opacity: 1; stroke-width: 1px;\"/><path class=\"xgrid crisp\" transform=\"translate(487.14,0)\" d=\"M0,100v270\" style=\"stroke: rgb(255, 255, 255); stroke-opacity: 1; stroke-width: 1px;\"/><path class=\"xgrid crisp\" transform=\"translate(502.03,0)\" d=\"M0,100v270\" style=\"stroke: rgb(255, 255, 255); stroke-opacity: 1; stroke-width: 1px;\"/></g><g class=\"y\"><path class=\"ygrid crisp\" transform=\"translate(0,312.37)\" d=\"M80,0h427\" style=\"stroke: rgb(255, 255, 255); stroke-opacity: 1; stroke-width: 1px;\"/><path class=\"ygrid crisp\" transform=\"translate(0,271.98)\" d=\"M80,0h427\" style=\"stroke: rgb(255, 255, 255); stroke-opacity: 1; stroke-width: 1px;\"/><path class=\"ygrid crisp\" transform=\"translate(0,231.6)\" d=\"M80,0h427\" style=\"stroke: rgb(255, 255, 255); stroke-opacity: 1; stroke-width: 1px;\"/><path class=\"ygrid crisp\" transform=\"translate(0,191.22)\" d=\"M80,0h427\" style=\"stroke: rgb(255, 255, 255); stroke-opacity: 1; stroke-width: 1px;\"/><path class=\"ygrid crisp\" transform=\"translate(0,150.82999999999998)\" d=\"M80,0h427\" style=\"stroke: rgb(255, 255, 255); stroke-opacity: 1; stroke-width: 1px;\"/><path class=\"ygrid crisp\" transform=\"translate(0,110.45)\" d=\"M80,0h427\" style=\"stroke: rgb(255, 255, 255); stroke-opacity: 1; stroke-width: 1px;\"/></g></g><g class=\"zerolinelayer\"><path class=\"xzl zl crisp\" transform=\"translate(80,0)\" d=\"M0,100v270\" style=\"stroke: rgb(255, 255, 255); stroke-opacity: 1; stroke-width: 2px;\"/><path class=\"yzl zl crisp\" transform=\"translate(0,352.75)\" d=\"M80,0h427\" style=\"stroke: rgb(255, 255, 255); stroke-opacity: 1; stroke-width: 2px;\"/></g><path class=\"xlines-below\"/><path class=\"ylines-below\"/><g class=\"overlines-below\"/><g class=\"xaxislayer-below\"/><g class=\"yaxislayer-below\"/><g class=\"overaxes-below\"/><g class=\"plot\" transform=\"translate(80, 100)\" clip-path=\"url('#clipd697cfxyplot')\"><g class=\"scatterlayer mlayer\"><g class=\"trace scatter trace726b83\" style=\"stroke-miterlimit: 2; opacity: 1;\"><g class=\"fills\"/><g class=\"errorbars\"/><g class=\"lines\"><path class=\"js-line\" d=\"M4.97,252.75L119.16,252.02L124.13,251.84L173.78,248.13L178.74,247.23L208.53,241.67L213.5,239.89L223.43,236.89L228.4,236.01L243.29,232.35L248.26,229.88L253.22,228.18L258.19,225.55L268.12,221.53L273.08,219.97L283.01,215.79L287.98,212.78L292.94,209.95L297.91,205.49L302.87,202.77L307.84,199.04L317.77,189.62L322.73,183.79L332.66,174.89L337.63,171.06L347.56,160.1L352.52,151.62L367.42,126.8L372.38,121.34L377.35,116.79\" style=\"vector-effect: non-scaling-stroke; fill: none; stroke: rgb(99, 110, 250); stroke-opacity: 1; stroke-width: 2px; opacity: 1;\"/></g><g class=\"points\"><path class=\"point\" transform=\"translate(4.97,252.75)\" d=\"M3,0A3,3 0 1,1 0,-3A3,3 0 0,1 3,0Z\" style=\"opacity: 1; stroke-width: 0px; fill: rgb(99, 110, 250); fill-opacity: 1;\"/><path class=\"point\" transform=\"translate(9.93,252.75)\" d=\"M3,0A3,3 0 1,1 0,-3A3,3 0 0,1 3,0Z\" style=\"opacity: 1; stroke-width: 0px; fill: rgb(99, 110, 250); fill-opacity: 1;\"/><path class=\"point\" transform=\"translate(14.9,252.75)\" d=\"M3,0A3,3 0 1,1 0,-3A3,3 0 0,1 3,0Z\" style=\"opacity: 1; stroke-width: 0px; fill: rgb(99, 110, 250); fill-opacity: 1;\"/><path class=\"point\" transform=\"translate(19.86,252.75)\" d=\"M3,0A3,3 0 1,1 0,-3A3,3 0 0,1 3,0Z\" style=\"opacity: 1; stroke-width: 0px; fill: rgb(99, 110, 250); fill-opacity: 1;\"/><path class=\"point\" transform=\"translate(24.83,252.75)\" d=\"M3,0A3,3 0 1,1 0,-3A3,3 0 0,1 3,0Z\" style=\"opacity: 1; stroke-width: 0px; fill: rgb(99, 110, 250); fill-opacity: 1;\"/><path class=\"point\" transform=\"translate(29.79,252.75)\" d=\"M3,0A3,3 0 1,1 0,-3A3,3 0 0,1 3,0Z\" style=\"opacity: 1; stroke-width: 0px; fill: rgb(99, 110, 250); fill-opacity: 1;\"/><path class=\"point\" transform=\"translate(34.76,252.75)\" d=\"M3,0A3,3 0 1,1 0,-3A3,3 0 0,1 3,0Z\" style=\"opacity: 1; stroke-width: 0px; fill: rgb(99, 110, 250); fill-opacity: 1;\"/><path class=\"point\" transform=\"translate(39.72,252.75)\" d=\"M3,0A3,3 0 1,1 0,-3A3,3 0 0,1 3,0Z\" style=\"opacity: 1; stroke-width: 0px; fill: rgb(99, 110, 250); fill-opacity: 1;\"/><path class=\"point\" transform=\"translate(44.69,252.75)\" d=\"M3,0A3,3 0 1,1 0,-3A3,3 0 0,1 3,0Z\" style=\"opacity: 1; stroke-width: 0px; fill: rgb(99, 110, 250); fill-opacity: 1;\"/><path class=\"point\" transform=\"translate(49.65,252.74)\" d=\"M3,0A3,3 0 1,1 0,-3A3,3 0 0,1 3,0Z\" style=\"opacity: 1; stroke-width: 0px; fill: rgb(99, 110, 250); fill-opacity: 1;\"/><path class=\"point\" transform=\"translate(54.62,252.74)\" d=\"M3,0A3,3 0 1,1 0,-3A3,3 0 0,1 3,0Z\" style=\"opacity: 1; stroke-width: 0px; fill: rgb(99, 110, 250); fill-opacity: 1;\"/><path class=\"point\" transform=\"translate(59.58,252.73)\" d=\"M3,0A3,3 0 1,1 0,-3A3,3 0 0,1 3,0Z\" style=\"opacity: 1; stroke-width: 0px; fill: rgb(99, 110, 250); fill-opacity: 1;\"/><path class=\"point\" transform=\"translate(64.55,252.73)\" d=\"M3,0A3,3 0 1,1 0,-3A3,3 0 0,1 3,0Z\" style=\"opacity: 1; stroke-width: 0px; fill: rgb(99, 110, 250); fill-opacity: 1;\"/><path class=\"point\" transform=\"translate(69.51,252.72)\" d=\"M3,0A3,3 0 1,1 0,-3A3,3 0 0,1 3,0Z\" style=\"opacity: 1; stroke-width: 0px; fill: rgb(99, 110, 250); fill-opacity: 1;\"/><path class=\"point\" transform=\"translate(74.48,252.71)\" d=\"M3,0A3,3 0 1,1 0,-3A3,3 0 0,1 3,0Z\" style=\"opacity: 1; stroke-width: 0px; fill: rgb(99, 110, 250); fill-opacity: 1;\"/><path class=\"point\" transform=\"translate(79.44,252.69)\" d=\"M3,0A3,3 0 1,1 0,-3A3,3 0 0,1 3,0Z\" style=\"opacity: 1; stroke-width: 0px; fill: rgb(99, 110, 250); fill-opacity: 1;\"/><path class=\"point\" transform=\"translate(84.41,252.67)\" d=\"M3,0A3,3 0 1,1 0,-3A3,3 0 0,1 3,0Z\" style=\"opacity: 1; stroke-width: 0px; fill: rgb(99, 110, 250); fill-opacity: 1;\"/><path class=\"point\" transform=\"translate(89.37,252.65)\" d=\"M3,0A3,3 0 1,1 0,-3A3,3 0 0,1 3,0Z\" style=\"opacity: 1; stroke-width: 0px; fill: rgb(99, 110, 250); fill-opacity: 1;\"/><path class=\"point\" transform=\"translate(94.34,252.59)\" d=\"M3,0A3,3 0 1,1 0,-3A3,3 0 0,1 3,0Z\" style=\"opacity: 1; stroke-width: 0px; fill: rgb(99, 110, 250); fill-opacity: 1;\"/><path class=\"point\" transform=\"translate(99.3,252.56)\" d=\"M3,0A3,3 0 1,1 0,-3A3,3 0 0,1 3,0Z\" style=\"opacity: 1; stroke-width: 0px; fill: rgb(99, 110, 250); fill-opacity: 1;\"/><path class=\"point\" transform=\"translate(104.27,252.52)\" d=\"M3,0A3,3 0 1,1 0,-3A3,3 0 0,1 3,0Z\" style=\"opacity: 1; stroke-width: 0px; fill: rgb(99, 110, 250); fill-opacity: 1;\"/><path class=\"point\" transform=\"translate(109.23,252.41)\" d=\"M3,0A3,3 0 1,1 0,-3A3,3 0 0,1 3,0Z\" style=\"opacity: 1; stroke-width: 0px; fill: rgb(99, 110, 250); fill-opacity: 1;\"/><path class=\"point\" transform=\"translate(114.2,252.25)\" d=\"M3,0A3,3 0 1,1 0,-3A3,3 0 0,1 3,0Z\" style=\"opacity: 1; stroke-width: 0px; fill: rgb(99, 110, 250); fill-opacity: 1;\"/><path class=\"point\" transform=\"translate(119.16,252.02)\" d=\"M3,0A3,3 0 1,1 0,-3A3,3 0 0,1 3,0Z\" style=\"opacity: 1; stroke-width: 0px; fill: rgb(99, 110, 250); fill-opacity: 1;\"/><path class=\"point\" transform=\"translate(124.13,251.84)\" d=\"M3,0A3,3 0 1,1 0,-3A3,3 0 0,1 3,0Z\" style=\"opacity: 1; stroke-width: 0px; fill: rgb(99, 110, 250); fill-opacity: 1;\"/><path class=\"point\" transform=\"translate(129.09,251.5)\" d=\"M3,0A3,3 0 1,1 0,-3A3,3 0 0,1 3,0Z\" style=\"opacity: 1; stroke-width: 0px; fill: rgb(99, 110, 250); fill-opacity: 1;\"/><path class=\"point\" transform=\"translate(134.06,251.22)\" d=\"M3,0A3,3 0 1,1 0,-3A3,3 0 0,1 3,0Z\" style=\"opacity: 1; stroke-width: 0px; fill: rgb(99, 110, 250); fill-opacity: 1;\"/><path class=\"point\" transform=\"translate(139.02,250.97)\" d=\"M3,0A3,3 0 1,1 0,-3A3,3 0 0,1 3,0Z\" style=\"opacity: 1; stroke-width: 0px; fill: rgb(99, 110, 250); fill-opacity: 1;\"/><path class=\"point\" transform=\"translate(143.99,250.79)\" d=\"M3,0A3,3 0 1,1 0,-3A3,3 0 0,1 3,0Z\" style=\"opacity: 1; stroke-width: 0px; fill: rgb(99, 110, 250); fill-opacity: 1;\"/><path class=\"point\" transform=\"translate(148.95,250.4)\" d=\"M3,0A3,3 0 1,1 0,-3A3,3 0 0,1 3,0Z\" style=\"opacity: 1; stroke-width: 0px; fill: rgb(99, 110, 250); fill-opacity: 1;\"/><path class=\"point\" transform=\"translate(153.92,249.99)\" d=\"M3,0A3,3 0 1,1 0,-3A3,3 0 0,1 3,0Z\" style=\"opacity: 1; stroke-width: 0px; fill: rgb(99, 110, 250); fill-opacity: 1;\"/><path class=\"point\" transform=\"translate(158.88,249.6)\" d=\"M3,0A3,3 0 1,1 0,-3A3,3 0 0,1 3,0Z\" style=\"opacity: 1; stroke-width: 0px; fill: rgb(99, 110, 250); fill-opacity: 1;\"/><path class=\"point\" transform=\"translate(163.85,249.31)\" d=\"M3,0A3,3 0 1,1 0,-3A3,3 0 0,1 3,0Z\" style=\"opacity: 1; stroke-width: 0px; fill: rgb(99, 110, 250); fill-opacity: 1;\"/><path class=\"point\" transform=\"translate(168.81,249.05)\" d=\"M3,0A3,3 0 1,1 0,-3A3,3 0 0,1 3,0Z\" style=\"opacity: 1; stroke-width: 0px; fill: rgb(99, 110, 250); fill-opacity: 1;\"/><path class=\"point\" transform=\"translate(173.78,248.13)\" d=\"M3,0A3,3 0 1,1 0,-3A3,3 0 0,1 3,0Z\" style=\"opacity: 1; stroke-width: 0px; fill: rgb(99, 110, 250); fill-opacity: 1;\"/><path class=\"point\" transform=\"translate(178.74,247.23)\" d=\"M3,0A3,3 0 1,1 0,-3A3,3 0 0,1 3,0Z\" style=\"opacity: 1; stroke-width: 0px; fill: rgb(99, 110, 250); fill-opacity: 1;\"/><path class=\"point\" transform=\"translate(183.71,246.36)\" d=\"M3,0A3,3 0 1,1 0,-3A3,3 0 0,1 3,0Z\" style=\"opacity: 1; stroke-width: 0px; fill: rgb(99, 110, 250); fill-opacity: 1;\"/><path class=\"point\" transform=\"translate(188.67,245.44)\" d=\"M3,0A3,3 0 1,1 0,-3A3,3 0 0,1 3,0Z\" style=\"opacity: 1; stroke-width: 0px; fill: rgb(99, 110, 250); fill-opacity: 1;\"/><path class=\"point\" transform=\"translate(193.64,244.45)\" d=\"M3,0A3,3 0 1,1 0,-3A3,3 0 0,1 3,0Z\" style=\"opacity: 1; stroke-width: 0px; fill: rgb(99, 110, 250); fill-opacity: 1;\"/><path class=\"point\" transform=\"translate(198.6,243.76)\" d=\"M3,0A3,3 0 1,1 0,-3A3,3 0 0,1 3,0Z\" style=\"opacity: 1; stroke-width: 0px; fill: rgb(99, 110, 250); fill-opacity: 1;\"/><path class=\"point\" transform=\"translate(203.57,243.01)\" d=\"M3,0A3,3 0 1,1 0,-3A3,3 0 0,1 3,0Z\" style=\"opacity: 1; stroke-width: 0px; fill: rgb(99, 110, 250); fill-opacity: 1;\"/><path class=\"point\" transform=\"translate(208.53,241.67)\" d=\"M3,0A3,3 0 1,1 0,-3A3,3 0 0,1 3,0Z\" style=\"opacity: 1; stroke-width: 0px; fill: rgb(99, 110, 250); fill-opacity: 1;\"/><path class=\"point\" transform=\"translate(213.5,239.89)\" d=\"M3,0A3,3 0 1,1 0,-3A3,3 0 0,1 3,0Z\" style=\"opacity: 1; stroke-width: 0px; fill: rgb(99, 110, 250); fill-opacity: 1;\"/><path class=\"point\" transform=\"translate(218.47,238.33)\" d=\"M3,0A3,3 0 1,1 0,-3A3,3 0 0,1 3,0Z\" style=\"opacity: 1; stroke-width: 0px; fill: rgb(99, 110, 250); fill-opacity: 1;\"/><path class=\"point\" transform=\"translate(223.43,236.89)\" d=\"M3,0A3,3 0 1,1 0,-3A3,3 0 0,1 3,0Z\" style=\"opacity: 1; stroke-width: 0px; fill: rgb(99, 110, 250); fill-opacity: 1;\"/><path class=\"point\" transform=\"translate(228.4,236.01)\" d=\"M3,0A3,3 0 1,1 0,-3A3,3 0 0,1 3,0Z\" style=\"opacity: 1; stroke-width: 0px; fill: rgb(99, 110, 250); fill-opacity: 1;\"/><path class=\"point\" transform=\"translate(233.36,234.85)\" d=\"M3,0A3,3 0 1,1 0,-3A3,3 0 0,1 3,0Z\" style=\"opacity: 1; stroke-width: 0px; fill: rgb(99, 110, 250); fill-opacity: 1;\"/><path class=\"point\" transform=\"translate(238.33,233.83)\" d=\"M3,0A3,3 0 1,1 0,-3A3,3 0 0,1 3,0Z\" style=\"opacity: 1; stroke-width: 0px; fill: rgb(99, 110, 250); fill-opacity: 1;\"/><path class=\"point\" transform=\"translate(243.29,232.35)\" d=\"M3,0A3,3 0 1,1 0,-3A3,3 0 0,1 3,0Z\" style=\"opacity: 1; stroke-width: 0px; fill: rgb(99, 110, 250); fill-opacity: 1;\"/><path class=\"point\" transform=\"translate(248.26,229.88)\" d=\"M3,0A3,3 0 1,1 0,-3A3,3 0 0,1 3,0Z\" style=\"opacity: 1; stroke-width: 0px; fill: rgb(99, 110, 250); fill-opacity: 1;\"/><path class=\"point\" transform=\"translate(253.22,228.18)\" d=\"M3,0A3,3 0 1,1 0,-3A3,3 0 0,1 3,0Z\" style=\"opacity: 1; stroke-width: 0px; fill: rgb(99, 110, 250); fill-opacity: 1;\"/><path class=\"point\" transform=\"translate(258.19,225.55)\" d=\"M3,0A3,3 0 1,1 0,-3A3,3 0 0,1 3,0Z\" style=\"opacity: 1; stroke-width: 0px; fill: rgb(99, 110, 250); fill-opacity: 1;\"/><path class=\"point\" transform=\"translate(263.15,223.19)\" d=\"M3,0A3,3 0 1,1 0,-3A3,3 0 0,1 3,0Z\" style=\"opacity: 1; stroke-width: 0px; fill: rgb(99, 110, 250); fill-opacity: 1;\"/><path class=\"point\" transform=\"translate(268.12,221.53)\" d=\"M3,0A3,3 0 1,1 0,-3A3,3 0 0,1 3,0Z\" style=\"opacity: 1; stroke-width: 0px; fill: rgb(99, 110, 250); fill-opacity: 1;\"/><path class=\"point\" transform=\"translate(273.08,219.97)\" d=\"M3,0A3,3 0 1,1 0,-3A3,3 0 0,1 3,0Z\" style=\"opacity: 1; stroke-width: 0px; fill: rgb(99, 110, 250); fill-opacity: 1;\"/><path class=\"point\" transform=\"translate(278.05,217.96)\" d=\"M3,0A3,3 0 1,1 0,-3A3,3 0 0,1 3,0Z\" style=\"opacity: 1; stroke-width: 0px; fill: rgb(99, 110, 250); fill-opacity: 1;\"/><path class=\"point\" transform=\"translate(283.01,215.79)\" d=\"M3,0A3,3 0 1,1 0,-3A3,3 0 0,1 3,0Z\" style=\"opacity: 1; stroke-width: 0px; fill: rgb(99, 110, 250); fill-opacity: 1;\"/><path class=\"point\" transform=\"translate(287.98,212.78)\" d=\"M3,0A3,3 0 1,1 0,-3A3,3 0 0,1 3,0Z\" style=\"opacity: 1; stroke-width: 0px; fill: rgb(99, 110, 250); fill-opacity: 1;\"/><path class=\"point\" transform=\"translate(292.94,209.95)\" d=\"M3,0A3,3 0 1,1 0,-3A3,3 0 0,1 3,0Z\" style=\"opacity: 1; stroke-width: 0px; fill: rgb(99, 110, 250); fill-opacity: 1;\"/><path class=\"point\" transform=\"translate(297.91,205.49)\" d=\"M3,0A3,3 0 1,1 0,-3A3,3 0 0,1 3,0Z\" style=\"opacity: 1; stroke-width: 0px; fill: rgb(99, 110, 250); fill-opacity: 1;\"/><path class=\"point\" transform=\"translate(302.87,202.77)\" d=\"M3,0A3,3 0 1,1 0,-3A3,3 0 0,1 3,0Z\" style=\"opacity: 1; stroke-width: 0px; fill: rgb(99, 110, 250); fill-opacity: 1;\"/><path class=\"point\" transform=\"translate(307.84,199.04)\" d=\"M3,0A3,3 0 1,1 0,-3A3,3 0 0,1 3,0Z\" style=\"opacity: 1; stroke-width: 0px; fill: rgb(99, 110, 250); fill-opacity: 1;\"/><path class=\"point\" transform=\"translate(312.8,194.69)\" d=\"M3,0A3,3 0 1,1 0,-3A3,3 0 0,1 3,0Z\" style=\"opacity: 1; stroke-width: 0px; fill: rgb(99, 110, 250); fill-opacity: 1;\"/><path class=\"point\" transform=\"translate(317.77,189.62)\" d=\"M3,0A3,3 0 1,1 0,-3A3,3 0 0,1 3,0Z\" style=\"opacity: 1; stroke-width: 0px; fill: rgb(99, 110, 250); fill-opacity: 1;\"/><path class=\"point\" transform=\"translate(322.73,183.79)\" d=\"M3,0A3,3 0 1,1 0,-3A3,3 0 0,1 3,0Z\" style=\"opacity: 1; stroke-width: 0px; fill: rgb(99, 110, 250); fill-opacity: 1;\"/><path class=\"point\" transform=\"translate(327.7,179.01)\" d=\"M3,0A3,3 0 1,1 0,-3A3,3 0 0,1 3,0Z\" style=\"opacity: 1; stroke-width: 0px; fill: rgb(99, 110, 250); fill-opacity: 1;\"/><path class=\"point\" transform=\"translate(332.66,174.89)\" d=\"M3,0A3,3 0 1,1 0,-3A3,3 0 0,1 3,0Z\" style=\"opacity: 1; stroke-width: 0px; fill: rgb(99, 110, 250); fill-opacity: 1;\"/><path class=\"point\" transform=\"translate(337.63,171.06)\" d=\"M3,0A3,3 0 1,1 0,-3A3,3 0 0,1 3,0Z\" style=\"opacity: 1; stroke-width: 0px; fill: rgb(99, 110, 250); fill-opacity: 1;\"/><path class=\"point\" transform=\"translate(342.59,165.7)\" d=\"M3,0A3,3 0 1,1 0,-3A3,3 0 0,1 3,0Z\" style=\"opacity: 1; stroke-width: 0px; fill: rgb(99, 110, 250); fill-opacity: 1;\"/><path class=\"point\" transform=\"translate(347.56,160.1)\" d=\"M3,0A3,3 0 1,1 0,-3A3,3 0 0,1 3,0Z\" style=\"opacity: 1; stroke-width: 0px; fill: rgb(99, 110, 250); fill-opacity: 1;\"/><path class=\"point\" transform=\"translate(352.52,151.62)\" d=\"M3,0A3,3 0 1,1 0,-3A3,3 0 0,1 3,0Z\" style=\"opacity: 1; stroke-width: 0px; fill: rgb(99, 110, 250); fill-opacity: 1;\"/><path class=\"point\" transform=\"translate(357.49,143.63)\" d=\"M3,0A3,3 0 1,1 0,-3A3,3 0 0,1 3,0Z\" style=\"opacity: 1; stroke-width: 0px; fill: rgb(99, 110, 250); fill-opacity: 1;\"/><path class=\"point\" transform=\"translate(362.45,135.37)\" d=\"M3,0A3,3 0 1,1 0,-3A3,3 0 0,1 3,0Z\" style=\"opacity: 1; stroke-width: 0px; fill: rgb(99, 110, 250); fill-opacity: 1;\"/><path class=\"point\" transform=\"translate(367.42,126.8)\" d=\"M3,0A3,3 0 1,1 0,-3A3,3 0 0,1 3,0Z\" style=\"opacity: 1; stroke-width: 0px; fill: rgb(99, 110, 250); fill-opacity: 1;\"/><path class=\"point\" transform=\"translate(372.38,121.34)\" d=\"M3,0A3,3 0 1,1 0,-3A3,3 0 0,1 3,0Z\" style=\"opacity: 1; stroke-width: 0px; fill: rgb(99, 110, 250); fill-opacity: 1;\"/><path class=\"point\" transform=\"translate(377.35,116.79)\" d=\"M3,0A3,3 0 1,1 0,-3A3,3 0 0,1 3,0Z\" style=\"opacity: 1; stroke-width: 0px; fill: rgb(99, 110, 250); fill-opacity: 1;\"/></g><g class=\"text\"/></g><g class=\"trace scatter tracec34535\" style=\"stroke-miterlimit: 2; opacity: 1;\"><g class=\"fills\"/><g class=\"errorbars\"/><g class=\"lines\"><path class=\"js-line\" d=\"M382.31,171.76L422.03,160.4\" style=\"vector-effect: non-scaling-stroke; fill: none; stroke: rgb(239, 85, 59); stroke-opacity: 1; stroke-width: 2px; opacity: 1;\"/></g><g class=\"points\"><path class=\"point\" transform=\"translate(382.31,171.76)\" d=\"M3,0A3,3 0 1,1 0,-3A3,3 0 0,1 3,0Z\" style=\"opacity: 1; stroke-width: 0px; fill: rgb(239, 85, 59); fill-opacity: 1;\"/><path class=\"point\" transform=\"translate(387.28,170.34)\" d=\"M3,0A3,3 0 1,1 0,-3A3,3 0 0,1 3,0Z\" style=\"opacity: 1; stroke-width: 0px; fill: rgb(239, 85, 59); fill-opacity: 1;\"/><path class=\"point\" transform=\"translate(392.24,168.92)\" d=\"M3,0A3,3 0 1,1 0,-3A3,3 0 0,1 3,0Z\" style=\"opacity: 1; stroke-width: 0px; fill: rgb(239, 85, 59); fill-opacity: 1;\"/><path class=\"point\" transform=\"translate(397.21,167.5)\" d=\"M3,0A3,3 0 1,1 0,-3A3,3 0 0,1 3,0Z\" style=\"opacity: 1; stroke-width: 0px; fill: rgb(239, 85, 59); fill-opacity: 1;\"/><path class=\"point\" transform=\"translate(402.17,166.08)\" d=\"M3,0A3,3 0 1,1 0,-3A3,3 0 0,1 3,0Z\" style=\"opacity: 1; stroke-width: 0px; fill: rgb(239, 85, 59); fill-opacity: 1;\"/><path class=\"point\" transform=\"translate(407.14,164.66)\" d=\"M3,0A3,3 0 1,1 0,-3A3,3 0 0,1 3,0Z\" style=\"opacity: 1; stroke-width: 0px; fill: rgb(239, 85, 59); fill-opacity: 1;\"/><path class=\"point\" transform=\"translate(412.1,163.24)\" d=\"M3,0A3,3 0 1,1 0,-3A3,3 0 0,1 3,0Z\" style=\"opacity: 1; stroke-width: 0px; fill: rgb(239, 85, 59); fill-opacity: 1;\"/><path class=\"point\" transform=\"translate(417.07,161.82)\" d=\"M3,0A3,3 0 1,1 0,-3A3,3 0 0,1 3,0Z\" style=\"opacity: 1; stroke-width: 0px; fill: rgb(239, 85, 59); fill-opacity: 1;\"/><path class=\"point\" transform=\"translate(422.03,160.4)\" d=\"M3,0A3,3 0 1,1 0,-3A3,3 0 0,1 3,0Z\" style=\"opacity: 1; stroke-width: 0px; fill: rgb(239, 85, 59); fill-opacity: 1;\"/></g><g class=\"text\"/></g><g class=\"trace scatter trace4b37ed\" style=\"stroke-miterlimit: 2; opacity: 1;\"><g class=\"fills\"/><g class=\"errorbars\"/><g class=\"lines\"><path class=\"js-line\" d=\"M382.31,109.32L387.28,100.12L392.24,88.86L402.17,64.45L407.14,58.04L412.1,47.42L417.07,33.36L422.03,17.25\" style=\"vector-effect: non-scaling-stroke; fill: none; stroke: rgb(0, 204, 150); stroke-opacity: 1; stroke-width: 2px; opacity: 1;\"/></g><g class=\"points\"><path class=\"point\" transform=\"translate(382.31,109.32)\" d=\"M3,0A3,3 0 1,1 0,-3A3,3 0 0,1 3,0Z\" style=\"opacity: 1; stroke-width: 0px; fill: rgb(0, 204, 150); fill-opacity: 1;\"/><path class=\"point\" transform=\"translate(387.28,100.12)\" d=\"M3,0A3,3 0 1,1 0,-3A3,3 0 0,1 3,0Z\" style=\"opacity: 1; stroke-width: 0px; fill: rgb(0, 204, 150); fill-opacity: 1;\"/><path class=\"point\" transform=\"translate(392.24,88.86)\" d=\"M3,0A3,3 0 1,1 0,-3A3,3 0 0,1 3,0Z\" style=\"opacity: 1; stroke-width: 0px; fill: rgb(0, 204, 150); fill-opacity: 1;\"/><path class=\"point\" transform=\"translate(397.21,76.5)\" d=\"M3,0A3,3 0 1,1 0,-3A3,3 0 0,1 3,0Z\" style=\"opacity: 1; stroke-width: 0px; fill: rgb(0, 204, 150); fill-opacity: 1;\"/><path class=\"point\" transform=\"translate(402.17,64.45)\" d=\"M3,0A3,3 0 1,1 0,-3A3,3 0 0,1 3,0Z\" style=\"opacity: 1; stroke-width: 0px; fill: rgb(0, 204, 150); fill-opacity: 1;\"/><path class=\"point\" transform=\"translate(407.14,58.04)\" d=\"M3,0A3,3 0 1,1 0,-3A3,3 0 0,1 3,0Z\" style=\"opacity: 1; stroke-width: 0px; fill: rgb(0, 204, 150); fill-opacity: 1;\"/><path class=\"point\" transform=\"translate(412.1,47.42)\" d=\"M3,0A3,3 0 1,1 0,-3A3,3 0 0,1 3,0Z\" style=\"opacity: 1; stroke-width: 0px; fill: rgb(0, 204, 150); fill-opacity: 1;\"/><path class=\"point\" transform=\"translate(417.07,33.36)\" d=\"M3,0A3,3 0 1,1 0,-3A3,3 0 0,1 3,0Z\" style=\"opacity: 1; stroke-width: 0px; fill: rgb(0, 204, 150); fill-opacity: 1;\"/><path class=\"point\" transform=\"translate(422.03,17.25)\" d=\"M3,0A3,3 0 1,1 0,-3A3,3 0 0,1 3,0Z\" style=\"opacity: 1; stroke-width: 0px; fill: rgb(0, 204, 150); fill-opacity: 1;\"/></g><g class=\"text\"/></g></g></g><g class=\"overplot\"/><path class=\"xlines-above crisp\" d=\"M0,0\" style=\"fill: none;\"/><path class=\"ylines-above crisp\" d=\"M0,0\" style=\"fill: none;\"/><g class=\"overlines-above\"/><g class=\"xaxislayer-above\"><g class=\"xtick\"><text text-anchor=\"start\" x=\"0\" y=\"385\" transform=\"translate(84.97,0) rotate(90,0,378)\" style=\"font-family: 'Courier New', monospace; font-size: 14px; fill: rgb(127, 127, 127); fill-opacity: 1; white-space: pre;\">1</text></g><g class=\"xtick\"><text text-anchor=\"start\" x=\"0\" y=\"385\" transform=\"translate(99.86,0) rotate(90,0,378)\" style=\"font-family: 'Courier New', monospace; font-size: 14px; fill: rgb(127, 127, 127); fill-opacity: 1; white-space: pre;\">4</text></g><g class=\"xtick\"><text text-anchor=\"start\" x=\"0\" y=\"385\" transform=\"translate(114.75999999999999,0) rotate(90,0,378)\" style=\"font-family: 'Courier New', monospace; font-size: 14px; fill: rgb(127, 127, 127); fill-opacity: 1; white-space: pre;\">7</text></g><g class=\"xtick\"><text text-anchor=\"start\" x=\"0\" y=\"385\" transform=\"translate(129.65,0) rotate(90,0,378)\" style=\"font-family: 'Courier New', monospace; font-size: 14px; fill: rgb(127, 127, 127); fill-opacity: 1; white-space: pre;\">10</text></g><g class=\"xtick\"><text text-anchor=\"start\" x=\"0\" y=\"385\" transform=\"translate(144.55,0) rotate(90,0,378)\" style=\"font-family: 'Courier New', monospace; font-size: 14px; fill: rgb(127, 127, 127); fill-opacity: 1; white-space: pre;\">13</text></g><g class=\"xtick\"><text text-anchor=\"start\" x=\"0\" y=\"385\" transform=\"translate(159.44,0) rotate(90,0,378)\" style=\"font-family: 'Courier New', monospace; font-size: 14px; fill: rgb(127, 127, 127); fill-opacity: 1; white-space: pre;\">16</text></g><g class=\"xtick\"><text text-anchor=\"start\" x=\"0\" y=\"385\" transform=\"translate(174.34,0) rotate(90,0,378)\" style=\"font-family: 'Courier New', monospace; font-size: 14px; fill: rgb(127, 127, 127); fill-opacity: 1; white-space: pre;\">19</text></g><g class=\"xtick\"><text text-anchor=\"start\" x=\"0\" y=\"385\" transform=\"translate(189.23000000000002,0) rotate(90,0,378)\" style=\"font-family: 'Courier New', monospace; font-size: 14px; fill: rgb(127, 127, 127); fill-opacity: 1; white-space: pre;\">22</text></g><g class=\"xtick\"><text text-anchor=\"start\" x=\"0\" y=\"385\" transform=\"translate(204.13,0) rotate(90,0,378)\" style=\"font-family: 'Courier New', monospace; font-size: 14px; fill: rgb(127, 127, 127); fill-opacity: 1; white-space: pre;\">25</text></g><g class=\"xtick\"><text text-anchor=\"start\" x=\"0\" y=\"385\" transform=\"translate(219.02,0) rotate(90,0,378)\" style=\"font-family: 'Courier New', monospace; font-size: 14px; fill: rgb(127, 127, 127); fill-opacity: 1; white-space: pre;\">28</text></g><g class=\"xtick\"><text text-anchor=\"start\" x=\"0\" y=\"385\" transform=\"translate(233.92,0) rotate(90,0,378)\" style=\"font-family: 'Courier New', monospace; font-size: 14px; fill: rgb(127, 127, 127); fill-opacity: 1; white-space: pre;\">31</text></g><g class=\"xtick\"><text text-anchor=\"start\" x=\"0\" y=\"385\" transform=\"translate(248.81,0) rotate(90,0,378)\" style=\"font-family: 'Courier New', monospace; font-size: 14px; fill: rgb(127, 127, 127); fill-opacity: 1; white-space: pre;\">34</text></g><g class=\"xtick\"><text text-anchor=\"start\" x=\"0\" y=\"385\" transform=\"translate(263.71000000000004,0) rotate(90,0,378)\" style=\"font-family: 'Courier New', monospace; font-size: 14px; fill: rgb(127, 127, 127); fill-opacity: 1; white-space: pre;\">37</text></g><g class=\"xtick\"><text text-anchor=\"start\" x=\"0\" y=\"385\" transform=\"translate(278.6,0) rotate(90,0,378)\" style=\"font-family: 'Courier New', monospace; font-size: 14px; fill: rgb(127, 127, 127); fill-opacity: 1; white-space: pre;\">40</text></g><g class=\"xtick\"><text text-anchor=\"start\" x=\"0\" y=\"385\" transform=\"translate(293.5,0) rotate(90,0,378)\" style=\"font-family: 'Courier New', monospace; font-size: 14px; fill: rgb(127, 127, 127); fill-opacity: 1; white-space: pre;\">43</text></g><g class=\"xtick\"><text text-anchor=\"start\" x=\"0\" y=\"385\" transform=\"translate(308.4,0) rotate(90,0,378)\" style=\"font-family: 'Courier New', monospace; font-size: 14px; fill: rgb(127, 127, 127); fill-opacity: 1; white-space: pre;\">46</text></g><g class=\"xtick\"><text text-anchor=\"start\" x=\"0\" y=\"385\" transform=\"translate(323.28999999999996,0) rotate(90,0,378)\" style=\"font-family: 'Courier New', monospace; font-size: 14px; fill: rgb(127, 127, 127); fill-opacity: 1; white-space: pre;\">49</text></g><g class=\"xtick\"><text text-anchor=\"start\" x=\"0\" y=\"385\" transform=\"translate(338.19,0) rotate(90,0,378)\" style=\"font-family: 'Courier New', monospace; font-size: 14px; fill: rgb(127, 127, 127); fill-opacity: 1; white-space: pre;\">52</text></g><g class=\"xtick\"><text text-anchor=\"start\" x=\"0\" y=\"385\" transform=\"translate(353.08,0) rotate(90,0,378)\" style=\"font-family: 'Courier New', monospace; font-size: 14px; fill: rgb(127, 127, 127); fill-opacity: 1; white-space: pre;\">55</text></g><g class=\"xtick\"><text text-anchor=\"start\" x=\"0\" y=\"385\" transform=\"translate(367.98,0) rotate(90,0,378)\" style=\"font-family: 'Courier New', monospace; font-size: 14px; fill: rgb(127, 127, 127); fill-opacity: 1; white-space: pre;\">58</text></g><g class=\"xtick\"><text text-anchor=\"start\" x=\"0\" y=\"385\" transform=\"translate(382.87,0) rotate(90,0,378)\" style=\"font-family: 'Courier New', monospace; font-size: 14px; fill: rgb(127, 127, 127); fill-opacity: 1; white-space: pre;\">61</text></g><g class=\"xtick\"><text text-anchor=\"start\" x=\"0\" y=\"385\" transform=\"translate(397.77,0) rotate(90,0,378)\" style=\"font-family: 'Courier New', monospace; font-size: 14px; fill: rgb(127, 127, 127); fill-opacity: 1; white-space: pre;\">64</text></g><g class=\"xtick\"><text text-anchor=\"start\" x=\"0\" y=\"385\" transform=\"translate(412.66,0) rotate(90,0,378)\" style=\"font-family: 'Courier New', monospace; font-size: 14px; fill: rgb(127, 127, 127); fill-opacity: 1; white-space: pre;\">67</text></g><g class=\"xtick\"><text text-anchor=\"start\" x=\"0\" y=\"385\" transform=\"translate(427.56,0) rotate(90,0,378)\" style=\"font-family: 'Courier New', monospace; font-size: 14px; fill: rgb(127, 127, 127); fill-opacity: 1; white-space: pre;\">70</text></g><g class=\"xtick\"><text text-anchor=\"start\" x=\"0\" y=\"385\" transform=\"translate(442.45,0) rotate(90,0,378)\" style=\"font-family: 'Courier New', monospace; font-size: 14px; fill: rgb(127, 127, 127); fill-opacity: 1; white-space: pre;\">73</text></g><g class=\"xtick\"><text text-anchor=\"start\" x=\"0\" y=\"385\" transform=\"translate(457.35,0) rotate(90,0,378)\" style=\"font-family: 'Courier New', monospace; font-size: 14px; fill: rgb(127, 127, 127); fill-opacity: 1; white-space: pre;\">76</text></g><g class=\"xtick\"><text text-anchor=\"start\" x=\"0\" y=\"385\" transform=\"translate(472.24,0) rotate(90,0,378)\" style=\"font-family: 'Courier New', monospace; font-size: 14px; fill: rgb(127, 127, 127); fill-opacity: 1; white-space: pre;\">79</text></g><g class=\"xtick\"><text text-anchor=\"start\" x=\"0\" y=\"385\" transform=\"translate(487.14,0) rotate(90,0,378)\" style=\"font-family: 'Courier New', monospace; font-size: 14px; fill: rgb(127, 127, 127); fill-opacity: 1; white-space: pre;\">82</text></g><g class=\"xtick\"><text text-anchor=\"start\" x=\"0\" y=\"385\" transform=\"translate(502.03,0) rotate(90,0,378)\" style=\"font-family: 'Courier New', monospace; font-size: 14px; fill: rgb(127, 127, 127); fill-opacity: 1; white-space: pre;\">85</text></g></g><g class=\"yaxislayer-above\"><g class=\"ytick\"><text text-anchor=\"end\" x=\"79\" y=\"4.8999999999999995\" transform=\"translate(0,352.75)\" style=\"font-family: 'Courier New', monospace; font-size: 14px; fill: rgb(127, 127, 127); fill-opacity: 1; white-space: pre;\">0</text></g><g class=\"ytick\"><text text-anchor=\"end\" x=\"79\" y=\"4.8999999999999995\" transform=\"translate(0,312.37)\" style=\"font-family: 'Courier New', monospace; font-size: 14px; fill: rgb(127, 127, 127); fill-opacity: 1; white-space: pre;\">50k</text></g><g class=\"ytick\"><text text-anchor=\"end\" x=\"79\" y=\"4.8999999999999995\" transform=\"translate(0,271.98)\" style=\"font-family: 'Courier New', monospace; font-size: 14px; fill: rgb(127, 127, 127); fill-opacity: 1; white-space: pre;\">100k</text></g><g class=\"ytick\"><text text-anchor=\"end\" x=\"79\" y=\"4.8999999999999995\" transform=\"translate(0,231.6)\" style=\"font-family: 'Courier New', monospace; font-size: 14px; fill: rgb(127, 127, 127); fill-opacity: 1; white-space: pre;\">150k</text></g><g class=\"ytick\"><text text-anchor=\"end\" x=\"79\" y=\"4.8999999999999995\" transform=\"translate(0,191.22)\" style=\"font-family: 'Courier New', monospace; font-size: 14px; fill: rgb(127, 127, 127); fill-opacity: 1; white-space: pre;\">200k</text></g><g class=\"ytick\"><text text-anchor=\"end\" x=\"79\" y=\"4.8999999999999995\" transform=\"translate(0,150.82999999999998)\" style=\"font-family: 'Courier New', monospace; font-size: 14px; fill: rgb(127, 127, 127); fill-opacity: 1; white-space: pre;\">250k</text></g><g class=\"ytick\"><text text-anchor=\"end\" x=\"79\" y=\"4.8999999999999995\" transform=\"translate(0,110.45)\" style=\"font-family: 'Courier New', monospace; font-size: 14px; fill: rgb(127, 127, 127); fill-opacity: 1; white-space: pre;\">300k</text></g></g><g class=\"overaxes-above\"/></g></g><g class=\"polarlayer\"/><g class=\"ternarylayer\"/><g class=\"geolayer\"/><g class=\"funnelarealayer\"/><g class=\"pielayer\"/><g class=\"treemaplayer\"/><g class=\"sunburstlayer\"/><g class=\"glimages\"/><defs id=\"topdefs-d697cf\"><g class=\"clips\"/><clipPath id=\"legendd697cf\"><rect width=\"172\" height=\"74\" x=\"0\" y=\"0\"/></clipPath></defs><g class=\"layer-above\"><g class=\"imagelayer\"/><g class=\"shapelayer\"><path data-index=\"0\" fill-rule=\"evenodd\" d=\"M459.83,352.65L459.83,117.25\" clip-path=\"url('#clipd697cfxy')\" style=\"opacity: 1; stroke: rgb(42, 63, 95); stroke-opacity: 1; fill: rgb(0, 0, 0); fill-opacity: 0; stroke-dasharray: 9px, 9px; stroke-width: 1.5px;\"/></g></g><g class=\"infolayer\"><g class=\"legend\" pointer-events=\"all\" transform=\"translate(515.54, 100)\"><rect class=\"bg\" shape-rendering=\"crispEdges\" width=\"172\" height=\"74\" x=\"0\" y=\"0\" style=\"stroke: rgb(68, 68, 68); stroke-opacity: 1; fill: rgb(255, 255, 255); fill-opacity: 1; stroke-width: 0px;\"/><g class=\"scrollbox\" transform=\"translate(0, 0)\" clip-path=\"url('#legendd697cf')\"><g class=\"groups\"><g class=\"traces\" transform=\"translate(0, 15.6)\" style=\"opacity: 1;\"><text class=\"legendtext user-select-none\" text-anchor=\"start\" x=\"40\" y=\"5.46\" style=\"font-family: 'Courier New', monospace; font-size: 14px; fill: rgb(127, 127, 127); fill-opacity: 1; white-space: pre;\">Casos de Treino</text><g class=\"layers\" style=\"opacity: 1;\"><g class=\"legendfill\"/><g class=\"legendlines\"><path class=\"js-line\" d=\"M5,0h30\" style=\"fill: none; stroke: rgb(99, 110, 250); stroke-opacity: 1; stroke-width: 2px;\"/></g><g class=\"legendsymbols\"><g class=\"legendpoints\"><path class=\"scatterpts\" transform=\"translate(20,0)\" d=\"M3,0A3,3 0 1,1 0,-3A3,3 0 0,1 3,0Z\" style=\"opacity: 1; stroke-width: 0px; fill: rgb(99, 110, 250); fill-opacity: 1;\"/></g></g></g><rect class=\"legendtoggle\" pointer-events=\"all\" x=\"0\" y=\"-10.6\" width=\"166.015625\" height=\"21.2\" style=\"cursor: pointer; fill: rgb(0, 0, 0); fill-opacity: 0;\"/></g><g class=\"traces\" transform=\"translate(0, 36.8)\" style=\"opacity: 1;\"><text class=\"legendtext user-select-none\" text-anchor=\"start\" x=\"40\" y=\"5.46\" style=\"font-family: 'Courier New', monospace; font-size: 14px; fill: rgb(127, 127, 127); fill-opacity: 1; white-space: pre;\">Casos Previstos</text><g class=\"layers\" style=\"opacity: 1;\"><g class=\"legendfill\"/><g class=\"legendlines\"><path class=\"js-line\" d=\"M5,0h30\" style=\"fill: none; stroke: rgb(239, 85, 59); stroke-opacity: 1; stroke-width: 2px;\"/></g><g class=\"legendsymbols\"><g class=\"legendpoints\"><path class=\"scatterpts\" transform=\"translate(20,0)\" d=\"M3,0A3,3 0 1,1 0,-3A3,3 0 0,1 3,0Z\" style=\"opacity: 1; stroke-width: 0px; fill: rgb(239, 85, 59); fill-opacity: 1;\"/></g></g></g><rect class=\"legendtoggle\" pointer-events=\"all\" x=\"0\" y=\"-10.6\" width=\"166.015625\" height=\"21.2\" style=\"cursor: pointer; fill: rgb(0, 0, 0); fill-opacity: 0;\"/></g><g class=\"traces\" transform=\"translate(0, 58)\" style=\"opacity: 1;\"><text class=\"legendtext user-select-none\" text-anchor=\"start\" x=\"40\" y=\"5.46\" style=\"font-family: 'Courier New', monospace; font-size: 14px; fill: rgb(127, 127, 127); fill-opacity: 1; white-space: pre;\">Casos Reais</text><g class=\"layers\" style=\"opacity: 1;\"><g class=\"legendfill\"/><g class=\"legendlines\"><path class=\"js-line\" d=\"M5,0h30\" style=\"fill: none; stroke: rgb(0, 204, 150); stroke-opacity: 1; stroke-width: 2px;\"/></g><g class=\"legendsymbols\"><g class=\"legendpoints\"><path class=\"scatterpts\" transform=\"translate(20,0)\" d=\"M3,0A3,3 0 1,1 0,-3A3,3 0 0,1 3,0Z\" style=\"opacity: 1; stroke-width: 0px; fill: rgb(0, 204, 150); fill-opacity: 1;\"/></g></g></g><rect class=\"legendtoggle\" pointer-events=\"all\" x=\"0\" y=\"-10.6\" width=\"166.015625\" height=\"21.2\" style=\"cursor: pointer; fill: rgb(0, 0, 0); fill-opacity: 0;\"/></g></g></g><rect class=\"scrollbar\" rx=\"20\" ry=\"3\" width=\"0\" height=\"0\" x=\"0\" y=\"0\" style=\"fill: rgb(128, 139, 164); fill-opacity: 1;\"/></g><g class=\"g-gtitle\"><text class=\"gtitle\" x=\"35\" y=\"50\" text-anchor=\"start\" dy=\"0em\" style=\"font-family: 'Courier New', monospace; font-size: 20px; fill: rgb(127, 127, 127); opacity: 1; font-weight: normal; white-space: pre;\">Previsão Nº Casos</text></g><g class=\"g-xtitle\"><text class=\"xtitle\" x=\"293.5\" y=\"421.696875\" text-anchor=\"middle\" style=\"font-family: 'Courier New', monospace; font-size: 17px; fill: rgb(127, 127, 127); opacity: 1; font-weight: normal; white-space: pre;\">Dias desde primeiro caso</text></g><g class=\"g-ytitle\"><text class=\"ytitle\" transform=\"rotate(-90,18.490625,235)\" x=\"18.490625\" y=\"235\" text-anchor=\"middle\" style=\"font-family: 'Courier New', monospace; font-size: 17px; fill: rgb(127, 127, 127); opacity: 1; font-weight: normal; white-space: pre;\">Nº Casos</text></g></g></svg>"
          },
          "metadata": {}
        }
      ]
    },
    {
      "cell_type": "code",
      "metadata": {
        "id": "CG6WEOTdVV5u",
        "colab_type": "code",
        "outputId": "285f48ec-9c09-4a20-e0b5-0acd20ace4f9",
        "colab": {
          "base_uri": "https://localhost:8080/",
          "height": 52
        }
      },
      "source": [
        "print(\"Erro Médio Quadrático: \",mean_squared_error(cases_test,cases_estimate))\n",
        "print(\"Coeficiente R^2: \", r2_score(cases_test,cases_estimate))"
      ],
      "execution_count": 103,
      "outputs": [
        {
          "output_type": "stream",
          "name": "stdout",
          "text": "Erro Médio Quadrático:  16287020518.579288\nCoeficiente R^2:  -11.705960263427409\n"
        }
      ]
    },
    {
      "cell_type": "markdown",
      "metadata": {
        "id": "TRa9phYgVWqs",
        "colab_type": "text"
      },
      "source": [
        "Ao analisar o gráfico, repara-se que o modelo subestima muito o nº de casos em relação ao nº real.\n",
        "\n",
        "Torna-se assim claro que não existe forma de uma regressão linear prever bem o formato do crescimento de casos. "
      ]
    }
  ],
  "metadata": {
    "colab": {
      "name": "aa2.ipynb",
      "provenance": [],
      "collapsed_sections": [],
      "toc_visible": true
    },
    "kernelspec": {
      "name": "python37664bitbasecondad056b72b2824412f80db3a09b9cb4b58",
      "display_name": "Python 3.7.6 64-bit ('base': conda)"
    }
  },
  "nbformat": 4,
  "nbformat_minor": 0
}